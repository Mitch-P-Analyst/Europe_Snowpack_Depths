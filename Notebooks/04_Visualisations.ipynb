{
 "cells": [
  {
   "cell_type": "markdown",
   "id": "0fd39b7c",
   "metadata": {},
   "source": [
    "# Visualisations\n",
    "\n",
    "- [Notebook Preparations](#notebook-preparations)\n",
    "\n",
    "- [Visualisations](#visualisations)\n",
    "    - Man-Kendall Test Results\n",
    "        - Month\n",
    "        - Month & Elevation\n",
    "        - Country"
   ]
  },
  {
   "cell_type": "markdown",
   "id": "2793b023",
   "metadata": {},
   "source": [
    "## Notebook Preparations"
   ]
  },
  {
   "cell_type": "code",
   "execution_count": 1,
   "id": "151c2879",
   "metadata": {},
   "outputs": [],
   "source": [
    "# Import Packages\n",
    "\n",
    "import pandas as pd\n",
    "import numpy as np\n",
    "import plotly\n",
    "import matplotlib.pyplot as plt\n",
    "import seaborn as sns\n",
    "import plotly.express as px\n",
    "import geopandas as gpd\n",
    "import pandas as pd\n",
    "from shapely.geometry import Point\n",
    "from pathlib import Path\n",
    "import sys\n"
   ]
  },
  {
   "cell_type": "code",
   "execution_count": 2,
   "id": "583e59ec",
   "metadata": {},
   "outputs": [],
   "source": [
    "# Directories\n",
    "\n",
    "NB_DIR = Path.cwd()                 # Notebook Directory\n",
    "REPO_ROOT = NB_DIR.parent           # Main Repo Directory\n",
    "sys.path.insert(0, str(REPO_ROOT))  # Assign REPO ROOT as Directory 0 for Import searches\n",
    "\n",
    "# Files\n",
    "\n",
    "# Macro-perspective Trends\n",
    "avg_country = pd.read_csv(REPO_ROOT / 'Data/Cleaned/Tests/avg_country_trends.csv',index_col=False)                  # Average Snowpack Depth Trend Per Country\n",
    "avg_country_month = pd.read_csv(REPO_ROOT / 'Data/Cleaned/Tests/avg_country_month_trends.csv',index_col=False)      # Average Snowpack Depth Trend Per Country Month\n",
    "avg_month = pd.read_csv(REPO_ROOT / 'Data/Cleaned/Tests/avg_month_trends.csv',index_col=False)                      # Average Snowpack Depth Trend per Month\n",
    "avg_elevation_month = pd.read_csv(REPO_ROOT / 'Data/Cleaned/Tests/avg_elevation_month_trends.csv',index_col=False)  # Average Snowpack Depth Trend Per Elevation Bad Mong\n",
    "\n",
    "# Micro-persective Trends\n",
    "typical_country = pd.read_csv(REPO_ROOT / 'Data/Cleaned/Tests/station-month-time-series-by-country.csv',index_col=False)                # Typical Snowpack Depth Trend of Weather Station Per Country \n",
    "typical_country_month = pd.read_csv(REPO_ROOT / 'Data/Cleaned/Tests/station-month-time-series-by-country-month.csv',index_col=False )    # Typical Snowpack Depth Trend of Weather Station Per Country Month\n",
    "typical_station_month = pd.read_csv(REPO_ROOT / 'Data/Cleaned/Tests/station-month-time-series.csv',index_col=False)                     # Typical Snowpack Depth Trend of Weather Station Per Month\n",
    "per_station = pd.read_csv(REPO_ROOT / 'Data/Cleaned/Tests/per_station_series.csv',index_col=False)                                      # Annual Snowpack Depth Trend per Weather Station\n",
    "\n"
   ]
  },
  {
   "cell_type": "markdown",
   "id": "2dbd9a74",
   "metadata": {},
   "source": [
    "## Visualisations\n",
    "\n",
    "Visualisations of Statistical Trends for Average Snowpack Depths\n",
    "\n",
    "### Country Trends"
   ]
  },
  {
   "cell_type": "code",
   "execution_count": 3,
   "id": "8c391055",
   "metadata": {},
   "outputs": [
    {
     "data": {
      "application/vnd.plotly.v1+json": {
       "config": {
        "plotlyServerURL": "https://plot.ly"
       },
       "data": [
        {
         "hovertemplate": "<b>%{text}</b><br>Slope: %{x:.2f} cm/decade<br>p: %{y:.3f}<extra></extra>",
         "legendgroup": "Austria",
         "marker": {
          "color": "rgb(228,26,28)",
          "opacity": 0.55,
          "size": 6
         },
         "mode": "markers",
         "name": "Austria",
         "showlegend": true,
         "text": [
          "Austria",
          "Austria",
          "Austria",
          "Austria",
          "Austria",
          "Austria",
          "Austria",
          "Austria",
          "Austria",
          "Austria",
          "Austria",
          "Austria",
          "Austria",
          "Austria",
          "Austria",
          "Austria",
          "Austria",
          "Austria",
          "Austria",
          "Austria",
          "Austria",
          "Austria",
          "Austria",
          "Austria",
          "Austria",
          "Austria",
          "Austria",
          "Austria",
          "Austria",
          "Austria",
          "Austria",
          "Austria",
          "Austria",
          "Austria",
          "Austria",
          "Austria",
          "Austria",
          "Austria",
          "Austria",
          "Austria",
          "Austria",
          "Austria",
          "Austria",
          "Austria",
          "Austria",
          "Austria",
          "Austria",
          "Austria",
          "Austria",
          "Austria",
          "Austria",
          "Austria",
          "Austria",
          "Austria",
          "Austria",
          "Austria",
          "Austria",
          "Austria",
          "Austria",
          "Austria",
          "Austria",
          "Austria",
          "Austria",
          "Austria",
          "Austria",
          "Austria",
          "Austria",
          "Austria",
          "Austria",
          "Austria",
          "Austria",
          "Austria",
          "Austria",
          "Austria",
          "Austria",
          "Austria",
          "Austria",
          "Austria",
          "Austria",
          "Austria",
          "Austria",
          "Austria",
          "Austria",
          "Austria",
          "Austria",
          "Austria",
          "Austria",
          "Austria",
          "Austria",
          "Austria",
          "Austria",
          "Austria",
          "Austria",
          "Austria",
          "Austria",
          "Austria",
          "Austria",
          "Austria",
          "Austria",
          "Austria",
          "Austria",
          "Austria",
          "Austria",
          "Austria",
          "Austria",
          "Austria",
          "Austria",
          "Austria",
          "Austria",
          "Austria",
          "Austria",
          "Austria",
          "Austria",
          "Austria",
          "Austria",
          "Austria",
          "Austria",
          "Austria",
          "Austria",
          "Austria",
          "Austria",
          "Austria",
          "Austria",
          "Austria",
          "Austria",
          "Austria",
          "Austria",
          "Austria",
          "Austria",
          "Austria",
          "Austria",
          "Austria",
          "Austria",
          "Austria",
          "Austria",
          "Austria",
          "Austria",
          "Austria",
          "Austria",
          "Austria",
          "Austria",
          "Austria",
          "Austria",
          "Austria",
          "Austria",
          "Austria",
          "Austria",
          "Austria",
          "Austria",
          "Austria",
          "Austria",
          "Austria",
          "Austria",
          "Austria",
          "Austria",
          "Austria",
          "Austria",
          "Austria",
          "Austria",
          "Austria",
          "Austria",
          "Austria",
          "Austria",
          "Austria",
          "Austria",
          "Austria",
          "Austria",
          "Austria",
          "Austria",
          "Austria",
          "Austria",
          "Austria",
          "Austria",
          "Austria",
          "Austria",
          "Austria",
          "Austria",
          "Austria",
          "Austria",
          "Austria",
          "Austria",
          "Austria",
          "Austria",
          "Austria",
          "Austria",
          "Austria",
          "Austria",
          "Austria",
          "Austria",
          "Austria",
          "Austria",
          "Austria",
          "Austria",
          "Austria",
          "Austria",
          "Austria",
          "Austria",
          "Austria",
          "Austria",
          "Austria",
          "Austria",
          "Austria",
          "Austria",
          "Austria",
          "Austria",
          "Austria",
          "Austria",
          "Austria",
          "Austria",
          "Austria",
          "Austria",
          "Austria",
          "Austria",
          "Austria",
          "Austria",
          "Austria",
          "Austria",
          "Austria",
          "Austria",
          "Austria",
          "Austria",
          "Austria",
          "Austria",
          "Austria",
          "Austria",
          "Austria",
          "Austria",
          "Austria",
          "Austria",
          "Austria",
          "Austria",
          "Austria",
          "Austria",
          "Austria",
          "Austria",
          "Austria",
          "Austria",
          "Austria",
          "Austria",
          "Austria",
          "Austria",
          "Austria",
          "Austria",
          "Austria",
          "Austria",
          "Austria",
          "Austria",
          "Austria",
          "Austria",
          "Austria",
          "Austria",
          "Austria",
          "Austria",
          "Austria",
          "Austria",
          "Austria",
          "Austria",
          "Austria",
          "Austria",
          "Austria",
          "Austria",
          "Austria",
          "Austria",
          "Austria",
          "Austria",
          "Austria",
          "Austria",
          "Austria",
          "Austria",
          "Austria",
          "Austria",
          "Austria",
          "Austria",
          "Austria",
          "Austria",
          "Austria",
          "Austria",
          "Austria",
          "Austria",
          "Austria",
          "Austria",
          "Austria",
          "Austria",
          "Austria",
          "Austria",
          "Austria",
          "Austria",
          "Austria",
          "Austria",
          "Austria",
          "Austria",
          "Austria",
          "Austria",
          "Austria",
          "Austria",
          "Austria",
          "Austria",
          "Austria",
          "Austria",
          "Austria",
          "Austria",
          "Austria",
          "Austria",
          "Austria",
          "Austria",
          "Austria",
          "Austria",
          "Austria",
          "Austria",
          "Austria",
          "Austria",
          "Austria",
          "Austria",
          "Austria",
          "Austria",
          "Austria",
          "Austria",
          "Austria",
          "Austria",
          "Austria",
          "Austria"
         ],
         "type": "scatter",
         "x": {
          "bdata": "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",
          "dtype": "f8"
         },
         "xaxis": "x",
         "y": {
          "bdata": "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",
          "dtype": "f8"
         },
         "yaxis": "y"
        },
        {
         "hovertemplate": "<b>%{text}</b><br>Avg slope: %{x:.2f} cm/decade<br>p: %{y:.3f}<extra></extra>",
         "legendgroup": "Austria",
         "marker": {
          "color": "rgb(228,26,28)",
          "line": {
           "color": "black",
           "width": 1.5
          },
          "size": 12
         },
         "mode": "markers+text",
         "name": "Austria",
         "showlegend": false,
         "text": [
          "AT"
         ],
         "textposition": "top center",
         "type": "scatter",
         "x": {
          "bdata": "ge1tPyARAcA=",
          "dtype": "f8"
         },
         "xaxis": "x2",
         "y": {
          "bdata": "1Y3PUkB7jT8=",
          "dtype": "f8"
         },
         "yaxis": "y2"
        },
        {
         "hovertemplate": "<b>%{text}</b><br>Slope: %{x:.2f} cm/decade<br>p: %{y:.3f}<extra></extra>",
         "legendgroup": "France",
         "marker": {
          "color": "rgb(55,126,184)",
          "opacity": 0.55,
          "size": 6
         },
         "mode": "markers",
         "name": "France",
         "showlegend": true,
         "text": [
          "France",
          "France",
          "France",
          "France",
          "France",
          "France",
          "France",
          "France",
          "France",
          "France",
          "France",
          "France",
          "France",
          "France",
          "France",
          "France",
          "France",
          "France",
          "France",
          "France",
          "France",
          "France",
          "France",
          "France",
          "France",
          "France",
          "France",
          "France",
          "France",
          "France",
          "France",
          "France",
          "France",
          "France",
          "France",
          "France",
          "France",
          "France",
          "France",
          "France",
          "France",
          "France",
          "France",
          "France",
          "France",
          "France"
         ],
         "type": "scatter",
         "x": {
          "bdata": "09LS0tLS8r8WspCFLGQBwM/zPM/zPN+/tm3btm3b9r9ZyEIWspATwNPS0tLS0vK/+OCDDz74AMAAAAAAAAAAABhddNFFF/2/VlVVVVVVB8AAAAAAAAAAAGMndmIndgLA9aY3velND8CIh4eHh4cHwLZt27Zt2/a/AAAAAAAAAAAAAAAAAAAAAFRVVVVV1QnAtHAGhJI79b8k/xgrHpUfwAAAAAAAAAAAcB/BfQT3+T+42d5me5sTwAAAAAAAAAnAeQ3lNZTX4L8AAAAAAAACwAAAAAAAABDAAAAAAAAAAACrqqqqqqoQwDaU11BeQxlAAAAAAABAJcCf53me53n+vwAAAAAAAPi/KvxD5i3t+b98GmG5pxHGv+LPhD8T/gDAAAAAAAAAAAAAAAAAAAAAADRIgzRIg/S/AAAAAABAKkDT0tLS0tLyvwAAAAAAAAAAJUmSJEmSEsAAAAAAAAAAwFsi97eWyP2/kk022WST9b8=",
          "dtype": "f8"
         },
         "xaxis": "x",
         "y": {
          "bdata": "ILnH5ELk1D8kBr2JELmrP4TT8MHGmOM/lManQs+ttT/acAOMNi6ZP7z79yQt+KE/6AiMBUKTgD9Bz+LQsgXlP2CL0JfB+40/aPwY+/K6Zz97CnuiBTrhP2IBKSqs+KI/U91wFCypeD8QqMWylTnpPrZcW5SkGNQ/Ndh509Vc7z96156C2X3hPz/ITm1Uy5I/pJ7chAMO1T8SnUT+YWjjPgAAAAAAAPA/DK9cAhs50z9EBOTJwPakP8qXFsaOf4g/xRX/bYTYxT9BjngB0wqSPyxjFLhD8lw/r7wSoVpM7j8c8gVyH/CFPppa3DwudqY/VXTuTUl0hT8OZ3elBPWnPyw+qN+Dj6M/DCiQaYojuz9qwvgbpF3SP4l9EhwhMaM/haTBdr9i2j/+3vZU5hrjP7YtUt0x0KY/+Obz423exz93Psr0BHCEPx7NmsqFfew/kT0SI5nodj//87UUZMqQPwvwwADrdHk/aimEjuW2wj8=",
          "dtype": "f8"
         },
         "yaxis": "y"
        },
        {
         "hovertemplate": "<b>%{text}</b><br>Avg slope: %{x:.2f} cm/decade<br>p: %{y:.3f}<extra></extra>",
         "legendgroup": "France",
         "marker": {
          "color": "rgb(55,126,184)",
          "line": {
           "color": "black",
           "width": 1.5
          },
          "size": 12
         },
         "mode": "markers+text",
         "name": "France",
         "showlegend": false,
         "text": [
          "FR"
         ],
         "textposition": "top center",
         "type": "scatter",
         "x": {
          "bdata": "QunOF+kw7D8=",
          "dtype": "f8"
         },
         "xaxis": "x2",
         "y": {
          "bdata": "3ORAG4xu4D8=",
          "dtype": "f8"
         },
         "yaxis": "y2"
        },
        {
         "hovertemplate": "<b>%{text}</b><br>Slope: %{x:.2f} cm/decade<br>p: %{y:.3f}<extra></extra>",
         "legendgroup": "Germany",
         "marker": {
          "color": "rgb(77,175,74)",
          "opacity": 0.55,
          "size": 6
         },
         "mode": "markers",
         "name": "Germany",
         "showlegend": true,
         "text": [
          "Germany",
          "Germany",
          "Germany",
          "Germany",
          "Germany",
          "Germany",
          "Germany",
          "Germany",
          "Germany",
          "Germany",
          "Germany",
          "Germany",
          "Germany",
          "Germany",
          "Germany",
          "Germany",
          "Germany",
          "Germany",
          "Germany",
          "Germany",
          "Germany",
          "Germany",
          "Germany",
          "Germany",
          "Germany",
          "Germany",
          "Germany",
          "Germany",
          "Germany",
          "Germany",
          "Germany",
          "Germany",
          "Germany",
          "Germany",
          "Germany",
          "Germany",
          "Germany",
          "Germany",
          "Germany",
          "Germany",
          "Germany",
          "Germany",
          "Germany",
          "Germany",
          "Germany",
          "Germany",
          "Germany",
          "Germany",
          "Germany",
          "Germany",
          "Germany",
          "Germany",
          "Germany",
          "Germany",
          "Germany",
          "Germany",
          "Germany",
          "Germany",
          "Germany",
          "Germany",
          "Germany",
          "Germany",
          "Germany",
          "Germany",
          "Germany",
          "Germany",
          "Germany",
          "Germany",
          "Germany",
          "Germany",
          "Germany",
          "Germany",
          "Germany",
          "Germany",
          "Germany",
          "Germany",
          "Germany",
          "Germany",
          "Germany",
          "Germany",
          "Germany",
          "Germany",
          "Germany",
          "Germany",
          "Germany",
          "Germany",
          "Germany",
          "Germany",
          "Germany",
          "Germany",
          "Germany",
          "Germany",
          "Germany",
          "Germany",
          "Germany",
          "Germany",
          "Germany",
          "Germany",
          "Germany",
          "Germany",
          "Germany",
          "Germany",
          "Germany",
          "Germany",
          "Germany",
          "Germany",
          "Germany",
          "Germany",
          "Germany",
          "Germany",
          "Germany",
          "Germany",
          "Germany",
          "Germany",
          "Germany",
          "Germany",
          "Germany",
          "Germany",
          "Germany",
          "Germany",
          "Germany",
          "Germany",
          "Germany",
          "Germany",
          "Germany",
          "Germany",
          "Germany",
          "Germany",
          "Germany",
          "Germany",
          "Germany",
          "Germany",
          "Germany",
          "Germany",
          "Germany",
          "Germany",
          "Germany",
          "Germany",
          "Germany",
          "Germany",
          "Germany",
          "Germany",
          "Germany",
          "Germany",
          "Germany",
          "Germany",
          "Germany",
          "Germany",
          "Germany",
          "Germany",
          "Germany",
          "Germany",
          "Germany",
          "Germany",
          "Germany",
          "Germany",
          "Germany",
          "Germany",
          "Germany"
         ],
         "type": "scatter",
         "x": {
          "bdata": "E7MWCujY8L/YiZ3YiZ34P1LiZ5T4GeW/hmEYhmEY5r8AAAAAAAAAAP6y3i/r/fo/qqqqqqqq4L822WSTTTb9v3Icx3Ecx/E/AAAAAAAAAADYiZ3YiZ34v9mJndiJnei/T+zETuzE/r+qqqqqqqrqPwAAAAAAAPC/zjnnnHPO+b+lZSAfVd7+vwAAAAAAAADAAAAAAAAAAAAWXuEVXuEVQHkN5TWU1+A/AAAAAAAAAADMzMzMzMwMwFVVVVVVVeU/2KfAEQh46b8AAAAAAAAAAAAAAAAAAAAAcEfcEXfEzb+qqqqqqqrqv53neZ7ned6/AAAAAAAAAAAAAAAAAAAAAAAAAAAAAAAA09LS0tLS8r8AAAAAAAAAANPS0tLS0vK/QnsJ7SW057+tJIeuJIfuv1phcyDRCts/AAAAAAAAAAB5DeU1lNfgP7Zt27Zt2/a/6qEe6qEeAsAAAAAAAAAAAAAAAAAAAAAAAAAAAAAAAABUyzrQdm/1vwAAAAAAAAAAAAAAAAAAAAAAAAAAAADUvwAAAAAAABDAAAAAAAAAAAAAAAAAAAAAAAAAAAAAAAAAAAAAAAAAAAAAAAAAAAAAAG6KUcPfpui/AAAAAAAAAACQBmmQBmnQv7yzkg7+u+M/wzAMwzAMA8ByHMdxHMfhvwAAAAAAAAAAAAAAAAAABMBFsPKU0x7SvwAAAAAAAAAAAAAAAAAAAADbtm3btm31vwAAAAAAABnAvXIMkRRqBMAAAAAAAAAAAG6aLczdpvE/AAAAAAAABMDc0wjLPY3wv9dQXkN5DQXAAAAAAAAA4D8AAAAAAAAAANFFF1100QXAG2G5pxGW+z+y7J2x7J3hPwAAAAAAACRA09LS0tLS4r/jOI7jOI7+v2gxncV0Fh7Ajz8c8PjDEcAAAAAAAAAAAAAAAAAAAAAAiy666KKLKMBk8EkJF2LoP/6y3i/r/fq/AAAAAAAA8L9yHMdxHMfhvwAAAAAAAADAAAAAAAAA9L92PR3rDmMAwDQzMzMzMxtAAAAAAAAA4L9IcB/BfQQLwAAAAAAAAAAAAAAAAAAAAAAAAAAAAAAAANJjlUSzuAjA6KKLLrqIFcAAAAAAAAAawHBH3BF3xM0/sW3btm3btr9yHMdxHMfhPxLkKUGeEtS/vnLYRlHZBMAAAAAAAAAAAAAAAAAAAOS/AAAAAAAA9D8AAAAAAAAAAAAAAAAAAOS/AAAAAAAABMAAAAAAAAAAANPS0tLS0hLAWfjMq87hG8AAAAAAAAAAAAAAAAAAAAAAAAAAAAAAAAAxDMMwDMMYQNy2bdu2bQ/ApZRSSiml5L8AAAAAAAAAAMdxHMdxHA/AMQzDMAzDCMAAAAAAAAAAALZt27Zt2wbAQXsJ7SW0178AAAAAAAAAAAAAAAAAACTAAAAAAAAAAACAxt06r4DyvwAAAAAAAPS/AAAAAAAAAAB5DeU1lNfgPzY2NjY2Nva/kAZpkAZp4L+qqqqqqqrqP8IU+awbTOG/AAAAAAAAAAAAAAAAAAAAwBhddNFFF/2/AAAAAAAAAAAYXXTRRRfdv3x08tHJR/e/mpmZmZmZ2b8AAAAAAAAEwFNVVVVVVcW/2Imd2Imd+L8AAAAAAAAAANmJndiJneg/AAAAAAAAAABFWw2eI1DkvxJgbIsK9gTAZJNNNtlkI8Bu2N/FoCLcPxhddNFFFx3A",
          "dtype": "f8"
         },
         "xaxis": "x",
         "y": {
          "bdata": "TiaDz2+gvT9b34eYpJGmP6YAjfylUJM/4ug6Wp5S1z8ksB5E7TPGPz7BOS95lrA/aZm0uPxiuT8cwOJaxwDBP0HYjZVD8uM/brEMY+R0tj/CiwCjd4tsP24vVgnR/6E/o9Pv8IKQlz9Z0gNCiUPtP6de1ukd2M8/2Xgz/JmNvD8Up+r7t96xP89SboMlg9c/O9DHIDuB3D92NgB8BMyxPyKqV2BdleE/wGXdrTL45D+j3q1JoO5EPx3HRIled58/+erds3R03T+1638wO8faP1VGRSe8D+Y/rsDdt21y4j8+WtA4gFyPP4rOPw9NP4U/Mh39EzPA7T+AxADJryDXP/PZPiRqoMY/ADBp81ey4D/XNfQlvr/gP8TcrMZ817w/0JLIsgzEnD/aSyvPnkGXP3Mt47f4Dtg/F5gFswmMxT9T/Ju0uCLlPx8Dxw4UDcY/uv7MTc0ioT8sqP+9FuzrPwYAUbuJi9I/RoVfpPqY7D/gDh+9+YSwP+adqQO5Xus/mpSiek5K5T+5sJz5WWG8PzMiu7MVD30/HP5ltm2X5T8RxVtWEJrZP+w8984Houg/I/cfIBZH7T9b9eBFqRnSP2I4L7QN42o/hHagDczg6z/YyeRV7WzgPx2A6UcOe9o/KR6qpTdFsj9T4pXwR92nP8A6x4bru+w/v+iVlc+wKj+7bFo5hsC9P2BJ6hB0zus/WYxYdXnE5z8cQChkkDDRPzp0LcQiyLM/4wy8vMPyVT+M5xFMkjPtPxdtDszFYuM/8Fy2P6XVyD+pdtaH+a4wP/LWs6Q3XmI/wZQSSLQL0D9N/IfDCDfYPx6apcWtrWw/pG788nr3pz/JcT9yWeXXP1UAWebFukU/DPCIba8ezj/HRv7LGXzZP40Reo+9E0Y/H3drghOVwT9zXMaCPtblP24nFPXCbu0/Fqt2CAJbKj/50gvuYybeP09bw2z7MIA/eD6zc30i1T8kGsZbEAbFP8ZHH3Vd0cs/GNJNFvpTpD9Tqj95H8hQP6ahmDIWTt4/M6ibKv8ksj+uEWZJcLGdP8rN1fNRDsg/YCmZ7gd82z/nic26Z3TrPwIMwDv2gOc+6RR8+2nCwT+GPYX1E7p6P6pzaqD7xeY/GOtCPwnh0j+HIetJidrhPyKzhWpnUNg/5iHjcrcztj8aotTUfUTpP6U9zSeRGsI/klIlJzcohD9iqvO1oCWzP9pUvIrk99Q/nHLCPIk0Rj+t1sh4EPnlP/YsjPFy1aQ/qN5ydiDKND8y9URwrTDYP+CAK2ppgOk/nwPXt5//qT//MYt82+1gPChewhGHYyY/2T5slzW2MT+M1XjTOBHlP2hxNOD8EbQ/+tuD5yk+pz/GT7d4/3elP7S9YPsd9SU/7v8jeACPuT/Axnc983bsP/TW1C6tQhQ+lfHhCBRL6T95L+9BfQjEP8cc+fZuEs8/BEtZzevRxT9zp069rUTtP2Myi5An8Lg/3LLkcqkXxz/P7HlPwtHtP8lGGZca9p0/FBvQsHeo7D+CRqYw6qfEPhLjTGchSoM/JNwmBbIE7D9RgS0H1TjMP/Jw0X54OrA/WAl6jpJrwj/DLUrXFz5XP5hfjb5KlOM/RTG94jmgUj+UwY1Ewo/ePypL5Df55Lo/MoYI0zr+4T/4tfjl6QfRP2H1NSlYBGE/ew+YoPcxez+GENSwJhbbP1Ze3zAXnGc/",
          "dtype": "f8"
         },
         "yaxis": "y"
        },
        {
         "hovertemplate": "<b>%{text}</b><br>Avg slope: %{x:.2f} cm/decade<br>p: %{y:.3f}<extra></extra>",
         "legendgroup": "Germany",
         "marker": {
          "color": "rgb(77,175,74)",
          "line": {
           "color": "black",
           "width": 1.5
          },
          "size": 12
         },
         "mode": "markers+text",
         "name": "Germany",
         "showlegend": false,
         "text": [
          "DE"
         ],
         "textposition": "top center",
         "type": "scatter",
         "x": {
          "bdata": "0y4mobyD778=",
          "dtype": "f8"
         },
         "xaxis": "x2",
         "y": {
          "bdata": "lzmThk0X0j8=",
          "dtype": "f8"
         },
         "yaxis": "y2"
        },
        {
         "hovertemplate": "<b>%{text}</b><br>Slope: %{x:.2f} cm/decade<br>p: %{y:.3f}<extra></extra>",
         "legendgroup": "Italy",
         "marker": {
          "color": "rgb(152,78,163)",
          "opacity": 0.55,
          "size": 6
         },
         "mode": "markers",
         "name": "Italy",
         "showlegend": true,
         "text": [
          "Italy",
          "Italy",
          "Italy",
          "Italy",
          "Italy",
          "Italy",
          "Italy",
          "Italy",
          "Italy",
          "Italy",
          "Italy",
          "Italy",
          "Italy",
          "Italy",
          "Italy",
          "Italy",
          "Italy",
          "Italy",
          "Italy",
          "Italy",
          "Italy",
          "Italy",
          "Italy",
          "Italy",
          "Italy",
          "Italy",
          "Italy",
          "Italy",
          "Italy",
          "Italy",
          "Italy",
          "Italy",
          "Italy",
          "Italy",
          "Italy",
          "Italy",
          "Italy",
          "Italy",
          "Italy",
          "Italy",
          "Italy",
          "Italy",
          "Italy",
          "Italy",
          "Italy",
          "Italy",
          "Italy",
          "Italy",
          "Italy",
          "Italy",
          "Italy",
          "Italy",
          "Italy"
         ],
         "type": "scatter",
         "x": {
          "bdata": "AAAAAAAAAACSJEmSJEnSv/It3/It3xZAt23btm3bEsAYXXTRRRftvwAAAAAAAAAAiPy2zCRL278kSZIkSZIAwLmnEZZ7GifAeQ3lNZTX8L8AAAAAAAAAANPS0tLS0uK/AAAAAAAA8D8AAAAAAAAAAKH3TKL3TPK/chzHcRzH8T+qqqqqqqoKQMh7vMd7vPe/whT5rBtM4T/btm3btm0fQHIcx3EcxwFA0tLS0tLS0r9WVVVVVVULQKuqqqqqqhDAAAAAAAAA/j8AAAAAAAAAAHIcx3EcxwHAAAAAAAAAAABgN5L9qmAHwHkN5TWU1/C/GF100UUXDUANXXTRRRfNvwAAAAAAADRAchzHcRzH8T+O4ziO4zgWwOM4juM4juO/AAAAAAAAAAAAAAAAAAAAAAAAAAAAAOS/SpIkSZIk4T+qqqqqqqoKwC666KKLLgJAAAAAAAAAAAAAAAAAAAAAAPjee++99+6/qqqqqqqqCkAAAAAAAAAAAHIcx3EcxxFAAAAAAAAAAAC2bdu2bdvWvwAAAAAAAAAAAAAAAAAAAACCIAiCIAgAwA==",
          "dtype": "f8"
         },
         "xaxis": "x",
         "y": {
          "bdata": "bNz1xIl36T+wwhSMMOePP/lFwaF8PsI/wIyPrNtPrD+CgVYpLs+nPybwTFxnluk/3CBYao4t2D+CVAqKv7PXP86LFMdjyQY/TWyTKLBu3j+nIEnGIYvcP1YMpBx1dNQ/ieiT2dPx6T8U/zI3NXfRPy6ipS8314I/0C8Fw7KR5D+lB+SgrIbnPwRnAysaRYQ/+pl8n9tG5D8XRx9GeIHWP6SirIBM4dU/yNGZyzth4z9naeTaBeDJP4xe4cI8rIg/vx5f5X4i6T/Xg6yDeOzZP9JGGNi3Puw/HMMCKaNP7D+wrqZ/MgrfP5D3Z0rDXsc/pRnn3D1l5j+eA2WaKJjoP3uCj2X0Kbw/ZnptXSdn5T/UpGZWLGHWPx1EoYVfiuc/JOGK+XwD6D9O6Ljkpi7jPxxFVhRCJOw/JctAYnhv2D/oOfKoyufoPwiXtP4QzOA/y/Ygt/CNqT/vpouzGuKmP6vKRCjcJLk/zVcoF77lzz8AAAAAAADwP7pmD8W2rN0/RU4hjcQe2z/W2s8t+2LdP+BqOyLVX+A/oT6N9r6Y3D8WYMnLqmrlPw==",
          "dtype": "f8"
         },
         "yaxis": "y"
        },
        {
         "hovertemplate": "<b>%{text}</b><br>Avg slope: %{x:.2f} cm/decade<br>p: %{y:.3f}<extra></extra>",
         "legendgroup": "Italy",
         "marker": {
          "color": "rgb(152,78,163)",
          "line": {
           "color": "black",
           "width": 1.5
          },
          "size": 12
         },
         "mode": "markers+text",
         "name": "Italy",
         "showlegend": false,
         "text": [
          "IT"
         ],
         "textposition": "top center",
         "type": "scatter",
         "x": {
          "bdata": "CawmTD8AEMA=",
          "dtype": "f8"
         },
         "xaxis": "x2",
         "y": {
          "bdata": "e+Ywx61Ykz8=",
          "dtype": "f8"
         },
         "yaxis": "y2"
        },
        {
         "hovertemplate": "<b>%{text}</b><br>Slope: %{x:.2f} cm/decade<br>p: %{y:.3f}<extra></extra>",
         "legendgroup": "Slovenia",
         "marker": {
          "color": "rgb(255,127,0)",
          "opacity": 0.55,
          "size": 6
         },
         "mode": "markers",
         "name": "Slovenia",
         "showlegend": true,
         "text": [
          "Slovenia",
          "Slovenia",
          "Slovenia",
          "Slovenia",
          "Slovenia",
          "Slovenia",
          "Slovenia",
          "Slovenia",
          "Slovenia",
          "Slovenia",
          "Slovenia",
          "Slovenia",
          "Slovenia",
          "Slovenia",
          "Slovenia",
          "Slovenia",
          "Slovenia",
          "Slovenia",
          "Slovenia",
          "Slovenia",
          "Slovenia",
          "Slovenia",
          "Slovenia",
          "Slovenia",
          "Slovenia",
          "Slovenia",
          "Slovenia",
          "Slovenia",
          "Slovenia",
          "Slovenia",
          "Slovenia",
          "Slovenia",
          "Slovenia",
          "Slovenia",
          "Slovenia",
          "Slovenia",
          "Slovenia",
          "Slovenia",
          "Slovenia",
          "Slovenia",
          "Slovenia",
          "Slovenia",
          "Slovenia",
          "Slovenia",
          "Slovenia",
          "Slovenia",
          "Slovenia",
          "Slovenia",
          "Slovenia",
          "Slovenia",
          "Slovenia",
          "Slovenia",
          "Slovenia"
         ],
         "type": "scatter",
         "x": {
          "bdata": "AAAAAAAAAAAAAAAAAAAAwKat8XfzCPm/eQ3lNZTXAMBjJ3ZiJ3YCwHIcx3Ecx/G/S3fMV5ATCsAAAAAAAAAAAKmqqqqqqvq/AAAAAAAA8L8AAAAAAAAAwAAAAAAAAAAAAAAAAAAAAAAAAAAAAAAEwAAAAAAAAAAAchzHcRzH4b9VVVVVVVX1v84555xzzvm/qaqqqqqq+r8AAAAAAAAAAAAAAAAAAAAA+N5777337r95DeU1lNfgvwAAAAAAAAAAGqRBGqRB9L/bS2gvob0EwD08PDw8PAzAOY7jOI7j4L8AAAAAAAAAAAAAAAAAAAAApZRSSimlFMCSJEmSJEnivwAAAAAAAAAAGBkZGRkZ+b9VmuKXREgNwBhddNFFF92/EtpLaC+h/b+qqqqqqqrqvwAAAAAAAAAAGF100UUX/b+wKtNa1X3fv6qqqqqqqgrAAAAAAAAAAABXVVVVVVX7v/nCLlcGqADAAAAAAAAABMDxWTeYIp8FwAAAAAAAAAAA0UUXXXTR5b8UFBQUFBTkv5U1ZU1ZU+a/QnsJ7SW057+0Ud/ZqO8MwA==",
          "dtype": "f8"
         },
         "xaxis": "x",
         "y": {
          "bdata": "LTv4jLQuqz/EOtRHPwhfPlHVq/aNguM+N0lgt9ezZz/DgCYPapyyP7hYZREImzE/1HrLkEso5D62XVGuw/icP6a0nt9JB3M/9LHHZa5HtD4bN0qAB5JTP/x4pkCsg1Y/Nrkt18kxpT/RiJfX9xgjPqf0XpFWSbM/KWf1CIB1Yj80ft0v2Wd8Pg8oMsGJwT0/vYl/bjM15D7UUary98mmP2fJz7deZrI/6K9WqiFbXT/7Exy2ec++PzPGO9b7i9c/xdKLKtrYUz4bminM5/gwP7rEKCwUvxA/FjCYDAI3ez8AAAAAAADwPyVZ5kKI2Og/NG1hxnJ7Oj7v3QM71kvePlGybB5Sue0/6Lu6wvLXrz/3mQ+p+LRwPkl3pUB+x5c/Xa1UEoQ+az9bjUDFsSmePx0JKWYZPWo/E34/t6m3dD+fv2Xokb2WP+Rbplb1mTc/P+xaSsZtyT80eXp2w79RP+ziTreZTFY/PLJ+xzbRUT/ayyOwtxbpPih8eb/bEYQ/ZIirltAnGT9Cf74YN/JKP7rpOH0+an0/UtwozPnjBj8SosIqDafTPg==",
          "dtype": "f8"
         },
         "yaxis": "y"
        },
        {
         "hovertemplate": "<b>%{text}</b><br>Avg slope: %{x:.2f} cm/decade<br>p: %{y:.3f}<extra></extra>",
         "legendgroup": "Slovenia",
         "marker": {
          "color": "rgb(255,127,0)",
          "line": {
           "color": "black",
           "width": 1.5
          },
          "size": 12
         },
         "mode": "markers+text",
         "name": "Slovenia",
         "showlegend": false,
         "text": [
          "SI"
         ],
         "textposition": "top center",
         "type": "scatter",
         "x": {
          "bdata": "xuQ2sCaaA8A=",
          "dtype": "f8"
         },
         "xaxis": "x2",
         "y": {
          "bdata": "u1vljsrWcT8=",
          "dtype": "f8"
         },
         "yaxis": "y2"
        },
        {
         "hovertemplate": "<b>%{text}</b><br>Slope: %{x:.2f} cm/decade<br>p: %{y:.3f}<extra></extra>",
         "legendgroup": "Switzerland",
         "marker": {
          "color": "rgb(255,255,51)",
          "opacity": 0.55,
          "size": 6
         },
         "mode": "markers",
         "name": "Switzerland",
         "showlegend": true,
         "text": [
          "Switzerland",
          "Switzerland",
          "Switzerland",
          "Switzerland",
          "Switzerland",
          "Switzerland",
          "Switzerland",
          "Switzerland",
          "Switzerland",
          "Switzerland",
          "Switzerland",
          "Switzerland",
          "Switzerland",
          "Switzerland",
          "Switzerland",
          "Switzerland",
          "Switzerland",
          "Switzerland",
          "Switzerland",
          "Switzerland",
          "Switzerland",
          "Switzerland",
          "Switzerland",
          "Switzerland",
          "Switzerland",
          "Switzerland",
          "Switzerland",
          "Switzerland",
          "Switzerland",
          "Switzerland",
          "Switzerland",
          "Switzerland",
          "Switzerland",
          "Switzerland",
          "Switzerland",
          "Switzerland",
          "Switzerland",
          "Switzerland",
          "Switzerland",
          "Switzerland",
          "Switzerland",
          "Switzerland",
          "Switzerland",
          "Switzerland",
          "Switzerland",
          "Switzerland",
          "Switzerland",
          "Switzerland",
          "Switzerland",
          "Switzerland",
          "Switzerland",
          "Switzerland",
          "Switzerland",
          "Switzerland",
          "Switzerland",
          "Switzerland",
          "Switzerland",
          "Switzerland",
          "Switzerland",
          "Switzerland",
          "Switzerland",
          "Switzerland",
          "Switzerland",
          "Switzerland",
          "Switzerland",
          "Switzerland",
          "Switzerland",
          "Switzerland",
          "Switzerland",
          "Switzerland",
          "Switzerland",
          "Switzerland",
          "Switzerland",
          "Switzerland",
          "Switzerland",
          "Switzerland",
          "Switzerland",
          "Switzerland",
          "Switzerland",
          "Switzerland",
          "Switzerland",
          "Switzerland",
          "Switzerland",
          "Switzerland",
          "Switzerland",
          "Switzerland",
          "Switzerland",
          "Switzerland",
          "Switzerland",
          "Switzerland",
          "Switzerland",
          "Switzerland",
          "Switzerland",
          "Switzerland",
          "Switzerland",
          "Switzerland",
          "Switzerland",
          "Switzerland",
          "Switzerland",
          "Switzerland",
          "Switzerland",
          "Switzerland",
          "Switzerland",
          "Switzerland",
          "Switzerland",
          "Switzerland",
          "Switzerland",
          "Switzerland",
          "Switzerland",
          "Switzerland",
          "Switzerland",
          "Switzerland",
          "Switzerland",
          "Switzerland",
          "Switzerland",
          "Switzerland",
          "Switzerland",
          "Switzerland",
          "Switzerland",
          "Switzerland",
          "Switzerland",
          "Switzerland",
          "Switzerland",
          "Switzerland",
          "Switzerland",
          "Switzerland",
          "Switzerland",
          "Switzerland",
          "Switzerland",
          "Switzerland",
          "Switzerland",
          "Switzerland",
          "Switzerland",
          "Switzerland",
          "Switzerland",
          "Switzerland",
          "Switzerland",
          "Switzerland",
          "Switzerland",
          "Switzerland",
          "Switzerland",
          "Switzerland",
          "Switzerland",
          "Switzerland",
          "Switzerland",
          "Switzerland",
          "Switzerland",
          "Switzerland",
          "Switzerland",
          "Switzerland",
          "Switzerland",
          "Switzerland",
          "Switzerland",
          "Switzerland",
          "Switzerland",
          "Switzerland",
          "Switzerland",
          "Switzerland",
          "Switzerland",
          "Switzerland",
          "Switzerland",
          "Switzerland",
          "Switzerland"
         ],
         "type": "scatter",
         "x": {
          "bdata": "AAAAAAAAGcAAAAAAAAAAAHhKUviC2CTAYyd2Yid2AsA5ZD9zheHfPwAAAAAAAAAACfWXI1IMxT8AAAAAAAAAAAAAAAAAABDA9DzP8zzPF8Cpqqqqqqrav+RxVY4cAOm/GF100UUX7b8eEW/x1xHRvwAAAAAAAABA/PTTTz/9BMDbtm3btm3zPwAAAAAAAAAAgwRTMbLf7L8bYbmnEZb7v3kN5TWU1/A/AAAAAAAAAAAPPvjggw8KwMoQrKPN+8S/jkWzjkWzLkC96U1vetPrv7zpTW9609s/chzHcRzHAUBWfkKclZ8VwFi6N6BMXP2/AAAAAAAAAADKJptsssklwNmJndiJnei/AAAAAAAAAABVVVVVVVXlP2WTTTbZZOM/qqqqqqqqGsAmvnviuyfOP7rooosuughA0UUXXXTRBcCO4ziO4zgWwAMDAwMDAwPAzMzMzMzMDMDIZLaisaDFPwAAAAAAAAAAAAAAAAAAAAB8GmG5pxHmvwAAAAAAAAAA8MMPP/zwA8AAAAAAAAAAAJqZmZmZmfm/AAAAAAAAAAAAAAAAAAAAALRt27Zt28a/2Ymd2Imd6D+pqqqqqqr6PwAAAAAAAAAAkAZpkAZp4L/FTuzETuwgQEmSJEmSJOm/AAAAAAAAAABDUClq9UTjv3x08tHJR/e/qaqqqqqq+r/sxE7sxM7oPwAAAAAAAAAAAAAAAAAAAAAAAAAAAAAAAJvneZ7nec4/nNR9eWxF4L8AAAAAAAAAACFw2JTzAe8/GF100UUX7b+O4ziO4zjOvx3HcRzHcfy/ZZNNNtlk8z89PDw8PDwswHIcx3Ecx/G/kAZpkAZp0D/Qef0UDjrNv3h4eHh4eADAAAAAAAAAFMBhinzWDabyv5AGaZAGaeC/AAAAAAAA779hGIZhGIYDwAAAAAAAAOS/AAAAAAAAAABwR9wRd8QNwPUU1lNYT+G/ZJNNNtlkw78AAAAAAAAAAAAAAAAAAAAAtm3btm3bBsDIe7zHe7zXP1JKKaWUUuQ/2Ymd2ImdCMAAAAAAAAAAAOYUvJyCl+O/n34WVjWa5L8AAAAAAAAAAJTXUF5DeQ3ASZIkSZIk8b/mJBAXak7qvwAAAAAAAAAAWO5phOWeEsAAAAAAAAAAAHIcx3Ecx/G/q4eJ/rO72L+O4ziO4zgWQAAAAAAAAAAAAAAAAAAAGEAAAAAAAAAEQIiHh4eHhydAAAAAAAAAAAAAAAAAAAAAABhddNFFF/0/QUFBQUFB9b8AAAAAAAAAADDSjhUIIw3Aq6qqqqqqIMAYGRkZGRnJv1VVVVVVVdW/AAAAAAAAAAAAAAAAAAD0v6mqqqqqqsq/AAAAAAAAAACd53me53nev6qqqqqqquQ/AAAAAAAAAABu27Zt27YJwOf8ojQtge+/AAAAAAAAAADVeviXC8sAwCVJkiRJkgxAAAAAAAAAAACiSf4FawkPwAAAAAAAAAjAAAAAAAAAAAC2bdu2bdv2v9iJndiJnfi/fe+999577j9o3WCKfNYRwCa0l9BeQhPAuulNb3rTy7/5lm/5lm8FwKqqqqqqquq/AAAAAAAAAADT0tLS0tLiv9dQXkN5DRBApACRAkQK8L8AAAAAAAAAAEotCAXIjvO/ned5nud53r8SlnsaYbk1wKqqqqqqqgpA5lu+5Vu+E8AAAAAAAAAAAAAAAAAAAAAAkAZpkAZp8L8mMDwLjvEFwAAAAAAAAAAA3LZt27Zt+78=",
          "dtype": "f8"
         },
         "xaxis": "x",
         "y": {
          "bdata": "r2UOmCkqPz/+fgUdu8bcP+9Xm2QChEU/E+E9AH7Pyj9gH5qgLIvqP67RwHofk+o/eUJBx60k6D9iE1z2WYbQPxFnPp7szOY/LdVpWg2xsD9ebl6Dc4rgP8ij+b4C1Wk/B6M07BHsfT9rd2W9F2XgP7NSJ1keVMo/jjtc80s0wD8oU6en8B/fP7vKbdyS29s/Kg/2mcwL0T7ieXxSVwqoP6i1/2E9CNc/F5XQnvUE6T8KhFOtOU2kP0sIu8paLN8/py6ICMdV3D/NT+thT03DP4tvsrHaH6U/yGLW/+V01j+j4mB0Y58uPyDVyOWjSX0/cBiYhExNvz8uzBlC4RN7P4ReQx3DCn0/+yzVY0Bt2D80NNcanenZP4AVKq/8VOk/4bbhOqGilD/uJLQj90TpP5jx83MITdY/QJ6bKVfaxj+wKKnZsMeNP55zr6mx988/pGed/Uqvtj9unlGQ4S3WPwv9VaEKB+8/nRFdVBXy4j+5R9j4kr/HP9BfiMLVgOw/9AK8mTSlaz9dOfE4jaLLP026La8DM6I/UHGoQr0dlj/t97dc5wLYP8KwW1y/H3A/UyomWLMS3j9XLaUvc3vvP1CGTqCehMA/2bGqnySfwD9qGvBRTgDhP1uRM5ftX8I/BunkPWzg6j8f+tJWNcrFP/pnl0hRjQY/fZ6vmmCCJT8uJSXLLvXjP3okJJhswNg/O1WqGNLe2z++ca6nYIXPP3ThtLbqXNg/PBlTskhl5z+kTWiSudHvP5OevcS0EcY/5+/3Cc5IrT4AIX49MhzRP/giTE5jaKM/I607lo943j97Q1OiIYYUP0X5YsIeFbA/p4ywtYdSwD+wSIdhHaDAP83/ORITOZs/9wExw28mYz/MxwmAZhjIP2ycMo3wM4E/PWQidL2RyD/WC9RE23jXP43+mxC0PsA/eHEq0WG96j8vvIzR/k+KPxPteSl5ZdY/5AkM4Icw3z+colsSo63aP1K33kv+INs/QXk6zbxtuD+Rlttxk1/sP9TyYWy3+uU/UxTZzbfYwD8fM4vml/zPP1ie/iejaNQ/5SIctQHJzz9shVeWJe3jPyI8XhUGYZw/CaCJ4kl+dj/HniOV2mPNP0bl6QrRkMY/X1MfylNPIz+V/ynMuyvPP6QYYocJwaE/ND8nqt4clT+glTEeNLLmPwAAAAAAAPA/eYB+BgDw0j/rcFi2EVTSPzH2R0DxUKY+gOPjEkb7yD8vOqEg/nTpP/otqXZPNMo/GEWszvoErT+1rCtVZvzZP8oIuLBnJlM/7BD4Wu638z2ixEA6yh3qP0iW9ZWXCcY/03bffOin1D+YCU3eC3bXP1D7XYQue+I/6ZVzgwWq0z8V5t3hTPvPP1tliacul+0/Y2sczaccmj939QcFtTWlP4ZBSaFsZdE/k4CgYtMU1T/AS2eIp199P2Sh4ViPPCM/ECovQRBf3z/878TEiIj8Puw0jKnFEIo/Z8sfqPAapD/k27TqVJqhP6S107JUC74/qbO+coJs7j9G4bCPS8wsP8cP0YcS73Q/3Li4dm92xD9dxf0kNUSfP9krHI4F37E/lF4lnd9Q0T8BcDNqPZ7WP+wvgeWjGMs/iiJWnyIrzT+GYZG0bunhPxquK6M85so/5eBpOmjpkD8d9v9UoxeFPaCSoizGXtQ/+aDdzK3zCT8ravz8BDjFP+ym0+a+2OM/R5z5aosWjD+142BgbNx1P95fxTPC2u0/QAAo1xN6TT8=",
          "dtype": "f8"
         },
         "yaxis": "y"
        },
        {
         "hovertemplate": "<b>%{text}</b><br>Avg slope: %{x:.2f} cm/decade<br>p: %{y:.3f}<extra></extra>",
         "legendgroup": "Switzerland",
         "marker": {
          "color": "rgb(255,255,51)",
          "line": {
           "color": "black",
           "width": 1.5
          },
          "size": 12
         },
         "mode": "markers+text",
         "name": "Switzerland",
         "showlegend": false,
         "text": [
          "CH"
         ],
         "textposition": "top center",
         "type": "scatter",
         "x": {
          "bdata": "2dXbMP5K8b8=",
          "dtype": "f8"
         },
         "xaxis": "x2",
         "y": {
          "bdata": "C0nDTr5Gtj8=",
          "dtype": "f8"
         },
         "yaxis": "y2"
        }
       ],
       "layout": {
        "annotations": [
         {
          "font": {
           "size": 16
          },
          "showarrow": false,
          "text": "Stations (Theil–Sen slope per decade)",
          "x": 0.29250000000000004,
          "xanchor": "center",
          "xref": "paper",
          "y": 1,
          "yanchor": "bottom",
          "yref": "paper"
         },
         {
          "font": {
           "size": 16
          },
          "showarrow": false,
          "text": "Country averages",
          "x": 0.8425,
          "xanchor": "center",
          "xref": "paper",
          "y": 1,
          "yanchor": "bottom",
          "yref": "paper"
         }
        ],
        "legend": {
         "groupclick": "togglegroup",
         "title": {
          "text": "Toggle countries"
         }
        },
        "margin": {
         "b": 60,
         "l": 60,
         "r": 20,
         "t": 60
        },
        "shapes": [
         {
          "line": {
           "color": "red",
           "dash": "dash"
          },
          "type": "line",
          "x0": 0,
          "x1": 1,
          "xref": "x domain",
          "y0": 0.05,
          "y1": 0.05,
          "yref": "y"
         },
         {
          "line": {
           "color": "blue",
           "dash": "dash"
          },
          "type": "line",
          "x0": 0,
          "x1": 0,
          "xref": "x",
          "y0": 0,
          "y1": 1,
          "yref": "y domain"
         },
         {
          "line": {
           "color": "red",
           "dash": "dash"
          },
          "type": "line",
          "x0": 0,
          "x1": 1,
          "xref": "x2 domain",
          "y0": 0.05,
          "y1": 0.05,
          "yref": "y2"
         },
         {
          "line": {
           "color": "blue",
           "dash": "dash"
          },
          "type": "line",
          "x0": 0,
          "x1": 0,
          "xref": "x2",
          "y0": 0,
          "y1": 1,
          "yref": "y2 domain"
         }
        ],
        "template": {
         "data": {
          "bar": [
           {
            "error_x": {
             "color": "#2a3f5f"
            },
            "error_y": {
             "color": "#2a3f5f"
            },
            "marker": {
             "line": {
              "color": "#E5ECF6",
              "width": 0.5
             },
             "pattern": {
              "fillmode": "overlay",
              "size": 10,
              "solidity": 0.2
             }
            },
            "type": "bar"
           }
          ],
          "barpolar": [
           {
            "marker": {
             "line": {
              "color": "#E5ECF6",
              "width": 0.5
             },
             "pattern": {
              "fillmode": "overlay",
              "size": 10,
              "solidity": 0.2
             }
            },
            "type": "barpolar"
           }
          ],
          "carpet": [
           {
            "aaxis": {
             "endlinecolor": "#2a3f5f",
             "gridcolor": "white",
             "linecolor": "white",
             "minorgridcolor": "white",
             "startlinecolor": "#2a3f5f"
            },
            "baxis": {
             "endlinecolor": "#2a3f5f",
             "gridcolor": "white",
             "linecolor": "white",
             "minorgridcolor": "white",
             "startlinecolor": "#2a3f5f"
            },
            "type": "carpet"
           }
          ],
          "choropleth": [
           {
            "colorbar": {
             "outlinewidth": 0,
             "ticks": ""
            },
            "type": "choropleth"
           }
          ],
          "contour": [
           {
            "colorbar": {
             "outlinewidth": 0,
             "ticks": ""
            },
            "colorscale": [
             [
              0,
              "#0d0887"
             ],
             [
              0.1111111111111111,
              "#46039f"
             ],
             [
              0.2222222222222222,
              "#7201a8"
             ],
             [
              0.3333333333333333,
              "#9c179e"
             ],
             [
              0.4444444444444444,
              "#bd3786"
             ],
             [
              0.5555555555555556,
              "#d8576b"
             ],
             [
              0.6666666666666666,
              "#ed7953"
             ],
             [
              0.7777777777777778,
              "#fb9f3a"
             ],
             [
              0.8888888888888888,
              "#fdca26"
             ],
             [
              1,
              "#f0f921"
             ]
            ],
            "type": "contour"
           }
          ],
          "contourcarpet": [
           {
            "colorbar": {
             "outlinewidth": 0,
             "ticks": ""
            },
            "type": "contourcarpet"
           }
          ],
          "heatmap": [
           {
            "colorbar": {
             "outlinewidth": 0,
             "ticks": ""
            },
            "colorscale": [
             [
              0,
              "#0d0887"
             ],
             [
              0.1111111111111111,
              "#46039f"
             ],
             [
              0.2222222222222222,
              "#7201a8"
             ],
             [
              0.3333333333333333,
              "#9c179e"
             ],
             [
              0.4444444444444444,
              "#bd3786"
             ],
             [
              0.5555555555555556,
              "#d8576b"
             ],
             [
              0.6666666666666666,
              "#ed7953"
             ],
             [
              0.7777777777777778,
              "#fb9f3a"
             ],
             [
              0.8888888888888888,
              "#fdca26"
             ],
             [
              1,
              "#f0f921"
             ]
            ],
            "type": "heatmap"
           }
          ],
          "histogram": [
           {
            "marker": {
             "pattern": {
              "fillmode": "overlay",
              "size": 10,
              "solidity": 0.2
             }
            },
            "type": "histogram"
           }
          ],
          "histogram2d": [
           {
            "colorbar": {
             "outlinewidth": 0,
             "ticks": ""
            },
            "colorscale": [
             [
              0,
              "#0d0887"
             ],
             [
              0.1111111111111111,
              "#46039f"
             ],
             [
              0.2222222222222222,
              "#7201a8"
             ],
             [
              0.3333333333333333,
              "#9c179e"
             ],
             [
              0.4444444444444444,
              "#bd3786"
             ],
             [
              0.5555555555555556,
              "#d8576b"
             ],
             [
              0.6666666666666666,
              "#ed7953"
             ],
             [
              0.7777777777777778,
              "#fb9f3a"
             ],
             [
              0.8888888888888888,
              "#fdca26"
             ],
             [
              1,
              "#f0f921"
             ]
            ],
            "type": "histogram2d"
           }
          ],
          "histogram2dcontour": [
           {
            "colorbar": {
             "outlinewidth": 0,
             "ticks": ""
            },
            "colorscale": [
             [
              0,
              "#0d0887"
             ],
             [
              0.1111111111111111,
              "#46039f"
             ],
             [
              0.2222222222222222,
              "#7201a8"
             ],
             [
              0.3333333333333333,
              "#9c179e"
             ],
             [
              0.4444444444444444,
              "#bd3786"
             ],
             [
              0.5555555555555556,
              "#d8576b"
             ],
             [
              0.6666666666666666,
              "#ed7953"
             ],
             [
              0.7777777777777778,
              "#fb9f3a"
             ],
             [
              0.8888888888888888,
              "#fdca26"
             ],
             [
              1,
              "#f0f921"
             ]
            ],
            "type": "histogram2dcontour"
           }
          ],
          "mesh3d": [
           {
            "colorbar": {
             "outlinewidth": 0,
             "ticks": ""
            },
            "type": "mesh3d"
           }
          ],
          "parcoords": [
           {
            "line": {
             "colorbar": {
              "outlinewidth": 0,
              "ticks": ""
             }
            },
            "type": "parcoords"
           }
          ],
          "pie": [
           {
            "automargin": true,
            "type": "pie"
           }
          ],
          "scatter": [
           {
            "fillpattern": {
             "fillmode": "overlay",
             "size": 10,
             "solidity": 0.2
            },
            "type": "scatter"
           }
          ],
          "scatter3d": [
           {
            "line": {
             "colorbar": {
              "outlinewidth": 0,
              "ticks": ""
             }
            },
            "marker": {
             "colorbar": {
              "outlinewidth": 0,
              "ticks": ""
             }
            },
            "type": "scatter3d"
           }
          ],
          "scattercarpet": [
           {
            "marker": {
             "colorbar": {
              "outlinewidth": 0,
              "ticks": ""
             }
            },
            "type": "scattercarpet"
           }
          ],
          "scattergeo": [
           {
            "marker": {
             "colorbar": {
              "outlinewidth": 0,
              "ticks": ""
             }
            },
            "type": "scattergeo"
           }
          ],
          "scattergl": [
           {
            "marker": {
             "colorbar": {
              "outlinewidth": 0,
              "ticks": ""
             }
            },
            "type": "scattergl"
           }
          ],
          "scattermap": [
           {
            "marker": {
             "colorbar": {
              "outlinewidth": 0,
              "ticks": ""
             }
            },
            "type": "scattermap"
           }
          ],
          "scattermapbox": [
           {
            "marker": {
             "colorbar": {
              "outlinewidth": 0,
              "ticks": ""
             }
            },
            "type": "scattermapbox"
           }
          ],
          "scatterpolar": [
           {
            "marker": {
             "colorbar": {
              "outlinewidth": 0,
              "ticks": ""
             }
            },
            "type": "scatterpolar"
           }
          ],
          "scatterpolargl": [
           {
            "marker": {
             "colorbar": {
              "outlinewidth": 0,
              "ticks": ""
             }
            },
            "type": "scatterpolargl"
           }
          ],
          "scatterternary": [
           {
            "marker": {
             "colorbar": {
              "outlinewidth": 0,
              "ticks": ""
             }
            },
            "type": "scatterternary"
           }
          ],
          "surface": [
           {
            "colorbar": {
             "outlinewidth": 0,
             "ticks": ""
            },
            "colorscale": [
             [
              0,
              "#0d0887"
             ],
             [
              0.1111111111111111,
              "#46039f"
             ],
             [
              0.2222222222222222,
              "#7201a8"
             ],
             [
              0.3333333333333333,
              "#9c179e"
             ],
             [
              0.4444444444444444,
              "#bd3786"
             ],
             [
              0.5555555555555556,
              "#d8576b"
             ],
             [
              0.6666666666666666,
              "#ed7953"
             ],
             [
              0.7777777777777778,
              "#fb9f3a"
             ],
             [
              0.8888888888888888,
              "#fdca26"
             ],
             [
              1,
              "#f0f921"
             ]
            ],
            "type": "surface"
           }
          ],
          "table": [
           {
            "cells": {
             "fill": {
              "color": "#EBF0F8"
             },
             "line": {
              "color": "white"
             }
            },
            "header": {
             "fill": {
              "color": "#C8D4E3"
             },
             "line": {
              "color": "white"
             }
            },
            "type": "table"
           }
          ]
         },
         "layout": {
          "annotationdefaults": {
           "arrowcolor": "#2a3f5f",
           "arrowhead": 0,
           "arrowwidth": 1
          },
          "autotypenumbers": "strict",
          "coloraxis": {
           "colorbar": {
            "outlinewidth": 0,
            "ticks": ""
           }
          },
          "colorscale": {
           "diverging": [
            [
             0,
             "#8e0152"
            ],
            [
             0.1,
             "#c51b7d"
            ],
            [
             0.2,
             "#de77ae"
            ],
            [
             0.3,
             "#f1b6da"
            ],
            [
             0.4,
             "#fde0ef"
            ],
            [
             0.5,
             "#f7f7f7"
            ],
            [
             0.6,
             "#e6f5d0"
            ],
            [
             0.7,
             "#b8e186"
            ],
            [
             0.8,
             "#7fbc41"
            ],
            [
             0.9,
             "#4d9221"
            ],
            [
             1,
             "#276419"
            ]
           ],
           "sequential": [
            [
             0,
             "#0d0887"
            ],
            [
             0.1111111111111111,
             "#46039f"
            ],
            [
             0.2222222222222222,
             "#7201a8"
            ],
            [
             0.3333333333333333,
             "#9c179e"
            ],
            [
             0.4444444444444444,
             "#bd3786"
            ],
            [
             0.5555555555555556,
             "#d8576b"
            ],
            [
             0.6666666666666666,
             "#ed7953"
            ],
            [
             0.7777777777777778,
             "#fb9f3a"
            ],
            [
             0.8888888888888888,
             "#fdca26"
            ],
            [
             1,
             "#f0f921"
            ]
           ],
           "sequentialminus": [
            [
             0,
             "#0d0887"
            ],
            [
             0.1111111111111111,
             "#46039f"
            ],
            [
             0.2222222222222222,
             "#7201a8"
            ],
            [
             0.3333333333333333,
             "#9c179e"
            ],
            [
             0.4444444444444444,
             "#bd3786"
            ],
            [
             0.5555555555555556,
             "#d8576b"
            ],
            [
             0.6666666666666666,
             "#ed7953"
            ],
            [
             0.7777777777777778,
             "#fb9f3a"
            ],
            [
             0.8888888888888888,
             "#fdca26"
            ],
            [
             1,
             "#f0f921"
            ]
           ]
          },
          "colorway": [
           "#636efa",
           "#EF553B",
           "#00cc96",
           "#ab63fa",
           "#FFA15A",
           "#19d3f3",
           "#FF6692",
           "#B6E880",
           "#FF97FF",
           "#FECB52"
          ],
          "font": {
           "color": "#2a3f5f"
          },
          "geo": {
           "bgcolor": "white",
           "lakecolor": "white",
           "landcolor": "#E5ECF6",
           "showlakes": true,
           "showland": true,
           "subunitcolor": "white"
          },
          "hoverlabel": {
           "align": "left"
          },
          "hovermode": "closest",
          "mapbox": {
           "style": "light"
          },
          "paper_bgcolor": "white",
          "plot_bgcolor": "#E5ECF6",
          "polar": {
           "angularaxis": {
            "gridcolor": "white",
            "linecolor": "white",
            "ticks": ""
           },
           "bgcolor": "#E5ECF6",
           "radialaxis": {
            "gridcolor": "white",
            "linecolor": "white",
            "ticks": ""
           }
          },
          "scene": {
           "xaxis": {
            "backgroundcolor": "#E5ECF6",
            "gridcolor": "white",
            "gridwidth": 2,
            "linecolor": "white",
            "showbackground": true,
            "ticks": "",
            "zerolinecolor": "white"
           },
           "yaxis": {
            "backgroundcolor": "#E5ECF6",
            "gridcolor": "white",
            "gridwidth": 2,
            "linecolor": "white",
            "showbackground": true,
            "ticks": "",
            "zerolinecolor": "white"
           },
           "zaxis": {
            "backgroundcolor": "#E5ECF6",
            "gridcolor": "white",
            "gridwidth": 2,
            "linecolor": "white",
            "showbackground": true,
            "ticks": "",
            "zerolinecolor": "white"
           }
          },
          "shapedefaults": {
           "line": {
            "color": "#2a3f5f"
           }
          },
          "ternary": {
           "aaxis": {
            "gridcolor": "white",
            "linecolor": "white",
            "ticks": ""
           },
           "baxis": {
            "gridcolor": "white",
            "linecolor": "white",
            "ticks": ""
           },
           "bgcolor": "#E5ECF6",
           "caxis": {
            "gridcolor": "white",
            "linecolor": "white",
            "ticks": ""
           }
          },
          "title": {
           "x": 0.05
          },
          "xaxis": {
           "automargin": true,
           "gridcolor": "white",
           "linecolor": "white",
           "ticks": "",
           "title": {
            "standoff": 15
           },
           "zerolinecolor": "white",
           "zerolinewidth": 2
          },
          "yaxis": {
           "automargin": true,
           "gridcolor": "white",
           "linecolor": "white",
           "ticks": "",
           "title": {
            "standoff": 15
           },
           "zerolinecolor": "white",
           "zerolinewidth": 2
          }
         }
        },
        "title": {
         "text": "Hamed–Rao–adjusted MK; Theil–Sen slopes of mean snowpack depths"
        },
        "xaxis": {
         "anchor": "y",
         "domain": [
          0,
          0.5850000000000001
         ],
         "title": {
          "text": "Slope (cm/decade)"
         }
        },
        "xaxis2": {
         "anchor": "y2",
         "domain": [
          0.685,
          1
         ],
         "title": {
          "text": "Slope (cm/decade)"
         }
        },
        "yaxis": {
         "anchor": "x",
         "domain": [
          0,
          1
         ],
         "title": {
          "text": "p-value (two-sided)"
         }
        },
        "yaxis2": {
         "anchor": "x2",
         "domain": [
          0,
          1
         ],
         "matches": "y",
         "showticklabels": false,
         "title": {
          "text": "p-value (two-sided)"
         }
        }
       }
      }
     },
     "metadata": {},
     "output_type": "display_data"
    }
   ],
   "source": [
    "from Scripts.figures import country_trends_fig\n",
    "country_fig = country_trends_fig(per_station,avg_country)\n",
    "country_fig"
   ]
  },
  {
   "cell_type": "markdown",
   "id": "6c05ab3d",
   "metadata": {},
   "source": [
    "#### Interpretation\n",
    "\n",
    "Countries Italy, Slovenia, and Austria exhibit statistically significant decreases in country-level mean snowpack depth, with Sen slopes of roughly −2 to −4 cm per decade. Germany and Switzerland show negative but non-significant trends (about −1 cm/decade), meaning the decreases are not distinguishable from zero at 𝛼 = 0.05. France shows a non-significant slight increase. Results are from Mann–Kendall (Hamed–Rao) tests applied to country-year average snowpack series; slopes are reported in cm per decade."
   ]
  },
  {
   "cell_type": "markdown",
   "id": "08af743f",
   "metadata": {},
   "source": [
    "### Month Trends"
   ]
  },
  {
   "cell_type": "code",
   "execution_count": 4,
   "id": "6ab0ac27",
   "metadata": {},
   "outputs": [
    {
     "data": {
      "application/vnd.plotly.v1+json": {
       "config": {
        "plotlyServerURL": "https://plot.ly"
       },
       "data": [
        {
         "hovertemplate": "<b>%{text}</b><br>Slope: %{x:.2f} cm/decade<br>p: %{y:.3f}<extra></extra>",
         "legendgroup": "Jan",
         "marker": {
          "opacity": 0.55,
          "size": 6
         },
         "mode": "markers",
         "name": "Jan",
         "showlegend": true,
         "text": [
          "Jan",
          "Jan",
          "Jan",
          "Jan",
          "Jan",
          "Jan",
          "Jan",
          "Jan",
          "Jan",
          "Jan",
          "Jan",
          "Jan",
          "Jan",
          "Jan",
          "Jan",
          "Jan",
          "Jan",
          "Jan",
          "Jan",
          "Jan",
          "Jan",
          "Jan",
          "Jan",
          "Jan",
          "Jan",
          "Jan",
          "Jan",
          "Jan",
          "Jan",
          "Jan",
          "Jan",
          "Jan",
          "Jan",
          "Jan",
          "Jan",
          "Jan",
          "Jan",
          "Jan",
          "Jan",
          "Jan",
          "Jan",
          "Jan",
          "Jan",
          "Jan",
          "Jan",
          "Jan",
          "Jan",
          "Jan",
          "Jan",
          "Jan",
          "Jan",
          "Jan",
          "Jan",
          "Jan",
          "Jan",
          "Jan",
          "Jan",
          "Jan",
          "Jan",
          "Jan",
          "Jan",
          "Jan",
          "Jan",
          "Jan",
          "Jan",
          "Jan",
          "Jan",
          "Jan",
          "Jan",
          "Jan",
          "Jan",
          "Jan",
          "Jan",
          "Jan",
          "Jan",
          "Jan",
          "Jan",
          "Jan",
          "Jan",
          "Jan",
          "Jan",
          "Jan",
          "Jan",
          "Jan",
          "Jan",
          "Jan",
          "Jan",
          "Jan",
          "Jan",
          "Jan",
          "Jan",
          "Jan",
          "Jan",
          "Jan",
          "Jan",
          "Jan",
          "Jan",
          "Jan",
          "Jan",
          "Jan",
          "Jan",
          "Jan",
          "Jan",
          "Jan",
          "Jan",
          "Jan",
          "Jan",
          "Jan",
          "Jan",
          "Jan",
          "Jan",
          "Jan",
          "Jan",
          "Jan",
          "Jan",
          "Jan",
          "Jan",
          "Jan",
          "Jan",
          "Jan",
          "Jan",
          "Jan",
          "Jan",
          "Jan",
          "Jan",
          "Jan",
          "Jan",
          "Jan",
          "Jan",
          "Jan",
          "Jan",
          "Jan",
          "Jan",
          "Jan",
          "Jan",
          "Jan",
          "Jan",
          "Jan",
          "Jan",
          "Jan",
          "Jan",
          "Jan",
          "Jan",
          "Jan",
          "Jan",
          "Jan",
          "Jan",
          "Jan",
          "Jan",
          "Jan",
          "Jan",
          "Jan",
          "Jan",
          "Jan",
          "Jan",
          "Jan",
          "Jan",
          "Jan",
          "Jan",
          "Jan",
          "Jan",
          "Jan",
          "Jan",
          "Jan",
          "Jan",
          "Jan",
          "Jan",
          "Jan",
          "Jan",
          "Jan",
          "Jan",
          "Jan",
          "Jan",
          "Jan",
          "Jan",
          "Jan",
          "Jan",
          "Jan",
          "Jan",
          "Jan",
          "Jan",
          "Jan",
          "Jan",
          "Jan",
          "Jan",
          "Jan",
          "Jan",
          "Jan",
          "Jan",
          "Jan",
          "Jan",
          "Jan",
          "Jan",
          "Jan",
          "Jan",
          "Jan",
          "Jan",
          "Jan",
          "Jan",
          "Jan",
          "Jan",
          "Jan",
          "Jan",
          "Jan",
          "Jan",
          "Jan",
          "Jan",
          "Jan",
          "Jan",
          "Jan",
          "Jan",
          "Jan",
          "Jan",
          "Jan",
          "Jan",
          "Jan",
          "Jan",
          "Jan",
          "Jan",
          "Jan",
          "Jan",
          "Jan",
          "Jan",
          "Jan",
          "Jan",
          "Jan",
          "Jan",
          "Jan",
          "Jan",
          "Jan",
          "Jan",
          "Jan",
          "Jan",
          "Jan",
          "Jan",
          "Jan",
          "Jan",
          "Jan",
          "Jan",
          "Jan",
          "Jan",
          "Jan",
          "Jan",
          "Jan",
          "Jan",
          "Jan",
          "Jan",
          "Jan",
          "Jan",
          "Jan",
          "Jan",
          "Jan",
          "Jan",
          "Jan",
          "Jan",
          "Jan",
          "Jan",
          "Jan",
          "Jan",
          "Jan",
          "Jan",
          "Jan",
          "Jan",
          "Jan",
          "Jan",
          "Jan",
          "Jan",
          "Jan",
          "Jan",
          "Jan",
          "Jan",
          "Jan",
          "Jan",
          "Jan",
          "Jan",
          "Jan",
          "Jan",
          "Jan",
          "Jan",
          "Jan",
          "Jan",
          "Jan",
          "Jan",
          "Jan",
          "Jan",
          "Jan",
          "Jan",
          "Jan",
          "Jan",
          "Jan",
          "Jan",
          "Jan",
          "Jan",
          "Jan",
          "Jan",
          "Jan",
          "Jan",
          "Jan",
          "Jan",
          "Jan",
          "Jan",
          "Jan",
          "Jan",
          "Jan",
          "Jan",
          "Jan",
          "Jan",
          "Jan",
          "Jan",
          "Jan",
          "Jan",
          "Jan",
          "Jan",
          "Jan",
          "Jan",
          "Jan",
          "Jan",
          "Jan",
          "Jan",
          "Jan",
          "Jan",
          "Jan",
          "Jan",
          "Jan",
          "Jan",
          "Jan",
          "Jan",
          "Jan",
          "Jan",
          "Jan",
          "Jan",
          "Jan",
          "Jan",
          "Jan",
          "Jan",
          "Jan",
          "Jan",
          "Jan",
          "Jan",
          "Jan",
          "Jan",
          "Jan",
          "Jan",
          "Jan",
          "Jan",
          "Jan",
          "Jan",
          "Jan",
          "Jan",
          "Jan",
          "Jan",
          "Jan",
          "Jan",
          "Jan",
          "Jan",
          "Jan",
          "Jan",
          "Jan",
          "Jan",
          "Jan",
          "Jan",
          "Jan",
          "Jan",
          "Jan",
          "Jan",
          "Jan",
          "Jan",
          "Jan",
          "Jan",
          "Jan",
          "Jan",
          "Jan",
          "Jan",
          "Jan",
          "Jan",
          "Jan",
          "Jan",
          "Jan",
          "Jan",
          "Jan",
          "Jan",
          "Jan",
          "Jan",
          "Jan",
          "Jan",
          "Jan",
          "Jan",
          "Jan",
          "Jan",
          "Jan",
          "Jan",
          "Jan",
          "Jan",
          "Jan",
          "Jan",
          "Jan",
          "Jan",
          "Jan",
          "Jan",
          "Jan",
          "Jan",
          "Jan",
          "Jan",
          "Jan",
          "Jan",
          "Jan",
          "Jan",
          "Jan",
          "Jan",
          "Jan",
          "Jan",
          "Jan",
          "Jan",
          "Jan",
          "Jan",
          "Jan",
          "Jan",
          "Jan",
          "Jan",
          "Jan",
          "Jan",
          "Jan",
          "Jan",
          "Jan",
          "Jan",
          "Jan",
          "Jan",
          "Jan",
          "Jan",
          "Jan",
          "Jan",
          "Jan",
          "Jan",
          "Jan",
          "Jan",
          "Jan",
          "Jan",
          "Jan",
          "Jan",
          "Jan",
          "Jan",
          "Jan",
          "Jan",
          "Jan",
          "Jan",
          "Jan",
          "Jan",
          "Jan",
          "Jan",
          "Jan",
          "Jan",
          "Jan",
          "Jan",
          "Jan",
          "Jan",
          "Jan",
          "Jan",
          "Jan",
          "Jan",
          "Jan",
          "Jan",
          "Jan",
          "Jan",
          "Jan",
          "Jan",
          "Jan",
          "Jan",
          "Jan",
          "Jan",
          "Jan",
          "Jan",
          "Jan",
          "Jan",
          "Jan",
          "Jan",
          "Jan",
          "Jan",
          "Jan",
          "Jan",
          "Jan",
          "Jan",
          "Jan",
          "Jan",
          "Jan",
          "Jan",
          "Jan",
          "Jan",
          "Jan",
          "Jan",
          "Jan",
          "Jan",
          "Jan",
          "Jan",
          "Jan",
          "Jan",
          "Jan",
          "Jan",
          "Jan",
          "Jan",
          "Jan",
          "Jan",
          "Jan",
          "Jan",
          "Jan",
          "Jan",
          "Jan",
          "Jan",
          "Jan",
          "Jan",
          "Jan",
          "Jan",
          "Jan",
          "Jan",
          "Jan",
          "Jan",
          "Jan",
          "Jan",
          "Jan",
          "Jan",
          "Jan",
          "Jan",
          "Jan",
          "Jan",
          "Jan",
          "Jan",
          "Jan",
          "Jan",
          "Jan",
          "Jan",
          "Jan",
          "Jan",
          "Jan",
          "Jan",
          "Jan",
          "Jan",
          "Jan",
          "Jan",
          "Jan",
          "Jan",
          "Jan",
          "Jan",
          "Jan",
          "Jan",
          "Jan",
          "Jan",
          "Jan",
          "Jan",
          "Jan",
          "Jan",
          "Jan",
          "Jan",
          "Jan",
          "Jan",
          "Jan",
          "Jan",
          "Jan",
          "Jan",
          "Jan",
          "Jan",
          "Jan",
          "Jan",
          "Jan",
          "Jan",
          "Jan",
          "Jan",
          "Jan",
          "Jan",
          "Jan",
          "Jan",
          "Jan",
          "Jan",
          "Jan",
          "Jan",
          "Jan",
          "Jan",
          "Jan",
          "Jan",
          "Jan",
          "Jan",
          "Jan",
          "Jan",
          "Jan",
          "Jan",
          "Jan",
          "Jan",
          "Jan",
          "Jan",
          "Jan",
          "Jan",
          "Jan",
          "Jan",
          "Jan",
          "Jan",
          "Jan",
          "Jan",
          "Jan",
          "Jan",
          "Jan",
          "Jan",
          "Jan",
          "Jan",
          "Jan",
          "Jan",
          "Jan",
          "Jan",
          "Jan",
          "Jan",
          "Jan",
          "Jan",
          "Jan",
          "Jan",
          "Jan",
          "Jan",
          "Jan",
          "Jan",
          "Jan",
          "Jan",
          "Jan",
          "Jan",
          "Jan",
          "Jan",
          "Jan",
          "Jan",
          "Jan",
          "Jan",
          "Jan",
          "Jan",
          "Jan",
          "Jan",
          "Jan",
          "Jan",
          "Jan",
          "Jan",
          "Jan",
          "Jan",
          "Jan",
          "Jan",
          "Jan",
          "Jan",
          "Jan",
          "Jan",
          "Jan",
          "Jan",
          "Jan",
          "Jan",
          "Jan",
          "Jan",
          "Jan",
          "Jan",
          "Jan",
          "Jan",
          "Jan",
          "Jan",
          "Jan",
          "Jan",
          "Jan",
          "Jan",
          "Jan",
          "Jan",
          "Jan",
          "Jan",
          "Jan",
          "Jan",
          "Jan",
          "Jan",
          "Jan",
          "Jan",
          "Jan",
          "Jan",
          "Jan",
          "Jan",
          "Jan",
          "Jan",
          "Jan",
          "Jan",
          "Jan",
          "Jan",
          "Jan",
          "Jan",
          "Jan",
          "Jan",
          "Jan",
          "Jan",
          "Jan",
          "Jan",
          "Jan",
          "Jan",
          "Jan",
          "Jan",
          "Jan",
          "Jan",
          "Jan",
          "Jan",
          "Jan",
          "Jan",
          "Jan",
          "Jan",
          "Jan",
          "Jan",
          "Jan",
          "Jan",
          "Jan",
          "Jan",
          "Jan",
          "Jan",
          "Jan",
          "Jan",
          "Jan",
          "Jan",
          "Jan",
          "Jan",
          "Jan",
          "Jan",
          "Jan",
          "Jan",
          "Jan",
          "Jan",
          "Jan",
          "Jan",
          "Jan",
          "Jan",
          "Jan",
          "Jan",
          "Jan",
          "Jan",
          "Jan",
          "Jan",
          "Jan",
          "Jan",
          "Jan",
          "Jan",
          "Jan",
          "Jan",
          "Jan",
          "Jan",
          "Jan",
          "Jan",
          "Jan",
          "Jan",
          "Jan",
          "Jan",
          "Jan",
          "Jan",
          "Jan",
          "Jan",
          "Jan",
          "Jan",
          "Jan",
          "Jan",
          "Jan",
          "Jan",
          "Jan",
          "Jan",
          "Jan",
          "Jan",
          "Jan",
          "Jan",
          "Jan",
          "Jan",
          "Jan",
          "Jan",
          "Jan",
          "Jan",
          "Jan",
          "Jan",
          "Jan",
          "Jan",
          "Jan",
          "Jan",
          "Jan",
          "Jan",
          "Jan",
          "Jan",
          "Jan",
          "Jan",
          "Jan",
          "Jan",
          "Jan",
          "Jan",
          "Jan",
          "Jan"
         ],
         "type": "scatter",
         "x": {
          "bdata": "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",
          "dtype": "f8"
         },
         "xaxis": "x",
         "y": {
          "bdata": "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",
          "dtype": "f8"
         },
         "yaxis": "y"
        },
        {
         "hovertemplate": "<b>%{text}</b><br>Avg slope: %{x:.2f} cm/decade<br>p: %{y:.3f}<extra></extra>",
         "legendgroup": "Jan",
         "marker": {
          "line": {
           "color": "black",
           "width": 1.5
          },
          "size": 12
         },
         "mode": "markers+text",
         "name": "Jan",
         "showlegend": false,
         "text": [
          "Jan"
         ],
         "textposition": "top center",
         "type": "scatter",
         "x": {
          "bdata": "eVYNXW6A/b8=",
          "dtype": "f8"
         },
         "xaxis": "x2",
         "y": {
          "bdata": "JwcMpom10T8=",
          "dtype": "f8"
         },
         "yaxis": "y2"
        },
        {
         "hovertemplate": "<b>%{text}</b><br>Slope: %{x:.2f} cm/decade<br>p: %{y:.3f}<extra></extra>",
         "legendgroup": "Feb",
         "marker": {
          "opacity": 0.55,
          "size": 6
         },
         "mode": "markers",
         "name": "Feb",
         "showlegend": true,
         "text": [
          "Feb",
          "Feb",
          "Feb",
          "Feb",
          "Feb",
          "Feb",
          "Feb",
          "Feb",
          "Feb",
          "Feb",
          "Feb",
          "Feb",
          "Feb",
          "Feb",
          "Feb",
          "Feb",
          "Feb",
          "Feb",
          "Feb",
          "Feb",
          "Feb",
          "Feb",
          "Feb",
          "Feb",
          "Feb",
          "Feb",
          "Feb",
          "Feb",
          "Feb",
          "Feb",
          "Feb",
          "Feb",
          "Feb",
          "Feb",
          "Feb",
          "Feb",
          "Feb",
          "Feb",
          "Feb",
          "Feb",
          "Feb",
          "Feb",
          "Feb",
          "Feb",
          "Feb",
          "Feb",
          "Feb",
          "Feb",
          "Feb",
          "Feb",
          "Feb",
          "Feb",
          "Feb",
          "Feb",
          "Feb",
          "Feb",
          "Feb",
          "Feb",
          "Feb",
          "Feb",
          "Feb",
          "Feb",
          "Feb",
          "Feb",
          "Feb",
          "Feb",
          "Feb",
          "Feb",
          "Feb",
          "Feb",
          "Feb",
          "Feb",
          "Feb",
          "Feb",
          "Feb",
          "Feb",
          "Feb",
          "Feb",
          "Feb",
          "Feb",
          "Feb",
          "Feb",
          "Feb",
          "Feb",
          "Feb",
          "Feb",
          "Feb",
          "Feb",
          "Feb",
          "Feb",
          "Feb",
          "Feb",
          "Feb",
          "Feb",
          "Feb",
          "Feb",
          "Feb",
          "Feb",
          "Feb",
          "Feb",
          "Feb",
          "Feb",
          "Feb",
          "Feb",
          "Feb",
          "Feb",
          "Feb",
          "Feb",
          "Feb",
          "Feb",
          "Feb",
          "Feb",
          "Feb",
          "Feb",
          "Feb",
          "Feb",
          "Feb",
          "Feb",
          "Feb",
          "Feb",
          "Feb",
          "Feb",
          "Feb",
          "Feb",
          "Feb",
          "Feb",
          "Feb",
          "Feb",
          "Feb",
          "Feb",
          "Feb",
          "Feb",
          "Feb",
          "Feb",
          "Feb",
          "Feb",
          "Feb",
          "Feb",
          "Feb",
          "Feb",
          "Feb",
          "Feb",
          "Feb",
          "Feb",
          "Feb",
          "Feb",
          "Feb",
          "Feb",
          "Feb",
          "Feb",
          "Feb",
          "Feb",
          "Feb",
          "Feb",
          "Feb",
          "Feb",
          "Feb",
          "Feb",
          "Feb",
          "Feb",
          "Feb",
          "Feb",
          "Feb",
          "Feb",
          "Feb",
          "Feb",
          "Feb",
          "Feb",
          "Feb",
          "Feb",
          "Feb",
          "Feb",
          "Feb",
          "Feb",
          "Feb",
          "Feb",
          "Feb",
          "Feb",
          "Feb",
          "Feb",
          "Feb",
          "Feb",
          "Feb",
          "Feb",
          "Feb",
          "Feb",
          "Feb",
          "Feb",
          "Feb",
          "Feb",
          "Feb",
          "Feb",
          "Feb",
          "Feb",
          "Feb",
          "Feb",
          "Feb",
          "Feb",
          "Feb",
          "Feb",
          "Feb",
          "Feb",
          "Feb",
          "Feb",
          "Feb",
          "Feb",
          "Feb",
          "Feb",
          "Feb",
          "Feb",
          "Feb",
          "Feb",
          "Feb",
          "Feb",
          "Feb",
          "Feb",
          "Feb",
          "Feb",
          "Feb",
          "Feb",
          "Feb",
          "Feb",
          "Feb",
          "Feb",
          "Feb",
          "Feb",
          "Feb",
          "Feb",
          "Feb",
          "Feb",
          "Feb",
          "Feb",
          "Feb",
          "Feb",
          "Feb",
          "Feb",
          "Feb",
          "Feb",
          "Feb",
          "Feb",
          "Feb",
          "Feb",
          "Feb",
          "Feb",
          "Feb",
          "Feb",
          "Feb",
          "Feb",
          "Feb",
          "Feb",
          "Feb",
          "Feb",
          "Feb",
          "Feb",
          "Feb",
          "Feb",
          "Feb",
          "Feb",
          "Feb",
          "Feb",
          "Feb",
          "Feb",
          "Feb",
          "Feb",
          "Feb",
          "Feb",
          "Feb",
          "Feb",
          "Feb",
          "Feb",
          "Feb",
          "Feb",
          "Feb",
          "Feb",
          "Feb",
          "Feb",
          "Feb",
          "Feb",
          "Feb",
          "Feb",
          "Feb",
          "Feb",
          "Feb",
          "Feb",
          "Feb",
          "Feb",
          "Feb",
          "Feb",
          "Feb",
          "Feb",
          "Feb",
          "Feb",
          "Feb",
          "Feb",
          "Feb",
          "Feb",
          "Feb",
          "Feb",
          "Feb",
          "Feb",
          "Feb",
          "Feb",
          "Feb",
          "Feb",
          "Feb",
          "Feb",
          "Feb",
          "Feb",
          "Feb",
          "Feb",
          "Feb",
          "Feb",
          "Feb",
          "Feb",
          "Feb",
          "Feb",
          "Feb",
          "Feb",
          "Feb",
          "Feb",
          "Feb",
          "Feb",
          "Feb",
          "Feb",
          "Feb",
          "Feb",
          "Feb",
          "Feb",
          "Feb",
          "Feb",
          "Feb",
          "Feb",
          "Feb",
          "Feb",
          "Feb",
          "Feb",
          "Feb",
          "Feb",
          "Feb",
          "Feb",
          "Feb",
          "Feb",
          "Feb",
          "Feb",
          "Feb",
          "Feb",
          "Feb",
          "Feb",
          "Feb",
          "Feb",
          "Feb",
          "Feb",
          "Feb",
          "Feb",
          "Feb",
          "Feb",
          "Feb",
          "Feb",
          "Feb",
          "Feb",
          "Feb",
          "Feb",
          "Feb",
          "Feb",
          "Feb",
          "Feb",
          "Feb",
          "Feb",
          "Feb",
          "Feb",
          "Feb",
          "Feb",
          "Feb",
          "Feb",
          "Feb",
          "Feb",
          "Feb",
          "Feb",
          "Feb",
          "Feb",
          "Feb",
          "Feb",
          "Feb",
          "Feb",
          "Feb",
          "Feb",
          "Feb",
          "Feb",
          "Feb",
          "Feb",
          "Feb",
          "Feb",
          "Feb",
          "Feb",
          "Feb",
          "Feb",
          "Feb",
          "Feb",
          "Feb",
          "Feb",
          "Feb",
          "Feb",
          "Feb",
          "Feb",
          "Feb",
          "Feb",
          "Feb",
          "Feb",
          "Feb",
          "Feb",
          "Feb",
          "Feb",
          "Feb",
          "Feb",
          "Feb",
          "Feb",
          "Feb",
          "Feb",
          "Feb",
          "Feb",
          "Feb",
          "Feb",
          "Feb",
          "Feb",
          "Feb",
          "Feb",
          "Feb",
          "Feb",
          "Feb",
          "Feb",
          "Feb",
          "Feb",
          "Feb",
          "Feb",
          "Feb",
          "Feb",
          "Feb",
          "Feb",
          "Feb",
          "Feb",
          "Feb",
          "Feb",
          "Feb",
          "Feb",
          "Feb",
          "Feb",
          "Feb",
          "Feb",
          "Feb",
          "Feb",
          "Feb",
          "Feb",
          "Feb",
          "Feb",
          "Feb",
          "Feb",
          "Feb",
          "Feb",
          "Feb",
          "Feb",
          "Feb",
          "Feb",
          "Feb",
          "Feb",
          "Feb",
          "Feb",
          "Feb",
          "Feb",
          "Feb",
          "Feb",
          "Feb",
          "Feb",
          "Feb",
          "Feb",
          "Feb",
          "Feb",
          "Feb",
          "Feb",
          "Feb",
          "Feb",
          "Feb",
          "Feb",
          "Feb",
          "Feb",
          "Feb",
          "Feb",
          "Feb",
          "Feb",
          "Feb",
          "Feb",
          "Feb",
          "Feb",
          "Feb",
          "Feb",
          "Feb",
          "Feb",
          "Feb",
          "Feb",
          "Feb",
          "Feb",
          "Feb",
          "Feb",
          "Feb",
          "Feb",
          "Feb",
          "Feb",
          "Feb",
          "Feb",
          "Feb",
          "Feb",
          "Feb",
          "Feb",
          "Feb",
          "Feb",
          "Feb",
          "Feb",
          "Feb",
          "Feb",
          "Feb",
          "Feb",
          "Feb",
          "Feb",
          "Feb",
          "Feb",
          "Feb",
          "Feb",
          "Feb",
          "Feb",
          "Feb",
          "Feb",
          "Feb",
          "Feb",
          "Feb",
          "Feb",
          "Feb",
          "Feb",
          "Feb",
          "Feb",
          "Feb",
          "Feb",
          "Feb",
          "Feb",
          "Feb",
          "Feb",
          "Feb",
          "Feb",
          "Feb",
          "Feb",
          "Feb",
          "Feb",
          "Feb",
          "Feb",
          "Feb",
          "Feb",
          "Feb",
          "Feb",
          "Feb",
          "Feb",
          "Feb",
          "Feb",
          "Feb",
          "Feb",
          "Feb",
          "Feb",
          "Feb",
          "Feb",
          "Feb",
          "Feb",
          "Feb",
          "Feb",
          "Feb",
          "Feb",
          "Feb",
          "Feb",
          "Feb",
          "Feb",
          "Feb",
          "Feb",
          "Feb",
          "Feb",
          "Feb",
          "Feb",
          "Feb",
          "Feb",
          "Feb",
          "Feb",
          "Feb",
          "Feb",
          "Feb",
          "Feb",
          "Feb",
          "Feb",
          "Feb",
          "Feb",
          "Feb",
          "Feb",
          "Feb",
          "Feb",
          "Feb",
          "Feb",
          "Feb",
          "Feb",
          "Feb",
          "Feb",
          "Feb",
          "Feb",
          "Feb",
          "Feb",
          "Feb",
          "Feb",
          "Feb",
          "Feb",
          "Feb",
          "Feb",
          "Feb",
          "Feb",
          "Feb",
          "Feb",
          "Feb",
          "Feb",
          "Feb",
          "Feb",
          "Feb",
          "Feb",
          "Feb",
          "Feb",
          "Feb",
          "Feb",
          "Feb",
          "Feb",
          "Feb",
          "Feb",
          "Feb",
          "Feb",
          "Feb",
          "Feb",
          "Feb",
          "Feb",
          "Feb",
          "Feb",
          "Feb",
          "Feb",
          "Feb",
          "Feb",
          "Feb",
          "Feb",
          "Feb",
          "Feb",
          "Feb",
          "Feb",
          "Feb",
          "Feb",
          "Feb",
          "Feb",
          "Feb",
          "Feb",
          "Feb",
          "Feb",
          "Feb",
          "Feb",
          "Feb",
          "Feb",
          "Feb",
          "Feb",
          "Feb",
          "Feb",
          "Feb",
          "Feb",
          "Feb",
          "Feb",
          "Feb",
          "Feb",
          "Feb",
          "Feb",
          "Feb",
          "Feb",
          "Feb",
          "Feb",
          "Feb",
          "Feb",
          "Feb",
          "Feb",
          "Feb",
          "Feb",
          "Feb",
          "Feb",
          "Feb",
          "Feb",
          "Feb",
          "Feb",
          "Feb",
          "Feb",
          "Feb",
          "Feb",
          "Feb",
          "Feb",
          "Feb",
          "Feb",
          "Feb",
          "Feb",
          "Feb",
          "Feb",
          "Feb",
          "Feb",
          "Feb",
          "Feb",
          "Feb",
          "Feb",
          "Feb",
          "Feb",
          "Feb",
          "Feb",
          "Feb",
          "Feb",
          "Feb",
          "Feb",
          "Feb",
          "Feb",
          "Feb",
          "Feb",
          "Feb",
          "Feb",
          "Feb",
          "Feb",
          "Feb",
          "Feb",
          "Feb",
          "Feb",
          "Feb",
          "Feb",
          "Feb",
          "Feb",
          "Feb",
          "Feb",
          "Feb",
          "Feb",
          "Feb",
          "Feb",
          "Feb",
          "Feb",
          "Feb",
          "Feb",
          "Feb",
          "Feb",
          "Feb",
          "Feb",
          "Feb",
          "Feb",
          "Feb",
          "Feb",
          "Feb",
          "Feb",
          "Feb",
          "Feb",
          "Feb",
          "Feb",
          "Feb",
          "Feb",
          "Feb",
          "Feb",
          "Feb",
          "Feb",
          "Feb",
          "Feb",
          "Feb",
          "Feb",
          "Feb",
          "Feb",
          "Feb",
          "Feb",
          "Feb",
          "Feb",
          "Feb",
          "Feb",
          "Feb",
          "Feb",
          "Feb",
          "Feb",
          "Feb",
          "Feb",
          "Feb"
         ],
         "type": "scatter",
         "x": {
          "bdata": "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",
          "dtype": "f8"
         },
         "xaxis": "x",
         "y": {
          "bdata": "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",
          "dtype": "f8"
         },
         "yaxis": "y"
        },
        {
         "hovertemplate": "<b>%{text}</b><br>Avg slope: %{x:.2f} cm/decade<br>p: %{y:.3f}<extra></extra>",
         "legendgroup": "Feb",
         "marker": {
          "line": {
           "color": "black",
           "width": 1.5
          },
          "size": 12
         },
         "mode": "markers+text",
         "name": "Feb",
         "showlegend": false,
         "text": [
          "Feb"
         ],
         "textposition": "top center",
         "type": "scatter",
         "x": {
          "bdata": "locpFAa4/r8=",
          "dtype": "f8"
         },
         "xaxis": "x2",
         "y": {
          "bdata": "DgLMywPQuD8=",
          "dtype": "f8"
         },
         "yaxis": "y2"
        },
        {
         "hovertemplate": "<b>%{text}</b><br>Slope: %{x:.2f} cm/decade<br>p: %{y:.3f}<extra></extra>",
         "legendgroup": "Mar",
         "marker": {
          "opacity": 0.55,
          "size": 6
         },
         "mode": "markers",
         "name": "Mar",
         "showlegend": true,
         "text": [
          "Mar",
          "Mar",
          "Mar",
          "Mar",
          "Mar",
          "Mar",
          "Mar",
          "Mar",
          "Mar",
          "Mar",
          "Mar",
          "Mar",
          "Mar",
          "Mar",
          "Mar",
          "Mar",
          "Mar",
          "Mar",
          "Mar",
          "Mar",
          "Mar",
          "Mar",
          "Mar",
          "Mar",
          "Mar",
          "Mar",
          "Mar",
          "Mar",
          "Mar",
          "Mar",
          "Mar",
          "Mar",
          "Mar",
          "Mar",
          "Mar",
          "Mar",
          "Mar",
          "Mar",
          "Mar",
          "Mar",
          "Mar",
          "Mar",
          "Mar",
          "Mar",
          "Mar",
          "Mar",
          "Mar",
          "Mar",
          "Mar",
          "Mar",
          "Mar",
          "Mar",
          "Mar",
          "Mar",
          "Mar",
          "Mar",
          "Mar",
          "Mar",
          "Mar",
          "Mar",
          "Mar",
          "Mar",
          "Mar",
          "Mar",
          "Mar",
          "Mar",
          "Mar",
          "Mar",
          "Mar",
          "Mar",
          "Mar",
          "Mar",
          "Mar",
          "Mar",
          "Mar",
          "Mar",
          "Mar",
          "Mar",
          "Mar",
          "Mar",
          "Mar",
          "Mar",
          "Mar",
          "Mar",
          "Mar",
          "Mar",
          "Mar",
          "Mar",
          "Mar",
          "Mar",
          "Mar",
          "Mar",
          "Mar",
          "Mar",
          "Mar",
          "Mar",
          "Mar",
          "Mar",
          "Mar",
          "Mar",
          "Mar",
          "Mar",
          "Mar",
          "Mar",
          "Mar",
          "Mar",
          "Mar",
          "Mar",
          "Mar",
          "Mar",
          "Mar",
          "Mar",
          "Mar",
          "Mar",
          "Mar",
          "Mar",
          "Mar",
          "Mar",
          "Mar",
          "Mar",
          "Mar",
          "Mar",
          "Mar",
          "Mar",
          "Mar",
          "Mar",
          "Mar",
          "Mar",
          "Mar",
          "Mar",
          "Mar",
          "Mar",
          "Mar",
          "Mar",
          "Mar",
          "Mar",
          "Mar",
          "Mar",
          "Mar",
          "Mar",
          "Mar",
          "Mar",
          "Mar",
          "Mar",
          "Mar",
          "Mar",
          "Mar",
          "Mar",
          "Mar",
          "Mar",
          "Mar",
          "Mar",
          "Mar",
          "Mar",
          "Mar",
          "Mar",
          "Mar",
          "Mar",
          "Mar",
          "Mar",
          "Mar",
          "Mar",
          "Mar",
          "Mar",
          "Mar",
          "Mar",
          "Mar",
          "Mar",
          "Mar",
          "Mar",
          "Mar",
          "Mar",
          "Mar",
          "Mar",
          "Mar",
          "Mar",
          "Mar",
          "Mar",
          "Mar",
          "Mar",
          "Mar",
          "Mar",
          "Mar",
          "Mar",
          "Mar",
          "Mar",
          "Mar",
          "Mar",
          "Mar",
          "Mar",
          "Mar",
          "Mar",
          "Mar",
          "Mar",
          "Mar",
          "Mar",
          "Mar",
          "Mar",
          "Mar",
          "Mar",
          "Mar",
          "Mar",
          "Mar",
          "Mar",
          "Mar",
          "Mar",
          "Mar",
          "Mar",
          "Mar",
          "Mar",
          "Mar",
          "Mar",
          "Mar",
          "Mar",
          "Mar",
          "Mar",
          "Mar",
          "Mar",
          "Mar",
          "Mar",
          "Mar",
          "Mar",
          "Mar",
          "Mar",
          "Mar",
          "Mar",
          "Mar",
          "Mar",
          "Mar",
          "Mar",
          "Mar",
          "Mar",
          "Mar",
          "Mar",
          "Mar",
          "Mar",
          "Mar",
          "Mar",
          "Mar",
          "Mar",
          "Mar",
          "Mar",
          "Mar",
          "Mar",
          "Mar",
          "Mar",
          "Mar",
          "Mar",
          "Mar",
          "Mar",
          "Mar",
          "Mar",
          "Mar",
          "Mar",
          "Mar",
          "Mar",
          "Mar",
          "Mar",
          "Mar",
          "Mar",
          "Mar",
          "Mar",
          "Mar",
          "Mar",
          "Mar",
          "Mar",
          "Mar",
          "Mar",
          "Mar",
          "Mar",
          "Mar",
          "Mar",
          "Mar",
          "Mar",
          "Mar",
          "Mar",
          "Mar",
          "Mar",
          "Mar",
          "Mar",
          "Mar",
          "Mar",
          "Mar",
          "Mar",
          "Mar",
          "Mar",
          "Mar",
          "Mar",
          "Mar",
          "Mar",
          "Mar",
          "Mar",
          "Mar",
          "Mar",
          "Mar",
          "Mar",
          "Mar",
          "Mar",
          "Mar",
          "Mar",
          "Mar",
          "Mar",
          "Mar",
          "Mar",
          "Mar",
          "Mar",
          "Mar",
          "Mar",
          "Mar",
          "Mar",
          "Mar",
          "Mar",
          "Mar",
          "Mar",
          "Mar",
          "Mar",
          "Mar",
          "Mar",
          "Mar",
          "Mar",
          "Mar",
          "Mar",
          "Mar",
          "Mar",
          "Mar",
          "Mar",
          "Mar",
          "Mar",
          "Mar",
          "Mar",
          "Mar",
          "Mar",
          "Mar",
          "Mar",
          "Mar",
          "Mar",
          "Mar",
          "Mar",
          "Mar",
          "Mar",
          "Mar",
          "Mar",
          "Mar",
          "Mar",
          "Mar",
          "Mar",
          "Mar",
          "Mar",
          "Mar",
          "Mar",
          "Mar",
          "Mar",
          "Mar",
          "Mar",
          "Mar",
          "Mar",
          "Mar",
          "Mar",
          "Mar",
          "Mar",
          "Mar",
          "Mar",
          "Mar",
          "Mar",
          "Mar",
          "Mar",
          "Mar",
          "Mar",
          "Mar",
          "Mar",
          "Mar",
          "Mar",
          "Mar",
          "Mar",
          "Mar",
          "Mar",
          "Mar",
          "Mar",
          "Mar",
          "Mar",
          "Mar",
          "Mar",
          "Mar",
          "Mar",
          "Mar",
          "Mar",
          "Mar",
          "Mar",
          "Mar",
          "Mar",
          "Mar",
          "Mar",
          "Mar",
          "Mar",
          "Mar",
          "Mar",
          "Mar",
          "Mar",
          "Mar",
          "Mar",
          "Mar",
          "Mar",
          "Mar",
          "Mar",
          "Mar",
          "Mar",
          "Mar",
          "Mar",
          "Mar",
          "Mar",
          "Mar",
          "Mar",
          "Mar",
          "Mar",
          "Mar",
          "Mar",
          "Mar",
          "Mar",
          "Mar",
          "Mar",
          "Mar",
          "Mar",
          "Mar",
          "Mar",
          "Mar",
          "Mar",
          "Mar",
          "Mar",
          "Mar",
          "Mar",
          "Mar",
          "Mar",
          "Mar",
          "Mar",
          "Mar",
          "Mar",
          "Mar",
          "Mar",
          "Mar",
          "Mar",
          "Mar",
          "Mar",
          "Mar",
          "Mar",
          "Mar",
          "Mar",
          "Mar",
          "Mar",
          "Mar",
          "Mar",
          "Mar",
          "Mar",
          "Mar",
          "Mar",
          "Mar",
          "Mar",
          "Mar",
          "Mar",
          "Mar",
          "Mar",
          "Mar",
          "Mar",
          "Mar",
          "Mar",
          "Mar",
          "Mar",
          "Mar",
          "Mar",
          "Mar",
          "Mar",
          "Mar",
          "Mar",
          "Mar",
          "Mar",
          "Mar",
          "Mar",
          "Mar",
          "Mar",
          "Mar",
          "Mar",
          "Mar",
          "Mar",
          "Mar",
          "Mar",
          "Mar",
          "Mar",
          "Mar",
          "Mar",
          "Mar",
          "Mar",
          "Mar",
          "Mar",
          "Mar",
          "Mar",
          "Mar",
          "Mar",
          "Mar",
          "Mar",
          "Mar",
          "Mar",
          "Mar",
          "Mar",
          "Mar",
          "Mar",
          "Mar",
          "Mar",
          "Mar",
          "Mar",
          "Mar",
          "Mar",
          "Mar",
          "Mar",
          "Mar",
          "Mar",
          "Mar",
          "Mar",
          "Mar",
          "Mar",
          "Mar",
          "Mar",
          "Mar",
          "Mar",
          "Mar",
          "Mar",
          "Mar",
          "Mar",
          "Mar",
          "Mar",
          "Mar",
          "Mar",
          "Mar",
          "Mar",
          "Mar",
          "Mar",
          "Mar",
          "Mar",
          "Mar",
          "Mar",
          "Mar",
          "Mar",
          "Mar",
          "Mar",
          "Mar",
          "Mar",
          "Mar",
          "Mar",
          "Mar",
          "Mar",
          "Mar",
          "Mar",
          "Mar",
          "Mar",
          "Mar",
          "Mar",
          "Mar",
          "Mar",
          "Mar",
          "Mar",
          "Mar",
          "Mar",
          "Mar",
          "Mar",
          "Mar",
          "Mar",
          "Mar",
          "Mar",
          "Mar",
          "Mar",
          "Mar",
          "Mar",
          "Mar",
          "Mar",
          "Mar",
          "Mar",
          "Mar",
          "Mar",
          "Mar",
          "Mar",
          "Mar",
          "Mar",
          "Mar",
          "Mar",
          "Mar",
          "Mar",
          "Mar",
          "Mar",
          "Mar",
          "Mar",
          "Mar",
          "Mar",
          "Mar",
          "Mar",
          "Mar",
          "Mar",
          "Mar",
          "Mar",
          "Mar",
          "Mar",
          "Mar",
          "Mar",
          "Mar",
          "Mar",
          "Mar",
          "Mar",
          "Mar",
          "Mar",
          "Mar",
          "Mar",
          "Mar",
          "Mar",
          "Mar",
          "Mar",
          "Mar",
          "Mar",
          "Mar",
          "Mar",
          "Mar",
          "Mar",
          "Mar",
          "Mar",
          "Mar",
          "Mar",
          "Mar",
          "Mar",
          "Mar",
          "Mar",
          "Mar",
          "Mar",
          "Mar",
          "Mar",
          "Mar",
          "Mar",
          "Mar",
          "Mar",
          "Mar",
          "Mar",
          "Mar",
          "Mar",
          "Mar",
          "Mar",
          "Mar",
          "Mar",
          "Mar",
          "Mar",
          "Mar",
          "Mar",
          "Mar",
          "Mar",
          "Mar",
          "Mar",
          "Mar",
          "Mar",
          "Mar",
          "Mar",
          "Mar",
          "Mar",
          "Mar",
          "Mar",
          "Mar",
          "Mar",
          "Mar",
          "Mar",
          "Mar",
          "Mar",
          "Mar",
          "Mar",
          "Mar",
          "Mar",
          "Mar",
          "Mar",
          "Mar",
          "Mar",
          "Mar",
          "Mar",
          "Mar",
          "Mar",
          "Mar",
          "Mar",
          "Mar",
          "Mar",
          "Mar",
          "Mar",
          "Mar",
          "Mar",
          "Mar",
          "Mar",
          "Mar",
          "Mar",
          "Mar",
          "Mar",
          "Mar",
          "Mar",
          "Mar",
          "Mar",
          "Mar",
          "Mar",
          "Mar",
          "Mar",
          "Mar",
          "Mar",
          "Mar",
          "Mar",
          "Mar",
          "Mar",
          "Mar",
          "Mar",
          "Mar",
          "Mar",
          "Mar",
          "Mar",
          "Mar",
          "Mar",
          "Mar",
          "Mar",
          "Mar",
          "Mar",
          "Mar",
          "Mar",
          "Mar",
          "Mar",
          "Mar",
          "Mar",
          "Mar",
          "Mar",
          "Mar",
          "Mar",
          "Mar",
          "Mar",
          "Mar",
          "Mar",
          "Mar",
          "Mar",
          "Mar",
          "Mar",
          "Mar",
          "Mar",
          "Mar",
          "Mar",
          "Mar",
          "Mar",
          "Mar",
          "Mar",
          "Mar",
          "Mar",
          "Mar",
          "Mar",
          "Mar",
          "Mar",
          "Mar",
          "Mar",
          "Mar",
          "Mar",
          "Mar",
          "Mar",
          "Mar",
          "Mar",
          "Mar",
          "Mar",
          "Mar",
          "Mar",
          "Mar",
          "Mar",
          "Mar",
          "Mar",
          "Mar",
          "Mar",
          "Mar",
          "Mar",
          "Mar",
          "Mar",
          "Mar",
          "Mar",
          "Mar",
          "Mar",
          "Mar",
          "Mar",
          "Mar",
          "Mar",
          "Mar",
          "Mar",
          "Mar",
          "Mar",
          "Mar"
         ],
         "type": "scatter",
         "x": {
          "bdata": "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",
          "dtype": "f8"
         },
         "xaxis": "x",
         "y": {
          "bdata": "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",
          "dtype": "f8"
         },
         "yaxis": "y"
        },
        {
         "hovertemplate": "<b>%{text}</b><br>Avg slope: %{x:.2f} cm/decade<br>p: %{y:.3f}<extra></extra>",
         "legendgroup": "Mar",
         "marker": {
          "line": {
           "color": "black",
           "width": 1.5
          },
          "size": 12
         },
         "mode": "markers+text",
         "name": "Mar",
         "showlegend": false,
         "text": [
          "Mar"
         ],
         "textposition": "top center",
         "type": "scatter",
         "x": {
          "bdata": "ZO52koAn4r8=",
          "dtype": "f8"
         },
         "xaxis": "x2",
         "y": {
          "bdata": "gCcpXxRx4j8=",
          "dtype": "f8"
         },
         "yaxis": "y2"
        },
        {
         "hovertemplate": "<b>%{text}</b><br>Slope: %{x:.2f} cm/decade<br>p: %{y:.3f}<extra></extra>",
         "legendgroup": "Apr",
         "marker": {
          "opacity": 0.55,
          "size": 6
         },
         "mode": "markers",
         "name": "Apr",
         "showlegend": true,
         "text": [
          "Apr",
          "Apr",
          "Apr",
          "Apr",
          "Apr",
          "Apr",
          "Apr",
          "Apr",
          "Apr",
          "Apr",
          "Apr",
          "Apr",
          "Apr",
          "Apr",
          "Apr",
          "Apr",
          "Apr",
          "Apr",
          "Apr",
          "Apr",
          "Apr",
          "Apr",
          "Apr",
          "Apr",
          "Apr",
          "Apr",
          "Apr",
          "Apr",
          "Apr",
          "Apr",
          "Apr",
          "Apr",
          "Apr",
          "Apr",
          "Apr",
          "Apr",
          "Apr",
          "Apr",
          "Apr",
          "Apr",
          "Apr",
          "Apr",
          "Apr",
          "Apr",
          "Apr",
          "Apr",
          "Apr",
          "Apr",
          "Apr",
          "Apr",
          "Apr",
          "Apr",
          "Apr",
          "Apr",
          "Apr",
          "Apr",
          "Apr",
          "Apr",
          "Apr",
          "Apr",
          "Apr",
          "Apr",
          "Apr",
          "Apr",
          "Apr",
          "Apr",
          "Apr",
          "Apr",
          "Apr",
          "Apr",
          "Apr",
          "Apr",
          "Apr",
          "Apr",
          "Apr",
          "Apr",
          "Apr",
          "Apr",
          "Apr",
          "Apr",
          "Apr",
          "Apr",
          "Apr",
          "Apr",
          "Apr",
          "Apr",
          "Apr",
          "Apr",
          "Apr",
          "Apr",
          "Apr",
          "Apr",
          "Apr",
          "Apr",
          "Apr",
          "Apr",
          "Apr",
          "Apr",
          "Apr",
          "Apr",
          "Apr",
          "Apr",
          "Apr",
          "Apr",
          "Apr",
          "Apr",
          "Apr",
          "Apr",
          "Apr",
          "Apr",
          "Apr",
          "Apr",
          "Apr",
          "Apr",
          "Apr",
          "Apr",
          "Apr",
          "Apr",
          "Apr",
          "Apr",
          "Apr",
          "Apr",
          "Apr",
          "Apr",
          "Apr",
          "Apr",
          "Apr",
          "Apr",
          "Apr",
          "Apr",
          "Apr",
          "Apr",
          "Apr",
          "Apr",
          "Apr",
          "Apr",
          "Apr",
          "Apr",
          "Apr",
          "Apr",
          "Apr",
          "Apr",
          "Apr",
          "Apr",
          "Apr",
          "Apr",
          "Apr",
          "Apr",
          "Apr",
          "Apr",
          "Apr",
          "Apr",
          "Apr",
          "Apr",
          "Apr",
          "Apr",
          "Apr",
          "Apr",
          "Apr",
          "Apr",
          "Apr",
          "Apr",
          "Apr",
          "Apr",
          "Apr",
          "Apr",
          "Apr",
          "Apr",
          "Apr",
          "Apr",
          "Apr",
          "Apr",
          "Apr",
          "Apr",
          "Apr",
          "Apr",
          "Apr",
          "Apr",
          "Apr",
          "Apr",
          "Apr",
          "Apr",
          "Apr",
          "Apr",
          "Apr",
          "Apr",
          "Apr",
          "Apr",
          "Apr",
          "Apr",
          "Apr",
          "Apr",
          "Apr",
          "Apr",
          "Apr",
          "Apr",
          "Apr",
          "Apr",
          "Apr",
          "Apr",
          "Apr",
          "Apr",
          "Apr",
          "Apr",
          "Apr",
          "Apr",
          "Apr",
          "Apr",
          "Apr",
          "Apr",
          "Apr",
          "Apr",
          "Apr",
          "Apr",
          "Apr",
          "Apr",
          "Apr",
          "Apr",
          "Apr",
          "Apr",
          "Apr",
          "Apr",
          "Apr",
          "Apr",
          "Apr",
          "Apr",
          "Apr",
          "Apr",
          "Apr",
          "Apr",
          "Apr",
          "Apr",
          "Apr",
          "Apr",
          "Apr",
          "Apr",
          "Apr",
          "Apr",
          "Apr",
          "Apr",
          "Apr",
          "Apr",
          "Apr",
          "Apr",
          "Apr",
          "Apr",
          "Apr",
          "Apr",
          "Apr",
          "Apr",
          "Apr",
          "Apr",
          "Apr",
          "Apr",
          "Apr",
          "Apr",
          "Apr",
          "Apr",
          "Apr",
          "Apr",
          "Apr",
          "Apr",
          "Apr",
          "Apr",
          "Apr",
          "Apr",
          "Apr",
          "Apr",
          "Apr",
          "Apr",
          "Apr",
          "Apr",
          "Apr",
          "Apr",
          "Apr",
          "Apr",
          "Apr",
          "Apr",
          "Apr",
          "Apr",
          "Apr",
          "Apr",
          "Apr",
          "Apr",
          "Apr",
          "Apr",
          "Apr",
          "Apr",
          "Apr",
          "Apr",
          "Apr",
          "Apr",
          "Apr",
          "Apr",
          "Apr",
          "Apr",
          "Apr",
          "Apr",
          "Apr",
          "Apr",
          "Apr",
          "Apr",
          "Apr",
          "Apr",
          "Apr",
          "Apr",
          "Apr",
          "Apr",
          "Apr",
          "Apr",
          "Apr",
          "Apr",
          "Apr",
          "Apr",
          "Apr",
          "Apr",
          "Apr",
          "Apr",
          "Apr",
          "Apr",
          "Apr",
          "Apr",
          "Apr",
          "Apr",
          "Apr",
          "Apr",
          "Apr",
          "Apr",
          "Apr",
          "Apr",
          "Apr",
          "Apr",
          "Apr",
          "Apr",
          "Apr",
          "Apr",
          "Apr",
          "Apr",
          "Apr",
          "Apr",
          "Apr",
          "Apr",
          "Apr",
          "Apr",
          "Apr",
          "Apr",
          "Apr",
          "Apr",
          "Apr",
          "Apr",
          "Apr",
          "Apr",
          "Apr",
          "Apr",
          "Apr",
          "Apr",
          "Apr",
          "Apr",
          "Apr",
          "Apr",
          "Apr",
          "Apr",
          "Apr",
          "Apr",
          "Apr",
          "Apr",
          "Apr",
          "Apr",
          "Apr",
          "Apr",
          "Apr",
          "Apr",
          "Apr",
          "Apr",
          "Apr",
          "Apr",
          "Apr",
          "Apr",
          "Apr",
          "Apr",
          "Apr",
          "Apr",
          "Apr",
          "Apr",
          "Apr",
          "Apr",
          "Apr",
          "Apr",
          "Apr",
          "Apr",
          "Apr",
          "Apr",
          "Apr",
          "Apr",
          "Apr",
          "Apr",
          "Apr",
          "Apr",
          "Apr",
          "Apr",
          "Apr",
          "Apr",
          "Apr",
          "Apr",
          "Apr",
          "Apr",
          "Apr",
          "Apr",
          "Apr",
          "Apr",
          "Apr",
          "Apr",
          "Apr",
          "Apr",
          "Apr",
          "Apr",
          "Apr",
          "Apr",
          "Apr",
          "Apr",
          "Apr",
          "Apr",
          "Apr",
          "Apr",
          "Apr",
          "Apr",
          "Apr",
          "Apr",
          "Apr",
          "Apr",
          "Apr",
          "Apr",
          "Apr",
          "Apr",
          "Apr",
          "Apr",
          "Apr",
          "Apr",
          "Apr",
          "Apr",
          "Apr",
          "Apr",
          "Apr",
          "Apr",
          "Apr",
          "Apr",
          "Apr",
          "Apr",
          "Apr",
          "Apr",
          "Apr",
          "Apr",
          "Apr",
          "Apr",
          "Apr",
          "Apr",
          "Apr",
          "Apr",
          "Apr",
          "Apr",
          "Apr",
          "Apr",
          "Apr",
          "Apr",
          "Apr",
          "Apr",
          "Apr",
          "Apr",
          "Apr",
          "Apr",
          "Apr",
          "Apr",
          "Apr",
          "Apr",
          "Apr",
          "Apr",
          "Apr",
          "Apr",
          "Apr",
          "Apr",
          "Apr",
          "Apr",
          "Apr",
          "Apr",
          "Apr",
          "Apr",
          "Apr",
          "Apr",
          "Apr",
          "Apr",
          "Apr",
          "Apr",
          "Apr",
          "Apr",
          "Apr",
          "Apr",
          "Apr",
          "Apr",
          "Apr",
          "Apr",
          "Apr",
          "Apr",
          "Apr",
          "Apr",
          "Apr",
          "Apr",
          "Apr",
          "Apr",
          "Apr",
          "Apr",
          "Apr",
          "Apr",
          "Apr",
          "Apr",
          "Apr",
          "Apr",
          "Apr",
          "Apr",
          "Apr",
          "Apr",
          "Apr",
          "Apr",
          "Apr",
          "Apr",
          "Apr",
          "Apr",
          "Apr",
          "Apr",
          "Apr",
          "Apr",
          "Apr",
          "Apr",
          "Apr",
          "Apr",
          "Apr",
          "Apr",
          "Apr",
          "Apr",
          "Apr",
          "Apr",
          "Apr",
          "Apr",
          "Apr",
          "Apr",
          "Apr",
          "Apr",
          "Apr",
          "Apr",
          "Apr",
          "Apr",
          "Apr",
          "Apr",
          "Apr",
          "Apr",
          "Apr",
          "Apr",
          "Apr",
          "Apr",
          "Apr",
          "Apr",
          "Apr",
          "Apr",
          "Apr",
          "Apr",
          "Apr",
          "Apr",
          "Apr",
          "Apr",
          "Apr",
          "Apr",
          "Apr",
          "Apr",
          "Apr",
          "Apr",
          "Apr",
          "Apr",
          "Apr",
          "Apr",
          "Apr",
          "Apr",
          "Apr",
          "Apr",
          "Apr",
          "Apr",
          "Apr",
          "Apr",
          "Apr",
          "Apr",
          "Apr",
          "Apr",
          "Apr",
          "Apr",
          "Apr",
          "Apr",
          "Apr",
          "Apr",
          "Apr",
          "Apr",
          "Apr",
          "Apr",
          "Apr",
          "Apr",
          "Apr",
          "Apr",
          "Apr",
          "Apr",
          "Apr",
          "Apr",
          "Apr",
          "Apr",
          "Apr",
          "Apr",
          "Apr",
          "Apr",
          "Apr",
          "Apr",
          "Apr",
          "Apr",
          "Apr",
          "Apr",
          "Apr",
          "Apr",
          "Apr",
          "Apr",
          "Apr",
          "Apr",
          "Apr",
          "Apr",
          "Apr",
          "Apr",
          "Apr",
          "Apr",
          "Apr",
          "Apr",
          "Apr",
          "Apr",
          "Apr",
          "Apr",
          "Apr",
          "Apr",
          "Apr",
          "Apr",
          "Apr",
          "Apr",
          "Apr",
          "Apr",
          "Apr",
          "Apr",
          "Apr",
          "Apr",
          "Apr",
          "Apr",
          "Apr",
          "Apr",
          "Apr",
          "Apr",
          "Apr",
          "Apr",
          "Apr",
          "Apr",
          "Apr",
          "Apr",
          "Apr",
          "Apr",
          "Apr",
          "Apr",
          "Apr",
          "Apr",
          "Apr",
          "Apr",
          "Apr",
          "Apr",
          "Apr",
          "Apr",
          "Apr",
          "Apr",
          "Apr",
          "Apr",
          "Apr",
          "Apr",
          "Apr",
          "Apr",
          "Apr",
          "Apr",
          "Apr",
          "Apr",
          "Apr",
          "Apr",
          "Apr",
          "Apr",
          "Apr",
          "Apr",
          "Apr",
          "Apr",
          "Apr",
          "Apr",
          "Apr",
          "Apr",
          "Apr",
          "Apr",
          "Apr",
          "Apr",
          "Apr",
          "Apr",
          "Apr",
          "Apr",
          "Apr",
          "Apr",
          "Apr",
          "Apr",
          "Apr",
          "Apr",
          "Apr",
          "Apr",
          "Apr",
          "Apr",
          "Apr",
          "Apr",
          "Apr",
          "Apr",
          "Apr",
          "Apr",
          "Apr",
          "Apr",
          "Apr",
          "Apr",
          "Apr",
          "Apr",
          "Apr",
          "Apr",
          "Apr",
          "Apr",
          "Apr",
          "Apr",
          "Apr",
          "Apr",
          "Apr",
          "Apr",
          "Apr",
          "Apr",
          "Apr",
          "Apr",
          "Apr",
          "Apr",
          "Apr",
          "Apr",
          "Apr",
          "Apr",
          "Apr",
          "Apr",
          "Apr",
          "Apr",
          "Apr",
          "Apr",
          "Apr",
          "Apr",
          "Apr",
          "Apr",
          "Apr",
          "Apr",
          "Apr",
          "Apr",
          "Apr",
          "Apr",
          "Apr",
          "Apr",
          "Apr"
         ],
         "type": "scatter",
         "x": {
          "bdata": "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",
          "dtype": "f8"
         },
         "xaxis": "x",
         "y": {
          "bdata": "QFszgMs6sz9Ao4FpwJ3YP/QcKM12Fa0/AGx3ZMBLyj9uHj04JtydPyg9IB4j6cI/4CWS/vdqSD8P2T0EAkLEP/RcuSRKb4o/ACsYnzT/tj/XnNuqhQbTP5omDrCANkc/OSoTlOJHkj/8xNgQpqOYPwVj/UxoRV0/Kq3LVBzMmj9gI5CWpTpuP97abOtov3Y/Zp7uZ7aBmT/I/78AKexUP0iKFvPS28Q/ODUgQV/omz8snu6KBKhDP+ukA/qzkLo/4KG7n4yJtj9srNRJ+b0xP6xTru6ssWc/Bw7gFuIxxj90TAsk7UqgP8VqWl/LOHw/3PgbfBhy6D86svs8LAy6Pw9vMdKh87E/eX7Zt2xcoz81gIspc6KoP/zX3YQNWX4/gLq++C1fyz/5ey+JhcCNP/MJxrWJF94/d6vyKp/eoD9e9osVP/jqP0L1dNqoxyY/OE3cXbt72j/YwpYXKgjJP1VNK52VjKA/N2q3tKj2kD+2SpABepjHP5f+fdpP9aY/dMrJL/306T8NEpsPnfK0P12a8S1Z2oI/0dEscifsiz9vVVarY4+dP5BL+znYDLc/VH2jrYycgz9+LtOoUVrNPwxCZOvB4+o/aPQrDVGm2T/gwJo0cAXnP90XNbD/MqY/8iNrBw6Gpj+zogfskmKsPwQfVYgxTNI/poAe6P8FxT/YIWlr9nzcP1AnmCBzbdI/Y3al9Vbggz97CGzlcI+4P9ptawtl2B4/Hs+unBlevT+Xn8dPxrQ/P0RZWUjWcOo/UI3jOcSgij+zyL42wvSuP7ynDmyATJQ/9oWcoT4eqT/GTqzcNO7rPxgG+VFPltE/YeIUmCBIhj8exBvIponGP5oS2pfAFLk/aM5DaaT2lj8AAGC4piHMPlBU79u8Jso/W7tzS3EGsT/z8GDYGl2JPzLYQ6J+Xpc/D0TP66fiwz/vs3GvSOfXP/SP/dNBFp4/rGQ52TNO0j+8x6SfxtmwP19wuDO2ib4/1WOSjG71aj/5xQyiU81NP/iCTgJM24Q/rnswVOAmwj/pUL/Xg5uEP8jix/XCk8k/PfelrEWAqD/PdsnX1CdSP/tlR3t+74w/z+5hQuBc1z+KfSjbgBhoP/0g+0lks3Q//A63y/oJ0D+NLQ4vYjJ2PzWePFqy95Y/XQ/PMOkXxj9OAf/o3Na3P+oUyuIQU4E/xk3YDN4G7z/9UMvP6z6SP9ALgfIUFNg/+ZlFK7yofT/Q1AAeVt7hP8DP3e56ruo/7uQOB0wO4j8wtdACz82xP4suRwef4Nw/t10+zePF0j/YX9cM1x2kP0vyhADPf7Y/EihCl2pZ4T/6DhHXAH6fP4aPtCfBg1M/WKhp/ebuwz+Oy9iNj13sP00/H4daDYE/SELYo4vd3D/rwoEv7iuDP9NC7beQqYs/PZAPIHS2yz+oT9pfaMbWP3A77Is0Eck/vkION5AL5z/puU2M2w2FP7SAShC8qd0/HSJ8ozkqzT/ftnOL9qrEP///////Pyk9P0pUB2lXxD9OfompygdfP3PfAcuvgak/bso7duo7yj9cSkBQa2e9PxZGcDhKFuw/hPpx0aJU3T99d7UoioJjP8DC6EC3Jso/5s4sHrgawD/+21CQ59XBP5f/MROrq8Q/3LmcR/ts2z9tl/jDVOtXP55tbQ4LuLI/sP33ig0E4j+pZxvtrjtQP8DiBaXqv80//InKrxwJrj+zQ+YHPVtTP5XjjUpKtaA/p3J32t4Lzz9eLSzBlZy+P3fw2ifJGYM/mc4dr9Cx7z+egEiRoJzPP/E+v+DGgJQ/73RGnrnxtz+PL2dr77POP2DIZqDE5cg/uMZTFz2Jwz/qIOSM6Vm3P29N834ZuJI/MBlQgI+V1z/8lQvQxBDjP/+8B42d/IA/dXAHg3r7hD/nw4meYA95P7qJfjQtoLc/diGCOoe8lD9qgyvtkoOLP16VSBRLR6s/V4kbE1bIwD+SOZX8S/RhPzDPSE3qmWU/uwJJsWEi0T9OwY5Wm/jIPz6eFsLNG7w/wDcQ470b5T+X2CL88tfFP3SsQILkYKs/AADIk6zcwT4QZ4yTcC3YP4oL+yF2Y7c/PrEfi9/wlD/m0SjVER3qP8wlIGZjju4/Hdvl8sNTUT+U7t0T51nvP59ycJDh7N4/UYaa9UyMiT//JNyzosWQP1ZPlbKgYIQ/Pyo3KBjCxj9go6LW+SXWP3eIDVicvNQ/2D+t4omdWT9YhJWa2P3MP/B4QcuF0MM///+rG+uA5z49YCnUvYW5P8Czbo+mgdo/vabpzJRjoj8/+A9e1MTAP/Q0pYEw3pE/3xtRnQojNj92FK0j6L+WP/SBf0KWCYA/AAB1nmQLAD98GhUjXj+TP5qZ4cybVbE/DdoqKm+8wT+0fiUtt2mgPwAA4LF6rNM+11OiiWsF0D9+acMeOV7jP5SddUkESqE/n6Q8C5+hvz+qevZeXS9ZP6A87lBek7o/umO5Ir/ltT93a5sT/BmuP9qavYzyKHo/0O6JnFICuj9uBiMSyRTJP+9aYzkFmIw/HQm2DaxQxD+g+eh+o5ViP0FPuW+uOu8/xbBlIWISdD9Se9zBIGSKP24tERG9pcI/t03Cspah0j87idRvkWXuP+Z/ehFhn3U/qCWy+VLp6j9hl+mwAheGP5AvbaNSyEU/MCvErRpr0z+7X66etmp/Px5RCW+mCm8/bd6/++g7zj9dsm2Rh6W2P+da/wbq3Nw/44x5/vfMQj94RrHzx2HVP7uxX3a+eZQ/qrMVpabhuD8AACWytqQRP7MB8bO3T9I/AACU3Ld63T7ofLGtf/3DP7yqFA9a2rk/USeZq7SIiz/d9lK/YdvLPzo/1w/JELc/pWqYlGOzdz+xHsSBLpGYPyAJpeDR7OQ/SP/kcSMmwj/YubrAmLt4P4Rlyzfr22U/ULcdfwbttT/Sr0sevfaNPwAASFG/K/o+dmqT/kCw4z/GVQrNDbzAP3ZhgIEtMaY/OCaYu1iv3z9fUDImdVzPP3Zmo2SP08M/O/Rb4qFX1z/N4mYffZVdP9Db8+cy+Ik/AAAAAIBIjT2ioALyiIriPywsA5Yr9rc/6jzD8ZLOmj+flXCeWHdxP/0P5YIdNcU/JF6W0W2u4j9Ii3M/8vzgP9kOKvXMqoM/nOCB90S7qD8A8DpCf7q4P8HyrG0k3O0/MLhHk2sF2D+xtX/Z1/ufP45YSv2xEbE/kl9l6SnD4j/nO6ND74t5P6hCq7a+YeA/bQiWQOFKmT9o14euOyXpP/ZyPwKu/Hk/hs+SvbJg6D941Erz/EvRP1k6LvvguaQ/rFYuwozTkT/t9WODBPbLPzLfZncx1Js/b3cKI557zz8P6sGOQ3zQP6wYW1d5tuI/ntTfdzK96D8AAGBGLqGjPueiB2mQgdg/PuukAonEmj/QWOjtEhQiP5/xJphXccY/7aTYu7FSyj8PWBjtmbXZP+x2FNBYOOk/+vQdcJPN7D9soG7ZI+foPy5KHjh7/rg/4K/rsi0axj8aP4cdqM+gP/7Rb7YEFsM/oOM6TnNj1D8+G0f34J7iP24c12h6NM0/BFB/TTN36z8nrR76VLzBP3DQPWboUuM/zjV54Ky+7D8HiOcFLMLcP1g/xtZwZ9k/8OLGI8jPyT9fI6Bs69zsP7BuSYTwNug/0PemduuayT+AQRprFmO4P1a1jFA+Y+c/UKLgGKvAtj8/XDxuqwaxPxvx/m8HJbE/71uUiVZhiT8y/duHjcmrP7MP4Tvb/9I//Bq6pFfMtz/XFg4JXcndPw+BeuJ/sNk/LhkkJnvlyj9TKq7Lr2SGP7hPaxTNLdc/gsY8EnH+4j+tmA1DB+jAP53rdy4ID84/pDH+YfW30D9cKeYoTM7lP4+fPu5KW2I/jtL6nadN7D8/yOmkBejRPy9tXNE2os8/6oyufQ2f4z/auiaroiO8P/fulqbQ8cE/g8jWJAE90j9PYIXGGOKxPy1CZ9QX+Mk/z1W4hvEC2T+UqI0zXeIeP6rOtVXW2pc/yJwS1lPz2z/XQqm6okihP04cXRFi1rM/P1r0qX4MpD8au3yadVWhP56yZu2BErU/KpCBzugv7j/X7oE1s8jvP15+cFfNlrE/mMDCOgfa6j89qf2DvDK0P99XpV/qXoI/jpLBIKic6z+Y7pJ8//DWP0hdudrn4N8/svCy63Ys4j9u8mntjyrIP2g0y0/qgUI/mCTpZc5K4z9foEK9hNPKP1/CWTGTXrE/q/NEEnoJVz+i4T0VuUTqP1hg/rUrsts/TFEzYuGTsj/08dN0LiuqP9QFsGrGp+w/cYeOUzf57j9jMkX3unnVP2j+pp+gWcU/bSwEZuK3tT/k3snHGIaAP2970EawSN4/3eeJW9dkpT/8qE/7jv3lP7wl2qODTKI/ABGeldIxqj/p7A3UJd3vPwBeTe7tmqA/AABvJHg8+D4XypE9YTncPzSinBkjVOY/Pu3+4sbbxz80VmZLGBalP26UdU/628M/U/dVX41mpj/M0pVZB3/kPwg0sIRgGeQ/2kCH8IoI6T/mFsVqnxDlP6gvYA4xGsQ/lOGI8GDr6z/OA2FiZVF4P74P57NSx7I/FFUSgL3Jrj/3utF2hhvQP/7rGdoEoJs/YLpmRq6b2T84FEZpHoMoP4hDHsPkUuc/MEdcTKqNwD8o8UUidwXbP9lSq6idUoI/G6af+b3koz85TzsG6NqTP9d26E84atI/92iPOenMdT+++4ZAVV7oP2ptvFpRR+g/AAAAAAAAAACAAqNHm7SPP3rUmih+m5A/HaQC9rICuz9jWjl+nRTYP1PUPX+Iv6E/E4RKU8DK0T888+XxeJKvP0ewFHzH790/uPAqyeosoT+rlBU9Dbu8P00l79wnv80/IhEi6s3Z5j9jcLbavPKJP3PcFM6qUUw/uEPZViDNfz/I5/zCbUGLP74WnjArcs0/n3vBz+RrbD8ndGcZ9ZbRP/yZJQ8KotQ/7Q5FPGVlRz/UOuiZtZKLPwAAsPfGweY+oFP4U28p4D/ONpvTkdTpPwAAAAAAAPA/yGiluGg8yT9PieGI4jq6P/YOcl25Q+0/NwgQD+Y5mT+MQuVhEM/vPy+ElaIUA5g/XxCOJ+CJtD/8zhaEegqZPzL90ZGtpec/dzgfldiW3T9Om0LdM+m2P4SePNLqWN8/3zMjZE7c1j/u5dG9RjCbPwAAsMEzU7E+evaNxiswLD+PrHwb1rLDP8AOFMjxF9k/wACtvgto0z/izQClhAyNP6WcmBtxkZI/f0EELgffjj9rVw2ob13tP6wI13JVXOk/AABiH1LD+j5c2JHRyYjvP91g2fLVjq4/oGA/B2omxj9H1rGGLhvNPw5E9Ax7UOg/b+XSNA/Gtz++3t6RllRzP//2+2K9trM/+UFP4MkPrj8XMIBPf9kdP+ItCggtxHc/L7W3skkUlz+DMvNOkQnRP7psXKLSw+c/HOLjIzZ8rj+g98ZflEDCP1gBU6wihYI/XrFv/pZhyz88PJsBXdHhPy0gsXqzNM4/VKEfa7Y35T9o+yKVPc/LP59EY/HiAtE/MhwZ2SkKmT+4NlEYWLjVP8CrvafZFdk/zg9Veg/Hwz/ON3CDpgnuPwAAQILToKA+p5VH2EBu3D99+90IiJCZP4/sWk+EEcs/v4sYPaNyqT+cnHhmJfmqPwCAFvORLQA/pLTFiNm/5T8vdl3hQ3HFPz3jJvo4FMQ/0t2GIIyZcD8AAPIJfHDqPs5+bKVrkX4/7F9xCxtraT+ymMwVrr3iP8OO2ZvwPlg/7hIGucMTmT+zld1LFmOlPzBPoyRSrtA/b2olXHz+uz9K+hvJrCi4P1Mx4VRsiO0/8h45J08hoD9cfQo8byveP+9vj1Sy8do/IjJJVag6JD8shrN5p3iVP3sNMQwjeIw/d5JduxvGzj/6RntBQ9axP2+Rto7g9bI/amP4az8EmT80Tsvgb5WXP6+t0X0QYbU/AIAfUN0BAT8AAAxyuz/rPslk7IQLNYE/9CvxIuq7lz9TehA7SHuhP+HCMFFjelQ/fHcF0BbLkT/z70yzaQGQPwAAAD7tSWk+9GSIIrxEpj8a6wckuluvP+evEiIY89U/AADQMoRasT45hp/wXW2qP4hm5hpCCdA//t1wvoWpdj9aMs+iaMKiP1fFLasZikE/yEOduf3K0D+61Mx0oEygP6rzEZxVAmM/hiLhFH0swz/g0/FWOybQP/D1/hdmS3A/6iTyDlRCfT9rz0d8d+lvP2qP1yJCO+s/rKxPa+zW2z8AAHYxjKHqPgEAALkFFow+LVsqjTWrxj/2wDzJTTegP0bP7AToRGc/nHtc9eIotD9TyUCiLHMzPw63f0fGc8A/bM2OeNcokj+F7Yh1+RkeP5lAuRuWYac/tcU82804oj/dngzdJu7JP9kOkinm7aA/+OrWnmdmmz9kacE/9oaKP/+7gu07b3o/YsvjPMLbhD9MHwkK+8eBP7A71XoCxx0/Nbs89yeglj8AAM1PiyYBP2pKqxV1EjU/Ky41gmITmj9fr58MecrtP3M1Pz6Z2pM/+/pEKjbirD84bM0hTnihPxyvFOyneOE/StsSTIok7j8wpaWUNCjhP9SO4N95Bqs/T5kpDJVh7T+IWHEBPjzUPyrGRU0FUOM/0GkKd6V4tD8qBMsj6R7gP478g11CFsA/x/K3NjtCwj8u0Z7pZ8rgP9L9jHQiv+o/xQL+3VNzVz8N8/UsXgazP9dP2LJ5i2g/St0VCqLg5T+MA/nxahC/P15a8a0Bqsc/zOLI2fb47j8AAPKUDzUCPwAAwpLDVQk/r55sBbflnj8AAAAAAAAAADtjMTERi5Y/DPaBDcjDuD9U4oWI3SDlP/F+wKF++4Y/UNOEDhIq4j/1j84zvJXCP1palDX5d7o/JD/oBW814j/5tj1gIcCiP/w5xlZt0tU/iLYw93kh0T/dPbmnzcPAP0ZlEC64lOM/zpULF9d06j8mumgDEV2YP/x+alxcnu4/UG0IehKIhz/uOM8u2vGEP7/esaIwMKY/0NmxgVoEOj8ou2HAYeDFP2iZaf90s9M/vLmeuYck5T+hW1MjRmR2P1B087byYOA/8OrufCHP1j+3l5ogpj9EP/QGxJ+it+8/76ureX48nD8+m3rpP71lPwAAAEB3TBk+yOas5ulo1z8Amu512qDAP36bY4Qjc1U/bFdDJdqu0T+bUZZkT/fdP6WLuwi65sY/Tlc98DZD7j+3vxgPZ9NCP2gAoRjXqNQ/0wt1AawnWD+8U8oM03HgP68jq0watso//FSVNqN+6D+6hgXFgytZPwi1+gk9/eE/AICxzBlgEj8xruQ4oqNCP+6pRKCYsmg/HfaPVyckxz/wmrThlt/cP3ACG8nf+9g/dJm0Zn7+4j8Aj1Cpmd7dP6SYND8Yruw/5+Vvxrjckz/+kU1NgaLmP/CFaR23dOA/Whu8gPAG7D/x/4/+l4LvP+/J9RI5YpA/y1+I651duT/V1AlOknynP6CUPBv8QN8/7fKkYMiSxT/etyAJNRroP6cENt3fc90/tSBXklrIrj/L/syJo0GyPwCABsMtZBg/ICFjlGDA7D/zo1hAjlmmP7DxHdnYTsg/5jcryzIq7D8Y2mLfYWLlP9iZYMyh5qY/5oiTic5Uwj980vum+EvaPygydMW719k/ptd41Yp8cj9zJ3+jAHdXP1QZhBMKhOI/zPkj8blJ4z9WTnb1UPwxP7hHZFH4etU/qMMGV4q64D9zkTbUHaisP15sYEwXq+w/1FH96DGE4j8A1Lglm8S1Pw8zHVYS8ts/SGZzDS7e2z8qRFc2l07oP8/qjEPjqMc/bTztVFO5xD//LDVw3+bSP76jfn+r2Ks/jDBHyYkJuT80OeS/q5LuP7ClcySxat4//XXKWPKpvj9g/Pd2od+/P583Ve7B5Xk/Wq0yg3s1bz8QEvkkfcLZP1cVzcBywKc/b7mGv09T2j9wydq/kkLlP52mSe/Ourk/d6JMDsHC0z/eMQSQvKiEP1sL2BI0kVY/caVFEEEkkD9aDT4G1t28PzzFi166HeA/cpdq3Fb16z+h4Of7++l7P2S0lRG9mdY/MCtICD1LwD9aq9HAZ7q6PzqXZC8s1S0/oC8orAaQzD9oMtujoNomP+pW0Ezry+k/hN5NhOO15T8A9OlDNebIP0DWPd3fA6k/vx2lYiSIzj8AAAB4dN/ePg==",
          "dtype": "f8"
         },
         "yaxis": "y"
        },
        {
         "hovertemplate": "<b>%{text}</b><br>Avg slope: %{x:.2f} cm/decade<br>p: %{y:.3f}<extra></extra>",
         "legendgroup": "Apr",
         "marker": {
          "line": {
           "color": "black",
           "width": 1.5
          },
          "size": 12
         },
         "mode": "markers+text",
         "name": "Apr",
         "showlegend": false,
         "text": [
          "Apr"
         ],
         "textposition": "top center",
         "type": "scatter",
         "x": {
          "bdata": "nByUqCp9+r8=",
          "dtype": "f8"
         },
         "xaxis": "x2",
         "y": {
          "bdata": "93l210Q4pD8=",
          "dtype": "f8"
         },
         "yaxis": "y2"
        },
        {
         "hovertemplate": "<b>%{text}</b><br>Slope: %{x:.2f} cm/decade<br>p: %{y:.3f}<extra></extra>",
         "legendgroup": "May",
         "marker": {
          "opacity": 0.55,
          "size": 6
         },
         "mode": "markers",
         "name": "May",
         "showlegend": true,
         "text": [
          "May",
          "May",
          "May",
          "May",
          "May",
          "May",
          "May",
          "May",
          "May",
          "May",
          "May",
          "May",
          "May",
          "May",
          "May",
          "May",
          "May",
          "May",
          "May",
          "May",
          "May",
          "May",
          "May",
          "May",
          "May",
          "May",
          "May",
          "May",
          "May",
          "May",
          "May",
          "May",
          "May",
          "May",
          "May",
          "May",
          "May",
          "May",
          "May",
          "May",
          "May",
          "May",
          "May",
          "May",
          "May",
          "May",
          "May",
          "May",
          "May",
          "May",
          "May",
          "May",
          "May",
          "May",
          "May",
          "May",
          "May",
          "May",
          "May",
          "May",
          "May",
          "May",
          "May",
          "May",
          "May",
          "May",
          "May",
          "May",
          "May",
          "May",
          "May",
          "May",
          "May",
          "May",
          "May",
          "May",
          "May",
          "May",
          "May",
          "May",
          "May",
          "May",
          "May",
          "May",
          "May",
          "May",
          "May",
          "May",
          "May",
          "May",
          "May",
          "May",
          "May",
          "May",
          "May",
          "May",
          "May",
          "May",
          "May",
          "May",
          "May",
          "May",
          "May",
          "May",
          "May",
          "May",
          "May",
          "May",
          "May",
          "May",
          "May",
          "May",
          "May",
          "May",
          "May",
          "May",
          "May",
          "May",
          "May",
          "May",
          "May",
          "May",
          "May",
          "May",
          "May",
          "May",
          "May",
          "May",
          "May",
          "May",
          "May",
          "May",
          "May",
          "May",
          "May",
          "May",
          "May",
          "May",
          "May",
          "May",
          "May",
          "May",
          "May",
          "May",
          "May",
          "May",
          "May",
          "May",
          "May",
          "May",
          "May",
          "May",
          "May",
          "May",
          "May",
          "May",
          "May",
          "May",
          "May",
          "May",
          "May",
          "May",
          "May",
          "May",
          "May",
          "May",
          "May",
          "May",
          "May",
          "May",
          "May",
          "May",
          "May",
          "May",
          "May",
          "May",
          "May",
          "May",
          "May",
          "May",
          "May",
          "May",
          "May",
          "May",
          "May",
          "May",
          "May",
          "May",
          "May",
          "May",
          "May",
          "May",
          "May",
          "May",
          "May",
          "May",
          "May",
          "May",
          "May",
          "May",
          "May",
          "May",
          "May",
          "May",
          "May",
          "May",
          "May",
          "May",
          "May",
          "May",
          "May",
          "May",
          "May",
          "May",
          "May",
          "May",
          "May",
          "May",
          "May",
          "May",
          "May",
          "May",
          "May",
          "May",
          "May",
          "May",
          "May",
          "May",
          "May",
          "May",
          "May",
          "May",
          "May",
          "May",
          "May",
          "May",
          "May",
          "May",
          "May",
          "May",
          "May",
          "May",
          "May",
          "May",
          "May",
          "May",
          "May",
          "May",
          "May",
          "May",
          "May",
          "May",
          "May",
          "May",
          "May",
          "May",
          "May",
          "May",
          "May",
          "May",
          "May",
          "May",
          "May",
          "May",
          "May",
          "May",
          "May",
          "May",
          "May",
          "May",
          "May",
          "May",
          "May",
          "May",
          "May",
          "May",
          "May",
          "May",
          "May",
          "May",
          "May",
          "May",
          "May",
          "May",
          "May",
          "May",
          "May",
          "May",
          "May",
          "May",
          "May",
          "May",
          "May",
          "May",
          "May",
          "May",
          "May",
          "May",
          "May",
          "May",
          "May",
          "May",
          "May",
          "May",
          "May",
          "May",
          "May",
          "May",
          "May",
          "May",
          "May",
          "May",
          "May",
          "May",
          "May",
          "May",
          "May",
          "May",
          "May",
          "May",
          "May",
          "May",
          "May",
          "May",
          "May",
          "May",
          "May",
          "May",
          "May",
          "May",
          "May",
          "May",
          "May",
          "May",
          "May",
          "May",
          "May",
          "May",
          "May",
          "May",
          "May",
          "May",
          "May",
          "May",
          "May",
          "May",
          "May",
          "May",
          "May",
          "May",
          "May",
          "May",
          "May",
          "May",
          "May",
          "May",
          "May",
          "May",
          "May",
          "May",
          "May",
          "May",
          "May",
          "May",
          "May",
          "May",
          "May",
          "May",
          "May",
          "May",
          "May",
          "May",
          "May",
          "May",
          "May",
          "May",
          "May",
          "May",
          "May",
          "May",
          "May",
          "May",
          "May",
          "May",
          "May",
          "May",
          "May",
          "May",
          "May",
          "May",
          "May",
          "May",
          "May",
          "May",
          "May",
          "May",
          "May",
          "May",
          "May",
          "May",
          "May",
          "May",
          "May",
          "May",
          "May",
          "May",
          "May",
          "May",
          "May",
          "May",
          "May",
          "May",
          "May",
          "May",
          "May",
          "May",
          "May",
          "May",
          "May",
          "May",
          "May",
          "May",
          "May",
          "May",
          "May",
          "May",
          "May",
          "May",
          "May",
          "May",
          "May",
          "May",
          "May",
          "May",
          "May",
          "May",
          "May",
          "May",
          "May",
          "May",
          "May",
          "May",
          "May",
          "May",
          "May",
          "May",
          "May",
          "May",
          "May",
          "May",
          "May",
          "May",
          "May",
          "May",
          "May",
          "May",
          "May",
          "May",
          "May",
          "May",
          "May",
          "May",
          "May",
          "May",
          "May",
          "May",
          "May",
          "May",
          "May",
          "May",
          "May",
          "May",
          "May",
          "May",
          "May",
          "May",
          "May",
          "May",
          "May",
          "May",
          "May",
          "May",
          "May",
          "May",
          "May",
          "May",
          "May",
          "May",
          "May",
          "May",
          "May",
          "May",
          "May",
          "May",
          "May",
          "May",
          "May",
          "May",
          "May",
          "May",
          "May",
          "May",
          "May",
          "May",
          "May",
          "May",
          "May",
          "May",
          "May",
          "May",
          "May",
          "May",
          "May",
          "May",
          "May",
          "May",
          "May",
          "May",
          "May",
          "May",
          "May",
          "May",
          "May",
          "May",
          "May",
          "May",
          "May",
          "May",
          "May",
          "May",
          "May",
          "May",
          "May",
          "May",
          "May",
          "May",
          "May",
          "May",
          "May",
          "May",
          "May",
          "May",
          "May",
          "May",
          "May",
          "May",
          "May",
          "May",
          "May",
          "May",
          "May",
          "May",
          "May",
          "May",
          "May",
          "May",
          "May",
          "May",
          "May",
          "May",
          "May",
          "May",
          "May",
          "May",
          "May",
          "May",
          "May",
          "May",
          "May",
          "May",
          "May",
          "May",
          "May",
          "May",
          "May",
          "May",
          "May",
          "May",
          "May",
          "May",
          "May",
          "May",
          "May",
          "May",
          "May",
          "May",
          "May",
          "May",
          "May",
          "May",
          "May",
          "May",
          "May",
          "May",
          "May",
          "May",
          "May",
          "May",
          "May",
          "May",
          "May",
          "May",
          "May",
          "May",
          "May",
          "May",
          "May",
          "May",
          "May",
          "May",
          "May",
          "May",
          "May",
          "May",
          "May",
          "May",
          "May",
          "May",
          "May",
          "May",
          "May",
          "May",
          "May",
          "May",
          "May",
          "May",
          "May",
          "May",
          "May",
          "May",
          "May",
          "May",
          "May",
          "May",
          "May",
          "May",
          "May",
          "May",
          "May",
          "May",
          "May",
          "May",
          "May",
          "May",
          "May",
          "May",
          "May",
          "May",
          "May",
          "May",
          "May",
          "May",
          "May",
          "May",
          "May",
          "May",
          "May",
          "May",
          "May",
          "May",
          "May",
          "May",
          "May",
          "May",
          "May",
          "May",
          "May"
         ],
         "type": "scatter",
         "x": {
          "bdata": "AAAAAAAAAAAAAAAAAAAAAAAAAAAAAAAAAAAAAAAAAAAAAAAAAAAAAAAAAAAAAAAAAAAAAAAAAAAAAAAAAAAAAAAAAAAAAAAAAAAAAAAAAAAAAAAAAAAAAAAAAAAAAAAAAAAAAAAAAAAAAAAAAAAAAAAAAAAAAAAAAAAAAAAAAAAAAAAAAAAAAAAAAAAAAAAAAAAAAAAAAAAAAAAAAAAAAAAAAAAAAAAAAAAAAAAAAAAAAAAAAAAAAAAAAAAAAAAAAAAAAAAAAAAAAAAAAAAAAAAAAAAAAAAAAAAAAAAAAAAAAAAAAAAAAAAAAAAAAAAAAAAAAAAAAAAAAAAAAAAAAAAAAAAAAAAAAAAAAAAAAAAAAAAAAAAAAAAAAAAAAAAAAAAAAAAAAAAAAAAAAAAAAAAAAAAAAAAAAAAAAAAAAAAAAAAAAAAAAAAAAAAAAAAAAAAAAAAAAAAAAAAAAAAAAAAAAAAAAAAAAAAAAAAAAAAAAAAAAAAAAAAAAAAAAAAAAAAAAAAAAAAAAAAAAAAAAAAAAAAAAAAAAAAAAAAAAAAAAAAAAAAAAAAAAAAAAAAAAAAAAAAAAAAAAAAAAAAAAAAAAAAAAAAAAAAAAAAAAAAAAAAAAAAAAAAAAAAAAAAAAAAAAAAAAAAAAAAAAAAAAAAAAAAAAAAAAAAAAAAAAAAAAAAAAAAAAAAAAAAAAAAAAAAAAAAAAAAAAAAAAAAAAAAAAAAAAAAAAAAAAAAAAAAAAAAAAAAAAAAAAAAAAAAAAAAAAAAAAAAAAAAAAAAAAAAAAAAAAAAAAAAAAAAAAAAAAAAAAAAAAAAAAAAAAAAAAAAAAAAAAAAAAAAAAAAAAAAAAAAAAAAAAAAAAAAAAAAAAAAAAAAAAAAAAAAAAAAAAAAAAAAAAAAAAAAAAAAAAAAAAAAAAAAAAAAAAAAAAAAAAAAAAAAAAAAAAAAAAAAAAAAAAAAAAAAAAAAAAAAAAAAAAAAAAAAAAAAAAAAAAAAAAAAAAAAAAAAAAAAAAAAAAAAAAAAAAAAAAAAAAAAAAAAAAAAAAAAAAAAAAAAAAAAAAAAAAAAAAAAAAAAAAAAAAAAAAAAAAAAAAAAAAAAAAAAAAAAAAAAAAAAAAAAAAAAAAAAAAAAAAAAAAAAAAAAAAAAAAAAAAAAAAAAAAAAAAAAAAAAAAAAAAAAAAAAAAAAAAAAAAAAAAAAAAAAAAAAAAAAAAAAAAAAAAAAAAAAAAAAAAAAAAAAAAAAAAAAAAAAAAAAAAAAAAAAAAAAAAAAAAAAAAAAAAAAAAAAAAAAAAAAAAAAAAAAAAAAAAAAAAADc0wjLPY3wPwAAAAAAAAAAAAAAAAAAAAAAAAAAAAAAAHkN5TWU1/C/AAAAAAAAAAByHMdxHMcRQAAAAAAAAAAAAAAAAAAAAAAAAAAAAAAAAAAAAAAAAAAAAAAAAAAAAAAAAAAAAAAAAAAAAAAAAAAAAAAAAAAAAAAAAAAAAAAAAAAAAAAAAAAAAAAAAAAAAAAAAAAAAAAAAAAAAAAAAAAAAAAAAAAAAAAAAAAAAAAAAAAAAAAAAAAAAAAAAAAAAAAAAAAAAAAAAAAAAAAAAAAAAAAAAAAAAAAAAAAAAAAAAAAAAAAAAAAAAAAAAAAAAAAAAAAAAAAAALZt27Zt29a/AAAAAAAAAAAAAAAAAAAAAAAAAAAAAAAAAAAAAAAAAAAAAAAAAAAAAAAAAAAAAAAAAAAAAAAAAAAAAAAAAAAAAAAAAAAAAAAAAAAAAAAAAAAAAAAAAAAAAAAAAAAAAAAAAAAAAAAAAAAAAAAAAAAAAAAAAAAAAAAAAAAAAAAAAAAAAAAAAAAAAAAAAAAAAAAAAAAAAAAAAAAAAAAAAAAAAAAAAAAAAAAAAAAAAAAAAAAAAAAAAAAAAAAAAAAAAAAAAAAAAAAAAAAAAAAAAAAAAAAAAAAAAAAAAAAAAAAAAAAAAAAAAAAAAAAAAAAAAAAAAAAAAAAAAAAAAAAAAAAAAAAAAAAAAAAAAAAAAAAAAAAAAAAAAAAAAAAAAAAAAAAAAAAAAAAAAAAAAAAAAAAAAAAAAAAAAAAAAAAAAAAAAAAAAAAAAAAAAAAAAAAAAAAAAAAAAAAAAAAAAAAAAAAAAAAAAAAAAAAAAAAAAAAAAAAAAAAAAAAAAAAAAAAAAAAAAAAAAAAAAAAAAAAAAAAAAAAAAAAAAAAAAAAAAAAAAAAAAAAAAAAAAAAAAAAAAAAAAAAAAAAAAAAAAAAAAAAAAAAAAAAAAAAAAAAAAAAAAAAAAAAAAAAAAAAAAAAAAAAAAAAAAAAAAAAAAAAAAAAAAAAAAAAAAAAAAAAAAAAAAAAAAAAAAAAAAAAAAAAAAAAAAAAAAAAAAAAAAAAAAAAAAAAAAAAAAAAAAAAAAAAAAAAAAAAAAAAAAAAAAAAAAAAAAAAAAAAAAAAAAAAAAAAAAAAAAAAAAAAAAAAAAAAAAAAAAAAAAAAAAAAAAAAAAAAAAAAAAAAAAAAAAAAAAAAAAAAAAAAAAAAAAAAAAAAAAAAAAAAAAAAAAAAAAAAAAAAAAAAAAAAAAAAAAAAAAAAAAAAAAAAAAAAAAAAAAAAAAAAAAAAAAAAAAAAAAAAAAAAAAAAAAAAAAAAAAAAAAAAAAAAAAAAAAAAAAAAAAAAAAAAAAAAAAAAAAAAAAAAAAAAAAAAAAAAAAAAAAAAAAAAAAAAAAAAAAAAAAAAAAAAAAAAAAAAAAAAAAAAAAAAAAAAAAAAAAAAAAAAAAAAAAAAAAAAAAAAAAAAAAAAAAAAAAAAAAAAAAAAAAAAAAAAAAAAAAAAAAAAAAAAAAAAAAAAAAAAAAAAAAAAAAAAAAAAAAAAAAAAAAAAAAAAAAAAAAAAAAAAAAAAAAAAAAAAAAAAAAHx08tHJR+e/AAAAAAAAAAAAAAAAAAAAAAAAAAAAAAAAAAAAAAAAAAAAAAAAAAAAAAAAAAAAAAAAAAAAAAAAAAB8GmG5pxEGwOLPhD8T/vC/AAAAAAAAAAAAAAAAAAAAAAAAAAAAAAAAAAAAAAAAAAAAAAAAAAAAAAAAAAAAAAAAAAAAAAAAAAAAAAAAAAAAAAAAAAAAAAAAAAAAAAAAAAAAAAAAAAAAAAAAAAAAAAAAAAAAAAAAAAAAAAAAAAAAAAAAAAAAAAAAvOlNb3rT278AAAAAAAAAAAAAAAAAAAAAAAAAAAAAAAAAAAAAAAAAAAAAAAAAAAAAAAAAAAAAAAAAAAAAAAAAAAAAAAAAAAAAAAAAAAAAAAAAAAAAAAAAAAAAAAAAAAAAAAAAAAAAAAAAAAAAAAAAAAAAAAAAAAAAAAAAAAAAAAAAAAAAAAAAAAAAAAAAAAAAAAAAAAAAAAAAAAAAAAAAAAAAAAAAAAAAAAAAAAAAAAAAAAAAAAAAAAAAAAAAAAAAAAAAAAAAAAAAAAAAAAAAAAAAAAAAAAAAAAAAAAAAAAAAAAAAAAAAAAAAAAAAAAAAAAAAAAAAAAAAAAAAAAAAAAAAAAAAAAAAAAAAAAAAAAAAAAAAAAAAAAAAAAAAAAAAAAAAAAAAAAAAAAAAAAAAAAAAAAAAAAAAAAAAAAAAAAAAAAAAAAAAAAAAAAAAAAAAAAAAAAAAAAAAAAAAAAAAAAAAAAAAAAAAAAAAAAAAAAAAAAAAAAAAAAAAAAAAAAAAAAAAAAAAAAAAAAAAAAAAAAAAAAAAAAAAAAAAAAAAAAAAAAAAAAAAAAAAAAAAAAAAAAAAAAAAAAAAAAAAAAAAAAAAAAAAAAAAAAAAAAAAAAAAAAAAAAAAAAAAAAAAAAAAAAAAAAAAAAAAAAAAAAAAAAAAAAAAAAAAAAAAAAAAAAAAAAAAAAAAAAAAAAAAAAAAAAAAAAAAAAAAAAAAAAAAAAAAAAAAAAAAAAAAAAAAAAAAAAAAAAAAAAAAAAAAAAAAAAAAAAAAAAAAAAAAAAAAAAAAAAAAAAAAAAAAAAAAAAAAAAAAAAAAAAAAAAAAABnAAAAAAAAAAAAAAAAAAAAAAKqqqqqqquq/AAAAAAAAAAAAAAAAAAAAAAAAAAAAAAAAAAAAAAAAAAAAAAAAAAAAAAAAAAAAAAAAAAAAAAAAAAAAAAAAAAAAAAAAAAAAAAAAAAAAAAAAAAAAAAAAAAAAAIe1b1j7hgnAAAAAAAAAAAAAAAAAAAAAAAAAAAAAAAAAAAAAAAAAAAAAAAAAAAAAAAAAAAAAAAAAAAAAAAAAAAAAAAAAAAAAAAAAAAAAAAAAAAAAAAAAAAAAAAAAAAAAAHIcx3EcxwHAAAAAAAAAAAAAAAAAAAAAAAAAAAAAAAAAAAAAAAAAAAAAAAAAAAAAAAAAAAAAAAAAAAAAAAAAAAAAAAAAAAAAAAAAAAAAAAAAAAAAAAAAAAAAAAAAAAAAAAAAAAAAAAAAAAAAAAAAAAAAAAAAAAAAAAAAAAAAAAAAAAAAAAAAAAAAAAAAAAAAAAAAAAAAAAAAAAAAAAAAAACamZmZmZn5vwAAAAAAAAAAAAAAAAAAAAAAAAAAAAAAAAAAAAAAAAAAAAAAAAAAAAAAAAAAAAAAAAAAAAAAAAAAAAAAAAAAAAAAAAAAAAAAAAAAAAAAAAAAAAAAAAAAAAAAAAAAAAAAAOsh8d+y6SHAAAAAAAAAAAAAAAAAAAAAAAAAAAAAAAAAAAAAAAAAAAAAAAAAAAAAAAAAAAAAAAAAAAAAAAAAAAAAAAAAAAAAAAAAAAAAAAAAAAAAAAAAAACPUH2mrfHXvwAAAAAAAAAAAAAAAAAAAAAAAAAAAAAAAAAAAAAAAAAAAAAAAAAAAAAAAAAAAAAAAAAAAAAAAAAAAAAAAAAAAAAAAAAAAAAAAAAAAAAAAAAAAAAAAAAAAAAAAAAAAAAAAKDk2DXfPvW/AAAAAAAAAAAAAAAAAAAAAAAAAAAAAAAAAAAAAAAAAAAAAAAAAAAAAAAAAAAAAAAAAAAAAAAAAAAAAAAAAAAAAAAAAAAAAAAAAAAAAAAAAAAAAAAAAAAAAAAAAAAAAAAAAAAAAAAAAAAAAAAAAAAAAAAAAAAAAAAAAAAAAAAAAAAAAAAAAAAAAAAAAAAAAAAAAAAAAAAAAAAAAAAAAAAAAAAAAAAAAAAAAAAAAAAAAAAAAAAAAAAAAAAAAAAAAAAAAAAAAAAAAAAAAAAAAAAAAAAAAAAAAAAAAAAAAAAAAAAAAAAAAAAAAAAAAAAAAAAAAAAAAAAAAAAAAAAAAAAAAAAAAAAAAAAAAAAAAAAAAAAAAAAAAAAAAAAAAAAAAAAAAAAAAAAAAAAAAAAAAAAAAAAAAAAAAAAAAAAAAAAAAAAAAAAAAAAAAAAAAAAAAAAAAAAAAAAAAAAAAAAAAAAAAAAAAAAAAAAAAAAAAAAAAAAAAAAAAAAAAAAAAAAAAAAAAAAAAAAAAAAAAAAAAAAAAAAAAAAAAAAAAAAAAAAAAAAAAAAAAAAAAAAAAAAAAAAAAAAAAAAAAAAAAAAAAAAAAAAAAAAAAAAAAAAAAAAAAAAAAAAAAAAAAAAAAAAAAAAAAAAAAAAAAAAAAAAAAAAAAAAAAAAAAAAAAAAAAAAAAAAAAAAAAAAAAAAAAAAAAAAAAAAAAAAAAAAAAAAAAAAAAAAAAAAAAAAAAAAAAAAAAAAAAAAAAAAAAAAAAAAAAAAAAAAAAAAA8D8AAAAAAAAAAG+v7/b6bgPAAAAAAAAAAAAAAAAAAAAAAAAAAAAAAAAAAAAAAAAAAEAAAAAAAAAAAAAAAAAAAAAAAAAAAAAAAABaYXMg0Qrbv6qqqqqqqhXAAAAAAAAAAAAAAAAAAAAAAAAAAAAAAAAAmpmZmZmZ+b+96U1vetPrv1VVVVVVVSDAtm3btm3bBkByHMdxHMfRvwAAAAAAAAAAAAAAAAAAAAAAAAAAAAAZwKuqqqqqqgLAAAAAAAAAAAAAAAAAAAAAAAAAAAAAAAAAAAAAAAAAAAAAAAAAAAAAAAAAAAAAAAAAzjnnnHPOCcAAAAAAAAAAAKVlIB9V3g7AAAAAAAAAAAAAAAAAAAAAAAAAAAAAAAAAAAAAAAAAAAAAAAAAAAAAAAAAAAAAAAAAAAAAAAAAAAAAAAAAAAAAAAAAAAAAAAAAAAAAAAAAAAAAAAAAAAAAAAAAAAAAAAAAAAAAAAAAAACQBmmQBmngv1VVVVVVVSJAAAAAAAAAAAAAAAAAAAAAAAAAAAAAAAAAGF100UUX7b9yHMdxHMcBwAAAAAAAAAAAAAAAAAAAAAAAAAAAAAAAAAAAAAAAAAAAAAAAAAAAAAAAAAAAAAAAAAAAAAAAAAAAAAAAAAAA9L8AAAAAAAAAAAAAAAAAAPS/x3Ecx3EcJcAAAAAAAAAAAAAAAAAAAAAAAAAAAAAAAAA++OCDDz4IwAAAAAAAAAAAAAAAAAAAAADw7u7u7u4uwKmqqqqqqvq/AAAAAAAAAACU11BeQ3kNwG3UdzbqO9u/AAAAAAAAAAAAAAAAAAAAAGSTTTbZZNM/chzHcRzH8b9jJ3ZiJ3YSwAAAAAAAAAAAAAAAAAAAAAAAAAAAAAAAAAAAAAAAAAAAAAAAAAAAAAByHMdxHMfxv2uD/sgM2e6/AAAAAAAAAMAQQgghhBAiwAAAAAAAAAAA0UUXXXTR9b/YiZ3YiZ3YvwAAAAAAAAAAAAAAAAAAAAAAAAAAAAD0vz08PDw8POy/AAAAAAAAAAAAAAAAAAAAAAAAAAAAAAAAAAAAAAAAAAAAAAAAAAAAAAAAAAAAAAAAAAAAAAAAAAAAAAAAAAAAAAAAAAAAAAAA0UUXXXTRBcAAAAAAAAAAAAAAAAAAAAAASJngmn2UFcAAAAAAAAAAAAAAAAAAAAAA6qEe6qEe8r8AAAAAAAAAANFFF1100RXAAAAAAAAAAAAAAAAAAAAAAAAAAAAAAAAAZZNNNtlk479qI2EgYHXsv0tEP8N6KSDAjuM4juM4BsAAAAAAAAAAABhddNFFF+2/AAAAAAAAAAAAAAAAAAAAAAAAAAAAAAAAvYbyGspr8L8AAAAAAAAAABKWexphuTXAAAAAAAAAAADvvffee+8VwAAAAAAAAAAAAAAAAAAAAACd53me53nevwAAAAAAAAAAAAAAAAAA8L8=",
          "dtype": "f8"
         },
         "xaxis": "x",
         "y": {
          "bdata": "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",
          "dtype": "f8"
         },
         "yaxis": "y"
        },
        {
         "hovertemplate": "<b>%{text}</b><br>Avg slope: %{x:.2f} cm/decade<br>p: %{y:.3f}<extra></extra>",
         "legendgroup": "May",
         "marker": {
          "line": {
           "color": "black",
           "width": 1.5
          },
          "size": 12
         },
         "mode": "markers+text",
         "name": "May",
         "showlegend": false,
         "text": [
          "May"
         ],
         "textposition": "top center",
         "type": "scatter",
         "x": {
          "bdata": "ponzKj+K8b8=",
          "dtype": "f8"
         },
         "xaxis": "x2",
         "y": {
          "bdata": "/btjYQMOHz8=",
          "dtype": "f8"
         },
         "yaxis": "y2"
        },
        {
         "hovertemplate": "<b>%{text}</b><br>Slope: %{x:.2f} cm/decade<br>p: %{y:.3f}<extra></extra>",
         "legendgroup": "Nov",
         "marker": {
          "opacity": 0.55,
          "size": 6
         },
         "mode": "markers",
         "name": "Nov",
         "showlegend": true,
         "text": [
          "Nov",
          "Nov",
          "Nov",
          "Nov",
          "Nov",
          "Nov",
          "Nov",
          "Nov",
          "Nov",
          "Nov",
          "Nov",
          "Nov",
          "Nov",
          "Nov",
          "Nov",
          "Nov",
          "Nov",
          "Nov",
          "Nov",
          "Nov",
          "Nov",
          "Nov",
          "Nov",
          "Nov",
          "Nov",
          "Nov",
          "Nov",
          "Nov",
          "Nov",
          "Nov",
          "Nov",
          "Nov",
          "Nov",
          "Nov",
          "Nov",
          "Nov",
          "Nov",
          "Nov",
          "Nov",
          "Nov",
          "Nov",
          "Nov",
          "Nov",
          "Nov",
          "Nov",
          "Nov",
          "Nov",
          "Nov",
          "Nov",
          "Nov",
          "Nov",
          "Nov",
          "Nov",
          "Nov",
          "Nov",
          "Nov",
          "Nov",
          "Nov",
          "Nov",
          "Nov",
          "Nov",
          "Nov",
          "Nov",
          "Nov",
          "Nov",
          "Nov",
          "Nov",
          "Nov",
          "Nov",
          "Nov",
          "Nov",
          "Nov",
          "Nov",
          "Nov",
          "Nov",
          "Nov",
          "Nov",
          "Nov",
          "Nov",
          "Nov",
          "Nov",
          "Nov",
          "Nov",
          "Nov",
          "Nov",
          "Nov",
          "Nov",
          "Nov",
          "Nov",
          "Nov",
          "Nov",
          "Nov",
          "Nov",
          "Nov",
          "Nov",
          "Nov",
          "Nov",
          "Nov",
          "Nov",
          "Nov",
          "Nov",
          "Nov",
          "Nov",
          "Nov",
          "Nov",
          "Nov",
          "Nov",
          "Nov",
          "Nov",
          "Nov",
          "Nov",
          "Nov",
          "Nov",
          "Nov",
          "Nov",
          "Nov",
          "Nov",
          "Nov",
          "Nov",
          "Nov",
          "Nov",
          "Nov",
          "Nov",
          "Nov",
          "Nov",
          "Nov",
          "Nov",
          "Nov",
          "Nov",
          "Nov",
          "Nov",
          "Nov",
          "Nov",
          "Nov",
          "Nov",
          "Nov",
          "Nov",
          "Nov",
          "Nov",
          "Nov",
          "Nov",
          "Nov",
          "Nov",
          "Nov",
          "Nov",
          "Nov",
          "Nov",
          "Nov",
          "Nov",
          "Nov",
          "Nov",
          "Nov",
          "Nov",
          "Nov",
          "Nov",
          "Nov",
          "Nov",
          "Nov",
          "Nov",
          "Nov",
          "Nov",
          "Nov",
          "Nov",
          "Nov",
          "Nov",
          "Nov",
          "Nov",
          "Nov",
          "Nov",
          "Nov",
          "Nov",
          "Nov",
          "Nov",
          "Nov",
          "Nov",
          "Nov",
          "Nov",
          "Nov",
          "Nov",
          "Nov",
          "Nov",
          "Nov",
          "Nov",
          "Nov",
          "Nov",
          "Nov",
          "Nov",
          "Nov",
          "Nov",
          "Nov",
          "Nov",
          "Nov",
          "Nov",
          "Nov",
          "Nov",
          "Nov",
          "Nov",
          "Nov",
          "Nov",
          "Nov",
          "Nov",
          "Nov",
          "Nov",
          "Nov",
          "Nov",
          "Nov",
          "Nov",
          "Nov",
          "Nov",
          "Nov",
          "Nov",
          "Nov",
          "Nov",
          "Nov",
          "Nov",
          "Nov",
          "Nov",
          "Nov",
          "Nov",
          "Nov",
          "Nov",
          "Nov",
          "Nov",
          "Nov",
          "Nov",
          "Nov",
          "Nov",
          "Nov",
          "Nov",
          "Nov",
          "Nov",
          "Nov",
          "Nov",
          "Nov",
          "Nov",
          "Nov",
          "Nov",
          "Nov",
          "Nov",
          "Nov",
          "Nov",
          "Nov",
          "Nov",
          "Nov",
          "Nov",
          "Nov",
          "Nov",
          "Nov",
          "Nov",
          "Nov",
          "Nov",
          "Nov",
          "Nov",
          "Nov",
          "Nov",
          "Nov",
          "Nov",
          "Nov",
          "Nov",
          "Nov",
          "Nov",
          "Nov",
          "Nov",
          "Nov",
          "Nov",
          "Nov",
          "Nov",
          "Nov",
          "Nov",
          "Nov",
          "Nov",
          "Nov",
          "Nov",
          "Nov",
          "Nov",
          "Nov",
          "Nov",
          "Nov",
          "Nov",
          "Nov",
          "Nov",
          "Nov",
          "Nov",
          "Nov",
          "Nov",
          "Nov",
          "Nov",
          "Nov",
          "Nov",
          "Nov",
          "Nov",
          "Nov",
          "Nov",
          "Nov",
          "Nov",
          "Nov",
          "Nov",
          "Nov",
          "Nov",
          "Nov",
          "Nov",
          "Nov",
          "Nov",
          "Nov",
          "Nov",
          "Nov",
          "Nov",
          "Nov",
          "Nov",
          "Nov",
          "Nov",
          "Nov",
          "Nov",
          "Nov",
          "Nov",
          "Nov",
          "Nov",
          "Nov",
          "Nov",
          "Nov",
          "Nov",
          "Nov",
          "Nov",
          "Nov",
          "Nov",
          "Nov",
          "Nov",
          "Nov",
          "Nov",
          "Nov",
          "Nov",
          "Nov",
          "Nov",
          "Nov",
          "Nov",
          "Nov",
          "Nov",
          "Nov",
          "Nov",
          "Nov",
          "Nov",
          "Nov",
          "Nov",
          "Nov",
          "Nov",
          "Nov",
          "Nov",
          "Nov",
          "Nov",
          "Nov",
          "Nov",
          "Nov",
          "Nov",
          "Nov",
          "Nov",
          "Nov",
          "Nov",
          "Nov",
          "Nov",
          "Nov",
          "Nov",
          "Nov",
          "Nov",
          "Nov",
          "Nov",
          "Nov",
          "Nov",
          "Nov",
          "Nov",
          "Nov",
          "Nov",
          "Nov",
          "Nov",
          "Nov",
          "Nov",
          "Nov",
          "Nov",
          "Nov",
          "Nov",
          "Nov",
          "Nov",
          "Nov",
          "Nov",
          "Nov",
          "Nov",
          "Nov",
          "Nov",
          "Nov",
          "Nov",
          "Nov",
          "Nov",
          "Nov",
          "Nov",
          "Nov",
          "Nov",
          "Nov",
          "Nov",
          "Nov",
          "Nov",
          "Nov",
          "Nov",
          "Nov",
          "Nov",
          "Nov",
          "Nov",
          "Nov",
          "Nov",
          "Nov",
          "Nov",
          "Nov",
          "Nov",
          "Nov",
          "Nov",
          "Nov",
          "Nov",
          "Nov",
          "Nov",
          "Nov",
          "Nov",
          "Nov",
          "Nov",
          "Nov",
          "Nov",
          "Nov",
          "Nov",
          "Nov",
          "Nov",
          "Nov",
          "Nov",
          "Nov",
          "Nov",
          "Nov",
          "Nov",
          "Nov",
          "Nov",
          "Nov",
          "Nov",
          "Nov",
          "Nov",
          "Nov",
          "Nov",
          "Nov",
          "Nov",
          "Nov",
          "Nov",
          "Nov",
          "Nov",
          "Nov",
          "Nov",
          "Nov",
          "Nov",
          "Nov",
          "Nov",
          "Nov",
          "Nov",
          "Nov",
          "Nov",
          "Nov",
          "Nov",
          "Nov",
          "Nov",
          "Nov",
          "Nov",
          "Nov",
          "Nov",
          "Nov",
          "Nov",
          "Nov",
          "Nov",
          "Nov",
          "Nov",
          "Nov",
          "Nov",
          "Nov",
          "Nov",
          "Nov",
          "Nov",
          "Nov",
          "Nov",
          "Nov",
          "Nov",
          "Nov",
          "Nov",
          "Nov",
          "Nov",
          "Nov",
          "Nov",
          "Nov",
          "Nov",
          "Nov",
          "Nov",
          "Nov",
          "Nov",
          "Nov",
          "Nov",
          "Nov",
          "Nov",
          "Nov",
          "Nov",
          "Nov",
          "Nov",
          "Nov",
          "Nov",
          "Nov",
          "Nov",
          "Nov",
          "Nov",
          "Nov",
          "Nov",
          "Nov",
          "Nov",
          "Nov",
          "Nov",
          "Nov",
          "Nov",
          "Nov",
          "Nov",
          "Nov",
          "Nov",
          "Nov",
          "Nov",
          "Nov",
          "Nov",
          "Nov",
          "Nov",
          "Nov",
          "Nov",
          "Nov",
          "Nov",
          "Nov",
          "Nov",
          "Nov",
          "Nov",
          "Nov",
          "Nov",
          "Nov",
          "Nov",
          "Nov",
          "Nov",
          "Nov",
          "Nov",
          "Nov",
          "Nov",
          "Nov",
          "Nov",
          "Nov",
          "Nov",
          "Nov",
          "Nov",
          "Nov",
          "Nov",
          "Nov",
          "Nov",
          "Nov",
          "Nov",
          "Nov",
          "Nov",
          "Nov",
          "Nov",
          "Nov",
          "Nov",
          "Nov",
          "Nov",
          "Nov",
          "Nov",
          "Nov",
          "Nov",
          "Nov",
          "Nov",
          "Nov",
          "Nov",
          "Nov",
          "Nov",
          "Nov",
          "Nov",
          "Nov",
          "Nov",
          "Nov",
          "Nov",
          "Nov",
          "Nov",
          "Nov",
          "Nov",
          "Nov",
          "Nov",
          "Nov",
          "Nov",
          "Nov",
          "Nov",
          "Nov",
          "Nov",
          "Nov",
          "Nov",
          "Nov",
          "Nov",
          "Nov",
          "Nov",
          "Nov",
          "Nov",
          "Nov",
          "Nov",
          "Nov",
          "Nov",
          "Nov",
          "Nov",
          "Nov",
          "Nov",
          "Nov",
          "Nov",
          "Nov",
          "Nov",
          "Nov",
          "Nov",
          "Nov",
          "Nov",
          "Nov",
          "Nov",
          "Nov",
          "Nov",
          "Nov",
          "Nov",
          "Nov",
          "Nov",
          "Nov",
          "Nov",
          "Nov",
          "Nov",
          "Nov",
          "Nov",
          "Nov",
          "Nov",
          "Nov",
          "Nov",
          "Nov",
          "Nov",
          "Nov",
          "Nov",
          "Nov",
          "Nov",
          "Nov",
          "Nov",
          "Nov",
          "Nov",
          "Nov",
          "Nov",
          "Nov",
          "Nov",
          "Nov",
          "Nov",
          "Nov",
          "Nov",
          "Nov",
          "Nov",
          "Nov",
          "Nov",
          "Nov",
          "Nov",
          "Nov",
          "Nov",
          "Nov",
          "Nov",
          "Nov",
          "Nov",
          "Nov",
          "Nov",
          "Nov",
          "Nov",
          "Nov",
          "Nov",
          "Nov",
          "Nov",
          "Nov",
          "Nov",
          "Nov",
          "Nov",
          "Nov",
          "Nov",
          "Nov",
          "Nov",
          "Nov",
          "Nov",
          "Nov",
          "Nov",
          "Nov",
          "Nov",
          "Nov",
          "Nov",
          "Nov",
          "Nov",
          "Nov",
          "Nov",
          "Nov",
          "Nov",
          "Nov",
          "Nov",
          "Nov",
          "Nov",
          "Nov",
          "Nov",
          "Nov",
          "Nov",
          "Nov",
          "Nov",
          "Nov",
          "Nov",
          "Nov",
          "Nov",
          "Nov",
          "Nov",
          "Nov",
          "Nov",
          "Nov",
          "Nov",
          "Nov",
          "Nov",
          "Nov",
          "Nov",
          "Nov",
          "Nov",
          "Nov",
          "Nov",
          "Nov",
          "Nov",
          "Nov",
          "Nov",
          "Nov",
          "Nov",
          "Nov",
          "Nov",
          "Nov",
          "Nov",
          "Nov",
          "Nov",
          "Nov",
          "Nov",
          "Nov",
          "Nov",
          "Nov",
          "Nov",
          "Nov",
          "Nov",
          "Nov",
          "Nov",
          "Nov",
          "Nov",
          "Nov",
          "Nov",
          "Nov",
          "Nov",
          "Nov",
          "Nov",
          "Nov",
          "Nov",
          "Nov",
          "Nov"
         ],
         "type": "scatter",
         "x": {
          "bdata": "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",
          "dtype": "f8"
         },
         "xaxis": "x",
         "y": {
          "bdata": "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",
          "dtype": "f8"
         },
         "yaxis": "y"
        },
        {
         "hovertemplate": "<b>%{text}</b><br>Avg slope: %{x:.2f} cm/decade<br>p: %{y:.3f}<extra></extra>",
         "legendgroup": "Nov",
         "marker": {
          "line": {
           "color": "black",
           "width": 1.5
          },
          "size": 12
         },
         "mode": "markers+text",
         "name": "Nov",
         "showlegend": false,
         "text": [
          "Nov"
         ],
         "textposition": "top center",
         "type": "scatter",
         "x": {
          "bdata": "NPBSTzUc6L8=",
          "dtype": "f8"
         },
         "xaxis": "x2",
         "y": {
          "bdata": "x4jAcXzb1T8=",
          "dtype": "f8"
         },
         "yaxis": "y2"
        },
        {
         "hovertemplate": "<b>%{text}</b><br>Slope: %{x:.2f} cm/decade<br>p: %{y:.3f}<extra></extra>",
         "legendgroup": "Dec",
         "marker": {
          "opacity": 0.55,
          "size": 6
         },
         "mode": "markers",
         "name": "Dec",
         "showlegend": true,
         "text": [
          "Dec",
          "Dec",
          "Dec",
          "Dec",
          "Dec",
          "Dec",
          "Dec",
          "Dec",
          "Dec",
          "Dec",
          "Dec",
          "Dec",
          "Dec",
          "Dec",
          "Dec",
          "Dec",
          "Dec",
          "Dec",
          "Dec",
          "Dec",
          "Dec",
          "Dec",
          "Dec",
          "Dec",
          "Dec",
          "Dec",
          "Dec",
          "Dec",
          "Dec",
          "Dec",
          "Dec",
          "Dec",
          "Dec",
          "Dec",
          "Dec",
          "Dec",
          "Dec",
          "Dec",
          "Dec",
          "Dec",
          "Dec",
          "Dec",
          "Dec",
          "Dec",
          "Dec",
          "Dec",
          "Dec",
          "Dec",
          "Dec",
          "Dec",
          "Dec",
          "Dec",
          "Dec",
          "Dec",
          "Dec",
          "Dec",
          "Dec",
          "Dec",
          "Dec",
          "Dec",
          "Dec",
          "Dec",
          "Dec",
          "Dec",
          "Dec",
          "Dec",
          "Dec",
          "Dec",
          "Dec",
          "Dec",
          "Dec",
          "Dec",
          "Dec",
          "Dec",
          "Dec",
          "Dec",
          "Dec",
          "Dec",
          "Dec",
          "Dec",
          "Dec",
          "Dec",
          "Dec",
          "Dec",
          "Dec",
          "Dec",
          "Dec",
          "Dec",
          "Dec",
          "Dec",
          "Dec",
          "Dec",
          "Dec",
          "Dec",
          "Dec",
          "Dec",
          "Dec",
          "Dec",
          "Dec",
          "Dec",
          "Dec",
          "Dec",
          "Dec",
          "Dec",
          "Dec",
          "Dec",
          "Dec",
          "Dec",
          "Dec",
          "Dec",
          "Dec",
          "Dec",
          "Dec",
          "Dec",
          "Dec",
          "Dec",
          "Dec",
          "Dec",
          "Dec",
          "Dec",
          "Dec",
          "Dec",
          "Dec",
          "Dec",
          "Dec",
          "Dec",
          "Dec",
          "Dec",
          "Dec",
          "Dec",
          "Dec",
          "Dec",
          "Dec",
          "Dec",
          "Dec",
          "Dec",
          "Dec",
          "Dec",
          "Dec",
          "Dec",
          "Dec",
          "Dec",
          "Dec",
          "Dec",
          "Dec",
          "Dec",
          "Dec",
          "Dec",
          "Dec",
          "Dec",
          "Dec",
          "Dec",
          "Dec",
          "Dec",
          "Dec",
          "Dec",
          "Dec",
          "Dec",
          "Dec",
          "Dec",
          "Dec",
          "Dec",
          "Dec",
          "Dec",
          "Dec",
          "Dec",
          "Dec",
          "Dec",
          "Dec",
          "Dec",
          "Dec",
          "Dec",
          "Dec",
          "Dec",
          "Dec",
          "Dec",
          "Dec",
          "Dec",
          "Dec",
          "Dec",
          "Dec",
          "Dec",
          "Dec",
          "Dec",
          "Dec",
          "Dec",
          "Dec",
          "Dec",
          "Dec",
          "Dec",
          "Dec",
          "Dec",
          "Dec",
          "Dec",
          "Dec",
          "Dec",
          "Dec",
          "Dec",
          "Dec",
          "Dec",
          "Dec",
          "Dec",
          "Dec",
          "Dec",
          "Dec",
          "Dec",
          "Dec",
          "Dec",
          "Dec",
          "Dec",
          "Dec",
          "Dec",
          "Dec",
          "Dec",
          "Dec",
          "Dec",
          "Dec",
          "Dec",
          "Dec",
          "Dec",
          "Dec",
          "Dec",
          "Dec",
          "Dec",
          "Dec",
          "Dec",
          "Dec",
          "Dec",
          "Dec",
          "Dec",
          "Dec",
          "Dec",
          "Dec",
          "Dec",
          "Dec",
          "Dec",
          "Dec",
          "Dec",
          "Dec",
          "Dec",
          "Dec",
          "Dec",
          "Dec",
          "Dec",
          "Dec",
          "Dec",
          "Dec",
          "Dec",
          "Dec",
          "Dec",
          "Dec",
          "Dec",
          "Dec",
          "Dec",
          "Dec",
          "Dec",
          "Dec",
          "Dec",
          "Dec",
          "Dec",
          "Dec",
          "Dec",
          "Dec",
          "Dec",
          "Dec",
          "Dec",
          "Dec",
          "Dec",
          "Dec",
          "Dec",
          "Dec",
          "Dec",
          "Dec",
          "Dec",
          "Dec",
          "Dec",
          "Dec",
          "Dec",
          "Dec",
          "Dec",
          "Dec",
          "Dec",
          "Dec",
          "Dec",
          "Dec",
          "Dec",
          "Dec",
          "Dec",
          "Dec",
          "Dec",
          "Dec",
          "Dec",
          "Dec",
          "Dec",
          "Dec",
          "Dec",
          "Dec",
          "Dec",
          "Dec",
          "Dec",
          "Dec",
          "Dec",
          "Dec",
          "Dec",
          "Dec",
          "Dec",
          "Dec",
          "Dec",
          "Dec",
          "Dec",
          "Dec",
          "Dec",
          "Dec",
          "Dec",
          "Dec",
          "Dec",
          "Dec",
          "Dec",
          "Dec",
          "Dec",
          "Dec",
          "Dec",
          "Dec",
          "Dec",
          "Dec",
          "Dec",
          "Dec",
          "Dec",
          "Dec",
          "Dec",
          "Dec",
          "Dec",
          "Dec",
          "Dec",
          "Dec",
          "Dec",
          "Dec",
          "Dec",
          "Dec",
          "Dec",
          "Dec",
          "Dec",
          "Dec",
          "Dec",
          "Dec",
          "Dec",
          "Dec",
          "Dec",
          "Dec",
          "Dec",
          "Dec",
          "Dec",
          "Dec",
          "Dec",
          "Dec",
          "Dec",
          "Dec",
          "Dec",
          "Dec",
          "Dec",
          "Dec",
          "Dec",
          "Dec",
          "Dec",
          "Dec",
          "Dec",
          "Dec",
          "Dec",
          "Dec",
          "Dec",
          "Dec",
          "Dec",
          "Dec",
          "Dec",
          "Dec",
          "Dec",
          "Dec",
          "Dec",
          "Dec",
          "Dec",
          "Dec",
          "Dec",
          "Dec",
          "Dec",
          "Dec",
          "Dec",
          "Dec",
          "Dec",
          "Dec",
          "Dec",
          "Dec",
          "Dec",
          "Dec",
          "Dec",
          "Dec",
          "Dec",
          "Dec",
          "Dec",
          "Dec",
          "Dec",
          "Dec",
          "Dec",
          "Dec",
          "Dec",
          "Dec",
          "Dec",
          "Dec",
          "Dec",
          "Dec",
          "Dec",
          "Dec",
          "Dec",
          "Dec",
          "Dec",
          "Dec",
          "Dec",
          "Dec",
          "Dec",
          "Dec",
          "Dec",
          "Dec",
          "Dec",
          "Dec",
          "Dec",
          "Dec",
          "Dec",
          "Dec",
          "Dec",
          "Dec",
          "Dec",
          "Dec",
          "Dec",
          "Dec",
          "Dec",
          "Dec",
          "Dec",
          "Dec",
          "Dec",
          "Dec",
          "Dec",
          "Dec",
          "Dec",
          "Dec",
          "Dec",
          "Dec",
          "Dec",
          "Dec",
          "Dec",
          "Dec",
          "Dec",
          "Dec",
          "Dec",
          "Dec",
          "Dec",
          "Dec",
          "Dec",
          "Dec",
          "Dec",
          "Dec",
          "Dec",
          "Dec",
          "Dec",
          "Dec",
          "Dec",
          "Dec",
          "Dec",
          "Dec",
          "Dec",
          "Dec",
          "Dec",
          "Dec",
          "Dec",
          "Dec",
          "Dec",
          "Dec",
          "Dec",
          "Dec",
          "Dec",
          "Dec",
          "Dec",
          "Dec",
          "Dec",
          "Dec",
          "Dec",
          "Dec",
          "Dec",
          "Dec",
          "Dec",
          "Dec",
          "Dec",
          "Dec",
          "Dec",
          "Dec",
          "Dec",
          "Dec",
          "Dec",
          "Dec",
          "Dec",
          "Dec",
          "Dec",
          "Dec",
          "Dec",
          "Dec",
          "Dec",
          "Dec",
          "Dec",
          "Dec",
          "Dec",
          "Dec",
          "Dec",
          "Dec",
          "Dec",
          "Dec",
          "Dec",
          "Dec",
          "Dec",
          "Dec",
          "Dec",
          "Dec",
          "Dec",
          "Dec",
          "Dec",
          "Dec",
          "Dec",
          "Dec",
          "Dec",
          "Dec",
          "Dec",
          "Dec",
          "Dec",
          "Dec",
          "Dec",
          "Dec",
          "Dec",
          "Dec",
          "Dec",
          "Dec",
          "Dec",
          "Dec",
          "Dec",
          "Dec",
          "Dec",
          "Dec",
          "Dec",
          "Dec",
          "Dec",
          "Dec",
          "Dec",
          "Dec",
          "Dec",
          "Dec",
          "Dec",
          "Dec",
          "Dec",
          "Dec",
          "Dec",
          "Dec",
          "Dec",
          "Dec",
          "Dec",
          "Dec",
          "Dec",
          "Dec",
          "Dec",
          "Dec",
          "Dec",
          "Dec",
          "Dec",
          "Dec",
          "Dec",
          "Dec",
          "Dec",
          "Dec",
          "Dec",
          "Dec",
          "Dec",
          "Dec",
          "Dec",
          "Dec",
          "Dec",
          "Dec",
          "Dec",
          "Dec",
          "Dec",
          "Dec",
          "Dec",
          "Dec",
          "Dec",
          "Dec",
          "Dec",
          "Dec",
          "Dec",
          "Dec",
          "Dec",
          "Dec",
          "Dec",
          "Dec",
          "Dec",
          "Dec",
          "Dec",
          "Dec",
          "Dec",
          "Dec",
          "Dec",
          "Dec",
          "Dec",
          "Dec",
          "Dec",
          "Dec",
          "Dec",
          "Dec",
          "Dec",
          "Dec",
          "Dec",
          "Dec",
          "Dec",
          "Dec",
          "Dec",
          "Dec",
          "Dec",
          "Dec",
          "Dec",
          "Dec",
          "Dec",
          "Dec",
          "Dec",
          "Dec",
          "Dec",
          "Dec",
          "Dec",
          "Dec",
          "Dec",
          "Dec",
          "Dec",
          "Dec",
          "Dec",
          "Dec",
          "Dec",
          "Dec",
          "Dec",
          "Dec",
          "Dec",
          "Dec",
          "Dec",
          "Dec",
          "Dec",
          "Dec",
          "Dec",
          "Dec",
          "Dec",
          "Dec",
          "Dec",
          "Dec",
          "Dec",
          "Dec",
          "Dec",
          "Dec",
          "Dec",
          "Dec",
          "Dec",
          "Dec",
          "Dec",
          "Dec",
          "Dec",
          "Dec",
          "Dec",
          "Dec",
          "Dec",
          "Dec",
          "Dec",
          "Dec",
          "Dec",
          "Dec",
          "Dec",
          "Dec",
          "Dec",
          "Dec",
          "Dec",
          "Dec",
          "Dec",
          "Dec",
          "Dec",
          "Dec",
          "Dec",
          "Dec",
          "Dec",
          "Dec",
          "Dec",
          "Dec",
          "Dec",
          "Dec",
          "Dec",
          "Dec",
          "Dec",
          "Dec",
          "Dec",
          "Dec",
          "Dec",
          "Dec",
          "Dec",
          "Dec",
          "Dec",
          "Dec",
          "Dec",
          "Dec",
          "Dec",
          "Dec",
          "Dec",
          "Dec",
          "Dec",
          "Dec",
          "Dec",
          "Dec",
          "Dec",
          "Dec",
          "Dec",
          "Dec",
          "Dec",
          "Dec",
          "Dec",
          "Dec",
          "Dec",
          "Dec",
          "Dec",
          "Dec",
          "Dec",
          "Dec",
          "Dec",
          "Dec",
          "Dec",
          "Dec",
          "Dec",
          "Dec",
          "Dec",
          "Dec",
          "Dec",
          "Dec",
          "Dec",
          "Dec",
          "Dec",
          "Dec",
          "Dec",
          "Dec",
          "Dec",
          "Dec",
          "Dec",
          "Dec",
          "Dec",
          "Dec",
          "Dec",
          "Dec",
          "Dec",
          "Dec",
          "Dec",
          "Dec",
          "Dec",
          "Dec",
          "Dec",
          "Dec",
          "Dec",
          "Dec",
          "Dec",
          "Dec",
          "Dec",
          "Dec",
          "Dec",
          "Dec",
          "Dec",
          "Dec",
          "Dec",
          "Dec",
          "Dec",
          "Dec",
          "Dec",
          "Dec"
         ],
         "type": "scatter",
         "x": {
          "bdata": "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",
          "dtype": "f8"
         },
         "xaxis": "x",
         "y": {
          "bdata": "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",
          "dtype": "f8"
         },
         "yaxis": "y"
        },
        {
         "hovertemplate": "<b>%{text}</b><br>Avg slope: %{x:.2f} cm/decade<br>p: %{y:.3f}<extra></extra>",
         "legendgroup": "Dec",
         "marker": {
          "line": {
           "color": "black",
           "width": 1.5
          },
          "size": 12
         },
         "mode": "markers+text",
         "name": "Dec",
         "showlegend": false,
         "text": [
          "Dec"
         ],
         "textposition": "top center",
         "type": "scatter",
         "x": {
          "bdata": "5purewYa/78=",
          "dtype": "f8"
         },
         "xaxis": "x2",
         "y": {
          "bdata": "DyDunaq6yT8=",
          "dtype": "f8"
         },
         "yaxis": "y2"
        }
       ],
       "layout": {
        "annotations": [
         {
          "font": {
           "size": 16
          },
          "showarrow": false,
          "text": "Stations (Theil–Sen slope per decade)",
          "x": 0.29250000000000004,
          "xanchor": "center",
          "xref": "paper",
          "y": 1,
          "yanchor": "bottom",
          "yref": "paper"
         },
         {
          "font": {
           "size": 16
          },
          "showarrow": false,
          "text": "Month averages",
          "x": 0.8425,
          "xanchor": "center",
          "xref": "paper",
          "y": 1,
          "yanchor": "bottom",
          "yref": "paper"
         }
        ],
        "legend": {
         "groupclick": "togglegroup",
         "title": {
          "text": "Toggle months"
         }
        },
        "margin": {
         "b": 60,
         "l": 60,
         "r": 20,
         "t": 60
        },
        "shapes": [
         {
          "line": {
           "color": "red",
           "dash": "dash"
          },
          "type": "line",
          "x0": 0,
          "x1": 1,
          "xref": "x domain",
          "y0": 0.05,
          "y1": 0.05,
          "yref": "y"
         },
         {
          "line": {
           "color": "blue",
           "dash": "dash"
          },
          "type": "line",
          "x0": 0,
          "x1": 0,
          "xref": "x",
          "y0": 0,
          "y1": 1,
          "yref": "y domain"
         },
         {
          "line": {
           "color": "red",
           "dash": "dash"
          },
          "type": "line",
          "x0": 0,
          "x1": 1,
          "xref": "x2 domain",
          "y0": 0.05,
          "y1": 0.05,
          "yref": "y2"
         },
         {
          "line": {
           "color": "blue",
           "dash": "dash"
          },
          "type": "line",
          "x0": 0,
          "x1": 0,
          "xref": "x2",
          "y0": 0,
          "y1": 1,
          "yref": "y2 domain"
         }
        ],
        "template": {
         "data": {
          "bar": [
           {
            "error_x": {
             "color": "#2a3f5f"
            },
            "error_y": {
             "color": "#2a3f5f"
            },
            "marker": {
             "line": {
              "color": "#E5ECF6",
              "width": 0.5
             },
             "pattern": {
              "fillmode": "overlay",
              "size": 10,
              "solidity": 0.2
             }
            },
            "type": "bar"
           }
          ],
          "barpolar": [
           {
            "marker": {
             "line": {
              "color": "#E5ECF6",
              "width": 0.5
             },
             "pattern": {
              "fillmode": "overlay",
              "size": 10,
              "solidity": 0.2
             }
            },
            "type": "barpolar"
           }
          ],
          "carpet": [
           {
            "aaxis": {
             "endlinecolor": "#2a3f5f",
             "gridcolor": "white",
             "linecolor": "white",
             "minorgridcolor": "white",
             "startlinecolor": "#2a3f5f"
            },
            "baxis": {
             "endlinecolor": "#2a3f5f",
             "gridcolor": "white",
             "linecolor": "white",
             "minorgridcolor": "white",
             "startlinecolor": "#2a3f5f"
            },
            "type": "carpet"
           }
          ],
          "choropleth": [
           {
            "colorbar": {
             "outlinewidth": 0,
             "ticks": ""
            },
            "type": "choropleth"
           }
          ],
          "contour": [
           {
            "colorbar": {
             "outlinewidth": 0,
             "ticks": ""
            },
            "colorscale": [
             [
              0,
              "#0d0887"
             ],
             [
              0.1111111111111111,
              "#46039f"
             ],
             [
              0.2222222222222222,
              "#7201a8"
             ],
             [
              0.3333333333333333,
              "#9c179e"
             ],
             [
              0.4444444444444444,
              "#bd3786"
             ],
             [
              0.5555555555555556,
              "#d8576b"
             ],
             [
              0.6666666666666666,
              "#ed7953"
             ],
             [
              0.7777777777777778,
              "#fb9f3a"
             ],
             [
              0.8888888888888888,
              "#fdca26"
             ],
             [
              1,
              "#f0f921"
             ]
            ],
            "type": "contour"
           }
          ],
          "contourcarpet": [
           {
            "colorbar": {
             "outlinewidth": 0,
             "ticks": ""
            },
            "type": "contourcarpet"
           }
          ],
          "heatmap": [
           {
            "colorbar": {
             "outlinewidth": 0,
             "ticks": ""
            },
            "colorscale": [
             [
              0,
              "#0d0887"
             ],
             [
              0.1111111111111111,
              "#46039f"
             ],
             [
              0.2222222222222222,
              "#7201a8"
             ],
             [
              0.3333333333333333,
              "#9c179e"
             ],
             [
              0.4444444444444444,
              "#bd3786"
             ],
             [
              0.5555555555555556,
              "#d8576b"
             ],
             [
              0.6666666666666666,
              "#ed7953"
             ],
             [
              0.7777777777777778,
              "#fb9f3a"
             ],
             [
              0.8888888888888888,
              "#fdca26"
             ],
             [
              1,
              "#f0f921"
             ]
            ],
            "type": "heatmap"
           }
          ],
          "histogram": [
           {
            "marker": {
             "pattern": {
              "fillmode": "overlay",
              "size": 10,
              "solidity": 0.2
             }
            },
            "type": "histogram"
           }
          ],
          "histogram2d": [
           {
            "colorbar": {
             "outlinewidth": 0,
             "ticks": ""
            },
            "colorscale": [
             [
              0,
              "#0d0887"
             ],
             [
              0.1111111111111111,
              "#46039f"
             ],
             [
              0.2222222222222222,
              "#7201a8"
             ],
             [
              0.3333333333333333,
              "#9c179e"
             ],
             [
              0.4444444444444444,
              "#bd3786"
             ],
             [
              0.5555555555555556,
              "#d8576b"
             ],
             [
              0.6666666666666666,
              "#ed7953"
             ],
             [
              0.7777777777777778,
              "#fb9f3a"
             ],
             [
              0.8888888888888888,
              "#fdca26"
             ],
             [
              1,
              "#f0f921"
             ]
            ],
            "type": "histogram2d"
           }
          ],
          "histogram2dcontour": [
           {
            "colorbar": {
             "outlinewidth": 0,
             "ticks": ""
            },
            "colorscale": [
             [
              0,
              "#0d0887"
             ],
             [
              0.1111111111111111,
              "#46039f"
             ],
             [
              0.2222222222222222,
              "#7201a8"
             ],
             [
              0.3333333333333333,
              "#9c179e"
             ],
             [
              0.4444444444444444,
              "#bd3786"
             ],
             [
              0.5555555555555556,
              "#d8576b"
             ],
             [
              0.6666666666666666,
              "#ed7953"
             ],
             [
              0.7777777777777778,
              "#fb9f3a"
             ],
             [
              0.8888888888888888,
              "#fdca26"
             ],
             [
              1,
              "#f0f921"
             ]
            ],
            "type": "histogram2dcontour"
           }
          ],
          "mesh3d": [
           {
            "colorbar": {
             "outlinewidth": 0,
             "ticks": ""
            },
            "type": "mesh3d"
           }
          ],
          "parcoords": [
           {
            "line": {
             "colorbar": {
              "outlinewidth": 0,
              "ticks": ""
             }
            },
            "type": "parcoords"
           }
          ],
          "pie": [
           {
            "automargin": true,
            "type": "pie"
           }
          ],
          "scatter": [
           {
            "fillpattern": {
             "fillmode": "overlay",
             "size": 10,
             "solidity": 0.2
            },
            "type": "scatter"
           }
          ],
          "scatter3d": [
           {
            "line": {
             "colorbar": {
              "outlinewidth": 0,
              "ticks": ""
             }
            },
            "marker": {
             "colorbar": {
              "outlinewidth": 0,
              "ticks": ""
             }
            },
            "type": "scatter3d"
           }
          ],
          "scattercarpet": [
           {
            "marker": {
             "colorbar": {
              "outlinewidth": 0,
              "ticks": ""
             }
            },
            "type": "scattercarpet"
           }
          ],
          "scattergeo": [
           {
            "marker": {
             "colorbar": {
              "outlinewidth": 0,
              "ticks": ""
             }
            },
            "type": "scattergeo"
           }
          ],
          "scattergl": [
           {
            "marker": {
             "colorbar": {
              "outlinewidth": 0,
              "ticks": ""
             }
            },
            "type": "scattergl"
           }
          ],
          "scattermap": [
           {
            "marker": {
             "colorbar": {
              "outlinewidth": 0,
              "ticks": ""
             }
            },
            "type": "scattermap"
           }
          ],
          "scattermapbox": [
           {
            "marker": {
             "colorbar": {
              "outlinewidth": 0,
              "ticks": ""
             }
            },
            "type": "scattermapbox"
           }
          ],
          "scatterpolar": [
           {
            "marker": {
             "colorbar": {
              "outlinewidth": 0,
              "ticks": ""
             }
            },
            "type": "scatterpolar"
           }
          ],
          "scatterpolargl": [
           {
            "marker": {
             "colorbar": {
              "outlinewidth": 0,
              "ticks": ""
             }
            },
            "type": "scatterpolargl"
           }
          ],
          "scatterternary": [
           {
            "marker": {
             "colorbar": {
              "outlinewidth": 0,
              "ticks": ""
             }
            },
            "type": "scatterternary"
           }
          ],
          "surface": [
           {
            "colorbar": {
             "outlinewidth": 0,
             "ticks": ""
            },
            "colorscale": [
             [
              0,
              "#0d0887"
             ],
             [
              0.1111111111111111,
              "#46039f"
             ],
             [
              0.2222222222222222,
              "#7201a8"
             ],
             [
              0.3333333333333333,
              "#9c179e"
             ],
             [
              0.4444444444444444,
              "#bd3786"
             ],
             [
              0.5555555555555556,
              "#d8576b"
             ],
             [
              0.6666666666666666,
              "#ed7953"
             ],
             [
              0.7777777777777778,
              "#fb9f3a"
             ],
             [
              0.8888888888888888,
              "#fdca26"
             ],
             [
              1,
              "#f0f921"
             ]
            ],
            "type": "surface"
           }
          ],
          "table": [
           {
            "cells": {
             "fill": {
              "color": "#EBF0F8"
             },
             "line": {
              "color": "white"
             }
            },
            "header": {
             "fill": {
              "color": "#C8D4E3"
             },
             "line": {
              "color": "white"
             }
            },
            "type": "table"
           }
          ]
         },
         "layout": {
          "annotationdefaults": {
           "arrowcolor": "#2a3f5f",
           "arrowhead": 0,
           "arrowwidth": 1
          },
          "autotypenumbers": "strict",
          "coloraxis": {
           "colorbar": {
            "outlinewidth": 0,
            "ticks": ""
           }
          },
          "colorscale": {
           "diverging": [
            [
             0,
             "#8e0152"
            ],
            [
             0.1,
             "#c51b7d"
            ],
            [
             0.2,
             "#de77ae"
            ],
            [
             0.3,
             "#f1b6da"
            ],
            [
             0.4,
             "#fde0ef"
            ],
            [
             0.5,
             "#f7f7f7"
            ],
            [
             0.6,
             "#e6f5d0"
            ],
            [
             0.7,
             "#b8e186"
            ],
            [
             0.8,
             "#7fbc41"
            ],
            [
             0.9,
             "#4d9221"
            ],
            [
             1,
             "#276419"
            ]
           ],
           "sequential": [
            [
             0,
             "#0d0887"
            ],
            [
             0.1111111111111111,
             "#46039f"
            ],
            [
             0.2222222222222222,
             "#7201a8"
            ],
            [
             0.3333333333333333,
             "#9c179e"
            ],
            [
             0.4444444444444444,
             "#bd3786"
            ],
            [
             0.5555555555555556,
             "#d8576b"
            ],
            [
             0.6666666666666666,
             "#ed7953"
            ],
            [
             0.7777777777777778,
             "#fb9f3a"
            ],
            [
             0.8888888888888888,
             "#fdca26"
            ],
            [
             1,
             "#f0f921"
            ]
           ],
           "sequentialminus": [
            [
             0,
             "#0d0887"
            ],
            [
             0.1111111111111111,
             "#46039f"
            ],
            [
             0.2222222222222222,
             "#7201a8"
            ],
            [
             0.3333333333333333,
             "#9c179e"
            ],
            [
             0.4444444444444444,
             "#bd3786"
            ],
            [
             0.5555555555555556,
             "#d8576b"
            ],
            [
             0.6666666666666666,
             "#ed7953"
            ],
            [
             0.7777777777777778,
             "#fb9f3a"
            ],
            [
             0.8888888888888888,
             "#fdca26"
            ],
            [
             1,
             "#f0f921"
            ]
           ]
          },
          "colorway": [
           "#636efa",
           "#EF553B",
           "#00cc96",
           "#ab63fa",
           "#FFA15A",
           "#19d3f3",
           "#FF6692",
           "#B6E880",
           "#FF97FF",
           "#FECB52"
          ],
          "font": {
           "color": "#2a3f5f"
          },
          "geo": {
           "bgcolor": "white",
           "lakecolor": "white",
           "landcolor": "#E5ECF6",
           "showlakes": true,
           "showland": true,
           "subunitcolor": "white"
          },
          "hoverlabel": {
           "align": "left"
          },
          "hovermode": "closest",
          "mapbox": {
           "style": "light"
          },
          "paper_bgcolor": "white",
          "plot_bgcolor": "#E5ECF6",
          "polar": {
           "angularaxis": {
            "gridcolor": "white",
            "linecolor": "white",
            "ticks": ""
           },
           "bgcolor": "#E5ECF6",
           "radialaxis": {
            "gridcolor": "white",
            "linecolor": "white",
            "ticks": ""
           }
          },
          "scene": {
           "xaxis": {
            "backgroundcolor": "#E5ECF6",
            "gridcolor": "white",
            "gridwidth": 2,
            "linecolor": "white",
            "showbackground": true,
            "ticks": "",
            "zerolinecolor": "white"
           },
           "yaxis": {
            "backgroundcolor": "#E5ECF6",
            "gridcolor": "white",
            "gridwidth": 2,
            "linecolor": "white",
            "showbackground": true,
            "ticks": "",
            "zerolinecolor": "white"
           },
           "zaxis": {
            "backgroundcolor": "#E5ECF6",
            "gridcolor": "white",
            "gridwidth": 2,
            "linecolor": "white",
            "showbackground": true,
            "ticks": "",
            "zerolinecolor": "white"
           }
          },
          "shapedefaults": {
           "line": {
            "color": "#2a3f5f"
           }
          },
          "ternary": {
           "aaxis": {
            "gridcolor": "white",
            "linecolor": "white",
            "ticks": ""
           },
           "baxis": {
            "gridcolor": "white",
            "linecolor": "white",
            "ticks": ""
           },
           "bgcolor": "#E5ECF6",
           "caxis": {
            "gridcolor": "white",
            "linecolor": "white",
            "ticks": ""
           }
          },
          "title": {
           "x": 0.05
          },
          "xaxis": {
           "automargin": true,
           "gridcolor": "white",
           "linecolor": "white",
           "ticks": "",
           "title": {
            "standoff": 15
           },
           "zerolinecolor": "white",
           "zerolinewidth": 2
          },
          "yaxis": {
           "automargin": true,
           "gridcolor": "white",
           "linecolor": "white",
           "ticks": "",
           "title": {
            "standoff": 15
           },
           "zerolinecolor": "white",
           "zerolinewidth": 2
          }
         }
        },
        "title": {
         "text": "Hamed–Rao–adjusted MK; Sen slope of mean snowpack depth per station / per month-average"
        },
        "xaxis": {
         "anchor": "y",
         "domain": [
          0,
          0.5850000000000001
         ],
         "title": {
          "text": "Slope (cm/decade)"
         }
        },
        "xaxis2": {
         "anchor": "y2",
         "domain": [
          0.685,
          1
         ],
         "title": {
          "text": "Slope (cm/decade)"
         }
        },
        "yaxis": {
         "anchor": "x",
         "domain": [
          0,
          1
         ],
         "title": {
          "text": "p-value (two-sided)"
         }
        },
        "yaxis2": {
         "anchor": "x2",
         "domain": [
          0,
          1
         ],
         "matches": "y",
         "showticklabels": false,
         "title": {
          "text": "p-value (two-sided)"
         }
        }
       }
      }
     },
     "metadata": {},
     "output_type": "display_data"
    }
   ],
   "source": [
    "from Scripts.figures import month_trends_fig\n",
    "month_fig = month_trends_fig(typical_station_month,avg_month)\n",
    "month_fig"
   ]
  },
  {
   "cell_type": "markdown",
   "id": "8db5bce0",
   "metadata": {},
   "source": [
    "#### Interpretation\n",
    "\n",
    "Months April and May exhibit statistically significant decreases in European-Alps mean snowpack depth, with Sen slopes of roughly  -1.60 and -1.10 cm per decade respectively. All other winter months, February, December, January, November and March show negative but non-significant trends, with Sen Slopes of roughly -0.55 to -1.90 cm per decade.  These decreases ccannot be distinguished from zero trend due to insufficient evidence (α=0.05).\n",
    "\n",
    "Further analysis can investiage changes in weather patterns of Springs months (April, May) to link correlation of decreasing Sen slopes of mean snowpack depths.\n",
    "\n"
   ]
  },
  {
   "cell_type": "markdown",
   "id": "2ba76006",
   "metadata": {},
   "source": [
    "#### Average Country Month Trend"
   ]
  },
  {
   "cell_type": "code",
   "execution_count": 5,
   "id": "631c0e75",
   "metadata": {},
   "outputs": [
    {
     "data": {
      "image/png": "[encoded data removed]",
      "text/plain": [
       "<Figure size 800x600 with 1 Axes>"
      ]
     },
     "metadata": {},
     "output_type": "display_data"
    }
   ],
   "source": [
    "\n",
    "fig, ax = plt.subplots(figsize=(8,6))\n",
    "\n",
    "\n",
    "sns.scatterplot(data=avg_country_month, x='slope_per_decade',y='p',hue='month_name',palette='flare',legend=True )\n",
    "\n",
    "plt.axhline(0.05,linestyle='--',color='red',label='p_value = 0.05 (Significance Threshold)')\n",
    "plt.axvline(0.00,linestyle='--',color='blue',label='Zero Slope')\n",
    "\n",
    "# # Annotate each point with the month name\n",
    "# for i, row in avg_country_month.iterrows():\n",
    "\n",
    "#       ax.text(\n",
    "#         row['slope_per_decade'] + 0.02,  # x position slightly offset\n",
    "#         row['p'] + 0.005,                # y position slightly offset\n",
    "#         row['month_name'],\n",
    "#         fontsize=9\n",
    "#     )\n",
    "\n",
    "\n",
    "ax.legend()\n",
    "ax.set_ylabel('p_value')\n",
    "ax.set_xlabel('Slope (cm/decade)')\n",
    "ax.set_title('Slope vs p_value (Mann_Kendall Test)',y=1.1)\n",
    "ax.grid(True)\n",
    "\n",
    "\n",
    "fig.suptitle('Hamed–Rao–adjusted MK; Sen slope on country-year-month averages',\n",
    "             y=0.95, fontsize=10, color='0.4')\n",
    "\n",
    "\n",
    "df = avg_country_month.copy()   # your dataframe used to plot\n",
    "for _, r in df[df['p'] < 0.05].iterrows():\n",
    "    ax.text(r['slope_per_decade'], r['p'],\n",
    "            f\"{r['country_abr']} \",\n",
    "            fontsize=8, ha='left', va='bottom')\n",
    "\n",
    "plt.show()"
   ]
  },
  {
   "cell_type": "code",
   "execution_count": 6,
   "id": "ee335d7c",
   "metadata": {},
   "outputs": [
    {
     "ename": "KeyError",
     "evalue": "\"Column(s) ['is_sig'] do not exist\"",
     "output_type": "error",
     "traceback": [
      "\u001b[0;31m---------------------------------------------------------------------------\u001b[0m",
      "\u001b[0;31mKeyError\u001b[0m                                  Traceback (most recent call last)",
      "Cell \u001b[0;32mIn[6], line 2\u001b[0m\n\u001b[1;32m      1\u001b[0m by_month \u001b[38;5;241m=\u001b[39m (\u001b[43mdf\u001b[49m\u001b[38;5;241;43m.\u001b[39;49m\u001b[43mgroupby\u001b[49m\u001b[43m(\u001b[49m\u001b[38;5;124;43m'\u001b[39;49m\u001b[38;5;124;43mmonth\u001b[39;49m\u001b[38;5;124;43m'\u001b[39;49m\u001b[43m)\u001b[49m\n\u001b[0;32m----> 2\u001b[0m \u001b[43m            \u001b[49m\u001b[38;5;241;43m.\u001b[39;49m\u001b[43magg\u001b[49m\u001b[43m(\u001b[49m\u001b[43mn\u001b[49m\u001b[38;5;241;43m=\u001b[39;49m\u001b[43m(\u001b[49m\u001b[38;5;124;43m'\u001b[39;49m\u001b[38;5;124;43mis_sig\u001b[39;49m\u001b[38;5;124;43m'\u001b[39;49m\u001b[43m,\u001b[49m\u001b[38;5;124;43m'\u001b[39;49m\u001b[38;5;124;43msize\u001b[39;49m\u001b[38;5;124;43m'\u001b[39;49m\u001b[43m)\u001b[49m\u001b[43m,\u001b[49m\n\u001b[1;32m      3\u001b[0m \u001b[43m                 \u001b[49m\u001b[43mn_sig\u001b[49m\u001b[38;5;241;43m=\u001b[39;49m\u001b[43m(\u001b[49m\u001b[38;5;124;43m'\u001b[39;49m\u001b[38;5;124;43mis_sig\u001b[39;49m\u001b[38;5;124;43m'\u001b[39;49m\u001b[43m,\u001b[49m\u001b[38;5;124;43m'\u001b[39;49m\u001b[38;5;124;43msum\u001b[39;49m\u001b[38;5;124;43m'\u001b[39;49m\u001b[43m)\u001b[49m\u001b[43m,\u001b[49m\n\u001b[1;32m      4\u001b[0m \u001b[43m                 \u001b[49m\u001b[43mpct_sig\u001b[49m\u001b[38;5;241;43m=\u001b[39;49m\u001b[43m(\u001b[49m\u001b[38;5;124;43m'\u001b[39;49m\u001b[38;5;124;43mis_sig\u001b[39;49m\u001b[38;5;124;43m'\u001b[39;49m\u001b[43m,\u001b[49m\u001b[43m \u001b[49m\u001b[38;5;28;43;01mlambda\u001b[39;49;00m\u001b[43m \u001b[49m\u001b[43ms\u001b[49m\u001b[43m:\u001b[49m\u001b[43m \u001b[49m\u001b[38;5;241;43m100\u001b[39;49m\u001b[38;5;241;43m*\u001b[39;49m\u001b[43ms\u001b[49m\u001b[38;5;241;43m.\u001b[39;49m\u001b[43mmean\u001b[49m\u001b[43m(\u001b[49m\u001b[43m)\u001b[49m\u001b[43m)\u001b[49m\u001b[43m,\u001b[49m\n\u001b[1;32m      5\u001b[0m \u001b[43m                 \u001b[49m\u001b[43mmedian_slope_decade\u001b[49m\u001b[38;5;241;43m=\u001b[39;49m\u001b[43m(\u001b[49m\u001b[38;5;124;43m'\u001b[39;49m\u001b[38;5;124;43mslope_per_decade\u001b[39;49m\u001b[38;5;124;43m'\u001b[39;49m\u001b[43m,\u001b[49m\u001b[38;5;124;43m'\u001b[39;49m\u001b[38;5;124;43mmedian\u001b[39;49m\u001b[38;5;124;43m'\u001b[39;49m\u001b[43m)\u001b[49m\u001b[43m)\u001b[49m\n\u001b[1;32m      6\u001b[0m             \u001b[38;5;241m.\u001b[39mreset_index()\n\u001b[1;32m      7\u001b[0m             \u001b[38;5;241m.\u001b[39msort_values(\u001b[38;5;124m'\u001b[39m\u001b[38;5;124mpct_sig\u001b[39m\u001b[38;5;124m'\u001b[39m, ascending\u001b[38;5;241m=\u001b[39m\u001b[38;5;28;01mFalse\u001b[39;00m))\n\u001b[1;32m      8\u001b[0m by_month\n",
      "File \u001b[0;32m/opt/anaconda3/envs/data_env312/lib/python3.12/site-packages/pandas/core/groupby/generic.py:1432\u001b[0m, in \u001b[0;36mDataFrameGroupBy.aggregate\u001b[0;34m(self, func, engine, engine_kwargs, *args, **kwargs)\u001b[0m\n\u001b[1;32m   1429\u001b[0m     kwargs[\u001b[38;5;124m\"\u001b[39m\u001b[38;5;124mengine_kwargs\u001b[39m\u001b[38;5;124m\"\u001b[39m] \u001b[38;5;241m=\u001b[39m engine_kwargs\n\u001b[1;32m   1431\u001b[0m op \u001b[38;5;241m=\u001b[39m GroupByApply(\u001b[38;5;28mself\u001b[39m, func, args\u001b[38;5;241m=\u001b[39margs, kwargs\u001b[38;5;241m=\u001b[39mkwargs)\n\u001b[0;32m-> 1432\u001b[0m result \u001b[38;5;241m=\u001b[39m \u001b[43mop\u001b[49m\u001b[38;5;241;43m.\u001b[39;49m\u001b[43magg\u001b[49m\u001b[43m(\u001b[49m\u001b[43m)\u001b[49m\n\u001b[1;32m   1433\u001b[0m \u001b[38;5;28;01mif\u001b[39;00m \u001b[38;5;129;01mnot\u001b[39;00m is_dict_like(func) \u001b[38;5;129;01mand\u001b[39;00m result \u001b[38;5;129;01mis\u001b[39;00m \u001b[38;5;129;01mnot\u001b[39;00m \u001b[38;5;28;01mNone\u001b[39;00m:\n\u001b[1;32m   1434\u001b[0m     \u001b[38;5;66;03m# GH #52849\u001b[39;00m\n\u001b[1;32m   1435\u001b[0m     \u001b[38;5;28;01mif\u001b[39;00m \u001b[38;5;129;01mnot\u001b[39;00m \u001b[38;5;28mself\u001b[39m\u001b[38;5;241m.\u001b[39mas_index \u001b[38;5;129;01mand\u001b[39;00m is_list_like(func):\n",
      "File \u001b[0;32m/opt/anaconda3/envs/data_env312/lib/python3.12/site-packages/pandas/core/apply.py:190\u001b[0m, in \u001b[0;36mApply.agg\u001b[0;34m(self)\u001b[0m\n\u001b[1;32m    187\u001b[0m     \u001b[38;5;28;01mreturn\u001b[39;00m \u001b[38;5;28mself\u001b[39m\u001b[38;5;241m.\u001b[39mapply_str()\n\u001b[1;32m    189\u001b[0m \u001b[38;5;28;01mif\u001b[39;00m is_dict_like(func):\n\u001b[0;32m--> 190\u001b[0m     \u001b[38;5;28;01mreturn\u001b[39;00m \u001b[38;5;28;43mself\u001b[39;49m\u001b[38;5;241;43m.\u001b[39;49m\u001b[43magg_dict_like\u001b[49m\u001b[43m(\u001b[49m\u001b[43m)\u001b[49m\n\u001b[1;32m    191\u001b[0m \u001b[38;5;28;01melif\u001b[39;00m is_list_like(func):\n\u001b[1;32m    192\u001b[0m     \u001b[38;5;66;03m# we require a list, but not a 'str'\u001b[39;00m\n\u001b[1;32m    193\u001b[0m     \u001b[38;5;28;01mreturn\u001b[39;00m \u001b[38;5;28mself\u001b[39m\u001b[38;5;241m.\u001b[39magg_list_like()\n",
      "File \u001b[0;32m/opt/anaconda3/envs/data_env312/lib/python3.12/site-packages/pandas/core/apply.py:423\u001b[0m, in \u001b[0;36mApply.agg_dict_like\u001b[0;34m(self)\u001b[0m\n\u001b[1;32m    415\u001b[0m \u001b[38;5;28;01mdef\u001b[39;00m\u001b[38;5;250m \u001b[39m\u001b[38;5;21magg_dict_like\u001b[39m(\u001b[38;5;28mself\u001b[39m) \u001b[38;5;241m-\u001b[39m\u001b[38;5;241m>\u001b[39m DataFrame \u001b[38;5;241m|\u001b[39m Series:\n\u001b[1;32m    416\u001b[0m \u001b[38;5;250m    \u001b[39m\u001b[38;5;124;03m\"\"\"\u001b[39;00m\n\u001b[1;32m    417\u001b[0m \u001b[38;5;124;03m    Compute aggregation in the case of a dict-like argument.\u001b[39;00m\n\u001b[1;32m    418\u001b[0m \n\u001b[0;32m   (...)\u001b[0m\n\u001b[1;32m    421\u001b[0m \u001b[38;5;124;03m    Result of aggregation.\u001b[39;00m\n\u001b[1;32m    422\u001b[0m \u001b[38;5;124;03m    \"\"\"\u001b[39;00m\n\u001b[0;32m--> 423\u001b[0m     \u001b[38;5;28;01mreturn\u001b[39;00m \u001b[38;5;28;43mself\u001b[39;49m\u001b[38;5;241;43m.\u001b[39;49m\u001b[43magg_or_apply_dict_like\u001b[49m\u001b[43m(\u001b[49m\u001b[43mop_name\u001b[49m\u001b[38;5;241;43m=\u001b[39;49m\u001b[38;5;124;43m\"\u001b[39;49m\u001b[38;5;124;43magg\u001b[39;49m\u001b[38;5;124;43m\"\u001b[39;49m\u001b[43m)\u001b[49m\n",
      "File \u001b[0;32m/opt/anaconda3/envs/data_env312/lib/python3.12/site-packages/pandas/core/apply.py:1603\u001b[0m, in \u001b[0;36mGroupByApply.agg_or_apply_dict_like\u001b[0;34m(self, op_name)\u001b[0m\n\u001b[1;32m   1598\u001b[0m     kwargs\u001b[38;5;241m.\u001b[39mupdate({\u001b[38;5;124m\"\u001b[39m\u001b[38;5;124mengine\u001b[39m\u001b[38;5;124m\"\u001b[39m: engine, \u001b[38;5;124m\"\u001b[39m\u001b[38;5;124mengine_kwargs\u001b[39m\u001b[38;5;124m\"\u001b[39m: engine_kwargs})\n\u001b[1;32m   1600\u001b[0m \u001b[38;5;28;01mwith\u001b[39;00m com\u001b[38;5;241m.\u001b[39mtemp_setattr(\n\u001b[1;32m   1601\u001b[0m     obj, \u001b[38;5;124m\"\u001b[39m\u001b[38;5;124mas_index\u001b[39m\u001b[38;5;124m\"\u001b[39m, \u001b[38;5;28;01mTrue\u001b[39;00m, condition\u001b[38;5;241m=\u001b[39m\u001b[38;5;28mhasattr\u001b[39m(obj, \u001b[38;5;124m\"\u001b[39m\u001b[38;5;124mas_index\u001b[39m\u001b[38;5;124m\"\u001b[39m)\n\u001b[1;32m   1602\u001b[0m ):\n\u001b[0;32m-> 1603\u001b[0m     result_index, result_data \u001b[38;5;241m=\u001b[39m \u001b[38;5;28;43mself\u001b[39;49m\u001b[38;5;241;43m.\u001b[39;49m\u001b[43mcompute_dict_like\u001b[49m\u001b[43m(\u001b[49m\n\u001b[1;32m   1604\u001b[0m \u001b[43m        \u001b[49m\u001b[43mop_name\u001b[49m\u001b[43m,\u001b[49m\u001b[43m \u001b[49m\u001b[43mselected_obj\u001b[49m\u001b[43m,\u001b[49m\u001b[43m \u001b[49m\u001b[43mselection\u001b[49m\u001b[43m,\u001b[49m\u001b[43m \u001b[49m\u001b[43mkwargs\u001b[49m\n\u001b[1;32m   1605\u001b[0m \u001b[43m    \u001b[49m\u001b[43m)\u001b[49m\n\u001b[1;32m   1606\u001b[0m result \u001b[38;5;241m=\u001b[39m \u001b[38;5;28mself\u001b[39m\u001b[38;5;241m.\u001b[39mwrap_results_dict_like(selected_obj, result_index, result_data)\n\u001b[1;32m   1607\u001b[0m \u001b[38;5;28;01mreturn\u001b[39;00m result\n",
      "File \u001b[0;32m/opt/anaconda3/envs/data_env312/lib/python3.12/site-packages/pandas/core/apply.py:462\u001b[0m, in \u001b[0;36mApply.compute_dict_like\u001b[0;34m(self, op_name, selected_obj, selection, kwargs)\u001b[0m\n\u001b[1;32m    460\u001b[0m is_groupby \u001b[38;5;241m=\u001b[39m \u001b[38;5;28misinstance\u001b[39m(obj, (DataFrameGroupBy, SeriesGroupBy))\n\u001b[1;32m    461\u001b[0m func \u001b[38;5;241m=\u001b[39m cast(AggFuncTypeDict, \u001b[38;5;28mself\u001b[39m\u001b[38;5;241m.\u001b[39mfunc)\n\u001b[0;32m--> 462\u001b[0m func \u001b[38;5;241m=\u001b[39m \u001b[38;5;28;43mself\u001b[39;49m\u001b[38;5;241;43m.\u001b[39;49m\u001b[43mnormalize_dictlike_arg\u001b[49m\u001b[43m(\u001b[49m\u001b[43mop_name\u001b[49m\u001b[43m,\u001b[49m\u001b[43m \u001b[49m\u001b[43mselected_obj\u001b[49m\u001b[43m,\u001b[49m\u001b[43m \u001b[49m\u001b[43mfunc\u001b[49m\u001b[43m)\u001b[49m\n\u001b[1;32m    464\u001b[0m is_non_unique_col \u001b[38;5;241m=\u001b[39m (\n\u001b[1;32m    465\u001b[0m     selected_obj\u001b[38;5;241m.\u001b[39mndim \u001b[38;5;241m==\u001b[39m \u001b[38;5;241m2\u001b[39m\n\u001b[1;32m    466\u001b[0m     \u001b[38;5;129;01mand\u001b[39;00m selected_obj\u001b[38;5;241m.\u001b[39mcolumns\u001b[38;5;241m.\u001b[39mnunique() \u001b[38;5;241m<\u001b[39m \u001b[38;5;28mlen\u001b[39m(selected_obj\u001b[38;5;241m.\u001b[39mcolumns)\n\u001b[1;32m    467\u001b[0m )\n\u001b[1;32m    469\u001b[0m \u001b[38;5;28;01mif\u001b[39;00m selected_obj\u001b[38;5;241m.\u001b[39mndim \u001b[38;5;241m==\u001b[39m \u001b[38;5;241m1\u001b[39m:\n\u001b[1;32m    470\u001b[0m     \u001b[38;5;66;03m# key only used for output\u001b[39;00m\n",
      "File \u001b[0;32m/opt/anaconda3/envs/data_env312/lib/python3.12/site-packages/pandas/core/apply.py:663\u001b[0m, in \u001b[0;36mApply.normalize_dictlike_arg\u001b[0;34m(self, how, obj, func)\u001b[0m\n\u001b[1;32m    661\u001b[0m     cols \u001b[38;5;241m=\u001b[39m Index(\u001b[38;5;28mlist\u001b[39m(func\u001b[38;5;241m.\u001b[39mkeys()))\u001b[38;5;241m.\u001b[39mdifference(obj\u001b[38;5;241m.\u001b[39mcolumns, sort\u001b[38;5;241m=\u001b[39m\u001b[38;5;28;01mTrue\u001b[39;00m)\n\u001b[1;32m    662\u001b[0m     \u001b[38;5;28;01mif\u001b[39;00m \u001b[38;5;28mlen\u001b[39m(cols) \u001b[38;5;241m>\u001b[39m \u001b[38;5;241m0\u001b[39m:\n\u001b[0;32m--> 663\u001b[0m         \u001b[38;5;28;01mraise\u001b[39;00m \u001b[38;5;167;01mKeyError\u001b[39;00m(\u001b[38;5;124mf\u001b[39m\u001b[38;5;124m\"\u001b[39m\u001b[38;5;124mColumn(s) \u001b[39m\u001b[38;5;132;01m{\u001b[39;00m\u001b[38;5;28mlist\u001b[39m(cols)\u001b[38;5;132;01m}\u001b[39;00m\u001b[38;5;124m do not exist\u001b[39m\u001b[38;5;124m\"\u001b[39m)\n\u001b[1;32m    665\u001b[0m aggregator_types \u001b[38;5;241m=\u001b[39m (\u001b[38;5;28mlist\u001b[39m, \u001b[38;5;28mtuple\u001b[39m, \u001b[38;5;28mdict\u001b[39m)\n\u001b[1;32m    667\u001b[0m \u001b[38;5;66;03m# if we have a dict of any non-scalars\u001b[39;00m\n\u001b[1;32m    668\u001b[0m \u001b[38;5;66;03m# eg. {'A' : ['mean']}, normalize all to\u001b[39;00m\n\u001b[1;32m    669\u001b[0m \u001b[38;5;66;03m# be list-likes\u001b[39;00m\n\u001b[1;32m    670\u001b[0m \u001b[38;5;66;03m# Cannot use func.values() because arg may be a Series\u001b[39;00m\n",
      "\u001b[0;31mKeyError\u001b[0m: \"Column(s) ['is_sig'] do not exist\""
     ]
    }
   ],
   "source": [
    "by_month = (df.groupby('month')\n",
    "            .agg(n=('is_sig','size'),\n",
    "                 n_sig=('is_sig','sum'),\n",
    "                 pct_sig=('is_sig', lambda s: 100*s.mean()),\n",
    "                 median_slope_decade=('slope_per_decade','median'))\n",
    "            .reset_index()\n",
    "            .sort_values('pct_sig', ascending=False))\n",
    "by_month"
   ]
  },
  {
   "cell_type": "markdown",
   "id": "ce932874",
   "metadata": {},
   "source": [
    "##### Interpretation\n",
    "\n",
    "Country-months that exhibit statistically significant decreases in mean snowpack depth are all amongst fringe winter months; November, December, March, April, May. "
   ]
  },
  {
   "cell_type": "code",
   "execution_count": null,
   "id": "886a2d6b",
   "metadata": {},
   "outputs": [
    {
     "data": {
      "image/png": "[encoded data removed]",
      "text/plain": [
       "<Figure size 800x600 with 1 Axes>"
      ]
     },
     "metadata": {},
     "output_type": "display_data"
    }
   ],
   "source": [
    "avg_elevation_month['month_name'] = avg_elevation_month['month'].apply(get_month_name)\n",
    "\n",
    "\n",
    "fig2, ax2 = plt.subplots(figsize=(8,6))\n",
    "\n",
    "\n",
    "\n",
    "sns.scatterplot(data=avg_elevation_month, x='slope_per_decade',y='p',hue='elevation_band', ax=ax2 )\n",
    "\n",
    "plt.axhline(0.05,linestyle='--',color='red',label='p_value = 0.05 (Significance Threshold)')\n",
    "plt.axvline(0.00,linestyle='--',color='blue',label='Zero Slope')\n",
    "\n",
    "for i, row in avg_elevation_month.iterrows():\n",
    "    ax2.text(\n",
    "        row['slope_per_decade'] +0.1 ,\n",
    "        row['p'] + 0.01,\n",
    "        row['month_name'],        # Display month\n",
    "        fontsize=9,\n",
    "        ha='center',\n",
    "        va='center',\n",
    "        color='black',\n",
    "        fontweight='normal'\n",
    "    )\n",
    "\n",
    "\n",
    "ax2.legend()\n",
    "ax2.set_ylabel('p_value')\n",
    "ax2.set_xlabel('Slope_per_decade change')\n",
    "ax2.set_title('Slope vs p_value (Mann_Kendall Test)')\n",
    "ax2.grid(True)\n",
    "\n",
    "plt.show()"
   ]
  },
  {
   "cell_type": "markdown",
   "id": "7c133734",
   "metadata": {},
   "source": []
  },
  {
   "cell_type": "code",
   "execution_count": null,
   "id": "20ac2cc2",
   "metadata": {},
   "outputs": [
    {
     "data": {
      "text/html": [
       "<div>\n",
       "<style scoped>\n",
       "    .dataframe tbody tr th:only-of-type {\n",
       "        vertical-align: middle;\n",
       "    }\n",
       "\n",
       "    .dataframe tbody tr th {\n",
       "        vertical-align: top;\n",
       "    }\n",
       "\n",
       "    .dataframe thead th {\n",
       "        text-align: right;\n",
       "    }\n",
       "</style>\n",
       "<table border=\"1\" class=\"dataframe\">\n",
       "  <thead>\n",
       "    <tr style=\"text-align: right;\">\n",
       "      <th></th>\n",
       "      <th>country</th>\n",
       "      <th>n_station_month_series</th>\n",
       "      <th>n_stations</th>\n",
       "      <th>median_years</th>\n",
       "      <th>percent_sig_station_month_series</th>\n",
       "      <th>median_station_slope_cm_per_year</th>\n",
       "      <th>median_station_slope_cm_per_decade</th>\n",
       "      <th>mean_station_slope_cm_per_year</th>\n",
       "      <th>mean_station_slope_cm_per_decade</th>\n",
       "    </tr>\n",
       "  </thead>\n",
       "  <tbody>\n",
       "    <tr>\n",
       "      <th>0</th>\n",
       "      <td>Austria</td>\n",
       "      <td>2195</td>\n",
       "      <td>321</td>\n",
       "      <td>46.0</td>\n",
       "      <td>17.494305</td>\n",
       "      <td>-0.035714</td>\n",
       "      <td>-0.357143</td>\n",
       "      <td>-0.117927</td>\n",
       "      <td>-1.179269</td>\n",
       "    </tr>\n",
       "    <tr>\n",
       "      <th>1</th>\n",
       "      <td>France</td>\n",
       "      <td>300</td>\n",
       "      <td>46</td>\n",
       "      <td>50.0</td>\n",
       "      <td>10.000000</td>\n",
       "      <td>-0.133019</td>\n",
       "      <td>-1.330189</td>\n",
       "      <td>-0.174912</td>\n",
       "      <td>-1.749122</td>\n",
       "    </tr>\n",
       "    <tr>\n",
       "      <th>2</th>\n",
       "      <td>Germany</td>\n",
       "      <td>1103</td>\n",
       "      <td>159</td>\n",
       "      <td>53.0</td>\n",
       "      <td>14.868540</td>\n",
       "      <td>-0.026316</td>\n",
       "      <td>-0.263158</td>\n",
       "      <td>-0.107828</td>\n",
       "      <td>-1.078278</td>\n",
       "    </tr>\n",
       "    <tr>\n",
       "      <th>3</th>\n",
       "      <td>Italy</td>\n",
       "      <td>249</td>\n",
       "      <td>53</td>\n",
       "      <td>35.0</td>\n",
       "      <td>11.646586</td>\n",
       "      <td>0.000000</td>\n",
       "      <td>0.000000</td>\n",
       "      <td>-0.022740</td>\n",
       "      <td>-0.227403</td>\n",
       "    </tr>\n",
       "    <tr>\n",
       "      <th>4</th>\n",
       "      <td>Slovenia</td>\n",
       "      <td>366</td>\n",
       "      <td>53</td>\n",
       "      <td>56.0</td>\n",
       "      <td>33.333333</td>\n",
       "      <td>-0.087605</td>\n",
       "      <td>-0.876050</td>\n",
       "      <td>-0.144193</td>\n",
       "      <td>-1.441927</td>\n",
       "    </tr>\n",
       "    <tr>\n",
       "      <th>5</th>\n",
       "      <td>Switzerland</td>\n",
       "      <td>1096</td>\n",
       "      <td>163</td>\n",
       "      <td>59.0</td>\n",
       "      <td>12.956204</td>\n",
       "      <td>-0.040221</td>\n",
       "      <td>-0.402206</td>\n",
       "      <td>-0.126877</td>\n",
       "      <td>-1.268768</td>\n",
       "    </tr>\n",
       "  </tbody>\n",
       "</table>\n",
       "</div>"
      ],
      "text/plain": [
       "       country  n_station_month_series  n_stations  median_years  \\\n",
       "0      Austria                    2195         321          46.0   \n",
       "1       France                     300          46          50.0   \n",
       "2      Germany                    1103         159          53.0   \n",
       "3        Italy                     249          53          35.0   \n",
       "4     Slovenia                     366          53          56.0   \n",
       "5  Switzerland                    1096         163          59.0   \n",
       "\n",
       "   percent_sig_station_month_series  median_station_slope_cm_per_year  \\\n",
       "0                         17.494305                         -0.035714   \n",
       "1                         10.000000                         -0.133019   \n",
       "2                         14.868540                         -0.026316   \n",
       "3                         11.646586                          0.000000   \n",
       "4                         33.333333                         -0.087605   \n",
       "5                         12.956204                         -0.040221   \n",
       "\n",
       "   median_station_slope_cm_per_decade  mean_station_slope_cm_per_year  \\\n",
       "0                           -0.357143                       -0.117927   \n",
       "1                           -1.330189                       -0.174912   \n",
       "2                           -0.263158                       -0.107828   \n",
       "3                            0.000000                       -0.022740   \n",
       "4                           -0.876050                       -0.144193   \n",
       "5                           -0.402206                       -0.126877   \n",
       "\n",
       "   mean_station_slope_cm_per_decade  \n",
       "0                         -1.179269  \n",
       "1                         -1.749122  \n",
       "2                         -1.078278  \n",
       "3                         -0.227403  \n",
       "4                         -1.441927  \n",
       "5                         -1.268768  "
      ]
     },
     "execution_count": 93,
     "metadata": {},
     "output_type": "execute_result"
    }
   ],
   "source": [
    "typical_country"
   ]
  },
  {
   "cell_type": "code",
   "execution_count": null,
   "id": "49acc4f3",
   "metadata": {},
   "outputs": [
    {
     "data": {
      "text/html": [
       "<div>\n",
       "<style scoped>\n",
       "    .dataframe tbody tr th:only-of-type {\n",
       "        vertical-align: middle;\n",
       "    }\n",
       "\n",
       "    .dataframe tbody tr th {\n",
       "        vertical-align: top;\n",
       "    }\n",
       "\n",
       "    .dataframe thead th {\n",
       "        text-align: right;\n",
       "    }\n",
       "</style>\n",
       "<table border=\"1\" class=\"dataframe\">\n",
       "  <thead>\n",
       "    <tr style=\"text-align: right;\">\n",
       "      <th></th>\n",
       "      <th>country</th>\n",
       "      <th>month</th>\n",
       "      <th>num_stations</th>\n",
       "      <th>median_years</th>\n",
       "      <th>percent_sig</th>\n",
       "      <th>median_slope_theil_per_year</th>\n",
       "      <th>median_slope_theil_per_decade</th>\n",
       "      <th>mean_slope_theil_per_year</th>\n",
       "      <th>mean_slope_theil_per_decade</th>\n",
       "      <th>country_abr</th>\n",
       "    </tr>\n",
       "  </thead>\n",
       "  <tbody>\n",
       "    <tr>\n",
       "      <th>0</th>\n",
       "      <td>Austria</td>\n",
       "      <td>1</td>\n",
       "      <td>321</td>\n",
       "      <td>46.0</td>\n",
       "      <td>5.607477</td>\n",
       "      <td>-0.125</td>\n",
       "      <td>-1.25</td>\n",
       "      <td>-0.133281</td>\n",
       "      <td>-1.332814</td>\n",
       "      <td>AT</td>\n",
       "    </tr>\n",
       "  </tbody>\n",
       "</table>\n",
       "</div>"
      ],
      "text/plain": [
       "   country  month  num_stations  median_years  percent_sig  \\\n",
       "0  Austria      1           321          46.0     5.607477   \n",
       "\n",
       "   median_slope_theil_per_year  median_slope_theil_per_decade  \\\n",
       "0                       -0.125                          -1.25   \n",
       "\n",
       "   mean_slope_theil_per_year  mean_slope_theil_per_decade country_abr  \n",
       "0                  -0.133281                    -1.332814          AT  "
      ]
     },
     "execution_count": 168,
     "metadata": {},
     "output_type": "execute_result"
    }
   ],
   "source": [
    "typical_country_month.head(1)"
   ]
  },
  {
   "cell_type": "code",
   "execution_count": null,
   "id": "a929c93a",
   "metadata": {},
   "outputs": [
    {
     "data": {
      "text/html": [
       "<div>\n",
       "<style scoped>\n",
       "    .dataframe tbody tr th:only-of-type {\n",
       "        vertical-align: middle;\n",
       "    }\n",
       "\n",
       "    .dataframe tbody tr th {\n",
       "        vertical-align: top;\n",
       "    }\n",
       "\n",
       "    .dataframe thead th {\n",
       "        text-align: right;\n",
       "    }\n",
       "</style>\n",
       "<table border=\"1\" class=\"dataframe\">\n",
       "  <thead>\n",
       "    <tr style=\"text-align: right;\">\n",
       "      <th></th>\n",
       "      <th>country</th>\n",
       "      <th>month</th>\n",
       "      <th>n_years</th>\n",
       "      <th>median_stations_per_year</th>\n",
       "      <th>trend</th>\n",
       "      <th>p</th>\n",
       "      <th>tau</th>\n",
       "      <th>slope_per_year</th>\n",
       "      <th>slope_per_decade</th>\n",
       "      <th>variant</th>\n",
       "      <th>month_name</th>\n",
       "      <th>country_abr</th>\n",
       "    </tr>\n",
       "  </thead>\n",
       "  <tbody>\n",
       "    <tr>\n",
       "      <th>0</th>\n",
       "      <td>Austria</td>\n",
       "      <td>1</td>\n",
       "      <td>46</td>\n",
       "      <td>362</td>\n",
       "      <td>no trend</td>\n",
       "      <td>0.761626</td>\n",
       "      <td>-0.041546</td>\n",
       "      <td>-0.112497</td>\n",
       "      <td>-1.124971</td>\n",
       "      <td>hamed_rao</td>\n",
       "      <td>Jan</td>\n",
       "      <td>AT</td>\n",
       "    </tr>\n",
       "  </tbody>\n",
       "</table>\n",
       "</div>"
      ],
      "text/plain": [
       "   country  month  n_years  median_stations_per_year     trend         p  \\\n",
       "0  Austria      1       46                       362  no trend  0.761626   \n",
       "\n",
       "        tau  slope_per_year  slope_per_decade    variant month_name  \\\n",
       "0 -0.041546       -0.112497         -1.124971  hamed_rao        Jan   \n",
       "\n",
       "  country_abr  \n",
       "0          AT  "
      ]
     },
     "execution_count": 169,
     "metadata": {},
     "output_type": "execute_result"
    }
   ],
   "source": [
    "avg_country_month.head(1)"
   ]
  },
  {
   "cell_type": "code",
   "execution_count": null,
   "id": "3ad7efc7",
   "metadata": {},
   "outputs": [
    {
     "data": {
      "text/html": [
       "<div>\n",
       "<style scoped>\n",
       "    .dataframe tbody tr th:only-of-type {\n",
       "        vertical-align: middle;\n",
       "    }\n",
       "\n",
       "    .dataframe tbody tr th {\n",
       "        vertical-align: top;\n",
       "    }\n",
       "\n",
       "    .dataframe thead th {\n",
       "        text-align: right;\n",
       "    }\n",
       "</style>\n",
       "<table border=\"1\" class=\"dataframe\">\n",
       "  <thead>\n",
       "    <tr style=\"text-align: right;\">\n",
       "      <th></th>\n",
       "      <th>country</th>\n",
       "      <th>n_station_month_series</th>\n",
       "      <th>n_stations</th>\n",
       "      <th>median_years</th>\n",
       "      <th>percent_sig_station_month_series</th>\n",
       "      <th>median_station_slope_cm_per_year</th>\n",
       "      <th>median_station_slope_cm_per_decade</th>\n",
       "      <th>mean_station_slope_cm_per_year</th>\n",
       "      <th>mean_station_slope_cm_per_decade</th>\n",
       "      <th>country_abr</th>\n",
       "    </tr>\n",
       "  </thead>\n",
       "  <tbody>\n",
       "    <tr>\n",
       "      <th>0</th>\n",
       "      <td>Austria</td>\n",
       "      <td>2195</td>\n",
       "      <td>321</td>\n",
       "      <td>46.0</td>\n",
       "      <td>17.494305</td>\n",
       "      <td>-0.035714</td>\n",
       "      <td>-0.357143</td>\n",
       "      <td>-0.117927</td>\n",
       "      <td>-1.179269</td>\n",
       "      <td>AT</td>\n",
       "    </tr>\n",
       "  </tbody>\n",
       "</table>\n",
       "</div>"
      ],
      "text/plain": [
       "   country  n_station_month_series  n_stations  median_years  \\\n",
       "0  Austria                    2195         321          46.0   \n",
       "\n",
       "   percent_sig_station_month_series  median_station_slope_cm_per_year  \\\n",
       "0                         17.494305                         -0.035714   \n",
       "\n",
       "   median_station_slope_cm_per_decade  mean_station_slope_cm_per_year  \\\n",
       "0                           -0.357143                       -0.117927   \n",
       "\n",
       "   mean_station_slope_cm_per_decade country_abr  \n",
       "0                         -1.179269          AT  "
      ]
     },
     "execution_count": 175,
     "metadata": {},
     "output_type": "execute_result"
    }
   ],
   "source": [
    "typical_country.head(1)"
   ]
  },
  {
   "cell_type": "code",
   "execution_count": null,
   "id": "ef078085",
   "metadata": {},
   "outputs": [
    {
     "data": {
      "text/html": [
       "<div>\n",
       "<style scoped>\n",
       "    .dataframe tbody tr th:only-of-type {\n",
       "        vertical-align: middle;\n",
       "    }\n",
       "\n",
       "    .dataframe tbody tr th {\n",
       "        vertical-align: top;\n",
       "    }\n",
       "\n",
       "    .dataframe thead th {\n",
       "        text-align: right;\n",
       "    }\n",
       "</style>\n",
       "<table border=\"1\" class=\"dataframe\">\n",
       "  <thead>\n",
       "    <tr style=\"text-align: right;\">\n",
       "      <th></th>\n",
       "      <th>month</th>\n",
       "      <th>elevation_band</th>\n",
       "      <th>n_years</th>\n",
       "      <th>median_stations_per_year</th>\n",
       "      <th>trend</th>\n",
       "      <th>p</th>\n",
       "      <th>tau</th>\n",
       "      <th>slope_per_year</th>\n",
       "      <th>slope_per_decade</th>\n",
       "      <th>variant</th>\n",
       "      <th>month_name</th>\n",
       "    </tr>\n",
       "  </thead>\n",
       "  <tbody>\n",
       "    <tr>\n",
       "      <th>0</th>\n",
       "      <td>1</td>\n",
       "      <td>High Elevation</td>\n",
       "      <td>84</td>\n",
       "      <td>145</td>\n",
       "      <td>no trend</td>\n",
       "      <td>0.338525</td>\n",
       "      <td>-0.05852</td>\n",
       "      <td>-0.169975</td>\n",
       "      <td>-1.699746</td>\n",
       "      <td>hamed_rao</td>\n",
       "      <td>Jan</td>\n",
       "    </tr>\n",
       "  </tbody>\n",
       "</table>\n",
       "</div>"
      ],
      "text/plain": [
       "   month  elevation_band  n_years  median_stations_per_year     trend  \\\n",
       "0      1  High Elevation       84                       145  no trend   \n",
       "\n",
       "          p      tau  slope_per_year  slope_per_decade    variant month_name  \n",
       "0  0.338525 -0.05852       -0.169975         -1.699746  hamed_rao        Jan  "
      ]
     },
     "execution_count": 174,
     "metadata": {},
     "output_type": "execute_result"
    }
   ],
   "source": [
    "avg_elevation_month.head(1)"
   ]
  },
  {
   "cell_type": "code",
   "execution_count": null,
   "id": "44bbdac4",
   "metadata": {},
   "outputs": [
    {
     "data": {
      "application/vnd.plotly.v1+json": {
       "config": {
        "plotlyServerURL": "https://plot.ly"
       },
       "data": [
        {
         "coloraxis": "coloraxis",
         "hovertemplate": "month_name: %{x}<br>country: %{y}<br>Median station slope (cm/decade): %{z}<extra></extra>",
         "name": "0",
         "type": "heatmap",
         "x": [
          "Apr",
          "Dec",
          "Feb",
          "Jan",
          "Mar",
          "May",
          "Nov"
         ],
         "xaxis": "x",
         "y": [
          "Austria",
          "France",
          "Germany",
          "Italy",
          "Slovenia",
          "Switzerland"
         ],
         "yaxis": "y",
         "z": {
          "bdata": "ZZNNNtlk879VVVVVVVX1v7Zt27Zt2/Y/AAAAAAAA9L9CewntJbTnvwAAAAAAAAAAqqqqqqqqCsDT0tLS0tLyv5/neZ7nef6/hWEYhmFYCMAAAAAAAAAAAF100UUXXRDAAAAAAAAAAADsxE7sxM74v6WUUkoppfS/kAZpkAZp4L+qwXMEirbKP7Zt27Zt2wbAaiNhIGB17L8AAAAAAAAAAAAAAAAAAAAApze96U1vBMCh90yi90zyv2ojYSBgdfw/hmEYhmEY5j+i90yi90zivwAAAAAAAAAAAAAAAAAAAACPayKQayLVv73pTW960wvAAAAAAAAAAAAAAAAAAAAEwNzTCMs9jfC/AAAAAAAAAAByHMdxHMfxvy4EK4GbGQXAsW3btm3btr9VVVVVVVXlvwAAAAAAAAAA3xjflryrxr8AAAAAAAAAAEhxX8tkkfW/",
          "dtype": "f8",
          "shape": "6, 7"
         }
        },
        {
         "hoverinfo": "skip",
         "marker": {
          "color": "black",
          "size": 6
         },
         "mode": "markers",
         "showlegend": false,
         "type": "scatter",
         "x": [
          "Apr"
         ],
         "y": [
          "Austria"
         ]
        },
        {
         "hoverinfo": "skip",
         "marker": {
          "color": "black",
          "size": 6
         },
         "mode": "markers",
         "showlegend": false,
         "type": "scatter",
         "x": [
          "Nov"
         ],
         "y": [
          "Austria"
         ]
        },
        {
         "hoverinfo": "skip",
         "marker": {
          "color": "black",
          "size": 6
         },
         "mode": "markers",
         "showlegend": false,
         "type": "scatter",
         "x": [
          "Mar"
         ],
         "y": [
          "Italy"
         ]
        },
        {
         "hoverinfo": "skip",
         "marker": {
          "color": "black",
          "size": 6
         },
         "mode": "markers",
         "showlegend": false,
         "type": "scatter",
         "x": [
          "Apr"
         ],
         "y": [
          "Italy"
         ]
        },
        {
         "hoverinfo": "skip",
         "marker": {
          "color": "black",
          "size": 6
         },
         "mode": "markers",
         "showlegend": false,
         "type": "scatter",
         "x": [
          "Mar"
         ],
         "y": [
          "Slovenia"
         ]
        },
        {
         "hoverinfo": "skip",
         "marker": {
          "color": "black",
          "size": 6
         },
         "mode": "markers",
         "showlegend": false,
         "type": "scatter",
         "x": [
          "Apr"
         ],
         "y": [
          "Slovenia"
         ]
        },
        {
         "hoverinfo": "skip",
         "marker": {
          "color": "black",
          "size": 6
         },
         "mode": "markers",
         "showlegend": false,
         "type": "scatter",
         "x": [
          "Nov"
         ],
         "y": [
          "Slovenia"
         ]
        },
        {
         "hoverinfo": "skip",
         "marker": {
          "color": "black",
          "size": 6
         },
         "mode": "markers",
         "showlegend": false,
         "type": "scatter",
         "x": [
          "Dec"
         ],
         "y": [
          "Slovenia"
         ]
        },
        {
         "hoverinfo": "skip",
         "marker": {
          "color": "black",
          "size": 6
         },
         "mode": "markers",
         "showlegend": false,
         "type": "scatter",
         "x": [
          "May"
         ],
         "y": [
          "Switzerland"
         ]
        }
       ],
       "layout": {
        "coloraxis": {
         "colorbar": {
          "title": {
           "text": "cm/decade"
          }
         },
         "colorscale": [
          [
           0,
           "rgb(5,48,97)"
          ],
          [
           0.1,
           "rgb(33,102,172)"
          ],
          [
           0.2,
           "rgb(67,147,195)"
          ],
          [
           0.3,
           "rgb(146,197,222)"
          ],
          [
           0.4,
           "rgb(209,229,240)"
          ],
          [
           0.5,
           "rgb(247,247,247)"
          ],
          [
           0.6,
           "rgb(253,219,199)"
          ],
          [
           0.7,
           "rgb(244,165,130)"
          ],
          [
           0.8,
           "rgb(214,96,77)"
          ],
          [
           0.9,
           "rgb(178,24,43)"
          ],
          [
           1,
           "rgb(103,0,31)"
          ]
         ]
        },
        "margin": {
         "t": 60
        },
        "template": {
         "data": {
          "bar": [
           {
            "error_x": {
             "color": "#2a3f5f"
            },
            "error_y": {
             "color": "#2a3f5f"
            },
            "marker": {
             "line": {
              "color": "#E5ECF6",
              "width": 0.5
             },
             "pattern": {
              "fillmode": "overlay",
              "size": 10,
              "solidity": 0.2
             }
            },
            "type": "bar"
           }
          ],
          "barpolar": [
           {
            "marker": {
             "line": {
              "color": "#E5ECF6",
              "width": 0.5
             },
             "pattern": {
              "fillmode": "overlay",
              "size": 10,
              "solidity": 0.2
             }
            },
            "type": "barpolar"
           }
          ],
          "carpet": [
           {
            "aaxis": {
             "endlinecolor": "#2a3f5f",
             "gridcolor": "white",
             "linecolor": "white",
             "minorgridcolor": "white",
             "startlinecolor": "#2a3f5f"
            },
            "baxis": {
             "endlinecolor": "#2a3f5f",
             "gridcolor": "white",
             "linecolor": "white",
             "minorgridcolor": "white",
             "startlinecolor": "#2a3f5f"
            },
            "type": "carpet"
           }
          ],
          "choropleth": [
           {
            "colorbar": {
             "outlinewidth": 0,
             "ticks": ""
            },
            "type": "choropleth"
           }
          ],
          "contour": [
           {
            "colorbar": {
             "outlinewidth": 0,
             "ticks": ""
            },
            "colorscale": [
             [
              0,
              "#0d0887"
             ],
             [
              0.1111111111111111,
              "#46039f"
             ],
             [
              0.2222222222222222,
              "#7201a8"
             ],
             [
              0.3333333333333333,
              "#9c179e"
             ],
             [
              0.4444444444444444,
              "#bd3786"
             ],
             [
              0.5555555555555556,
              "#d8576b"
             ],
             [
              0.6666666666666666,
              "#ed7953"
             ],
             [
              0.7777777777777778,
              "#fb9f3a"
             ],
             [
              0.8888888888888888,
              "#fdca26"
             ],
             [
              1,
              "#f0f921"
             ]
            ],
            "type": "contour"
           }
          ],
          "contourcarpet": [
           {
            "colorbar": {
             "outlinewidth": 0,
             "ticks": ""
            },
            "type": "contourcarpet"
           }
          ],
          "heatmap": [
           {
            "colorbar": {
             "outlinewidth": 0,
             "ticks": ""
            },
            "colorscale": [
             [
              0,
              "#0d0887"
             ],
             [
              0.1111111111111111,
              "#46039f"
             ],
             [
              0.2222222222222222,
              "#7201a8"
             ],
             [
              0.3333333333333333,
              "#9c179e"
             ],
             [
              0.4444444444444444,
              "#bd3786"
             ],
             [
              0.5555555555555556,
              "#d8576b"
             ],
             [
              0.6666666666666666,
              "#ed7953"
             ],
             [
              0.7777777777777778,
              "#fb9f3a"
             ],
             [
              0.8888888888888888,
              "#fdca26"
             ],
             [
              1,
              "#f0f921"
             ]
            ],
            "type": "heatmap"
           }
          ],
          "histogram": [
           {
            "marker": {
             "pattern": {
              "fillmode": "overlay",
              "size": 10,
              "solidity": 0.2
             }
            },
            "type": "histogram"
           }
          ],
          "histogram2d": [
           {
            "colorbar": {
             "outlinewidth": 0,
             "ticks": ""
            },
            "colorscale": [
             [
              0,
              "#0d0887"
             ],
             [
              0.1111111111111111,
              "#46039f"
             ],
             [
              0.2222222222222222,
              "#7201a8"
             ],
             [
              0.3333333333333333,
              "#9c179e"
             ],
             [
              0.4444444444444444,
              "#bd3786"
             ],
             [
              0.5555555555555556,
              "#d8576b"
             ],
             [
              0.6666666666666666,
              "#ed7953"
             ],
             [
              0.7777777777777778,
              "#fb9f3a"
             ],
             [
              0.8888888888888888,
              "#fdca26"
             ],
             [
              1,
              "#f0f921"
             ]
            ],
            "type": "histogram2d"
           }
          ],
          "histogram2dcontour": [
           {
            "colorbar": {
             "outlinewidth": 0,
             "ticks": ""
            },
            "colorscale": [
             [
              0,
              "#0d0887"
             ],
             [
              0.1111111111111111,
              "#46039f"
             ],
             [
              0.2222222222222222,
              "#7201a8"
             ],
             [
              0.3333333333333333,
              "#9c179e"
             ],
             [
              0.4444444444444444,
              "#bd3786"
             ],
             [
              0.5555555555555556,
              "#d8576b"
             ],
             [
              0.6666666666666666,
              "#ed7953"
             ],
             [
              0.7777777777777778,
              "#fb9f3a"
             ],
             [
              0.8888888888888888,
              "#fdca26"
             ],
             [
              1,
              "#f0f921"
             ]
            ],
            "type": "histogram2dcontour"
           }
          ],
          "mesh3d": [
           {
            "colorbar": {
             "outlinewidth": 0,
             "ticks": ""
            },
            "type": "mesh3d"
           }
          ],
          "parcoords": [
           {
            "line": {
             "colorbar": {
              "outlinewidth": 0,
              "ticks": ""
             }
            },
            "type": "parcoords"
           }
          ],
          "pie": [
           {
            "automargin": true,
            "type": "pie"
           }
          ],
          "scatter": [
           {
            "fillpattern": {
             "fillmode": "overlay",
             "size": 10,
             "solidity": 0.2
            },
            "type": "scatter"
           }
          ],
          "scatter3d": [
           {
            "line": {
             "colorbar": {
              "outlinewidth": 0,
              "ticks": ""
             }
            },
            "marker": {
             "colorbar": {
              "outlinewidth": 0,
              "ticks": ""
             }
            },
            "type": "scatter3d"
           }
          ],
          "scattercarpet": [
           {
            "marker": {
             "colorbar": {
              "outlinewidth": 0,
              "ticks": ""
             }
            },
            "type": "scattercarpet"
           }
          ],
          "scattergeo": [
           {
            "marker": {
             "colorbar": {
              "outlinewidth": 0,
              "ticks": ""
             }
            },
            "type": "scattergeo"
           }
          ],
          "scattergl": [
           {
            "marker": {
             "colorbar": {
              "outlinewidth": 0,
              "ticks": ""
             }
            },
            "type": "scattergl"
           }
          ],
          "scattermap": [
           {
            "marker": {
             "colorbar": {
              "outlinewidth": 0,
              "ticks": ""
             }
            },
            "type": "scattermap"
           }
          ],
          "scattermapbox": [
           {
            "marker": {
             "colorbar": {
              "outlinewidth": 0,
              "ticks": ""
             }
            },
            "type": "scattermapbox"
           }
          ],
          "scatterpolar": [
           {
            "marker": {
             "colorbar": {
              "outlinewidth": 0,
              "ticks": ""
             }
            },
            "type": "scatterpolar"
           }
          ],
          "scatterpolargl": [
           {
            "marker": {
             "colorbar": {
              "outlinewidth": 0,
              "ticks": ""
             }
            },
            "type": "scatterpolargl"
           }
          ],
          "scatterternary": [
           {
            "marker": {
             "colorbar": {
              "outlinewidth": 0,
              "ticks": ""
             }
            },
            "type": "scatterternary"
           }
          ],
          "surface": [
           {
            "colorbar": {
             "outlinewidth": 0,
             "ticks": ""
            },
            "colorscale": [
             [
              0,
              "#0d0887"
             ],
             [
              0.1111111111111111,
              "#46039f"
             ],
             [
              0.2222222222222222,
              "#7201a8"
             ],
             [
              0.3333333333333333,
              "#9c179e"
             ],
             [
              0.4444444444444444,
              "#bd3786"
             ],
             [
              0.5555555555555556,
              "#d8576b"
             ],
             [
              0.6666666666666666,
              "#ed7953"
             ],
             [
              0.7777777777777778,
              "#fb9f3a"
             ],
             [
              0.8888888888888888,
              "#fdca26"
             ],
             [
              1,
              "#f0f921"
             ]
            ],
            "type": "surface"
           }
          ],
          "table": [
           {
            "cells": {
             "fill": {
              "color": "#EBF0F8"
             },
             "line": {
              "color": "white"
             }
            },
            "header": {
             "fill": {
              "color": "#C8D4E3"
             },
             "line": {
              "color": "white"
             }
            },
            "type": "table"
           }
          ]
         },
         "layout": {
          "annotationdefaults": {
           "arrowcolor": "#2a3f5f",
           "arrowhead": 0,
           "arrowwidth": 1
          },
          "autotypenumbers": "strict",
          "coloraxis": {
           "colorbar": {
            "outlinewidth": 0,
            "ticks": ""
           }
          },
          "colorscale": {
           "diverging": [
            [
             0,
             "#8e0152"
            ],
            [
             0.1,
             "#c51b7d"
            ],
            [
             0.2,
             "#de77ae"
            ],
            [
             0.3,
             "#f1b6da"
            ],
            [
             0.4,
             "#fde0ef"
            ],
            [
             0.5,
             "#f7f7f7"
            ],
            [
             0.6,
             "#e6f5d0"
            ],
            [
             0.7,
             "#b8e186"
            ],
            [
             0.8,
             "#7fbc41"
            ],
            [
             0.9,
             "#4d9221"
            ],
            [
             1,
             "#276419"
            ]
           ],
           "sequential": [
            [
             0,
             "#0d0887"
            ],
            [
             0.1111111111111111,
             "#46039f"
            ],
            [
             0.2222222222222222,
             "#7201a8"
            ],
            [
             0.3333333333333333,
             "#9c179e"
            ],
            [
             0.4444444444444444,
             "#bd3786"
            ],
            [
             0.5555555555555556,
             "#d8576b"
            ],
            [
             0.6666666666666666,
             "#ed7953"
            ],
            [
             0.7777777777777778,
             "#fb9f3a"
            ],
            [
             0.8888888888888888,
             "#fdca26"
            ],
            [
             1,
             "#f0f921"
            ]
           ],
           "sequentialminus": [
            [
             0,
             "#0d0887"
            ],
            [
             0.1111111111111111,
             "#46039f"
            ],
            [
             0.2222222222222222,
             "#7201a8"
            ],
            [
             0.3333333333333333,
             "#9c179e"
            ],
            [
             0.4444444444444444,
             "#bd3786"
            ],
            [
             0.5555555555555556,
             "#d8576b"
            ],
            [
             0.6666666666666666,
             "#ed7953"
            ],
            [
             0.7777777777777778,
             "#fb9f3a"
            ],
            [
             0.8888888888888888,
             "#fdca26"
            ],
            [
             1,
             "#f0f921"
            ]
           ]
          },
          "colorway": [
           "#636efa",
           "#EF553B",
           "#00cc96",
           "#ab63fa",
           "#FFA15A",
           "#19d3f3",
           "#FF6692",
           "#B6E880",
           "#FF97FF",
           "#FECB52"
          ],
          "font": {
           "color": "#2a3f5f"
          },
          "geo": {
           "bgcolor": "white",
           "lakecolor": "white",
           "landcolor": "#E5ECF6",
           "showlakes": true,
           "showland": true,
           "subunitcolor": "white"
          },
          "hoverlabel": {
           "align": "left"
          },
          "hovermode": "closest",
          "mapbox": {
           "style": "light"
          },
          "paper_bgcolor": "white",
          "plot_bgcolor": "#E5ECF6",
          "polar": {
           "angularaxis": {
            "gridcolor": "white",
            "linecolor": "white",
            "ticks": ""
           },
           "bgcolor": "#E5ECF6",
           "radialaxis": {
            "gridcolor": "white",
            "linecolor": "white",
            "ticks": ""
           }
          },
          "scene": {
           "xaxis": {
            "backgroundcolor": "#E5ECF6",
            "gridcolor": "white",
            "gridwidth": 2,
            "linecolor": "white",
            "showbackground": true,
            "ticks": "",
            "zerolinecolor": "white"
           },
           "yaxis": {
            "backgroundcolor": "#E5ECF6",
            "gridcolor": "white",
            "gridwidth": 2,
            "linecolor": "white",
            "showbackground": true,
            "ticks": "",
            "zerolinecolor": "white"
           },
           "zaxis": {
            "backgroundcolor": "#E5ECF6",
            "gridcolor": "white",
            "gridwidth": 2,
            "linecolor": "white",
            "showbackground": true,
            "ticks": "",
            "zerolinecolor": "white"
           }
          },
          "shapedefaults": {
           "line": {
            "color": "#2a3f5f"
           }
          },
          "ternary": {
           "aaxis": {
            "gridcolor": "white",
            "linecolor": "white",
            "ticks": ""
           },
           "baxis": {
            "gridcolor": "white",
            "linecolor": "white",
            "ticks": ""
           },
           "bgcolor": "#E5ECF6",
           "caxis": {
            "gridcolor": "white",
            "linecolor": "white",
            "ticks": ""
           }
          },
          "title": {
           "x": 0.05
          },
          "xaxis": {
           "automargin": true,
           "gridcolor": "white",
           "linecolor": "white",
           "ticks": "",
           "title": {
            "standoff": 15
           },
           "zerolinecolor": "white",
           "zerolinewidth": 2
          },
          "yaxis": {
           "automargin": true,
           "gridcolor": "white",
           "linecolor": "white",
           "ticks": "",
           "title": {
            "standoff": 15
           },
           "zerolinecolor": "white",
           "zerolinewidth": 2
          }
         }
        },
        "title": {
         "text": "Median station Theil–Sen slope by country × month (● = macro p ≤ 0.05)"
        },
        "xaxis": {
         "anchor": "y",
         "categoryarray": [
          "Jan",
          "Feb",
          "Mar",
          "Apr",
          "May",
          "Nov",
          "Dec"
         ],
         "categoryorder": "array",
         "constrain": "domain",
         "domain": [
          0,
          1
         ],
         "scaleanchor": "y",
         "title": {
          "text": ""
         }
        },
        "yaxis": {
         "anchor": "x",
         "autorange": true,
         "constrain": "domain",
         "domain": [
          0,
          1
         ],
         "title": {
          "text": ""
         }
        }
       }
      }
     },
     "metadata": {},
     "output_type": "display_data"
    }
   ],
   "source": [
    "import plotly.express as px\n",
    "import plotly.graph_objects as go\n",
    "import pandas as pd\n",
    "\n",
    "# Month order\n",
    "order = ['Jan','Feb','Mar','Apr','May','Nov','Dec']\n",
    "\n",
    "# Make month labels if needed\n",
    "if 'month_name' not in typical_country_month.columns:\n",
    "    month_map = {1:'Jan',2:'Feb',3:'Mar',4:'Apr',5:'May',11:'Nov',12:'Dec'}\n",
    "    typical_country_month = typical_country_month.assign(\n",
    "        month_name = typical_country_month['month'].map(month_map)\n",
    "    )\n",
    "if 'month_name' not in avg_country_month.columns:\n",
    "    month_map = {1:'Jan',2:'Feb',3:'Mar',4:'Apr',5:'May',11:'Nov',12:'Dec'}\n",
    "    avg_country_month = avg_country_month.assign(\n",
    "        month_name = avg_country_month['month'].map(month_map)\n",
    "    )\n",
    "\n",
    "# Merge in significance from macro table\n",
    "sig = avg_country_month.loc[:, ['country','month_name','p']].copy()\n",
    "sig['sig'] = sig['p'] <= 0.05\n",
    "H = typical_country_month.merge(sig, on=['country','month_name'], how='left')\n",
    "\n",
    "fig = px.imshow(\n",
    "    H.pivot_table(index='country', columns='month_name',\n",
    "                  values='median_slope_theil_per_decade'),\n",
    "    color_continuous_scale='RdBu_r', origin='lower',\n",
    "    labels=dict(color='Median station slope (cm/decade)')\n",
    ")\n",
    "fig.update_xaxes(categoryorder='array', categoryarray=order)\n",
    "\n",
    "# Overlay significance dots\n",
    "for r in H.itertuples():\n",
    "    if r.sig:\n",
    "        fig.add_trace(go.Scatter(\n",
    "            x=[r.month_name], y=[r.country], mode='markers',\n",
    "            marker=dict(color='black', size=6), showlegend=False,\n",
    "            hoverinfo='skip'\n",
    "        ))\n",
    "\n",
    "fig.update_layout(\n",
    "    title='Median station Theil–Sen slope by country × month (● = macro p ≤ 0.05)',\n",
    "    coloraxis_colorbar=dict(title='cm/decade'),\n",
    "    xaxis_title='', yaxis_title=''\n",
    ")\n",
    "fig.show()\n"
   ]
  },
  {
   "cell_type": "code",
   "execution_count": null,
   "id": "fad8dcc5",
   "metadata": {},
   "outputs": [
    {
     "data": {
      "application/vnd.plotly.v1+json": {
       "config": {
        "plotlyServerURL": "https://plot.ly"
       },
       "data": [
        {
         "hoverinfo": "skip",
         "line": {
          "color": "lightgray"
         },
         "mode": "lines",
         "showlegend": false,
         "type": "scatter",
         "x": {
          "bdata": "ZZNNNtlk87/T0tLS0tLyv6WUUkoppfS/pze96U1vBMCPayKQayLVvy4EK4GbGQXARdz90++dDsAAOdS0IiLJvweLUa6U/PS/AAAAAAAwIcBVM6dFBob8v2u4VvwazuK/",
          "dtype": "f8"
         },
         "y": [
          "Austria",
          "Austria",
          "France",
          "France",
          "Germany",
          "Germany",
          "Italy",
          "Italy",
          "Slovenia",
          "Slovenia",
          "Switzerland",
          "Switzerland"
         ]
        },
        {
         "hovertemplate": "<b>%{y}</b> — Apr<br>Median station slope: %{x:.2f} cm/decade<extra></extra>",
         "marker": {
          "size": 8,
          "symbol": "circle"
         },
         "mode": "markers",
         "name": "Apr – micro (median station)",
         "type": "scatter",
         "x": {
          "bdata": "ZZNNNtlk87/T0tLS0tLyv6WUUkoppfS/pze96U1vBMCPayKQayLVvy4EK4GbGQXA",
          "dtype": "f8"
         },
         "y": [
          "Austria",
          "France",
          "Germany",
          "Italy",
          "Slovenia",
          "Switzerland"
         ]
        },
        {
         "customdata": {
          "bdata": "6oam1NMlST84zc7q6E3rP19inWAa+c4/D3OmfdXrUT+e/ghqpUkuP07hawY+T+Q/",
          "dtype": "f8"
         },
         "hovertemplate": "<b>%{y}</b> — Apr<br>Macro slope: %{x:.2f} cm/decade<br>p: %{customdata:.3f}<extra></extra>",
         "marker": {
          "line": {
           "color": "black",
           "width": {
            "bdata": "AgAAAgIA",
            "dtype": "i1"
           }
          },
          "size": 10,
          "symbol": "diamond"
         },
         "mode": "markers",
         "name": "Apr – macro (aggregated)",
         "type": "scatter",
         "x": {
          "bdata": "Rdz90++dDsAAOdS0IiLJvweLUa6U/PS/AAAAAAAwIcBVM6dFBob8v2u4VvwazuK/",
          "dtype": "f8"
         },
         "y": [
          "Austria",
          "France",
          "Germany",
          "Italy",
          "Slovenia",
          "Switzerland"
         ]
        },
        {
         "hoverinfo": "skip",
         "line": {
          "color": "lightgray"
         },
         "mode": "lines",
         "showlegend": false,
         "type": "scatter",
         "x": {
          "bdata": "VVVVVVVV9b+f53me53n+v5AGaZAGaeC/ofdMovdM8r+96U1vetMLwLFt27Zt27a/0IzFheXK5b9Zwaq0S8z+v2Yaj02Y0sW/EF+rMzfvBcALtmALtmAQwG9YroLx1sa/",
          "dtype": "f8"
         },
         "y": [
          "Austria",
          "Austria",
          "France",
          "France",
          "Germany",
          "Germany",
          "Italy",
          "Italy",
          "Slovenia",
          "Slovenia",
          "Switzerland",
          "Switzerland"
         ]
        },
        {
         "hovertemplate": "<b>%{y}</b> — Dec<br>Median station slope: %{x:.2f} cm/decade<extra></extra>",
         "marker": {
          "size": 8,
          "symbol": "circle"
         },
         "mode": "markers",
         "name": "Dec – micro (median station)",
         "type": "scatter",
         "x": {
          "bdata": "VVVVVVVV9b+f53me53n+v5AGaZAGaeC/ofdMovdM8r+96U1vetMLwLFt27Zt27a/",
          "dtype": "f8"
         },
         "y": [
          "Austria",
          "France",
          "Germany",
          "Italy",
          "Slovenia",
          "Switzerland"
         ]
        },
        {
         "customdata": {
          "bdata": "sKbA2uG35z8AqWd1KpfiP+8Q5Q41Y+4/uDtYUU+g4j8AAGiWwM8KP2pcEk2tIO4/",
          "dtype": "f8"
         },
         "hovertemplate": "<b>%{y}</b> — Dec<br>Macro slope: %{x:.2f} cm/decade<br>p: %{customdata:.3f}<extra></extra>",
         "marker": {
          "line": {
           "color": "black",
           "width": {
            "bdata": "AAAAAAIA",
            "dtype": "i1"
           }
          },
          "size": 10,
          "symbol": "diamond"
         },
         "mode": "markers",
         "name": "Dec – macro (aggregated)",
         "type": "scatter",
         "x": {
          "bdata": "0IzFheXK5b9Zwaq0S8z+v2Yaj02Y0sW/EF+rMzfvBcALtmALtmAQwG9YroLx1sa/",
          "dtype": "f8"
         },
         "y": [
          "Austria",
          "France",
          "Germany",
          "Italy",
          "Slovenia",
          "Switzerland"
         ]
        },
        {
         "hoverinfo": "skip",
         "line": {
          "color": "lightgray"
         },
         "mode": "lines",
         "showlegend": false,
         "type": "scatter",
         "x": {
          "bdata": "tm3btm3b9j+FYRiGYVgIwKrBcwSKtso/aiNhIGB1/D8AAAAAAAAAAFVVVVVVVeW/1VcMkkxbCEBZZRuItQuwP6oDiNnrk/K/Cn53SZHL/D9wqlmtlknQPx8S0zwi9QDA",
          "dtype": "f8"
         },
         "y": [
          "Austria",
          "Austria",
          "France",
          "France",
          "Germany",
          "Germany",
          "Italy",
          "Italy",
          "Slovenia",
          "Slovenia",
          "Switzerland",
          "Switzerland"
         ]
        },
        {
         "hovertemplate": "<b>%{y}</b> — Feb<br>Median station slope: %{x:.2f} cm/decade<extra></extra>",
         "marker": {
          "size": 8,
          "symbol": "circle"
         },
         "mode": "markers",
         "name": "Feb – micro (median station)",
         "type": "scatter",
         "x": {
          "bdata": "tm3btm3b9j+FYRiGYVgIwKrBcwSKtso/aiNhIGB1/D8AAAAAAAAAAFVVVVVVVeW/",
          "dtype": "f8"
         },
         "y": [
          "Austria",
          "France",
          "Germany",
          "Italy",
          "Slovenia",
          "Switzerland"
         ]
        },
        {
         "customdata": {
          "bdata": "MDPicmqP1j8AAAAAAADwP8DZmWhi7OA/1tEFNFHa6D81+QmFmf/tP/xhgB4izL8/",
          "dtype": "f8"
         },
         "hovertemplate": "<b>%{y}</b> — Feb<br>Macro slope: %{x:.2f} cm/decade<br>p: %{customdata:.3f}<extra></extra>",
         "marker": {
          "line": {
           "color": "black",
           "width": {
            "bdata": "AAAAAAAA",
            "dtype": "i1"
           }
          },
          "size": 10,
          "symbol": "diamond"
         },
         "mode": "markers",
         "name": "Feb – macro (aggregated)",
         "type": "scatter",
         "x": {
          "bdata": "1VcMkkxbCEBZZRuItQuwP6oDiNnrk/K/Cn53SZHL/D9wqlmtlknQPx8S0zwi9QDA",
          "dtype": "f8"
         },
         "y": [
          "Austria",
          "France",
          "Germany",
          "Italy",
          "Slovenia",
          "Switzerland"
         ]
        },
        {
         "hoverinfo": "skip",
         "line": {
          "color": "lightgray"
         },
         "mode": "lines",
         "showlegend": false,
         "type": "scatter",
         "x": {
          "bdata": "AAAAAAAA9L8AAAAAAAAAALZt27Zt2wbAhmEYhmEY5j8AAAAAAAAEwAAAAAAAAAAAgORVk+H/8b+acQmWqmwQQF7z3XO/QwHA/bpndW+Txr/IY8kGNKYIwGJjZLPQTNG/",
          "dtype": "f8"
         },
         "y": [
          "Austria",
          "Austria",
          "France",
          "France",
          "Germany",
          "Germany",
          "Italy",
          "Italy",
          "Slovenia",
          "Slovenia",
          "Switzerland",
          "Switzerland"
         ]
        },
        {
         "hovertemplate": "<b>%{y}</b> — Jan<br>Median station slope: %{x:.2f} cm/decade<extra></extra>",
         "marker": {
          "size": 8,
          "symbol": "circle"
         },
         "mode": "markers",
         "name": "Jan – micro (median station)",
         "type": "scatter",
         "x": {
          "bdata": "AAAAAAAA9L8AAAAAAAAAALZt27Zt2wbAhmEYhmEY5j8AAAAAAAAEwAAAAAAAAAAA",
          "dtype": "f8"
         },
         "y": [
          "Austria",
          "France",
          "Germany",
          "Italy",
          "Slovenia",
          "Switzerland"
         ]
        },
        {
         "customdata": {
          "bdata": "nM3RDD5f6D+AYQ8R+zrQP/DpZN8M/NU/d2K6MX/d7j/N2a16kE3HP/q3yPqfNuo/",
          "dtype": "f8"
         },
         "hovertemplate": "<b>%{y}</b> — Jan<br>Macro slope: %{x:.2f} cm/decade<br>p: %{customdata:.3f}<extra></extra>",
         "marker": {
          "line": {
           "color": "black",
           "width": {
            "bdata": "AAAAAAAA",
            "dtype": "i1"
           }
          },
          "size": 10,
          "symbol": "diamond"
         },
         "mode": "markers",
         "name": "Jan – macro (aggregated)",
         "type": "scatter",
         "x": {
          "bdata": "gORVk+H/8b+acQmWqmwQQF7z3XO/QwHA/bpndW+Txr/IY8kGNKYIwGJjZLPQTNG/",
          "dtype": "f8"
         },
         "y": [
          "Austria",
          "France",
          "Germany",
          "Italy",
          "Slovenia",
          "Switzerland"
         ]
        },
        {
         "hoverinfo": "skip",
         "line": {
          "color": "lightgray"
         },
         "mode": "lines",
         "showlegend": false,
         "type": "scatter",
         "x": {
          "bdata": "QnsJ7SW0579ddNFFF10QwGojYSBgdey/ovdMovdM4r/c0wjLPY3wv98Y35a8q8a/3ANdD3Q98L/fFqAw/Xzgv5fBvrv0AOS/hKCagSzmHMBNqixIz04AwJER482rZca/",
          "dtype": "f8"
         },
         "y": [
          "Austria",
          "Austria",
          "France",
          "France",
          "Germany",
          "Germany",
          "Italy",
          "Italy",
          "Slovenia",
          "Slovenia",
          "Switzerland",
          "Switzerland"
         ]
        },
        {
         "hovertemplate": "<b>%{y}</b> — Mar<br>Median station slope: %{x:.2f} cm/decade<extra></extra>",
         "marker": {
          "size": 8,
          "symbol": "circle"
         },
         "mode": "markers",
         "name": "Mar – micro (median station)",
         "type": "scatter",
         "x": {
          "bdata": "QnsJ7SW0579ddNFFF10QwGojYSBgdey/ovdMovdM4r/c0wjLPY3wv98Y35a8q8a/",
          "dtype": "f8"
         },
         "y": [
          "Austria",
          "France",
          "Germany",
          "Italy",
          "Slovenia",
          "Switzerland"
         ]
        },
        {
         "customdata": {
          "bdata": "4hrA/7g45T8Omt4+QcDrP+AD8EWoK+Q//B5uy2yvoz8SGkudOBihPzkcrDPp6Ow/",
          "dtype": "f8"
         },
         "hovertemplate": "<b>%{y}</b> — Mar<br>Macro slope: %{x:.2f} cm/decade<br>p: %{customdata:.3f}<extra></extra>",
         "marker": {
          "line": {
           "color": "black",
           "width": {
            "bdata": "AAAAAgIA",
            "dtype": "i1"
           }
          },
          "size": 10,
          "symbol": "diamond"
         },
         "mode": "markers",
         "name": "Mar – macro (aggregated)",
         "type": "scatter",
         "x": {
          "bdata": "3ANdD3Q98L/fFqAw/Xzgv5fBvrv0AOS/hKCagSzmHMBNqixIz04AwJER482rZca/",
          "dtype": "f8"
         },
         "y": [
          "Austria",
          "France",
          "Germany",
          "Italy",
          "Slovenia",
          "Switzerland"
         ]
        },
        {
         "hoverinfo": "skip",
         "line": {
          "color": "lightgray"
         },
         "mode": "lines",
         "showlegend": false,
         "type": "scatter",
         "x": {
          "bdata": "AAAAAAAAAAAAAAAAAAAAAAAAAAAAAAAAAAAAAAAAAAAAAAAAAAAAAAAAAAAAAAAAVyCH0tdcxL+4Z9dfx8KwvzOEa01wOJQ/gkM4hEM4xL8AAAAAAAAAAK/rceEfmPi/",
          "dtype": "f8"
         },
         "y": [
          "Austria",
          "Austria",
          "France",
          "France",
          "Germany",
          "Germany",
          "Italy",
          "Italy",
          "Slovenia",
          "Slovenia",
          "Switzerland",
          "Switzerland"
         ]
        },
        {
         "hovertemplate": "<b>%{y}</b> — May<br>Median station slope: %{x:.2f} cm/decade<extra></extra>",
         "marker": {
          "size": 8,
          "symbol": "circle"
         },
         "mode": "markers",
         "name": "May – micro (median station)",
         "type": "scatter",
         "x": {
          "bdata": "AAAAAAAAAAAAAAAAAAAAAAAAAAAAAAAAAAAAAAAAAAAAAAAAAAAAAAAAAAAAAAAA",
          "dtype": "f8"
         },
         "y": [
          "Austria",
          "France",
          "Germany",
          "Italy",
          "Slovenia",
          "Switzerland"
         ]
        },
        {
         "customdata": {
          "bdata": "NDIc90tg1z+ax2FSIILkP84js3HrVus/0t5kIfVy4T/8ZG+nwkrWPwAA+uG5cwc/",
          "dtype": "f8"
         },
         "hovertemplate": "<b>%{y}</b> — May<br>Macro slope: %{x:.2f} cm/decade<br>p: %{customdata:.3f}<extra></extra>",
         "marker": {
          "line": {
           "color": "black",
           "width": {
            "bdata": "AAAAAAAC",
            "dtype": "i1"
           }
          },
          "size": 10,
          "symbol": "diamond"
         },
         "mode": "markers",
         "name": "May – macro (aggregated)",
         "type": "scatter",
         "x": {
          "bdata": "VyCH0tdcxL+4Z9dfx8KwvzOEa01wOJQ/gkM4hEM4xL8AAAAAAAAAAK/rceEfmPi/",
          "dtype": "f8"
         },
         "y": [
          "Austria",
          "France",
          "Germany",
          "Italy",
          "Slovenia",
          "Switzerland"
         ]
        },
        {
         "hoverinfo": "skip",
         "line": {
          "color": "lightgray"
         },
         "mode": "lines",
         "showlegend": false,
         "type": "scatter",
         "x": {
          "bdata": "qqqqqqqqCsDsxE7sxM74vwAAAAAAAAAAAAAAAAAAAAByHMdxHMfxv0hxX8tkkfW/VmsCibXKFsD23AeHsqv7v3m8RyTf5rm/csMNN9xw17+BVX1SrYX9v2OIsSQ0m+A/",
          "dtype": "f8"
         },
         "y": [
          "Austria",
          "Austria",
          "France",
          "France",
          "Germany",
          "Germany",
          "Italy",
          "Italy",
          "Slovenia",
          "Slovenia",
          "Switzerland",
          "Switzerland"
         ]
        },
        {
         "hovertemplate": "<b>%{y}</b> — Nov<br>Median station slope: %{x:.2f} cm/decade<extra></extra>",
         "marker": {
          "size": 8,
          "symbol": "circle"
         },
         "mode": "markers",
         "name": "Nov – micro (median station)",
         "type": "scatter",
         "x": {
          "bdata": "qqqqqqqqCsDsxE7sxM74vwAAAAAAAAAAAAAAAAAAAAByHMdxHMfxv0hxX8tkkfW/",
          "dtype": "f8"
         },
         "y": [
          "Austria",
          "France",
          "Germany",
          "Italy",
          "Slovenia",
          "Switzerland"
         ]
        },
        {
         "customdata": {
          "bdata": "mOup3fqLNT+Aqy974HfOPwbQEEho9+w/rAhhaT3r7D8AQI0Rjn8SP5SiaQ4C1uY/",
          "dtype": "f8"
         },
         "hovertemplate": "<b>%{y}</b> — Nov<br>Macro slope: %{x:.2f} cm/decade<br>p: %{customdata:.3f}<extra></extra>",
         "marker": {
          "line": {
           "color": "black",
           "width": {
            "bdata": "AgAAAAIA",
            "dtype": "i1"
           }
          },
          "size": 10,
          "symbol": "diamond"
         },
         "mode": "markers",
         "name": "Nov – macro (aggregated)",
         "type": "scatter",
         "x": {
          "bdata": "VmsCibXKFsD23AeHsqv7v3m8RyTf5rm/csMNN9xw17+BVX1SrYX9v2OIsSQ0m+A/",
          "dtype": "f8"
         },
         "y": [
          "Austria",
          "France",
          "Germany",
          "Italy",
          "Slovenia",
          "Switzerland"
         ]
        }
       ],
       "layout": {
        "height": 600,
        "shapes": [
         {
          "line": {
           "color": "blue",
           "dash": "dash"
          },
          "type": "line",
          "x0": 0,
          "x1": 0,
          "xref": "x",
          "y0": 0,
          "y1": 1,
          "yref": "y domain"
         }
        ],
        "template": {
         "data": {
          "bar": [
           {
            "error_x": {
             "color": "#2a3f5f"
            },
            "error_y": {
             "color": "#2a3f5f"
            },
            "marker": {
             "line": {
              "color": "#E5ECF6",
              "width": 0.5
             },
             "pattern": {
              "fillmode": "overlay",
              "size": 10,
              "solidity": 0.2
             }
            },
            "type": "bar"
           }
          ],
          "barpolar": [
           {
            "marker": {
             "line": {
              "color": "#E5ECF6",
              "width": 0.5
             },
             "pattern": {
              "fillmode": "overlay",
              "size": 10,
              "solidity": 0.2
             }
            },
            "type": "barpolar"
           }
          ],
          "carpet": [
           {
            "aaxis": {
             "endlinecolor": "#2a3f5f",
             "gridcolor": "white",
             "linecolor": "white",
             "minorgridcolor": "white",
             "startlinecolor": "#2a3f5f"
            },
            "baxis": {
             "endlinecolor": "#2a3f5f",
             "gridcolor": "white",
             "linecolor": "white",
             "minorgridcolor": "white",
             "startlinecolor": "#2a3f5f"
            },
            "type": "carpet"
           }
          ],
          "choropleth": [
           {
            "colorbar": {
             "outlinewidth": 0,
             "ticks": ""
            },
            "type": "choropleth"
           }
          ],
          "contour": [
           {
            "colorbar": {
             "outlinewidth": 0,
             "ticks": ""
            },
            "colorscale": [
             [
              0,
              "#0d0887"
             ],
             [
              0.1111111111111111,
              "#46039f"
             ],
             [
              0.2222222222222222,
              "#7201a8"
             ],
             [
              0.3333333333333333,
              "#9c179e"
             ],
             [
              0.4444444444444444,
              "#bd3786"
             ],
             [
              0.5555555555555556,
              "#d8576b"
             ],
             [
              0.6666666666666666,
              "#ed7953"
             ],
             [
              0.7777777777777778,
              "#fb9f3a"
             ],
             [
              0.8888888888888888,
              "#fdca26"
             ],
             [
              1,
              "#f0f921"
             ]
            ],
            "type": "contour"
           }
          ],
          "contourcarpet": [
           {
            "colorbar": {
             "outlinewidth": 0,
             "ticks": ""
            },
            "type": "contourcarpet"
           }
          ],
          "heatmap": [
           {
            "colorbar": {
             "outlinewidth": 0,
             "ticks": ""
            },
            "colorscale": [
             [
              0,
              "#0d0887"
             ],
             [
              0.1111111111111111,
              "#46039f"
             ],
             [
              0.2222222222222222,
              "#7201a8"
             ],
             [
              0.3333333333333333,
              "#9c179e"
             ],
             [
              0.4444444444444444,
              "#bd3786"
             ],
             [
              0.5555555555555556,
              "#d8576b"
             ],
             [
              0.6666666666666666,
              "#ed7953"
             ],
             [
              0.7777777777777778,
              "#fb9f3a"
             ],
             [
              0.8888888888888888,
              "#fdca26"
             ],
             [
              1,
              "#f0f921"
             ]
            ],
            "type": "heatmap"
           }
          ],
          "histogram": [
           {
            "marker": {
             "pattern": {
              "fillmode": "overlay",
              "size": 10,
              "solidity": 0.2
             }
            },
            "type": "histogram"
           }
          ],
          "histogram2d": [
           {
            "colorbar": {
             "outlinewidth": 0,
             "ticks": ""
            },
            "colorscale": [
             [
              0,
              "#0d0887"
             ],
             [
              0.1111111111111111,
              "#46039f"
             ],
             [
              0.2222222222222222,
              "#7201a8"
             ],
             [
              0.3333333333333333,
              "#9c179e"
             ],
             [
              0.4444444444444444,
              "#bd3786"
             ],
             [
              0.5555555555555556,
              "#d8576b"
             ],
             [
              0.6666666666666666,
              "#ed7953"
             ],
             [
              0.7777777777777778,
              "#fb9f3a"
             ],
             [
              0.8888888888888888,
              "#fdca26"
             ],
             [
              1,
              "#f0f921"
             ]
            ],
            "type": "histogram2d"
           }
          ],
          "histogram2dcontour": [
           {
            "colorbar": {
             "outlinewidth": 0,
             "ticks": ""
            },
            "colorscale": [
             [
              0,
              "#0d0887"
             ],
             [
              0.1111111111111111,
              "#46039f"
             ],
             [
              0.2222222222222222,
              "#7201a8"
             ],
             [
              0.3333333333333333,
              "#9c179e"
             ],
             [
              0.4444444444444444,
              "#bd3786"
             ],
             [
              0.5555555555555556,
              "#d8576b"
             ],
             [
              0.6666666666666666,
              "#ed7953"
             ],
             [
              0.7777777777777778,
              "#fb9f3a"
             ],
             [
              0.8888888888888888,
              "#fdca26"
             ],
             [
              1,
              "#f0f921"
             ]
            ],
            "type": "histogram2dcontour"
           }
          ],
          "mesh3d": [
           {
            "colorbar": {
             "outlinewidth": 0,
             "ticks": ""
            },
            "type": "mesh3d"
           }
          ],
          "parcoords": [
           {
            "line": {
             "colorbar": {
              "outlinewidth": 0,
              "ticks": ""
             }
            },
            "type": "parcoords"
           }
          ],
          "pie": [
           {
            "automargin": true,
            "type": "pie"
           }
          ],
          "scatter": [
           {
            "fillpattern": {
             "fillmode": "overlay",
             "size": 10,
             "solidity": 0.2
            },
            "type": "scatter"
           }
          ],
          "scatter3d": [
           {
            "line": {
             "colorbar": {
              "outlinewidth": 0,
              "ticks": ""
             }
            },
            "marker": {
             "colorbar": {
              "outlinewidth": 0,
              "ticks": ""
             }
            },
            "type": "scatter3d"
           }
          ],
          "scattercarpet": [
           {
            "marker": {
             "colorbar": {
              "outlinewidth": 0,
              "ticks": ""
             }
            },
            "type": "scattercarpet"
           }
          ],
          "scattergeo": [
           {
            "marker": {
             "colorbar": {
              "outlinewidth": 0,
              "ticks": ""
             }
            },
            "type": "scattergeo"
           }
          ],
          "scattergl": [
           {
            "marker": {
             "colorbar": {
              "outlinewidth": 0,
              "ticks": ""
             }
            },
            "type": "scattergl"
           }
          ],
          "scattermap": [
           {
            "marker": {
             "colorbar": {
              "outlinewidth": 0,
              "ticks": ""
             }
            },
            "type": "scattermap"
           }
          ],
          "scattermapbox": [
           {
            "marker": {
             "colorbar": {
              "outlinewidth": 0,
              "ticks": ""
             }
            },
            "type": "scattermapbox"
           }
          ],
          "scatterpolar": [
           {
            "marker": {
             "colorbar": {
              "outlinewidth": 0,
              "ticks": ""
             }
            },
            "type": "scatterpolar"
           }
          ],
          "scatterpolargl": [
           {
            "marker": {
             "colorbar": {
              "outlinewidth": 0,
              "ticks": ""
             }
            },
            "type": "scatterpolargl"
           }
          ],
          "scatterternary": [
           {
            "marker": {
             "colorbar": {
              "outlinewidth": 0,
              "ticks": ""
             }
            },
            "type": "scatterternary"
           }
          ],
          "surface": [
           {
            "colorbar": {
             "outlinewidth": 0,
             "ticks": ""
            },
            "colorscale": [
             [
              0,
              "#0d0887"
             ],
             [
              0.1111111111111111,
              "#46039f"
             ],
             [
              0.2222222222222222,
              "#7201a8"
             ],
             [
              0.3333333333333333,
              "#9c179e"
             ],
             [
              0.4444444444444444,
              "#bd3786"
             ],
             [
              0.5555555555555556,
              "#d8576b"
             ],
             [
              0.6666666666666666,
              "#ed7953"
             ],
             [
              0.7777777777777778,
              "#fb9f3a"
             ],
             [
              0.8888888888888888,
              "#fdca26"
             ],
             [
              1,
              "#f0f921"
             ]
            ],
            "type": "surface"
           }
          ],
          "table": [
           {
            "cells": {
             "fill": {
              "color": "#EBF0F8"
             },
             "line": {
              "color": "white"
             }
            },
            "header": {
             "fill": {
              "color": "#C8D4E3"
             },
             "line": {
              "color": "white"
             }
            },
            "type": "table"
           }
          ]
         },
         "layout": {
          "annotationdefaults": {
           "arrowcolor": "#2a3f5f",
           "arrowhead": 0,
           "arrowwidth": 1
          },
          "autotypenumbers": "strict",
          "coloraxis": {
           "colorbar": {
            "outlinewidth": 0,
            "ticks": ""
           }
          },
          "colorscale": {
           "diverging": [
            [
             0,
             "#8e0152"
            ],
            [
             0.1,
             "#c51b7d"
            ],
            [
             0.2,
             "#de77ae"
            ],
            [
             0.3,
             "#f1b6da"
            ],
            [
             0.4,
             "#fde0ef"
            ],
            [
             0.5,
             "#f7f7f7"
            ],
            [
             0.6,
             "#e6f5d0"
            ],
            [
             0.7,
             "#b8e186"
            ],
            [
             0.8,
             "#7fbc41"
            ],
            [
             0.9,
             "#4d9221"
            ],
            [
             1,
             "#276419"
            ]
           ],
           "sequential": [
            [
             0,
             "#0d0887"
            ],
            [
             0.1111111111111111,
             "#46039f"
            ],
            [
             0.2222222222222222,
             "#7201a8"
            ],
            [
             0.3333333333333333,
             "#9c179e"
            ],
            [
             0.4444444444444444,
             "#bd3786"
            ],
            [
             0.5555555555555556,
             "#d8576b"
            ],
            [
             0.6666666666666666,
             "#ed7953"
            ],
            [
             0.7777777777777778,
             "#fb9f3a"
            ],
            [
             0.8888888888888888,
             "#fdca26"
            ],
            [
             1,
             "#f0f921"
            ]
           ],
           "sequentialminus": [
            [
             0,
             "#0d0887"
            ],
            [
             0.1111111111111111,
             "#46039f"
            ],
            [
             0.2222222222222222,
             "#7201a8"
            ],
            [
             0.3333333333333333,
             "#9c179e"
            ],
            [
             0.4444444444444444,
             "#bd3786"
            ],
            [
             0.5555555555555556,
             "#d8576b"
            ],
            [
             0.6666666666666666,
             "#ed7953"
            ],
            [
             0.7777777777777778,
             "#fb9f3a"
            ],
            [
             0.8888888888888888,
             "#fdca26"
            ],
            [
             1,
             "#f0f921"
            ]
           ]
          },
          "colorway": [
           "#636efa",
           "#EF553B",
           "#00cc96",
           "#ab63fa",
           "#FFA15A",
           "#19d3f3",
           "#FF6692",
           "#B6E880",
           "#FF97FF",
           "#FECB52"
          ],
          "font": {
           "color": "#2a3f5f"
          },
          "geo": {
           "bgcolor": "white",
           "lakecolor": "white",
           "landcolor": "#E5ECF6",
           "showlakes": true,
           "showland": true,
           "subunitcolor": "white"
          },
          "hoverlabel": {
           "align": "left"
          },
          "hovermode": "closest",
          "mapbox": {
           "style": "light"
          },
          "paper_bgcolor": "white",
          "plot_bgcolor": "#E5ECF6",
          "polar": {
           "angularaxis": {
            "gridcolor": "white",
            "linecolor": "white",
            "ticks": ""
           },
           "bgcolor": "#E5ECF6",
           "radialaxis": {
            "gridcolor": "white",
            "linecolor": "white",
            "ticks": ""
           }
          },
          "scene": {
           "xaxis": {
            "backgroundcolor": "#E5ECF6",
            "gridcolor": "white",
            "gridwidth": 2,
            "linecolor": "white",
            "showbackground": true,
            "ticks": "",
            "zerolinecolor": "white"
           },
           "yaxis": {
            "backgroundcolor": "#E5ECF6",
            "gridcolor": "white",
            "gridwidth": 2,
            "linecolor": "white",
            "showbackground": true,
            "ticks": "",
            "zerolinecolor": "white"
           },
           "zaxis": {
            "backgroundcolor": "#E5ECF6",
            "gridcolor": "white",
            "gridwidth": 2,
            "linecolor": "white",
            "showbackground": true,
            "ticks": "",
            "zerolinecolor": "white"
           }
          },
          "shapedefaults": {
           "line": {
            "color": "#2a3f5f"
           }
          },
          "ternary": {
           "aaxis": {
            "gridcolor": "white",
            "linecolor": "white",
            "ticks": ""
           },
           "baxis": {
            "gridcolor": "white",
            "linecolor": "white",
            "ticks": ""
           },
           "bgcolor": "#E5ECF6",
           "caxis": {
            "gridcolor": "white",
            "linecolor": "white",
            "ticks": ""
           }
          },
          "title": {
           "x": 0.05
          },
          "xaxis": {
           "automargin": true,
           "gridcolor": "white",
           "linecolor": "white",
           "ticks": "",
           "title": {
            "standoff": 15
           },
           "zerolinecolor": "white",
           "zerolinewidth": 2
          },
          "yaxis": {
           "automargin": true,
           "gridcolor": "white",
           "linecolor": "white",
           "ticks": "",
           "title": {
            "standoff": 15
           },
           "zerolinecolor": "white",
           "zerolinewidth": 2
          }
         }
        },
        "title": {
         "text": "Micro vs. Macro slopes per country–month (diamond outline = p ≤ 0.05)"
        },
        "xaxis": {
         "title": {
          "text": "Slope (cm/decade)"
         }
        },
        "yaxis": {
         "title": {
          "text": "Country"
         }
        }
       }
      }
     },
     "metadata": {},
     "output_type": "display_data"
    }
   ],
   "source": [
    "import plotly.graph_objects as go\n",
    "import pandas as pd\n",
    "\n",
    "left = typical_country_month.rename(\n",
    "    columns={'median_slope_theil_per_decade':'micro_slope'}\n",
    ")[['country','month','micro_slope']]\n",
    "right = avg_country_month.rename(\n",
    "    columns={'slope_per_decade':'macro_slope'}\n",
    ")[['country','month','p','macro_slope']]\n",
    "dm = left.merge(right, on=['country','month'], how='inner')\n",
    "\n",
    "# One subplot per month, or filter to one month at a time\n",
    "month_map = {1:'Jan',2:'Feb',3:'Mar',4:'Apr',5:'May',11:'Nov',12:'Dec'}\n",
    "dm['month_name'] = dm['month'].map(month_map)\n",
    "dm = dm.sort_values(['month','country'])\n",
    "\n",
    "fig = go.Figure()\n",
    "for (m, g) in dm.groupby('month_name'):\n",
    "    # dumbbell lines\n",
    "    fig.add_trace(go.Scatter(\n",
    "        x=g[['micro_slope','macro_slope']].to_numpy().T.flatten(),\n",
    "        y=(g['country'].repeat(2)),\n",
    "        mode='lines',\n",
    "        line=dict(color='lightgray'),\n",
    "        showlegend=False,\n",
    "        hoverinfo='skip'\n",
    "    ))\n",
    "    # micro dots (median station)\n",
    "    fig.add_trace(go.Scatter(\n",
    "        x=g['micro_slope'], y=g['country'], mode='markers',\n",
    "        name=f'{m} – micro (median station)',\n",
    "        marker=dict(symbol='circle', size=8),\n",
    "        hovertemplate=(\"<b>%{y}</b> — \"+m+\n",
    "                       \"<br>Median station slope: %{x:.2f} cm/decade<extra></extra>\")\n",
    "    ))\n",
    "    # macro dots (aggregated series), outline if significant\n",
    "    fig.add_trace(go.Scatter(\n",
    "        x=g['macro_slope'], y=g['country'], mode='markers',\n",
    "        name=f'{m} – macro (aggregated)',\n",
    "        marker=dict(symbol='diamond', size=10,\n",
    "                    line=dict(width=(g['p']<=0.05).map({True:2, False:0}), color='black')),\n",
    "        hovertemplate=(\"<b>%{y}</b> — \"+m+\n",
    "                       \"<br>Macro slope: %{x:.2f} cm/decade\"\n",
    "                       \"<br>p: %{customdata:.3f}<extra></extra>\"),\n",
    "        customdata=g['p']\n",
    "    ))\n",
    "\n",
    "fig.update_layout(\n",
    "    title='Micro vs. Macro slopes per country–month (diamond outline = p ≤ 0.05)',\n",
    "    xaxis_title='Slope (cm/decade)', yaxis_title='Country', height=600\n",
    ")\n",
    "fig.add_vline(x=0, line_dash='dash', line_color='blue')\n",
    "fig.show()\n"
   ]
  },
  {
   "cell_type": "code",
   "execution_count": null,
   "id": "9ec36dba",
   "metadata": {},
   "outputs": [
    {
     "data": {
      "application/vnd.plotly.v1+json": {
       "config": {
        "plotlyServerURL": "https://plot.ly"
       },
       "data": [
        {
         "alignmentgroup": "True",
         "box": {
          "visible": true
         },
         "customdata": {
          "bdata": "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",
          "dtype": "f8",
          "shape": "2195, 1"
         },
         "hovertemplate": "country=%{x}<br>slope_sen_per_decade=%{y}<br>p=%{customdata[0]}<extra></extra>",
         "legendgroup": "Austria",
         "marker": {
          "color": "#636efa"
         },
         "name": "Austria",
         "offsetgroup": "Austria",
         "orientation": "v",
         "points": "all",
         "scalegroup": "True",
         "showlegend": true,
         "type": "violin",
         "x": [
          "Austria",
          "Austria",
          "Austria",
          "Austria",
          "Austria",
          "Austria",
          "Austria",
          "Austria",
          "Austria",
          "Austria",
          "Austria",
          "Austria",
          "Austria",
          "Austria",
          "Austria",
          "Austria",
          "Austria",
          "Austria",
          "Austria",
          "Austria",
          "Austria",
          "Austria",
          "Austria",
          "Austria",
          "Austria",
          "Austria",
          "Austria",
          "Austria",
          "Austria",
          "Austria",
          "Austria",
          "Austria",
          "Austria",
          "Austria",
          "Austria",
          "Austria",
          "Austria",
          "Austria",
          "Austria",
          "Austria",
          "Austria",
          "Austria",
          "Austria",
          "Austria",
          "Austria",
          "Austria",
          "Austria",
          "Austria",
          "Austria",
          "Austria",
          "Austria",
          "Austria",
          "Austria",
          "Austria",
          "Austria",
          "Austria",
          "Austria",
          "Austria",
          "Austria",
          "Austria",
          "Austria",
          "Austria",
          "Austria",
          "Austria",
          "Austria",
          "Austria",
          "Austria",
          "Austria",
          "Austria",
          "Austria",
          "Austria",
          "Austria",
          "Austria",
          "Austria",
          "Austria",
          "Austria",
          "Austria",
          "Austria",
          "Austria",
          "Austria",
          "Austria",
          "Austria",
          "Austria",
          "Austria",
          "Austria",
          "Austria",
          "Austria",
          "Austria",
          "Austria",
          "Austria",
          "Austria",
          "Austria",
          "Austria",
          "Austria",
          "Austria",
          "Austria",
          "Austria",
          "Austria",
          "Austria",
          "Austria",
          "Austria",
          "Austria",
          "Austria",
          "Austria",
          "Austria",
          "Austria",
          "Austria",
          "Austria",
          "Austria",
          "Austria",
          "Austria",
          "Austria",
          "Austria",
          "Austria",
          "Austria",
          "Austria",
          "Austria",
          "Austria",
          "Austria",
          "Austria",
          "Austria",
          "Austria",
          "Austria",
          "Austria",
          "Austria",
          "Austria",
          "Austria",
          "Austria",
          "Austria",
          "Austria",
          "Austria",
          "Austria",
          "Austria",
          "Austria",
          "Austria",
          "Austria",
          "Austria",
          "Austria",
          "Austria",
          "Austria",
          "Austria",
          "Austria",
          "Austria",
          "Austria",
          "Austria",
          "Austria",
          "Austria",
          "Austria",
          "Austria",
          "Austria",
          "Austria",
          "Austria",
          "Austria",
          "Austria",
          "Austria",
          "Austria",
          "Austria",
          "Austria",
          "Austria",
          "Austria",
          "Austria",
          "Austria",
          "Austria",
          "Austria",
          "Austria",
          "Austria",
          "Austria",
          "Austria",
          "Austria",
          "Austria",
          "Austria",
          "Austria",
          "Austria",
          "Austria",
          "Austria",
          "Austria",
          "Austria",
          "Austria",
          "Austria",
          "Austria",
          "Austria",
          "Austria",
          "Austria",
          "Austria",
          "Austria",
          "Austria",
          "Austria",
          "Austria",
          "Austria",
          "Austria",
          "Austria",
          "Austria",
          "Austria",
          "Austria",
          "Austria",
          "Austria",
          "Austria",
          "Austria",
          "Austria",
          "Austria",
          "Austria",
          "Austria",
          "Austria",
          "Austria",
          "Austria",
          "Austria",
          "Austria",
          "Austria",
          "Austria",
          "Austria",
          "Austria",
          "Austria",
          "Austria",
          "Austria",
          "Austria",
          "Austria",
          "Austria",
          "Austria",
          "Austria",
          "Austria",
          "Austria",
          "Austria",
          "Austria",
          "Austria",
          "Austria",
          "Austria",
          "Austria",
          "Austria",
          "Austria",
          "Austria",
          "Austria",
          "Austria",
          "Austria",
          "Austria",
          "Austria",
          "Austria",
          "Austria",
          "Austria",
          "Austria",
          "Austria",
          "Austria",
          "Austria",
          "Austria",
          "Austria",
          "Austria",
          "Austria",
          "Austria",
          "Austria",
          "Austria",
          "Austria",
          "Austria",
          "Austria",
          "Austria",
          "Austria",
          "Austria",
          "Austria",
          "Austria",
          "Austria",
          "Austria",
          "Austria",
          "Austria",
          "Austria",
          "Austria",
          "Austria",
          "Austria",
          "Austria",
          "Austria",
          "Austria",
          "Austria",
          "Austria",
          "Austria",
          "Austria",
          "Austria",
          "Austria",
          "Austria",
          "Austria",
          "Austria",
          "Austria",
          "Austria",
          "Austria",
          "Austria",
          "Austria",
          "Austria",
          "Austria",
          "Austria",
          "Austria",
          "Austria",
          "Austria",
          "Austria",
          "Austria",
          "Austria",
          "Austria",
          "Austria",
          "Austria",
          "Austria",
          "Austria",
          "Austria",
          "Austria",
          "Austria",
          "Austria",
          "Austria",
          "Austria",
          "Austria",
          "Austria",
          "Austria",
          "Austria",
          "Austria",
          "Austria",
          "Austria",
          "Austria",
          "Austria",
          "Austria",
          "Austria",
          "Austria",
          "Austria",
          "Austria",
          "Austria",
          "Austria",
          "Austria",
          "Austria",
          "Austria",
          "Austria",
          "Austria",
          "Austria",
          "Austria",
          "Austria",
          "Austria",
          "Austria",
          "Austria",
          "Austria",
          "Austria",
          "Austria",
          "Austria",
          "Austria",
          "Austria",
          "Austria",
          "Austria",
          "Austria",
          "Austria",
          "Austria",
          "Austria",
          "Austria",
          "Austria",
          "Austria",
          "Austria",
          "Austria",
          "Austria",
          "Austria",
          "Austria",
          "Austria",
          "Austria",
          "Austria",
          "Austria",
          "Austria",
          "Austria",
          "Austria",
          "Austria",
          "Austria",
          "Austria",
          "Austria",
          "Austria",
          "Austria",
          "Austria",
          "Austria",
          "Austria",
          "Austria",
          "Austria",
          "Austria",
          "Austria",
          "Austria",
          "Austria",
          "Austria",
          "Austria",
          "Austria",
          "Austria",
          "Austria",
          "Austria",
          "Austria",
          "Austria",
          "Austria",
          "Austria",
          "Austria",
          "Austria",
          "Austria",
          "Austria",
          "Austria",
          "Austria",
          "Austria",
          "Austria",
          "Austria",
          "Austria",
          "Austria",
          "Austria",
          "Austria",
          "Austria",
          "Austria",
          "Austria",
          "Austria",
          "Austria",
          "Austria",
          "Austria",
          "Austria",
          "Austria",
          "Austria",
          "Austria",
          "Austria",
          "Austria",
          "Austria",
          "Austria",
          "Austria",
          "Austria",
          "Austria",
          "Austria",
          "Austria",
          "Austria",
          "Austria",
          "Austria",
          "Austria",
          "Austria",
          "Austria",
          "Austria",
          "Austria",
          "Austria",
          "Austria",
          "Austria",
          "Austria",
          "Austria",
          "Austria",
          "Austria",
          "Austria",
          "Austria",
          "Austria",
          "Austria",
          "Austria",
          "Austria",
          "Austria",
          "Austria",
          "Austria",
          "Austria",
          "Austria",
          "Austria",
          "Austria",
          "Austria",
          "Austria",
          "Austria",
          "Austria",
          "Austria",
          "Austria",
          "Austria",
          "Austria",
          "Austria",
          "Austria",
          "Austria",
          "Austria",
          "Austria",
          "Austria",
          "Austria",
          "Austria",
          "Austria",
          "Austria",
          "Austria",
          "Austria",
          "Austria",
          "Austria",
          "Austria",
          "Austria",
          "Austria",
          "Austria",
          "Austria",
          "Austria",
          "Austria",
          "Austria",
          "Austria",
          "Austria",
          "Austria",
          "Austria",
          "Austria",
          "Austria",
          "Austria",
          "Austria",
          "Austria",
          "Austria",
          "Austria",
          "Austria",
          "Austria",
          "Austria",
          "Austria",
          "Austria",
          "Austria",
          "Austria",
          "Austria",
          "Austria",
          "Austria",
          "Austria",
          "Austria",
          "Austria",
          "Austria",
          "Austria",
          "Austria",
          "Austria",
          "Austria",
          "Austria",
          "Austria",
          "Austria",
          "Austria",
          "Austria",
          "Austria",
          "Austria",
          "Austria",
          "Austria",
          "Austria",
          "Austria",
          "Austria",
          "Austria",
          "Austria",
          "Austria",
          "Austria",
          "Austria",
          "Austria",
          "Austria",
          "Austria",
          "Austria",
          "Austria",
          "Austria",
          "Austria",
          "Austria",
          "Austria",
          "Austria",
          "Austria",
          "Austria",
          "Austria",
          "Austria",
          "Austria",
          "Austria",
          "Austria",
          "Austria",
          "Austria",
          "Austria",
          "Austria",
          "Austria",
          "Austria",
          "Austria",
          "Austria",
          "Austria",
          "Austria",
          "Austria",
          "Austria",
          "Austria",
          "Austria",
          "Austria",
          "Austria",
          "Austria",
          "Austria",
          "Austria",
          "Austria",
          "Austria",
          "Austria",
          "Austria",
          "Austria",
          "Austria",
          "Austria",
          "Austria",
          "Austria",
          "Austria",
          "Austria",
          "Austria",
          "Austria",
          "Austria",
          "Austria",
          "Austria",
          "Austria",
          "Austria",
          "Austria",
          "Austria",
          "Austria",
          "Austria",
          "Austria",
          "Austria",
          "Austria",
          "Austria",
          "Austria",
          "Austria",
          "Austria",
          "Austria",
          "Austria",
          "Austria",
          "Austria",
          "Austria",
          "Austria",
          "Austria",
          "Austria",
          "Austria",
          "Austria",
          "Austria",
          "Austria",
          "Austria",
          "Austria",
          "Austria",
          "Austria",
          "Austria",
          "Austria",
          "Austria",
          "Austria",
          "Austria",
          "Austria",
          "Austria",
          "Austria",
          "Austria",
          "Austria",
          "Austria",
          "Austria",
          "Austria",
          "Austria",
          "Austria",
          "Austria",
          "Austria",
          "Austria",
          "Austria",
          "Austria",
          "Austria",
          "Austria",
          "Austria",
          "Austria",
          "Austria",
          "Austria",
          "Austria",
          "Austria",
          "Austria",
          "Austria",
          "Austria",
          "Austria",
          "Austria",
          "Austria",
          "Austria",
          "Austria",
          "Austria",
          "Austria",
          "Austria",
          "Austria",
          "Austria",
          "Austria",
          "Austria",
          "Austria",
          "Austria",
          "Austria",
          "Austria",
          "Austria",
          "Austria",
          "Austria",
          "Austria",
          "Austria",
          "Austria",
          "Austria",
          "Austria",
          "Austria",
          "Austria",
          "Austria",
          "Austria",
          "Austria",
          "Austria",
          "Austria",
          "Austria",
          "Austria",
          "Austria",
          "Austria",
          "Austria",
          "Austria",
          "Austria",
          "Austria",
          "Austria",
          "Austria",
          "Austria",
          "Austria",
          "Austria",
          "Austria",
          "Austria",
          "Austria",
          "Austria",
          "Austria",
          "Austria",
          "Austria",
          "Austria",
          "Austria",
          "Austria",
          "Austria",
          "Austria",
          "Austria",
          "Austria",
          "Austria",
          "Austria",
          "Austria",
          "Austria",
          "Austria",
          "Austria",
          "Austria",
          "Austria",
          "Austria",
          "Austria",
          "Austria",
          "Austria",
          "Austria",
          "Austria",
          "Austria",
          "Austria",
          "Austria",
          "Austria",
          "Austria",
          "Austria",
          "Austria",
          "Austria",
          "Austria",
          "Austria",
          "Austria",
          "Austria",
          "Austria",
          "Austria",
          "Austria",
          "Austria",
          "Austria",
          "Austria",
          "Austria",
          "Austria",
          "Austria",
          "Austria",
          "Austria",
          "Austria",
          "Austria",
          "Austria",
          "Austria",
          "Austria",
          "Austria",
          "Austria",
          "Austria",
          "Austria",
          "Austria",
          "Austria",
          "Austria",
          "Austria",
          "Austria",
          "Austria",
          "Austria",
          "Austria",
          "Austria",
          "Austria",
          "Austria",
          "Austria",
          "Austria",
          "Austria",
          "Austria",
          "Austria",
          "Austria",
          "Austria",
          "Austria",
          "Austria",
          "Austria",
          "Austria",
          "Austria",
          "Austria",
          "Austria",
          "Austria",
          "Austria",
          "Austria",
          "Austria",
          "Austria",
          "Austria",
          "Austria",
          "Austria",
          "Austria",
          "Austria",
          "Austria",
          "Austria",
          "Austria",
          "Austria",
          "Austria",
          "Austria",
          "Austria",
          "Austria",
          "Austria",
          "Austria",
          "Austria",
          "Austria",
          "Austria",
          "Austria",
          "Austria",
          "Austria",
          "Austria",
          "Austria",
          "Austria",
          "Austria",
          "Austria",
          "Austria",
          "Austria",
          "Austria",
          "Austria",
          "Austria",
          "Austria",
          "Austria",
          "Austria",
          "Austria",
          "Austria",
          "Austria",
          "Austria",
          "Austria",
          "Austria",
          "Austria",
          "Austria",
          "Austria",
          "Austria",
          "Austria",
          "Austria",
          "Austria",
          "Austria",
          "Austria",
          "Austria",
          "Austria",
          "Austria",
          "Austria",
          "Austria",
          "Austria",
          "Austria",
          "Austria",
          "Austria",
          "Austria",
          "Austria",
          "Austria",
          "Austria",
          "Austria",
          "Austria",
          "Austria",
          "Austria",
          "Austria",
          "Austria",
          "Austria",
          "Austria",
          "Austria",
          "Austria",
          "Austria",
          "Austria",
          "Austria",
          "Austria",
          "Austria",
          "Austria",
          "Austria",
          "Austria",
          "Austria",
          "Austria",
          "Austria",
          "Austria",
          "Austria",
          "Austria",
          "Austria",
          "Austria",
          "Austria",
          "Austria",
          "Austria",
          "Austria",
          "Austria",
          "Austria",
          "Austria",
          "Austria",
          "Austria",
          "Austria",
          "Austria",
          "Austria",
          "Austria",
          "Austria",
          "Austria",
          "Austria",
          "Austria",
          "Austria",
          "Austria",
          "Austria",
          "Austria",
          "Austria",
          "Austria",
          "Austria",
          "Austria",
          "Austria",
          "Austria",
          "Austria",
          "Austria",
          "Austria",
          "Austria",
          "Austria",
          "Austria",
          "Austria",
          "Austria",
          "Austria",
          "Austria",
          "Austria",
          "Austria",
          "Austria",
          "Austria",
          "Austria",
          "Austria",
          "Austria",
          "Austria",
          "Austria",
          "Austria",
          "Austria",
          "Austria",
          "Austria",
          "Austria",
          "Austria",
          "Austria",
          "Austria",
          "Austria",
          "Austria",
          "Austria",
          "Austria",
          "Austria",
          "Austria",
          "Austria",
          "Austria",
          "Austria",
          "Austria",
          "Austria",
          "Austria",
          "Austria",
          "Austria",
          "Austria",
          "Austria",
          "Austria",
          "Austria",
          "Austria",
          "Austria",
          "Austria",
          "Austria",
          "Austria",
          "Austria",
          "Austria",
          "Austria",
          "Austria",
          "Austria",
          "Austria",
          "Austria",
          "Austria",
          "Austria",
          "Austria",
          "Austria",
          "Austria",
          "Austria",
          "Austria",
          "Austria",
          "Austria",
          "Austria",
          "Austria",
          "Austria",
          "Austria",
          "Austria",
          "Austria",
          "Austria",
          "Austria",
          "Austria",
          "Austria",
          "Austria",
          "Austria",
          "Austria",
          "Austria",
          "Austria",
          "Austria",
          "Austria",
          "Austria",
          "Austria",
          "Austria",
          "Austria",
          "Austria",
          "Austria",
          "Austria",
          "Austria",
          "Austria",
          "Austria",
          "Austria",
          "Austria",
          "Austria",
          "Austria",
          "Austria",
          "Austria",
          "Austria",
          "Austria",
          "Austria",
          "Austria",
          "Austria",
          "Austria",
          "Austria",
          "Austria",
          "Austria",
          "Austria",
          "Austria",
          "Austria",
          "Austria",
          "Austria",
          "Austria",
          "Austria",
          "Austria",
          "Austria",
          "Austria",
          "Austria",
          "Austria",
          "Austria",
          "Austria",
          "Austria",
          "Austria",
          "Austria",
          "Austria",
          "Austria",
          "Austria",
          "Austria",
          "Austria",
          "Austria",
          "Austria",
          "Austria",
          "Austria",
          "Austria",
          "Austria",
          "Austria",
          "Austria",
          "Austria",
          "Austria",
          "Austria",
          "Austria",
          "Austria",
          "Austria",
          "Austria",
          "Austria",
          "Austria",
          "Austria",
          "Austria",
          "Austria",
          "Austria",
          "Austria",
          "Austria",
          "Austria",
          "Austria",
          "Austria",
          "Austria",
          "Austria",
          "Austria",
          "Austria",
          "Austria",
          "Austria",
          "Austria",
          "Austria",
          "Austria",
          "Austria",
          "Austria",
          "Austria",
          "Austria",
          "Austria",
          "Austria",
          "Austria",
          "Austria",
          "Austria",
          "Austria",
          "Austria",
          "Austria",
          "Austria",
          "Austria",
          "Austria",
          "Austria",
          "Austria",
          "Austria",
          "Austria",
          "Austria",
          "Austria",
          "Austria",
          "Austria",
          "Austria",
          "Austria",
          "Austria",
          "Austria",
          "Austria",
          "Austria",
          "Austria",
          "Austria",
          "Austria",
          "Austria",
          "Austria",
          "Austria",
          "Austria",
          "Austria",
          "Austria",
          "Austria",
          "Austria",
          "Austria",
          "Austria",
          "Austria",
          "Austria",
          "Austria",
          "Austria",
          "Austria",
          "Austria",
          "Austria",
          "Austria",
          "Austria",
          "Austria",
          "Austria",
          "Austria",
          "Austria",
          "Austria",
          "Austria",
          "Austria",
          "Austria",
          "Austria",
          "Austria",
          "Austria",
          "Austria",
          "Austria",
          "Austria",
          "Austria",
          "Austria",
          "Austria",
          "Austria",
          "Austria",
          "Austria",
          "Austria",
          "Austria",
          "Austria",
          "Austria",
          "Austria",
          "Austria",
          "Austria",
          "Austria",
          "Austria",
          "Austria",
          "Austria",
          "Austria",
          "Austria",
          "Austria",
          "Austria",
          "Austria",
          "Austria",
          "Austria",
          "Austria",
          "Austria",
          "Austria",
          "Austria",
          "Austria",
          "Austria",
          "Austria",
          "Austria",
          "Austria",
          "Austria",
          "Austria",
          "Austria",
          "Austria",
          "Austria",
          "Austria",
          "Austria",
          "Austria",
          "Austria",
          "Austria",
          "Austria",
          "Austria",
          "Austria",
          "Austria",
          "Austria",
          "Austria",
          "Austria",
          "Austria",
          "Austria",
          "Austria",
          "Austria",
          "Austria",
          "Austria",
          "Austria",
          "Austria",
          "Austria",
          "Austria",
          "Austria",
          "Austria",
          "Austria",
          "Austria",
          "Austria",
          "Austria",
          "Austria",
          "Austria",
          "Austria",
          "Austria",
          "Austria",
          "Austria",
          "Austria",
          "Austria",
          "Austria",
          "Austria",
          "Austria",
          "Austria",
          "Austria",
          "Austria",
          "Austria",
          "Austria",
          "Austria",
          "Austria",
          "Austria",
          "Austria",
          "Austria",
          "Austria",
          "Austria",
          "Austria",
          "Austria",
          "Austria",
          "Austria",
          "Austria",
          "Austria",
          "Austria",
          "Austria",
          "Austria",
          "Austria",
          "Austria",
          "Austria",
          "Austria",
          "Austria",
          "Austria",
          "Austria",
          "Austria",
          "Austria",
          "Austria",
          "Austria",
          "Austria",
          "Austria",
          "Austria",
          "Austria",
          "Austria",
          "Austria",
          "Austria",
          "Austria",
          "Austria",
          "Austria",
          "Austria",
          "Austria",
          "Austria",
          "Austria",
          "Austria",
          "Austria",
          "Austria",
          "Austria",
          "Austria",
          "Austria",
          "Austria",
          "Austria",
          "Austria",
          "Austria",
          "Austria",
          "Austria",
          "Austria",
          "Austria",
          "Austria",
          "Austria",
          "Austria",
          "Austria",
          "Austria",
          "Austria",
          "Austria",
          "Austria",
          "Austria",
          "Austria",
          "Austria",
          "Austria",
          "Austria",
          "Austria",
          "Austria",
          "Austria",
          "Austria",
          "Austria",
          "Austria",
          "Austria",
          "Austria",
          "Austria",
          "Austria",
          "Austria",
          "Austria",
          "Austria",
          "Austria",
          "Austria",
          "Austria",
          "Austria",
          "Austria",
          "Austria",
          "Austria",
          "Austria",
          "Austria",
          "Austria",
          "Austria",
          "Austria",
          "Austria",
          "Austria",
          "Austria",
          "Austria",
          "Austria",
          "Austria",
          "Austria",
          "Austria",
          "Austria",
          "Austria",
          "Austria",
          "Austria",
          "Austria",
          "Austria",
          "Austria",
          "Austria",
          "Austria",
          "Austria",
          "Austria",
          "Austria",
          "Austria",
          "Austria",
          "Austria",
          "Austria",
          "Austria",
          "Austria",
          "Austria",
          "Austria",
          "Austria",
          "Austria",
          "Austria",
          "Austria",
          "Austria",
          "Austria",
          "Austria",
          "Austria",
          "Austria",
          "Austria",
          "Austria",
          "Austria",
          "Austria",
          "Austria",
          "Austria",
          "Austria",
          "Austria",
          "Austria",
          "Austria",
          "Austria",
          "Austria",
          "Austria",
          "Austria",
          "Austria",
          "Austria",
          "Austria",
          "Austria",
          "Austria",
          "Austria",
          "Austria",
          "Austria",
          "Austria",
          "Austria",
          "Austria",
          "Austria",
          "Austria",
          "Austria",
          "Austria",
          "Austria",
          "Austria",
          "Austria",
          "Austria",
          "Austria",
          "Austria",
          "Austria",
          "Austria",
          "Austria",
          "Austria",
          "Austria",
          "Austria",
          "Austria",
          "Austria",
          "Austria",
          "Austria",
          "Austria",
          "Austria",
          "Austria",
          "Austria",
          "Austria",
          "Austria",
          "Austria",
          "Austria",
          "Austria",
          "Austria",
          "Austria",
          "Austria",
          "Austria",
          "Austria",
          "Austria",
          "Austria",
          "Austria",
          "Austria",
          "Austria",
          "Austria",
          "Austria",
          "Austria",
          "Austria",
          "Austria",
          "Austria",
          "Austria",
          "Austria",
          "Austria",
          "Austria",
          "Austria",
          "Austria",
          "Austria",
          "Austria",
          "Austria",
          "Austria",
          "Austria",
          "Austria",
          "Austria",
          "Austria",
          "Austria",
          "Austria",
          "Austria",
          "Austria",
          "Austria",
          "Austria",
          "Austria",
          "Austria",
          "Austria",
          "Austria",
          "Austria",
          "Austria",
          "Austria",
          "Austria",
          "Austria",
          "Austria",
          "Austria",
          "Austria",
          "Austria",
          "Austria",
          "Austria",
          "Austria",
          "Austria",
          "Austria",
          "Austria",
          "Austria",
          "Austria",
          "Austria",
          "Austria",
          "Austria",
          "Austria",
          "Austria",
          "Austria",
          "Austria",
          "Austria",
          "Austria",
          "Austria",
          "Austria",
          "Austria",
          "Austria",
          "Austria",
          "Austria",
          "Austria",
          "Austria",
          "Austria",
          "Austria",
          "Austria",
          "Austria",
          "Austria",
          "Austria",
          "Austria",
          "Austria",
          "Austria",
          "Austria",
          "Austria",
          "Austria",
          "Austria",
          "Austria",
          "Austria",
          "Austria",
          "Austria",
          "Austria",
          "Austria",
          "Austria",
          "Austria",
          "Austria",
          "Austria",
          "Austria",
          "Austria",
          "Austria",
          "Austria",
          "Austria",
          "Austria",
          "Austria",
          "Austria",
          "Austria",
          "Austria",
          "Austria",
          "Austria",
          "Austria",
          "Austria",
          "Austria",
          "Austria",
          "Austria",
          "Austria",
          "Austria",
          "Austria",
          "Austria",
          "Austria",
          "Austria",
          "Austria",
          "Austria",
          "Austria",
          "Austria",
          "Austria",
          "Austria",
          "Austria",
          "Austria",
          "Austria",
          "Austria",
          "Austria",
          "Austria",
          "Austria",
          "Austria",
          "Austria",
          "Austria",
          "Austria",
          "Austria",
          "Austria",
          "Austria",
          "Austria",
          "Austria",
          "Austria",
          "Austria",
          "Austria",
          "Austria",
          "Austria",
          "Austria",
          "Austria",
          "Austria",
          "Austria",
          "Austria",
          "Austria",
          "Austria",
          "Austria",
          "Austria",
          "Austria",
          "Austria",
          "Austria",
          "Austria",
          "Austria",
          "Austria",
          "Austria",
          "Austria",
          "Austria",
          "Austria",
          "Austria",
          "Austria",
          "Austria",
          "Austria",
          "Austria",
          "Austria",
          "Austria",
          "Austria",
          "Austria",
          "Austria",
          "Austria",
          "Austria",
          "Austria",
          "Austria",
          "Austria",
          "Austria",
          "Austria",
          "Austria",
          "Austria",
          "Austria",
          "Austria",
          "Austria",
          "Austria",
          "Austria",
          "Austria",
          "Austria",
          "Austria",
          "Austria",
          "Austria",
          "Austria",
          "Austria",
          "Austria",
          "Austria",
          "Austria",
          "Austria",
          "Austria",
          "Austria",
          "Austria",
          "Austria",
          "Austria",
          "Austria",
          "Austria",
          "Austria",
          "Austria",
          "Austria",
          "Austria",
          "Austria",
          "Austria",
          "Austria",
          "Austria",
          "Austria",
          "Austria",
          "Austria",
          "Austria",
          "Austria",
          "Austria",
          "Austria",
          "Austria",
          "Austria",
          "Austria",
          "Austria",
          "Austria",
          "Austria",
          "Austria",
          "Austria",
          "Austria",
          "Austria",
          "Austria",
          "Austria",
          "Austria",
          "Austria",
          "Austria",
          "Austria",
          "Austria",
          "Austria",
          "Austria",
          "Austria",
          "Austria",
          "Austria",
          "Austria",
          "Austria",
          "Austria",
          "Austria",
          "Austria",
          "Austria",
          "Austria",
          "Austria",
          "Austria",
          "Austria",
          "Austria",
          "Austria",
          "Austria",
          "Austria",
          "Austria",
          "Austria",
          "Austria",
          "Austria",
          "Austria",
          "Austria",
          "Austria",
          "Austria",
          "Austria",
          "Austria",
          "Austria",
          "Austria",
          "Austria",
          "Austria",
          "Austria",
          "Austria",
          "Austria",
          "Austria",
          "Austria",
          "Austria",
          "Austria",
          "Austria",
          "Austria",
          "Austria",
          "Austria",
          "Austria",
          "Austria",
          "Austria",
          "Austria",
          "Austria",
          "Austria",
          "Austria",
          "Austria",
          "Austria",
          "Austria",
          "Austria",
          "Austria",
          "Austria",
          "Austria",
          "Austria",
          "Austria",
          "Austria",
          "Austria",
          "Austria",
          "Austria",
          "Austria",
          "Austria",
          "Austria",
          "Austria",
          "Austria",
          "Austria",
          "Austria",
          "Austria",
          "Austria",
          "Austria",
          "Austria",
          "Austria",
          "Austria",
          "Austria",
          "Austria",
          "Austria",
          "Austria",
          "Austria",
          "Austria",
          "Austria",
          "Austria",
          "Austria",
          "Austria",
          "Austria",
          "Austria",
          "Austria",
          "Austria",
          "Austria",
          "Austria",
          "Austria",
          "Austria",
          "Austria",
          "Austria",
          "Austria",
          "Austria",
          "Austria",
          "Austria",
          "Austria",
          "Austria",
          "Austria",
          "Austria",
          "Austria",
          "Austria",
          "Austria",
          "Austria",
          "Austria",
          "Austria",
          "Austria",
          "Austria",
          "Austria",
          "Austria",
          "Austria",
          "Austria",
          "Austria",
          "Austria",
          "Austria",
          "Austria",
          "Austria",
          "Austria",
          "Austria",
          "Austria",
          "Austria",
          "Austria",
          "Austria",
          "Austria",
          "Austria",
          "Austria",
          "Austria",
          "Austria",
          "Austria",
          "Austria",
          "Austria",
          "Austria",
          "Austria",
          "Austria",
          "Austria",
          "Austria",
          "Austria",
          "Austria",
          "Austria",
          "Austria",
          "Austria",
          "Austria",
          "Austria",
          "Austria",
          "Austria",
          "Austria",
          "Austria",
          "Austria",
          "Austria",
          "Austria",
          "Austria",
          "Austria",
          "Austria",
          "Austria",
          "Austria",
          "Austria",
          "Austria",
          "Austria",
          "Austria",
          "Austria",
          "Austria",
          "Austria",
          "Austria",
          "Austria",
          "Austria",
          "Austria",
          "Austria",
          "Austria",
          "Austria",
          "Austria",
          "Austria",
          "Austria",
          "Austria",
          "Austria",
          "Austria",
          "Austria",
          "Austria",
          "Austria",
          "Austria",
          "Austria",
          "Austria",
          "Austria",
          "Austria",
          "Austria",
          "Austria",
          "Austria",
          "Austria",
          "Austria",
          "Austria",
          "Austria",
          "Austria",
          "Austria",
          "Austria",
          "Austria",
          "Austria",
          "Austria",
          "Austria",
          "Austria",
          "Austria",
          "Austria",
          "Austria",
          "Austria",
          "Austria",
          "Austria",
          "Austria",
          "Austria",
          "Austria",
          "Austria",
          "Austria",
          "Austria",
          "Austria",
          "Austria",
          "Austria",
          "Austria",
          "Austria",
          "Austria",
          "Austria",
          "Austria",
          "Austria",
          "Austria",
          "Austria",
          "Austria",
          "Austria",
          "Austria",
          "Austria",
          "Austria",
          "Austria",
          "Austria",
          "Austria",
          "Austria",
          "Austria",
          "Austria",
          "Austria",
          "Austria",
          "Austria",
          "Austria",
          "Austria",
          "Austria",
          "Austria",
          "Austria",
          "Austria",
          "Austria",
          "Austria",
          "Austria",
          "Austria",
          "Austria",
          "Austria",
          "Austria",
          "Austria",
          "Austria",
          "Austria",
          "Austria",
          "Austria",
          "Austria",
          "Austria",
          "Austria",
          "Austria",
          "Austria",
          "Austria",
          "Austria",
          "Austria",
          "Austria",
          "Austria",
          "Austria",
          "Austria",
          "Austria",
          "Austria",
          "Austria",
          "Austria",
          "Austria",
          "Austria",
          "Austria",
          "Austria",
          "Austria",
          "Austria",
          "Austria",
          "Austria",
          "Austria",
          "Austria",
          "Austria",
          "Austria",
          "Austria",
          "Austria",
          "Austria",
          "Austria",
          "Austria",
          "Austria",
          "Austria",
          "Austria",
          "Austria",
          "Austria",
          "Austria",
          "Austria",
          "Austria",
          "Austria",
          "Austria",
          "Austria",
          "Austria",
          "Austria",
          "Austria",
          "Austria",
          "Austria",
          "Austria",
          "Austria",
          "Austria",
          "Austria",
          "Austria",
          "Austria",
          "Austria",
          "Austria",
          "Austria",
          "Austria",
          "Austria",
          "Austria",
          "Austria",
          "Austria",
          "Austria",
          "Austria",
          "Austria",
          "Austria",
          "Austria",
          "Austria",
          "Austria",
          "Austria",
          "Austria",
          "Austria",
          "Austria",
          "Austria",
          "Austria",
          "Austria",
          "Austria",
          "Austria",
          "Austria",
          "Austria",
          "Austria",
          "Austria",
          "Austria",
          "Austria",
          "Austria",
          "Austria",
          "Austria",
          "Austria",
          "Austria",
          "Austria",
          "Austria",
          "Austria",
          "Austria",
          "Austria",
          "Austria",
          "Austria",
          "Austria",
          "Austria",
          "Austria",
          "Austria",
          "Austria",
          "Austria",
          "Austria",
          "Austria",
          "Austria",
          "Austria",
          "Austria",
          "Austria",
          "Austria",
          "Austria",
          "Austria",
          "Austria",
          "Austria",
          "Austria",
          "Austria",
          "Austria",
          "Austria",
          "Austria",
          "Austria",
          "Austria",
          "Austria",
          "Austria",
          "Austria",
          "Austria",
          "Austria",
          "Austria",
          "Austria",
          "Austria",
          "Austria",
          "Austria",
          "Austria",
          "Austria",
          "Austria",
          "Austria",
          "Austria",
          "Austria",
          "Austria",
          "Austria",
          "Austria",
          "Austria",
          "Austria",
          "Austria",
          "Austria",
          "Austria",
          "Austria",
          "Austria",
          "Austria",
          "Austria",
          "Austria",
          "Austria",
          "Austria",
          "Austria",
          "Austria",
          "Austria",
          "Austria",
          "Austria",
          "Austria",
          "Austria",
          "Austria",
          "Austria",
          "Austria",
          "Austria",
          "Austria",
          "Austria",
          "Austria",
          "Austria",
          "Austria",
          "Austria",
          "Austria",
          "Austria",
          "Austria",
          "Austria",
          "Austria",
          "Austria",
          "Austria",
          "Austria",
          "Austria",
          "Austria",
          "Austria",
          "Austria",
          "Austria",
          "Austria",
          "Austria",
          "Austria",
          "Austria",
          "Austria",
          "Austria",
          "Austria",
          "Austria",
          "Austria",
          "Austria",
          "Austria",
          "Austria",
          "Austria",
          "Austria",
          "Austria",
          "Austria",
          "Austria",
          "Austria",
          "Austria",
          "Austria",
          "Austria",
          "Austria",
          "Austria",
          "Austria",
          "Austria",
          "Austria",
          "Austria",
          "Austria",
          "Austria",
          "Austria",
          "Austria",
          "Austria",
          "Austria",
          "Austria",
          "Austria",
          "Austria",
          "Austria",
          "Austria",
          "Austria",
          "Austria",
          "Austria",
          "Austria",
          "Austria",
          "Austria",
          "Austria",
          "Austria",
          "Austria",
          "Austria",
          "Austria",
          "Austria",
          "Austria",
          "Austria",
          "Austria",
          "Austria",
          "Austria",
          "Austria",
          "Austria",
          "Austria",
          "Austria",
          "Austria",
          "Austria",
          "Austria",
          "Austria",
          "Austria",
          "Austria",
          "Austria",
          "Austria",
          "Austria",
          "Austria",
          "Austria",
          "Austria",
          "Austria",
          "Austria",
          "Austria",
          "Austria",
          "Austria",
          "Austria",
          "Austria",
          "Austria",
          "Austria",
          "Austria",
          "Austria",
          "Austria",
          "Austria",
          "Austria",
          "Austria",
          "Austria",
          "Austria",
          "Austria",
          "Austria",
          "Austria",
          "Austria",
          "Austria",
          "Austria",
          "Austria",
          "Austria",
          "Austria",
          "Austria",
          "Austria",
          "Austria",
          "Austria",
          "Austria",
          "Austria",
          "Austria",
          "Austria",
          "Austria",
          "Austria",
          "Austria",
          "Austria",
          "Austria",
          "Austria",
          "Austria",
          "Austria",
          "Austria",
          "Austria",
          "Austria",
          "Austria",
          "Austria",
          "Austria",
          "Austria",
          "Austria",
          "Austria",
          "Austria",
          "Austria",
          "Austria",
          "Austria",
          "Austria",
          "Austria",
          "Austria",
          "Austria",
          "Austria",
          "Austria",
          "Austria",
          "Austria",
          "Austria",
          "Austria",
          "Austria",
          "Austria",
          "Austria",
          "Austria"
         ],
         "x0": " ",
         "xaxis": "x",
         "y": {
          "bdata": "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",
          "dtype": "f8"
         },
         "y0": " ",
         "yaxis": "y"
        },
        {
         "alignmentgroup": "True",
         "box": {
          "visible": true
         },
         "customdata": {
          "bdata": "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",
          "dtype": "f8",
          "shape": "300, 1"
         },
         "hovertemplate": "country=%{x}<br>slope_sen_per_decade=%{y}<br>p=%{customdata[0]}<extra></extra>",
         "legendgroup": "France",
         "marker": {
          "color": "#EF553B"
         },
         "name": "France",
         "offsetgroup": "France",
         "orientation": "v",
         "points": "all",
         "scalegroup": "True",
         "showlegend": true,
         "type": "violin",
         "x": [
          "France",
          "France",
          "France",
          "France",
          "France",
          "France",
          "France",
          "France",
          "France",
          "France",
          "France",
          "France",
          "France",
          "France",
          "France",
          "France",
          "France",
          "France",
          "France",
          "France",
          "France",
          "France",
          "France",
          "France",
          "France",
          "France",
          "France",
          "France",
          "France",
          "France",
          "France",
          "France",
          "France",
          "France",
          "France",
          "France",
          "France",
          "France",
          "France",
          "France",
          "France",
          "France",
          "France",
          "France",
          "France",
          "France",
          "France",
          "France",
          "France",
          "France",
          "France",
          "France",
          "France",
          "France",
          "France",
          "France",
          "France",
          "France",
          "France",
          "France",
          "France",
          "France",
          "France",
          "France",
          "France",
          "France",
          "France",
          "France",
          "France",
          "France",
          "France",
          "France",
          "France",
          "France",
          "France",
          "France",
          "France",
          "France",
          "France",
          "France",
          "France",
          "France",
          "France",
          "France",
          "France",
          "France",
          "France",
          "France",
          "France",
          "France",
          "France",
          "France",
          "France",
          "France",
          "France",
          "France",
          "France",
          "France",
          "France",
          "France",
          "France",
          "France",
          "France",
          "France",
          "France",
          "France",
          "France",
          "France",
          "France",
          "France",
          "France",
          "France",
          "France",
          "France",
          "France",
          "France",
          "France",
          "France",
          "France",
          "France",
          "France",
          "France",
          "France",
          "France",
          "France",
          "France",
          "France",
          "France",
          "France",
          "France",
          "France",
          "France",
          "France",
          "France",
          "France",
          "France",
          "France",
          "France",
          "France",
          "France",
          "France",
          "France",
          "France",
          "France",
          "France",
          "France",
          "France",
          "France",
          "France",
          "France",
          "France",
          "France",
          "France",
          "France",
          "France",
          "France",
          "France",
          "France",
          "France",
          "France",
          "France",
          "France",
          "France",
          "France",
          "France",
          "France",
          "France",
          "France",
          "France",
          "France",
          "France",
          "France",
          "France",
          "France",
          "France",
          "France",
          "France",
          "France",
          "France",
          "France",
          "France",
          "France",
          "France",
          "France",
          "France",
          "France",
          "France",
          "France",
          "France",
          "France",
          "France",
          "France",
          "France",
          "France",
          "France",
          "France",
          "France",
          "France",
          "France",
          "France",
          "France",
          "France",
          "France",
          "France",
          "France",
          "France",
          "France",
          "France",
          "France",
          "France",
          "France",
          "France",
          "France",
          "France",
          "France",
          "France",
          "France",
          "France",
          "France",
          "France",
          "France",
          "France",
          "France",
          "France",
          "France",
          "France",
          "France",
          "France",
          "France",
          "France",
          "France",
          "France",
          "France",
          "France",
          "France",
          "France",
          "France",
          "France",
          "France",
          "France",
          "France",
          "France",
          "France",
          "France",
          "France",
          "France",
          "France",
          "France",
          "France",
          "France",
          "France",
          "France",
          "France",
          "France",
          "France",
          "France",
          "France",
          "France",
          "France",
          "France",
          "France",
          "France",
          "France",
          "France",
          "France",
          "France",
          "France",
          "France",
          "France",
          "France",
          "France",
          "France",
          "France",
          "France",
          "France",
          "France",
          "France",
          "France",
          "France",
          "France",
          "France",
          "France",
          "France",
          "France",
          "France",
          "France",
          "France",
          "France",
          "France",
          "France",
          "France",
          "France",
          "France",
          "France",
          "France",
          "France",
          "France",
          "France",
          "France",
          "France"
         ],
         "x0": " ",
         "xaxis": "x",
         "y": {
          "bdata": "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",
          "dtype": "f8"
         },
         "y0": " ",
         "yaxis": "y"
        },
        {
         "alignmentgroup": "True",
         "box": {
          "visible": true
         },
         "customdata": {
          "bdata": "cGWaDrWn1j/gOdm73F7oPziEOOGAaOE/P8jppAXo0T8eesHse8PMPxhcNpX6ieU/5o6ok36Ywz8YVQ/fGibgP5r+kGS9leY/3+GqgW2uvD8vbVzRNqLPP068Mc9IKbs/IFEAZERnoz/oGxzbde3aP+hBqw4+D+A/Sw6Yw6Cv3z9mnQn7ADqdP+qMrn0Nn+M/cLIK99BJzz8dOn7qr/y9P+B1/tL19tI/XrxnDFEV5D96DNK9V+HkPxjwob3yHOk/2romq6IjvD9z/+GQ+fqgP1LHJ0VB3uY/7sF1iaD84z9MOBa+/obiP82jyOHL7+0/7L3yBQc5sD/kDmP2l9PoP0SHZD++bOs/9+6WptDxwT8+cL1nKzeuP/r8y8+EH+o/Zs7o+7rs7D9o4gRzNATcP4PI1iQBPdI/jE6MoWf16z+QWTgcTkvMPzdqjpfZjsE/jirH8GRUxT9+1crWonziP+0tBm1pCbc/T2CFxhjisT/+4yobRRrsP9Kuwfh6ueU/zFtvGepx1T+Xbr8/crDSP/d6ENpXGNQ/LUJn1Bf4yT9/so7GEkSnP9jri3jwoe8/XIiz3uEg5z+QCmN2s3zQPyb6McsMNeQ/lGG+BS/i4j/PVbiG8QLZPyx0U5If0Jo/vnMt7SvBwj/PLzRC6rPZPzxpG+tUgew/Lmu7nRz7wz9fau4U2kPCP5SojTNd4h4/Tv5YsBwWuT+g+ae3zznRP5IT83O6bec/370GuX1V3z8YmEQ6WYHnP33hMf9QYsM/qs61Vdbalz99Tz1EDoq3P9av5bOIG8E/K2OV+l/cnD/QRTM5EkfYP8PSp8XnHe4/6+SNZiA7nD/InBLWU/PbP+ipPRqlL+U/e+9i96HJnT8o49mGxz3oP34Kn2sxSso/1/PRlR5v1T9m+D15gNiCP9dCqbqiSKE/2EXvatMcgD8UKKVj0ITjP/6k8Aarg+Q/QjRWsIS+6z/y+MtQnmHkP+yhasCBTeg/ThxdEWLWsz+19xNrciNvPygA6IhWndw/W5Z3YPrx1T+eyNkR9M3iP5hEPsT5EtM/Tg6/B2rIzz8/WvSpfgykP1k52mITjLA/2jWqb33C7D9EnjQ+D8rqP9RPhDGygOs/usLZjz9v7T/YjJaCcYXYPxq7fJp1VaE/uLQxv0pIeD+guHze/uXVP+Q6U+I7w+I/w4qnDWCufD94dMLOGGzhP5Ibzw9lhOI/nrJm7YEStT/wYOc4boKxP6BipIwqato/LnNvTtE87j/Y5rivMvTqP+SpUZWFkN4/44Xwp7E23z8UnEQo4sXkPxRVdYQ+zec/KpCBzugv7j/IgUpeiDDjP9fugTWzyO8/LovHfUwp5D+Qetpt3+PQPxYbHYDua6s/Ni1iUD2V4j/FMzpwN0juP3ii4vy8wuQ/SP97pQQ25T/Y99nHtSfXP/MiNtlDwtI/Xn5wV82WsT8pdP2Jyu7sP9i6v9o956c/DL9C22Oo5D8/9+qKce+xP34w8XsEH+w/z6JPlKWT3D+YwMI6B9rqP74hWyK+L70/Pol4x/f2wz8gAU5Aq0nSP76K6xFywb4/tzTOFOPw1T8w+cXpMJ3oPz2p/YO8MrQ/vJ8BV2m3vT8dnhab7YHGP1uUyXzsA+0/qvCe6Pyq5T8E4KZDXwXuP/JU0aeRR4o/31elX+pegj+ayJVwKMuqP+QuH8XQSo4/yGAYPtRO0j/UpUBcsszsP+zqLEEjieA/SKLe1wrV1T+OksEgqJzrP40gTcUU0cM/ZrGxSU1Vgj89annzt+DHP55luzritLc/plQtfhyw5z/qAaqccP7qP5juknz/8NY/7kj1Zezfgz9/X8O2a0zIP4rI2b+PYuw/GNPMtcBJ0T9MQu9k7N7pPxKmODqglu4/SF252ufg3z8Q1tT8U2HnP0cCAua80+0/qEX8fnWX0z9gr20QctHvP/uyoh01bdo/svCy63Ys4j8cbnFSAVzWPxYVZTx+JOE/wu73oe0R4D9fd2TGQS6CP6/Ha47Pbu0/pD9V1ux11j8OOvxPKpbnP27yae2PKsg/PfmGfDCvwT8g+6bFWq/iP1KA6v8jLus/aOueLxMx3j/6K4LCjDLkP9BYDVgMcME/aDTLT+qBQj+aiYYVE2ayPxCFs2qVE+Y/+rNdFa4d6T/HWbjKjsNjPwNtVkYqFN0/5VFq6fqofD+YJOllzkrjP3xQFIfyoNQ/AAAAAAAA8D9wxZ+G3PnnP7JijbCGTeo/HwpSbo14yj8o2Qi7t/zjP1+gQr2E08o/0CB4D89Txj9SzcWN0PjjPwAAAAAAAPA//5FfTh2n2T/EJ/QQSq3qPyC8AqLMrMc/X8JZMZNesT8XlbIx0ZPbPzuIBpjS/No/aOeVS2SH7T+QCI35DjfZP/A7vBI1QtE/UKBaGdDq5T+r80QSeglXPw1x8gocsLo/hjJeAsCI5D8XH2R3wyfTP7JosyBzjOA/+DLqmPrO3z8wh/3PPWXuP6LhPRW5ROo/NPDiHmI72D8cSfp38CvbP+higxyRKdQ/fEoMVeVQ6z9e95TrCofgP1hg/rUrsts/rO23BGV2vT+W8LcMUhDiP5h0eoCLgec//i7wuS9czT/giWG3A8PQP3jhFjfdLN8/qHLHzlmy4z9MUTNi4ZOyP29oPgIsBZE/DL1vD1Xq5D88wjc9e4DTP9gf/FsK/d8/hKWJqTvF5z9O5RjM4Yi+P/Tx03QuK6o/L+bm9xAvzD//63apsg/APwwee197BOY/rM43RvfB1z9gOl9n+eXbP9qpgZBTbaQ/1AWwasan7D+gxMVYh9TQP2s5UFzvX7A/mKc+4XZC7j9maB4pPb3hP3jndKiZCdo/cYeOUzf57j+6yn/6EY7hP8BD2oBpxt8/GtgOwNiv6T/IzDvh5JvQP74ykuFNSu4/a/M03H8+mT9jMkX3unnVP4zfOCY2qdo/PM7SbdK/7z9eoXrFmOjGP6y5gE+hNuc/tvm9RcZI5z9o/qafoFnFP1NruGtpVKE/NvWprcOU5D86PpRDlibmP7aXonzWIe4/Kg2jg6gT5j946KQtPTfiP20sBGbit7U/GtQijZ+stj+7mxRAeIbWP/DXVIIM3dg/bkkyhIMqzj8m7gvq7J3hP16xb/6WYcs/5N7JxxiGgD/qlUceqB2cP0Mk20PRftw/pDUgV9985j8ai8z/pRjuPxRrEs8ul+k/b3vQRrBI3j+wNjgR84jJPwR1EVEPitQ/FuFeMxTlrD8w0SmeZQLWP9jYbYQ2Wuw/ijEYabhd7j+vW+D8Y8bIP93niVvXZKU/tpBVt6UfkT+4o9qONrjiPyth/iqAfO4/2HwPc+/JwT/YxfHP3wPsP2CD1P2dfc4//KhP+4795T/ekihieU/kP4zRvNaaseI/kK/Yepd+4D9HpVExE+DbP7Bgmjhmq9w/TI1Ckq9n6D+8Jdqjg0yiP/qy+2MeqLg/BFfrEZwd1T9XjumTe7TAPx7Hvnd8mes/GOdi3P3R3T/GwClRnaHuPwARnpXSMao/cIZKscsM1z8ALYwFfTDRP8yoWQVrTtM/6ewN1CXd7z8wGMP5zKzHP5BG2NKhIM4/sCA4KTY46D+n6Th8CcbRP0hAtJOCZ+I/mGLaihDkyD+Ij+9fd3HtPyhIpi9WfeU/DyldjsaWyT8AXk3u7ZqgP93W0OEHg7o/EHPZp9I2wT+LNQy0IZe3P2ARk2hmq9Y/u8aEBHHP2T8+cZ2eKJq+PwAAbyR4PPg+ENbZW9BevD+QBZzR4PnjP0BnepkL3tw/VLsFDi1hoD+YiHtUstTlP3buNTNm0eU/F8qRPWE53D9gZWP5jPHLP3jlpsNN6NA/5HclzZnB5z++csK7fSLgP3qShg7YLes/NKKcGSNU5j9a4MaZ0zO+P+a70hw8luU/kD3rbKyEwT/fI3h7eJ7bP95L0aXAp74/MgRApIgi4D8+7f7ixtvHP31Ako+266g/vPmhIzga6T+QP+XgpwTsP1R8Og0ClOc/osW0So025j/SOK6jipPjP3pwTTHEhKU/UEHr1Bdv6z80VmZLGBalPy8P9EZBz5I/bpR1T/rbwz+at8bJRU/lP/4vzVwU4eI/xJe3P+t14j+dbcJV4J6wP/UPQcB59ew/aNVNmQ6w3z8/HcvuzlfVPzunLUj+ddw/TFw+TdG0uT9T91VfjWamP/ZzTFnOd+I/55pf2Du4zj+U0y4CUCrQP2+BWVqC57Q/FpfFfTb84T/wFgHI0vzKP8zSlVkHf+Q/MhIwYyxP6D/HtfXzUvfSP8ICPVVi/O0/ANTL+tbS3D/PS+tbgljuP4wZ1GkH3O4/CDSwhGAZ5D+PK2SnbhJ5P5woyng7WOk/D0RwfriM3z9tM7ecz0jHP4jp6ICwyOw/eHBHEI6Joz/aQIfwigjpP3ycrD1RJLg/tfvco8WRwT/vK29oJKftP9yVxy1XnOw/l5AQt4ir2D9uptR13KvHP+YWxWqfEOU/OJPdCqhL5z/ANYfzTs3oPy/QqfmWybY/YLnozZ4U5z+soEptP6/rP2DhptiI0bg/qC9gDjEaxD/a+dkuyRTlP2pbCHJ6Rr8/WVisOsP4uT/mdBJt3PnpP5ThiPBg6+s/BK6l9kqW2j/EaTMZWe3rPwwU2BuDGu4/ykHvMPJ34T8UKzQUogrbP38zkmlTKdc/9leKT2XF4j+ahcR3q6axP84DYWJlUXg/t+QVrsVDrj86rYgSTbuxP7qzQARoHqg/xjo31dAOxj8GVOqyjkniP1CchBCcPcY/vg/ns1LHsj8oRJkk9NLcP0JWSUC3e+I/rJLZ0rgh4T8rqXvxArjeP2NcxKxJPu0/FFUSgL3Jrj/P52/YWR7cPy+52FS6+sE/hAalVeiH2D+UwoiL9QqiPwAAAAAAAPA/1vJY00HV6D/3utF2hhvQP77YtU6Jh7k/llWTdM88wT/Y4gqe9PrgPwAAAAAAAPA//usZ2gSgmz/PhCvDjcPHP6wknebUEeE/QBnnFN6u5j/wJJTEFlzmP7xcjpiZrt8/GjEhUmsl4D/AcfuaTkTQPz9pgrKLEdI/CMgAUnd61D/u1Nafa4DrP2C6Zkaum9k/RjyQ9uw2wz+Zk9OVK9PuPyXqeGO48uw/hvlZhMLDYD84FEZpHoMoP1yRtFbUxKY/rurjRoayxT8SYn5Ivv3mPxcZSBi+dNI/7FcC3+Qn5T+oyzJClN7pP4hDHsPkUuc/pGmc7F7Q4z8I+l+mpKfcP3Bc5iXQFtc/oOTflzf56j9e+RRiqYbpPwcftGu7ttI/x/yyaNBU0T8wR1xMqo3AP2xU1IWekuA/4GYkBVw17z+ku9IhWWzQPz8ryC/dqt0//5I+DLNC2D8o8UUidwXbPw4truJ2d8Q/iL3Ty4vg5D+w2tpNiTHXP7caLJfBQNw/GTR8Nhzy7T99Rh3UTg2PP9lSq6idUoI/90qvTWEo1z+wvx0Yr01/P6/yWbj6Ds0/19EQWrzZ2D8W+BSTmR3rPxaV+OEfqKI/G6af+b3koz/qYtA5kt6cP8+WO9erTdI/fSvCY7vssT/++ydDyvevPxqVIcU5N+U/VCx5ZATi5T85TzsG6NqTP5uSTLR+Htw/m5B5tgI1qD/0oQQkvJzhP9tlVgGEwtQ/IGcFix1O6T/XduhPOGrSP2R5xmB8DeQ/aAQowunj0T/Yw51SAtnoPyC8+Y1RI60/4PoH6FeM4j/aJpPlyPLpP2bmpvIRpJE/92iPOenMdT9w+gyr6di4P49ioZ01EMc/h1EGTyz51z/gC9m7tSbQP77n9o+pms8/95VLnh4U3D+Qf/9m/kDJP5oddYbDD6E/vvuGQFVe6D//JaQqO6/EP3/U7H/1+pU/kO4maJ5s2D/9y7w/aCucP2ptvFpRR+g/nTPnutrLwT/SeH+WzCqpP2i36dS2HNI/TPl48qld0D8QYfi++4npP3ZjJlnVVoA/AAAAAAAAAAAAAAAAAADwP9imEzFpt4E/7KGvvB5Jtz+yWOu8eAfnP3A8v1A1zMw/H3A1AEERyz+AAqNHm7SPP6NfnsWk6W8/t81Vbx6l2j/83rJ5ajTqPwKQ8/UIyuc/+AOqE6rayz92WuO3gTDhP3rUmih+m5A/v77Gn7Ujrj9UITV+EwXmP9hmKRi6ruI/Jo0l7mox6j8DN19HkI7uP4ehHz1oHck/HaQC9rICuz/lCUZmGih6P51iJAg1d7Y/nbw0wMVVxT+vvSYJMXDUP4hkdvwh+uw/0AeYekGA1D9jWjl+nRTYPwKEEZERieY/7w+Bofw67T+ABFGfSGnWPxYy5FbxPss/JMCbsloi4T941fIW1snZP1PUPX+Iv6E/nnhcLlNhvT/ocZH86sTmP9NxuC1IqO8/5DTESdvn4D9cXXMwZRzaP97jMnpy+eo/E4RKU8DK0T+A//aVBwjJP14LJUaErOA/3NZiSrCu6j+Ki7rKPCu0P/+5xQFdibk/dE2WigRXpj888+XxeJKvPx5VzqODybQ/8LBRNQyK5D+fWna5u1qjPxid3Rr7hOU/usesdkBy5j98VxGlwT7YP0ewFHzH790/j0mOtNHDxz8K8hRYAJDqPzQJWqJTy9U/QADlr7Vi4T/QLz+MprfbP7ZhKzYPHpk/P66sR9iG3D+WvRVUP4PkP7jwKsnqLKE/LjUzfY9Luz+3Y4jYUlDuP582dexleNQ/ZgtZaJ3T7T+rlBU9Dbu8P2PnSOIq020/jsGTl0aw5T+IgPQTDzzlP6zRKs24XX8/eBhZ4XBr6j9oF3KQSo7nP00l79wnv80/235sSPKtrT+Ez44oAaflP1Q8M2pbNuc/WPk/1wBB6D/zeLgQ1L6AP9i4I/K9Sts/IhEi6s3Z5j8dkspfuiHvP8DqdoDlzuU/AAAAAAAA8D+gAPLGM2XpP+h6x1DNEcE/Y3C22rzyiT9cloa0X0CpPygWtMZLyuE/kLefLD6K0T+P4IAiwDbVPzpTgnQXEOk/fjoYAXsPgz9z3BTOqlFMP7m5m+5dUqE/0K42CcxKxz9EXlnmcEfrP3jT7qeK69E/zDT0zhTX6T98S4uC7P+yP7hD2VYgzX8/drOU+eXz4z+v7eX2uZfXP9juKNdhtNI/97nDEJVy2j9gNS/2dxjqP69TrC4JiN0/yOf8wm1Biz//L8oICIXDP/+rfcJw9JM/NkjoZ0Pd6D/P5+50wcjLP9RdT5oiiew//BQOWztkqz++Fp4wK3LNPx4quYeQfbQ//qj1FYLp4z+YgrsStPXRP1RJyGLNreA/WNd+Koj95z/T68y1VHTaP597wc/ka2w/LwdoL47N0D8ElYIQRbrqP7hXQo7nJsw//mAgeYLRvD8nrUhlXh/fP9Cj+Nx5bOI/J3RnGfWW0T+c8r7Mg0qpPyil1BsqEuE/XHGxVKic5T/8mSUPCqLUPzguSC7xZa4/qi2Ij+P46j982PIINtrlP0K4ek7SCuc/KBFXAsp45D880LYGT33sP8wMij1/bt8/zBY5kgli4T/8W1ZZzE+yP+0ORTxlZUc/rRpgMGh4xD94AeIu+SduP23RXf3zEZo/HPUiL3Us2D9AUcMftfLTP+cy7h8iwdE/1DrombWSiz/9NLo8pjHOP2g08isLX+g/+CCROfcN3D+Qh7y07UfeP9SFPDv0sOM/SHyy3zB2wz8AALD3xsHmPks9Aq8YvIQ/9tUFiK9p7D9QR2WekrvUPyf5Ea8N85M/fnY/FF136z+2R2chYUToP6BT+FNvKeA/DpVpn+d27z8gA3MRt03dP1cLtavaqNs/PcVyOEgQtj8MuqbzFXPlP9+PP4RtkN8/zjab05HU6T90JcXKGSLkP8Cd6m3lo+U/2tkC1MbB6D/43rhHdkflPwAAAAAAAPA/HNSstGg11T8q+b3BrKq6P4xtCBHUndQ///+/nCmnrz4YLNcvGyPmP6DYweW/kNY/+WfhqMDA7T/IaKW4aDzJP//tGnCwjMI/+N3eAWIT2D9E7DzeZkPfP0+J4YjiOro/qn1EhculZz/4hTdz4iDiPzbymJ2Qd+o/SDmqZCLo4D+T31mE2cfZP2QSoAQmY+A/9g5yXblD7T8SUEfksE7nP4otfumRJew/sJPY4txc4D/JYf9DAXbuPzBy3Rhs3uM/Kn5HEjf14D9CDGfFsNfpP9iIS6Kb6uA/NwgQD+Y5mT8W0kcy3+CiP/Qs/rffLeM/Ct6iGs5E5j/+mzOJkI3lP+BDFMkv6Ng/o8Y/CacQ3T+MQuVhEM/vP0BKiXhE5ds/9tNvMM2Igz/ADcUORs5iP3zqvrJZ0uU/AAAAAAAA8D98IFU2BbPpPy+ElaIUA5g/3pYT8jccuD+pesK5OnKWP39ctVjVne4/wre4U1ka7j+EPcxmCNLkP4CWJ42yn+k/XxCOJ+CJtD/3pe/w3a2XP76r61w/b+E/fOfmGLQy4T9VByZ3GgaoP2A/iwmf8L4/jjlyuIK9uD/8zhaEegqZP09fd4TVho8/iCDbonFf3T/bZW7JchLbP2sZ9FkMIrU/mJwVOEZawT+UltZKs3LpPzL90ZGtpec/cJKDAKWD0D/0MBsXexnXP6KF2xWyruM/aLkLKaoA1j8AAAAAAADwP3/M+8c0lbs/dzgfldiW3T9e2hnVYe/kP4jKJ6AhFNs/dYXxG9Pdxz+orK/ppITZP2r5v07hxe8/yh9tDXeKuz9Om0LdM+m2P3Yry0cJC1w/vHeT92UF0T8Q9SPR8HvQP6i4C9MwN+4/vAfE05gO6z/sSI4IRvflP4SePNLqWN8/bmjBO5PXyz+oAjGGvqvWP65/NaeLusw/NJffzI5Z6z9FRRjmYJnvP98zI2RO3NY/W0UJyg+3uz+gV4BxaiHRP2zRqmMineE/0MHg0X4wwT8OLrZ0Qo/vPzkvmSpF3rM/7uXRvUYwmz/orJuKILiRP8LgGiLqlug/YOB6W6pp6D9/G1SikTjAP+9+38sumpk/zuqagZsAgz8AALDBM1OxPl6jLZplkbs/AAAAAHDBsD0AAFBkEMu9PhJATgqShuI/fLx1smd64z8wvZsmkQFJP3r2jcYrMCw/rk3JFTYftj/PoRUZVBPUP0cc/P1KgNs/UOWEleKI0z9AFi8t78LTPypHCRGbxpQ/j6x8G9aywz/2Vxfz6A7mPwC2WEC4PHE/ZMptBTxflD/AkmuVzPHeP94GHVA8Sew/ygAUCC0A4D/ADhTI8RfZP5P4yf0gqKg/dp6ZTXsn5D+6BXbuSEflP+hDXNPvzNY/2HW1wOmi2j9wpMcA2SmdP8AArb4LaNM/KFNn+BkNwj808iXFM3fgP4D8XCf8pt8/z61052C03D+XP3zO9cvWP3Co/nk/ZrE/4s0ApYQMjT/rP1jokJyXP8w1CeZk79I/WpNuM8Q+7D96DhkzNmbnP1nFe+N1Ye8/wa5MtIK5fT+lnJgbcZGSP93W0OEHg7o/trvAP+Ablz98ujoZ3IW+P4Xr3in+dW0/ueRtA4zFtz/2WHtEldimP39BBC4H344/YD6OhrdkzD8KUXlyk3juP9zoZRSN5NY/aFKcZHiSxz8XHXGhwOnAP15Ei/KHIM8/a1cNqG9d7T/H+miAPXTdP0xCxYVF1uo/Vi1Fdk//5j9nVDAuEtjTP7Q3rEeihts/2tJ6odem7D+sCNdyVVzpP28NzHU4GdU/fkZEdSwCxj9wAXM0l3/ePzF0AnrwtJo/eimeBrqUjT8Nbs82HlHLPwAAYh9Sw/o+u9TQ1lZhRj9PJibkfCfQP04uyMTol8M/xB/EhtnA4T8Q4GHCNfLnP8iP/62X6NY/erPcTluU4z9w0/ssA8/ZP1zYkdHJiO8/bXDET3WtyT+cRaDJu+vdP6B0uXs1A9I/nIK99hAC5T/dYNny1Y6uP3wZ2xnGaYU/ujUgHyXG6z8UhNuDX3/mP09wvP3Fu7M/h4NGQp7T1j/6QSO0jfHlP6BgPwdqJsY/HYAPMI2zxD/AHy3onfvrP4yW1KThYeQ/AAAAm2YceT55tXkAJEO7P0fWsYYuG80/cKWxiS3h6D9cEplSAaLkP7RVtneyc+M/aA1m5m030z8fa7FalCfWPwaJ4+lZoOU//vriumUs5j8ORPQMe1DoP6/h0cfCuM0/ljK+kDca4j+4hn3vjFbsP/CnuU8Gsew/+AHCOeMQ5D+YnqkLQNflP/7Y01GsFro/b+XSNA/Gtz+wSYmLswjfP5D+zYmJ+us/LDBayvOG5z+4xVUZZBbUP77e3pGWVHM/beDF86J2xD+iillejMXpP6quBMaK7es/O00+p4+W3D/YVVsKCjjiP6KXEB0bi+o///b7Yr22sz+uwP8I+fHMP/BJ0W2uA9c/2qRpUK1/4T+IOCwlT3HfPwAAAAAAAPA/AHkfQJtMwj/5QU/gyQ+uP5AIqrVcCeI/rzarB43ItD8KIy8bo1OwP7Pilks85dk/tj7GQoGcyz//kHu8ceyaP8S4nVIdSOs/eSb1qnaOkz9bgGs/xz/vPxcwgE9/2R0/3NXlxcqBtD/8JK1uqmqCPx4s7VfrF7A/zcUe4ioatT/iLQoILcR3P97ozF6iW8I/IDiXnpZjtD9dHN01YMvKP5JtCdR9Vuc/L7W3skkUlz9+jYDS1j+lP3BRwza5eug/yJ/Zvv7h7T8vlGZAsHTcP1gtluddhtk/oAlT/+R74j9WLwVRDujrP4My806RCdE/mEF/MpgfeT+CSwASu9DiP/KVBLvBEu8/YMxa7g+w2T+bn483MPPZP/+PIdQgoto/umxcotLD5z9yrF3QljPpPyU8hOyyI8g/3wOgtkO40D90byzXv67qPwRlx9FZ9+Y/WFqD82eZ1z8c4uMjNnyuPyDZfvCeirk/29pb96xJuT+u6xwdOe3gP+BLGRoPUr4/+O2rl+166T8MZZGLLU3lP6D3xl+UQMI/+/+Jn1P9pD/wf3a1kfvlP/yBeDEGOOw/djTIWaiC5T9wGvIE8mPrP+/0pKiM0JQ/WAFTrCKFgj+wP46BmJKRP5dazFM0daA/BA/h6zFL0j9b3NDf1CfXP5AauTh1xNM/lyFrvmKN1z9esW/+lmHLP9W8QgWYcoQ/J/rMj+QC3j/LwXPRK0DvP0QBHHH8qdI//05UaWnZxj9+/Kx7VSSGPzw8mwFd0eE/7pywvpaSvD+e7Wv0RNnFP7rK9yKnLJU/ViEF8ZW+6j8tILF6szTOPwvmokBeLLM/GJIqga8/5j9MAE+NJG3mP6B354VyHdM//g6thwHF7D84mUYUGXLsP37m/4wFnOc/mDw6PlEF1j9UoR9rtjflP7TsgpJBk+M/iESNTgMXwT+4zvpayy3SPwtk6OKtNLQ/WDAseEal6D8q7BuKkSTlP2j7IpU9z8s/kDdRWK6m2j90iT9raDbnP4el374x9N0/zcuxiVH1zj9CnTSH06XpP1t9jaE4qu0/n0Rj8eIC0T8NEx6VbdbFP3AWfd7fVO8/r85eqdY32j+6z4NJUx3tP5lIEOXt7qY/MhwZ2SkKmT8AIxj5Y7LEP5nF/v58Lak/7oorp6Q7wD/g51nWcq/jP0+h3gU4QMA/AAAAAAAA8D+IPEAhPh/QP7g2URhYuNU/J5jJG1SFlD/iwyO1LfDiP+8ivZ3Zrd8/BnGI65kP4j9PP99pFS/SPy5KJslpUus/wKu9p9kV2T+nOmLij9jGP3g6YxrggNo/rtaYQqRD5D8dkSA7cC6yP3htjX94ydE/W+n2GTW51z/OD1V6D8fDP9WkCAXv2aY/eK/+Evfoyz8AHEVXarbCPw==",
          "dtype": "f8",
          "shape": "1103, 1"
         },
         "hovertemplate": "country=%{x}<br>slope_sen_per_decade=%{y}<br>p=%{customdata[0]}<extra></extra>",
         "legendgroup": "Germany",
         "marker": {
          "color": "#00cc96"
         },
         "name": "Germany",
         "offsetgroup": "Germany",
         "orientation": "v",
         "points": "all",
         "scalegroup": "True",
         "showlegend": true,
         "type": "violin",
         "x": [
          "Germany",
          "Germany",
          "Germany",
          "Germany",
          "Germany",
          "Germany",
          "Germany",
          "Germany",
          "Germany",
          "Germany",
          "Germany",
          "Germany",
          "Germany",
          "Germany",
          "Germany",
          "Germany",
          "Germany",
          "Germany",
          "Germany",
          "Germany",
          "Germany",
          "Germany",
          "Germany",
          "Germany",
          "Germany",
          "Germany",
          "Germany",
          "Germany",
          "Germany",
          "Germany",
          "Germany",
          "Germany",
          "Germany",
          "Germany",
          "Germany",
          "Germany",
          "Germany",
          "Germany",
          "Germany",
          "Germany",
          "Germany",
          "Germany",
          "Germany",
          "Germany",
          "Germany",
          "Germany",
          "Germany",
          "Germany",
          "Germany",
          "Germany",
          "Germany",
          "Germany",
          "Germany",
          "Germany",
          "Germany",
          "Germany",
          "Germany",
          "Germany",
          "Germany",
          "Germany",
          "Germany",
          "Germany",
          "Germany",
          "Germany",
          "Germany",
          "Germany",
          "Germany",
          "Germany",
          "Germany",
          "Germany",
          "Germany",
          "Germany",
          "Germany",
          "Germany",
          "Germany",
          "Germany",
          "Germany",
          "Germany",
          "Germany",
          "Germany",
          "Germany",
          "Germany",
          "Germany",
          "Germany",
          "Germany",
          "Germany",
          "Germany",
          "Germany",
          "Germany",
          "Germany",
          "Germany",
          "Germany",
          "Germany",
          "Germany",
          "Germany",
          "Germany",
          "Germany",
          "Germany",
          "Germany",
          "Germany",
          "Germany",
          "Germany",
          "Germany",
          "Germany",
          "Germany",
          "Germany",
          "Germany",
          "Germany",
          "Germany",
          "Germany",
          "Germany",
          "Germany",
          "Germany",
          "Germany",
          "Germany",
          "Germany",
          "Germany",
          "Germany",
          "Germany",
          "Germany",
          "Germany",
          "Germany",
          "Germany",
          "Germany",
          "Germany",
          "Germany",
          "Germany",
          "Germany",
          "Germany",
          "Germany",
          "Germany",
          "Germany",
          "Germany",
          "Germany",
          "Germany",
          "Germany",
          "Germany",
          "Germany",
          "Germany",
          "Germany",
          "Germany",
          "Germany",
          "Germany",
          "Germany",
          "Germany",
          "Germany",
          "Germany",
          "Germany",
          "Germany",
          "Germany",
          "Germany",
          "Germany",
          "Germany",
          "Germany",
          "Germany",
          "Germany",
          "Germany",
          "Germany",
          "Germany",
          "Germany",
          "Germany",
          "Germany",
          "Germany",
          "Germany",
          "Germany",
          "Germany",
          "Germany",
          "Germany",
          "Germany",
          "Germany",
          "Germany",
          "Germany",
          "Germany",
          "Germany",
          "Germany",
          "Germany",
          "Germany",
          "Germany",
          "Germany",
          "Germany",
          "Germany",
          "Germany",
          "Germany",
          "Germany",
          "Germany",
          "Germany",
          "Germany",
          "Germany",
          "Germany",
          "Germany",
          "Germany",
          "Germany",
          "Germany",
          "Germany",
          "Germany",
          "Germany",
          "Germany",
          "Germany",
          "Germany",
          "Germany",
          "Germany",
          "Germany",
          "Germany",
          "Germany",
          "Germany",
          "Germany",
          "Germany",
          "Germany",
          "Germany",
          "Germany",
          "Germany",
          "Germany",
          "Germany",
          "Germany",
          "Germany",
          "Germany",
          "Germany",
          "Germany",
          "Germany",
          "Germany",
          "Germany",
          "Germany",
          "Germany",
          "Germany",
          "Germany",
          "Germany",
          "Germany",
          "Germany",
          "Germany",
          "Germany",
          "Germany",
          "Germany",
          "Germany",
          "Germany",
          "Germany",
          "Germany",
          "Germany",
          "Germany",
          "Germany",
          "Germany",
          "Germany",
          "Germany",
          "Germany",
          "Germany",
          "Germany",
          "Germany",
          "Germany",
          "Germany",
          "Germany",
          "Germany",
          "Germany",
          "Germany",
          "Germany",
          "Germany",
          "Germany",
          "Germany",
          "Germany",
          "Germany",
          "Germany",
          "Germany",
          "Germany",
          "Germany",
          "Germany",
          "Germany",
          "Germany",
          "Germany",
          "Germany",
          "Germany",
          "Germany",
          "Germany",
          "Germany",
          "Germany",
          "Germany",
          "Germany",
          "Germany",
          "Germany",
          "Germany",
          "Germany",
          "Germany",
          "Germany",
          "Germany",
          "Germany",
          "Germany",
          "Germany",
          "Germany",
          "Germany",
          "Germany",
          "Germany",
          "Germany",
          "Germany",
          "Germany",
          "Germany",
          "Germany",
          "Germany",
          "Germany",
          "Germany",
          "Germany",
          "Germany",
          "Germany",
          "Germany",
          "Germany",
          "Germany",
          "Germany",
          "Germany",
          "Germany",
          "Germany",
          "Germany",
          "Germany",
          "Germany",
          "Germany",
          "Germany",
          "Germany",
          "Germany",
          "Germany",
          "Germany",
          "Germany",
          "Germany",
          "Germany",
          "Germany",
          "Germany",
          "Germany",
          "Germany",
          "Germany",
          "Germany",
          "Germany",
          "Germany",
          "Germany",
          "Germany",
          "Germany",
          "Germany",
          "Germany",
          "Germany",
          "Germany",
          "Germany",
          "Germany",
          "Germany",
          "Germany",
          "Germany",
          "Germany",
          "Germany",
          "Germany",
          "Germany",
          "Germany",
          "Germany",
          "Germany",
          "Germany",
          "Germany",
          "Germany",
          "Germany",
          "Germany",
          "Germany",
          "Germany",
          "Germany",
          "Germany",
          "Germany",
          "Germany",
          "Germany",
          "Germany",
          "Germany",
          "Germany",
          "Germany",
          "Germany",
          "Germany",
          "Germany",
          "Germany",
          "Germany",
          "Germany",
          "Germany",
          "Germany",
          "Germany",
          "Germany",
          "Germany",
          "Germany",
          "Germany",
          "Germany",
          "Germany",
          "Germany",
          "Germany",
          "Germany",
          "Germany",
          "Germany",
          "Germany",
          "Germany",
          "Germany",
          "Germany",
          "Germany",
          "Germany",
          "Germany",
          "Germany",
          "Germany",
          "Germany",
          "Germany",
          "Germany",
          "Germany",
          "Germany",
          "Germany",
          "Germany",
          "Germany",
          "Germany",
          "Germany",
          "Germany",
          "Germany",
          "Germany",
          "Germany",
          "Germany",
          "Germany",
          "Germany",
          "Germany",
          "Germany",
          "Germany",
          "Germany",
          "Germany",
          "Germany",
          "Germany",
          "Germany",
          "Germany",
          "Germany",
          "Germany",
          "Germany",
          "Germany",
          "Germany",
          "Germany",
          "Germany",
          "Germany",
          "Germany",
          "Germany",
          "Germany",
          "Germany",
          "Germany",
          "Germany",
          "Germany",
          "Germany",
          "Germany",
          "Germany",
          "Germany",
          "Germany",
          "Germany",
          "Germany",
          "Germany",
          "Germany",
          "Germany",
          "Germany",
          "Germany",
          "Germany",
          "Germany",
          "Germany",
          "Germany",
          "Germany",
          "Germany",
          "Germany",
          "Germany",
          "Germany",
          "Germany",
          "Germany",
          "Germany",
          "Germany",
          "Germany",
          "Germany",
          "Germany",
          "Germany",
          "Germany",
          "Germany",
          "Germany",
          "Germany",
          "Germany",
          "Germany",
          "Germany",
          "Germany",
          "Germany",
          "Germany",
          "Germany",
          "Germany",
          "Germany",
          "Germany",
          "Germany",
          "Germany",
          "Germany",
          "Germany",
          "Germany",
          "Germany",
          "Germany",
          "Germany",
          "Germany",
          "Germany",
          "Germany",
          "Germany",
          "Germany",
          "Germany",
          "Germany",
          "Germany",
          "Germany",
          "Germany",
          "Germany",
          "Germany",
          "Germany",
          "Germany",
          "Germany",
          "Germany",
          "Germany",
          "Germany",
          "Germany",
          "Germany",
          "Germany",
          "Germany",
          "Germany",
          "Germany",
          "Germany",
          "Germany",
          "Germany",
          "Germany",
          "Germany",
          "Germany",
          "Germany",
          "Germany",
          "Germany",
          "Germany",
          "Germany",
          "Germany",
          "Germany",
          "Germany",
          "Germany",
          "Germany",
          "Germany",
          "Germany",
          "Germany",
          "Germany",
          "Germany",
          "Germany",
          "Germany",
          "Germany",
          "Germany",
          "Germany",
          "Germany",
          "Germany",
          "Germany",
          "Germany",
          "Germany",
          "Germany",
          "Germany",
          "Germany",
          "Germany",
          "Germany",
          "Germany",
          "Germany",
          "Germany",
          "Germany",
          "Germany",
          "Germany",
          "Germany",
          "Germany",
          "Germany",
          "Germany",
          "Germany",
          "Germany",
          "Germany",
          "Germany",
          "Germany",
          "Germany",
          "Germany",
          "Germany",
          "Germany",
          "Germany",
          "Germany",
          "Germany",
          "Germany",
          "Germany",
          "Germany",
          "Germany",
          "Germany",
          "Germany",
          "Germany",
          "Germany",
          "Germany",
          "Germany",
          "Germany",
          "Germany",
          "Germany",
          "Germany",
          "Germany",
          "Germany",
          "Germany",
          "Germany",
          "Germany",
          "Germany",
          "Germany",
          "Germany",
          "Germany",
          "Germany",
          "Germany",
          "Germany",
          "Germany",
          "Germany",
          "Germany",
          "Germany",
          "Germany",
          "Germany",
          "Germany",
          "Germany",
          "Germany",
          "Germany",
          "Germany",
          "Germany",
          "Germany",
          "Germany",
          "Germany",
          "Germany",
          "Germany",
          "Germany",
          "Germany",
          "Germany",
          "Germany",
          "Germany",
          "Germany",
          "Germany",
          "Germany",
          "Germany",
          "Germany",
          "Germany",
          "Germany",
          "Germany",
          "Germany",
          "Germany",
          "Germany",
          "Germany",
          "Germany",
          "Germany",
          "Germany",
          "Germany",
          "Germany",
          "Germany",
          "Germany",
          "Germany",
          "Germany",
          "Germany",
          "Germany",
          "Germany",
          "Germany",
          "Germany",
          "Germany",
          "Germany",
          "Germany",
          "Germany",
          "Germany",
          "Germany",
          "Germany",
          "Germany",
          "Germany",
          "Germany",
          "Germany",
          "Germany",
          "Germany",
          "Germany",
          "Germany",
          "Germany",
          "Germany",
          "Germany",
          "Germany",
          "Germany",
          "Germany",
          "Germany",
          "Germany",
          "Germany",
          "Germany",
          "Germany",
          "Germany",
          "Germany",
          "Germany",
          "Germany",
          "Germany",
          "Germany",
          "Germany",
          "Germany",
          "Germany",
          "Germany",
          "Germany",
          "Germany",
          "Germany",
          "Germany",
          "Germany",
          "Germany",
          "Germany",
          "Germany",
          "Germany",
          "Germany",
          "Germany",
          "Germany",
          "Germany",
          "Germany",
          "Germany",
          "Germany",
          "Germany",
          "Germany",
          "Germany",
          "Germany",
          "Germany",
          "Germany",
          "Germany",
          "Germany",
          "Germany",
          "Germany",
          "Germany",
          "Germany",
          "Germany",
          "Germany",
          "Germany",
          "Germany",
          "Germany",
          "Germany",
          "Germany",
          "Germany",
          "Germany",
          "Germany",
          "Germany",
          "Germany",
          "Germany",
          "Germany",
          "Germany",
          "Germany",
          "Germany",
          "Germany",
          "Germany",
          "Germany",
          "Germany",
          "Germany",
          "Germany",
          "Germany",
          "Germany",
          "Germany",
          "Germany",
          "Germany",
          "Germany",
          "Germany",
          "Germany",
          "Germany",
          "Germany",
          "Germany",
          "Germany",
          "Germany",
          "Germany",
          "Germany",
          "Germany",
          "Germany",
          "Germany",
          "Germany",
          "Germany",
          "Germany",
          "Germany",
          "Germany",
          "Germany",
          "Germany",
          "Germany",
          "Germany",
          "Germany",
          "Germany",
          "Germany",
          "Germany",
          "Germany",
          "Germany",
          "Germany",
          "Germany",
          "Germany",
          "Germany",
          "Germany",
          "Germany",
          "Germany",
          "Germany",
          "Germany",
          "Germany",
          "Germany",
          "Germany",
          "Germany",
          "Germany",
          "Germany",
          "Germany",
          "Germany",
          "Germany",
          "Germany",
          "Germany",
          "Germany",
          "Germany",
          "Germany",
          "Germany",
          "Germany",
          "Germany",
          "Germany",
          "Germany",
          "Germany",
          "Germany",
          "Germany",
          "Germany",
          "Germany",
          "Germany",
          "Germany",
          "Germany",
          "Germany",
          "Germany",
          "Germany",
          "Germany",
          "Germany",
          "Germany",
          "Germany",
          "Germany",
          "Germany",
          "Germany",
          "Germany",
          "Germany",
          "Germany",
          "Germany",
          "Germany",
          "Germany",
          "Germany",
          "Germany",
          "Germany",
          "Germany",
          "Germany",
          "Germany",
          "Germany",
          "Germany",
          "Germany",
          "Germany",
          "Germany",
          "Germany",
          "Germany",
          "Germany",
          "Germany",
          "Germany",
          "Germany",
          "Germany",
          "Germany",
          "Germany",
          "Germany",
          "Germany",
          "Germany",
          "Germany",
          "Germany",
          "Germany",
          "Germany",
          "Germany",
          "Germany",
          "Germany",
          "Germany",
          "Germany",
          "Germany",
          "Germany",
          "Germany",
          "Germany",
          "Germany",
          "Germany",
          "Germany",
          "Germany",
          "Germany",
          "Germany",
          "Germany",
          "Germany",
          "Germany",
          "Germany",
          "Germany",
          "Germany",
          "Germany",
          "Germany",
          "Germany",
          "Germany",
          "Germany",
          "Germany",
          "Germany",
          "Germany",
          "Germany",
          "Germany",
          "Germany",
          "Germany",
          "Germany",
          "Germany",
          "Germany",
          "Germany",
          "Germany",
          "Germany",
          "Germany",
          "Germany",
          "Germany",
          "Germany",
          "Germany",
          "Germany",
          "Germany",
          "Germany",
          "Germany",
          "Germany",
          "Germany",
          "Germany",
          "Germany",
          "Germany",
          "Germany",
          "Germany",
          "Germany",
          "Germany",
          "Germany",
          "Germany",
          "Germany",
          "Germany",
          "Germany",
          "Germany",
          "Germany",
          "Germany",
          "Germany",
          "Germany",
          "Germany",
          "Germany",
          "Germany",
          "Germany",
          "Germany",
          "Germany",
          "Germany",
          "Germany",
          "Germany",
          "Germany",
          "Germany",
          "Germany",
          "Germany",
          "Germany",
          "Germany",
          "Germany",
          "Germany",
          "Germany",
          "Germany",
          "Germany",
          "Germany",
          "Germany",
          "Germany",
          "Germany",
          "Germany",
          "Germany",
          "Germany",
          "Germany",
          "Germany",
          "Germany",
          "Germany",
          "Germany",
          "Germany",
          "Germany",
          "Germany",
          "Germany",
          "Germany",
          "Germany",
          "Germany",
          "Germany",
          "Germany",
          "Germany",
          "Germany",
          "Germany",
          "Germany",
          "Germany",
          "Germany",
          "Germany",
          "Germany",
          "Germany",
          "Germany",
          "Germany",
          "Germany",
          "Germany",
          "Germany",
          "Germany",
          "Germany",
          "Germany",
          "Germany",
          "Germany",
          "Germany",
          "Germany",
          "Germany",
          "Germany",
          "Germany",
          "Germany",
          "Germany",
          "Germany",
          "Germany",
          "Germany",
          "Germany",
          "Germany",
          "Germany",
          "Germany",
          "Germany",
          "Germany",
          "Germany",
          "Germany",
          "Germany",
          "Germany",
          "Germany",
          "Germany",
          "Germany",
          "Germany",
          "Germany",
          "Germany",
          "Germany",
          "Germany",
          "Germany",
          "Germany",
          "Germany",
          "Germany",
          "Germany",
          "Germany",
          "Germany",
          "Germany",
          "Germany",
          "Germany",
          "Germany",
          "Germany",
          "Germany",
          "Germany",
          "Germany",
          "Germany",
          "Germany",
          "Germany",
          "Germany",
          "Germany",
          "Germany",
          "Germany",
          "Germany",
          "Germany",
          "Germany",
          "Germany",
          "Germany",
          "Germany",
          "Germany",
          "Germany",
          "Germany",
          "Germany",
          "Germany",
          "Germany",
          "Germany",
          "Germany",
          "Germany",
          "Germany",
          "Germany",
          "Germany",
          "Germany",
          "Germany",
          "Germany",
          "Germany",
          "Germany",
          "Germany",
          "Germany",
          "Germany",
          "Germany",
          "Germany",
          "Germany",
          "Germany",
          "Germany",
          "Germany",
          "Germany",
          "Germany",
          "Germany",
          "Germany",
          "Germany",
          "Germany",
          "Germany",
          "Germany",
          "Germany",
          "Germany",
          "Germany",
          "Germany",
          "Germany",
          "Germany",
          "Germany",
          "Germany",
          "Germany",
          "Germany",
          "Germany",
          "Germany",
          "Germany",
          "Germany",
          "Germany",
          "Germany",
          "Germany",
          "Germany",
          "Germany",
          "Germany",
          "Germany",
          "Germany",
          "Germany",
          "Germany",
          "Germany",
          "Germany",
          "Germany",
          "Germany",
          "Germany",
          "Germany",
          "Germany",
          "Germany",
          "Germany",
          "Germany",
          "Germany",
          "Germany",
          "Germany",
          "Germany",
          "Germany",
          "Germany",
          "Germany",
          "Germany",
          "Germany",
          "Germany",
          "Germany",
          "Germany",
          "Germany",
          "Germany",
          "Germany"
         ],
         "x0": " ",
         "xaxis": "x",
         "y": {
          "bdata": "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",
          "dtype": "f8"
         },
         "y0": " ",
         "yaxis": "y"
        },
        {
         "alignmentgroup": "True",
         "box": {
          "visible": true
         },
         "customdata": {
          "bdata": "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",
          "dtype": "f8",
          "shape": "249, 1"
         },
         "hovertemplate": "country=%{x}<br>slope_sen_per_decade=%{y}<br>p=%{customdata[0]}<extra></extra>",
         "legendgroup": "Italy",
         "marker": {
          "color": "#ab63fa"
         },
         "name": "Italy",
         "offsetgroup": "Italy",
         "orientation": "v",
         "points": "all",
         "scalegroup": "True",
         "showlegend": true,
         "type": "violin",
         "x": [
          "Italy",
          "Italy",
          "Italy",
          "Italy",
          "Italy",
          "Italy",
          "Italy",
          "Italy",
          "Italy",
          "Italy",
          "Italy",
          "Italy",
          "Italy",
          "Italy",
          "Italy",
          "Italy",
          "Italy",
          "Italy",
          "Italy",
          "Italy",
          "Italy",
          "Italy",
          "Italy",
          "Italy",
          "Italy",
          "Italy",
          "Italy",
          "Italy",
          "Italy",
          "Italy",
          "Italy",
          "Italy",
          "Italy",
          "Italy",
          "Italy",
          "Italy",
          "Italy",
          "Italy",
          "Italy",
          "Italy",
          "Italy",
          "Italy",
          "Italy",
          "Italy",
          "Italy",
          "Italy",
          "Italy",
          "Italy",
          "Italy",
          "Italy",
          "Italy",
          "Italy",
          "Italy",
          "Italy",
          "Italy",
          "Italy",
          "Italy",
          "Italy",
          "Italy",
          "Italy",
          "Italy",
          "Italy",
          "Italy",
          "Italy",
          "Italy",
          "Italy",
          "Italy",
          "Italy",
          "Italy",
          "Italy",
          "Italy",
          "Italy",
          "Italy",
          "Italy",
          "Italy",
          "Italy",
          "Italy",
          "Italy",
          "Italy",
          "Italy",
          "Italy",
          "Italy",
          "Italy",
          "Italy",
          "Italy",
          "Italy",
          "Italy",
          "Italy",
          "Italy",
          "Italy",
          "Italy",
          "Italy",
          "Italy",
          "Italy",
          "Italy",
          "Italy",
          "Italy",
          "Italy",
          "Italy",
          "Italy",
          "Italy",
          "Italy",
          "Italy",
          "Italy",
          "Italy",
          "Italy",
          "Italy",
          "Italy",
          "Italy",
          "Italy",
          "Italy",
          "Italy",
          "Italy",
          "Italy",
          "Italy",
          "Italy",
          "Italy",
          "Italy",
          "Italy",
          "Italy",
          "Italy",
          "Italy",
          "Italy",
          "Italy",
          "Italy",
          "Italy",
          "Italy",
          "Italy",
          "Italy",
          "Italy",
          "Italy",
          "Italy",
          "Italy",
          "Italy",
          "Italy",
          "Italy",
          "Italy",
          "Italy",
          "Italy",
          "Italy",
          "Italy",
          "Italy",
          "Italy",
          "Italy",
          "Italy",
          "Italy",
          "Italy",
          "Italy",
          "Italy",
          "Italy",
          "Italy",
          "Italy",
          "Italy",
          "Italy",
          "Italy",
          "Italy",
          "Italy",
          "Italy",
          "Italy",
          "Italy",
          "Italy",
          "Italy",
          "Italy",
          "Italy",
          "Italy",
          "Italy",
          "Italy",
          "Italy",
          "Italy",
          "Italy",
          "Italy",
          "Italy",
          "Italy",
          "Italy",
          "Italy",
          "Italy",
          "Italy",
          "Italy",
          "Italy",
          "Italy",
          "Italy",
          "Italy",
          "Italy",
          "Italy",
          "Italy",
          "Italy",
          "Italy",
          "Italy",
          "Italy",
          "Italy",
          "Italy",
          "Italy",
          "Italy",
          "Italy",
          "Italy",
          "Italy",
          "Italy",
          "Italy",
          "Italy",
          "Italy",
          "Italy",
          "Italy",
          "Italy",
          "Italy",
          "Italy",
          "Italy",
          "Italy",
          "Italy",
          "Italy",
          "Italy",
          "Italy",
          "Italy",
          "Italy",
          "Italy",
          "Italy",
          "Italy",
          "Italy",
          "Italy",
          "Italy",
          "Italy",
          "Italy",
          "Italy",
          "Italy",
          "Italy",
          "Italy",
          "Italy",
          "Italy",
          "Italy",
          "Italy",
          "Italy",
          "Italy",
          "Italy",
          "Italy",
          "Italy",
          "Italy",
          "Italy",
          "Italy",
          "Italy",
          "Italy",
          "Italy",
          "Italy",
          "Italy",
          "Italy",
          "Italy",
          "Italy",
          "Italy",
          "Italy",
          "Italy",
          "Italy"
         ],
         "x0": " ",
         "xaxis": "x",
         "y": {
          "bdata": "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",
          "dtype": "f8"
         },
         "y0": " ",
         "yaxis": "y"
        },
        {
         "alignmentgroup": "True",
         "box": {
          "visible": true
         },
         "customdata": {
          "bdata": "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",
          "dtype": "f8",
          "shape": "366, 1"
         },
         "hovertemplate": "country=%{x}<br>slope_sen_per_decade=%{y}<br>p=%{customdata[0]}<extra></extra>",
         "legendgroup": "Slovenia",
         "marker": {
          "color": "#FFA15A"
         },
         "name": "Slovenia",
         "offsetgroup": "Slovenia",
         "orientation": "v",
         "points": "all",
         "scalegroup": "True",
         "showlegend": true,
         "type": "violin",
         "x": [
          "Slovenia",
          "Slovenia",
          "Slovenia",
          "Slovenia",
          "Slovenia",
          "Slovenia",
          "Slovenia",
          "Slovenia",
          "Slovenia",
          "Slovenia",
          "Slovenia",
          "Slovenia",
          "Slovenia",
          "Slovenia",
          "Slovenia",
          "Slovenia",
          "Slovenia",
          "Slovenia",
          "Slovenia",
          "Slovenia",
          "Slovenia",
          "Slovenia",
          "Slovenia",
          "Slovenia",
          "Slovenia",
          "Slovenia",
          "Slovenia",
          "Slovenia",
          "Slovenia",
          "Slovenia",
          "Slovenia",
          "Slovenia",
          "Slovenia",
          "Slovenia",
          "Slovenia",
          "Slovenia",
          "Slovenia",
          "Slovenia",
          "Slovenia",
          "Slovenia",
          "Slovenia",
          "Slovenia",
          "Slovenia",
          "Slovenia",
          "Slovenia",
          "Slovenia",
          "Slovenia",
          "Slovenia",
          "Slovenia",
          "Slovenia",
          "Slovenia",
          "Slovenia",
          "Slovenia",
          "Slovenia",
          "Slovenia",
          "Slovenia",
          "Slovenia",
          "Slovenia",
          "Slovenia",
          "Slovenia",
          "Slovenia",
          "Slovenia",
          "Slovenia",
          "Slovenia",
          "Slovenia",
          "Slovenia",
          "Slovenia",
          "Slovenia",
          "Slovenia",
          "Slovenia",
          "Slovenia",
          "Slovenia",
          "Slovenia",
          "Slovenia",
          "Slovenia",
          "Slovenia",
          "Slovenia",
          "Slovenia",
          "Slovenia",
          "Slovenia",
          "Slovenia",
          "Slovenia",
          "Slovenia",
          "Slovenia",
          "Slovenia",
          "Slovenia",
          "Slovenia",
          "Slovenia",
          "Slovenia",
          "Slovenia",
          "Slovenia",
          "Slovenia",
          "Slovenia",
          "Slovenia",
          "Slovenia",
          "Slovenia",
          "Slovenia",
          "Slovenia",
          "Slovenia",
          "Slovenia",
          "Slovenia",
          "Slovenia",
          "Slovenia",
          "Slovenia",
          "Slovenia",
          "Slovenia",
          "Slovenia",
          "Slovenia",
          "Slovenia",
          "Slovenia",
          "Slovenia",
          "Slovenia",
          "Slovenia",
          "Slovenia",
          "Slovenia",
          "Slovenia",
          "Slovenia",
          "Slovenia",
          "Slovenia",
          "Slovenia",
          "Slovenia",
          "Slovenia",
          "Slovenia",
          "Slovenia",
          "Slovenia",
          "Slovenia",
          "Slovenia",
          "Slovenia",
          "Slovenia",
          "Slovenia",
          "Slovenia",
          "Slovenia",
          "Slovenia",
          "Slovenia",
          "Slovenia",
          "Slovenia",
          "Slovenia",
          "Slovenia",
          "Slovenia",
          "Slovenia",
          "Slovenia",
          "Slovenia",
          "Slovenia",
          "Slovenia",
          "Slovenia",
          "Slovenia",
          "Slovenia",
          "Slovenia",
          "Slovenia",
          "Slovenia",
          "Slovenia",
          "Slovenia",
          "Slovenia",
          "Slovenia",
          "Slovenia",
          "Slovenia",
          "Slovenia",
          "Slovenia",
          "Slovenia",
          "Slovenia",
          "Slovenia",
          "Slovenia",
          "Slovenia",
          "Slovenia",
          "Slovenia",
          "Slovenia",
          "Slovenia",
          "Slovenia",
          "Slovenia",
          "Slovenia",
          "Slovenia",
          "Slovenia",
          "Slovenia",
          "Slovenia",
          "Slovenia",
          "Slovenia",
          "Slovenia",
          "Slovenia",
          "Slovenia",
          "Slovenia",
          "Slovenia",
          "Slovenia",
          "Slovenia",
          "Slovenia",
          "Slovenia",
          "Slovenia",
          "Slovenia",
          "Slovenia",
          "Slovenia",
          "Slovenia",
          "Slovenia",
          "Slovenia",
          "Slovenia",
          "Slovenia",
          "Slovenia",
          "Slovenia",
          "Slovenia",
          "Slovenia",
          "Slovenia",
          "Slovenia",
          "Slovenia",
          "Slovenia",
          "Slovenia",
          "Slovenia",
          "Slovenia",
          "Slovenia",
          "Slovenia",
          "Slovenia",
          "Slovenia",
          "Slovenia",
          "Slovenia",
          "Slovenia",
          "Slovenia",
          "Slovenia",
          "Slovenia",
          "Slovenia",
          "Slovenia",
          "Slovenia",
          "Slovenia",
          "Slovenia",
          "Slovenia",
          "Slovenia",
          "Slovenia",
          "Slovenia",
          "Slovenia",
          "Slovenia",
          "Slovenia",
          "Slovenia",
          "Slovenia",
          "Slovenia",
          "Slovenia",
          "Slovenia",
          "Slovenia",
          "Slovenia",
          "Slovenia",
          "Slovenia",
          "Slovenia",
          "Slovenia",
          "Slovenia",
          "Slovenia",
          "Slovenia",
          "Slovenia",
          "Slovenia",
          "Slovenia",
          "Slovenia",
          "Slovenia",
          "Slovenia",
          "Slovenia",
          "Slovenia",
          "Slovenia",
          "Slovenia",
          "Slovenia",
          "Slovenia",
          "Slovenia",
          "Slovenia",
          "Slovenia",
          "Slovenia",
          "Slovenia",
          "Slovenia",
          "Slovenia",
          "Slovenia",
          "Slovenia",
          "Slovenia",
          "Slovenia",
          "Slovenia",
          "Slovenia",
          "Slovenia",
          "Slovenia",
          "Slovenia",
          "Slovenia",
          "Slovenia",
          "Slovenia",
          "Slovenia",
          "Slovenia",
          "Slovenia",
          "Slovenia",
          "Slovenia",
          "Slovenia",
          "Slovenia",
          "Slovenia",
          "Slovenia",
          "Slovenia",
          "Slovenia",
          "Slovenia",
          "Slovenia",
          "Slovenia",
          "Slovenia",
          "Slovenia",
          "Slovenia",
          "Slovenia",
          "Slovenia",
          "Slovenia",
          "Slovenia",
          "Slovenia",
          "Slovenia",
          "Slovenia",
          "Slovenia",
          "Slovenia",
          "Slovenia",
          "Slovenia",
          "Slovenia",
          "Slovenia",
          "Slovenia",
          "Slovenia",
          "Slovenia",
          "Slovenia",
          "Slovenia",
          "Slovenia",
          "Slovenia",
          "Slovenia",
          "Slovenia",
          "Slovenia",
          "Slovenia",
          "Slovenia",
          "Slovenia",
          "Slovenia",
          "Slovenia",
          "Slovenia",
          "Slovenia",
          "Slovenia",
          "Slovenia",
          "Slovenia",
          "Slovenia",
          "Slovenia",
          "Slovenia",
          "Slovenia",
          "Slovenia",
          "Slovenia",
          "Slovenia",
          "Slovenia",
          "Slovenia",
          "Slovenia",
          "Slovenia",
          "Slovenia",
          "Slovenia",
          "Slovenia",
          "Slovenia",
          "Slovenia",
          "Slovenia",
          "Slovenia",
          "Slovenia",
          "Slovenia",
          "Slovenia",
          "Slovenia",
          "Slovenia",
          "Slovenia",
          "Slovenia",
          "Slovenia",
          "Slovenia",
          "Slovenia",
          "Slovenia",
          "Slovenia",
          "Slovenia",
          "Slovenia",
          "Slovenia",
          "Slovenia",
          "Slovenia",
          "Slovenia",
          "Slovenia",
          "Slovenia",
          "Slovenia",
          "Slovenia",
          "Slovenia",
          "Slovenia",
          "Slovenia",
          "Slovenia"
         ],
         "x0": " ",
         "xaxis": "x",
         "y": {
          "bdata": "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",
          "dtype": "f8"
         },
         "y0": " ",
         "yaxis": "y"
        },
        {
         "alignmentgroup": "True",
         "box": {
          "visible": true
         },
         "customdata": {
          "bdata": "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",
          "dtype": "f8",
          "shape": "1096, 1"
         },
         "hovertemplate": "country=%{x}<br>slope_sen_per_decade=%{y}<br>p=%{customdata[0]}<extra></extra>",
         "legendgroup": "Switzerland",
         "marker": {
          "color": "#19d3f3"
         },
         "name": "Switzerland",
         "offsetgroup": "Switzerland",
         "orientation": "v",
         "points": "all",
         "scalegroup": "True",
         "showlegend": true,
         "type": "violin",
         "x": [
          "Switzerland",
          "Switzerland",
          "Switzerland",
          "Switzerland",
          "Switzerland",
          "Switzerland",
          "Switzerland",
          "Switzerland",
          "Switzerland",
          "Switzerland",
          "Switzerland",
          "Switzerland",
          "Switzerland",
          "Switzerland",
          "Switzerland",
          "Switzerland",
          "Switzerland",
          "Switzerland",
          "Switzerland",
          "Switzerland",
          "Switzerland",
          "Switzerland",
          "Switzerland",
          "Switzerland",
          "Switzerland",
          "Switzerland",
          "Switzerland",
          "Switzerland",
          "Switzerland",
          "Switzerland",
          "Switzerland",
          "Switzerland",
          "Switzerland",
          "Switzerland",
          "Switzerland",
          "Switzerland",
          "Switzerland",
          "Switzerland",
          "Switzerland",
          "Switzerland",
          "Switzerland",
          "Switzerland",
          "Switzerland",
          "Switzerland",
          "Switzerland",
          "Switzerland",
          "Switzerland",
          "Switzerland",
          "Switzerland",
          "Switzerland",
          "Switzerland",
          "Switzerland",
          "Switzerland",
          "Switzerland",
          "Switzerland",
          "Switzerland",
          "Switzerland",
          "Switzerland",
          "Switzerland",
          "Switzerland",
          "Switzerland",
          "Switzerland",
          "Switzerland",
          "Switzerland",
          "Switzerland",
          "Switzerland",
          "Switzerland",
          "Switzerland",
          "Switzerland",
          "Switzerland",
          "Switzerland",
          "Switzerland",
          "Switzerland",
          "Switzerland",
          "Switzerland",
          "Switzerland",
          "Switzerland",
          "Switzerland",
          "Switzerland",
          "Switzerland",
          "Switzerland",
          "Switzerland",
          "Switzerland",
          "Switzerland",
          "Switzerland",
          "Switzerland",
          "Switzerland",
          "Switzerland",
          "Switzerland",
          "Switzerland",
          "Switzerland",
          "Switzerland",
          "Switzerland",
          "Switzerland",
          "Switzerland",
          "Switzerland",
          "Switzerland",
          "Switzerland",
          "Switzerland",
          "Switzerland",
          "Switzerland",
          "Switzerland",
          "Switzerland",
          "Switzerland",
          "Switzerland",
          "Switzerland",
          "Switzerland",
          "Switzerland",
          "Switzerland",
          "Switzerland",
          "Switzerland",
          "Switzerland",
          "Switzerland",
          "Switzerland",
          "Switzerland",
          "Switzerland",
          "Switzerland",
          "Switzerland",
          "Switzerland",
          "Switzerland",
          "Switzerland",
          "Switzerland",
          "Switzerland",
          "Switzerland",
          "Switzerland",
          "Switzerland",
          "Switzerland",
          "Switzerland",
          "Switzerland",
          "Switzerland",
          "Switzerland",
          "Switzerland",
          "Switzerland",
          "Switzerland",
          "Switzerland",
          "Switzerland",
          "Switzerland",
          "Switzerland",
          "Switzerland",
          "Switzerland",
          "Switzerland",
          "Switzerland",
          "Switzerland",
          "Switzerland",
          "Switzerland",
          "Switzerland",
          "Switzerland",
          "Switzerland",
          "Switzerland",
          "Switzerland",
          "Switzerland",
          "Switzerland",
          "Switzerland",
          "Switzerland",
          "Switzerland",
          "Switzerland",
          "Switzerland",
          "Switzerland",
          "Switzerland",
          "Switzerland",
          "Switzerland",
          "Switzerland",
          "Switzerland",
          "Switzerland",
          "Switzerland",
          "Switzerland",
          "Switzerland",
          "Switzerland",
          "Switzerland",
          "Switzerland",
          "Switzerland",
          "Switzerland",
          "Switzerland",
          "Switzerland",
          "Switzerland",
          "Switzerland",
          "Switzerland",
          "Switzerland",
          "Switzerland",
          "Switzerland",
          "Switzerland",
          "Switzerland",
          "Switzerland",
          "Switzerland",
          "Switzerland",
          "Switzerland",
          "Switzerland",
          "Switzerland",
          "Switzerland",
          "Switzerland",
          "Switzerland",
          "Switzerland",
          "Switzerland",
          "Switzerland",
          "Switzerland",
          "Switzerland",
          "Switzerland",
          "Switzerland",
          "Switzerland",
          "Switzerland",
          "Switzerland",
          "Switzerland",
          "Switzerland",
          "Switzerland",
          "Switzerland",
          "Switzerland",
          "Switzerland",
          "Switzerland",
          "Switzerland",
          "Switzerland",
          "Switzerland",
          "Switzerland",
          "Switzerland",
          "Switzerland",
          "Switzerland",
          "Switzerland",
          "Switzerland",
          "Switzerland",
          "Switzerland",
          "Switzerland",
          "Switzerland",
          "Switzerland",
          "Switzerland",
          "Switzerland",
          "Switzerland",
          "Switzerland",
          "Switzerland",
          "Switzerland",
          "Switzerland",
          "Switzerland",
          "Switzerland",
          "Switzerland",
          "Switzerland",
          "Switzerland",
          "Switzerland",
          "Switzerland",
          "Switzerland",
          "Switzerland",
          "Switzerland",
          "Switzerland",
          "Switzerland",
          "Switzerland",
          "Switzerland",
          "Switzerland",
          "Switzerland",
          "Switzerland",
          "Switzerland",
          "Switzerland",
          "Switzerland",
          "Switzerland",
          "Switzerland",
          "Switzerland",
          "Switzerland",
          "Switzerland",
          "Switzerland",
          "Switzerland",
          "Switzerland",
          "Switzerland",
          "Switzerland",
          "Switzerland",
          "Switzerland",
          "Switzerland",
          "Switzerland",
          "Switzerland",
          "Switzerland",
          "Switzerland",
          "Switzerland",
          "Switzerland",
          "Switzerland",
          "Switzerland",
          "Switzerland",
          "Switzerland",
          "Switzerland",
          "Switzerland",
          "Switzerland",
          "Switzerland",
          "Switzerland",
          "Switzerland",
          "Switzerland",
          "Switzerland",
          "Switzerland",
          "Switzerland",
          "Switzerland",
          "Switzerland",
          "Switzerland",
          "Switzerland",
          "Switzerland",
          "Switzerland",
          "Switzerland",
          "Switzerland",
          "Switzerland",
          "Switzerland",
          "Switzerland",
          "Switzerland",
          "Switzerland",
          "Switzerland",
          "Switzerland",
          "Switzerland",
          "Switzerland",
          "Switzerland",
          "Switzerland",
          "Switzerland",
          "Switzerland",
          "Switzerland",
          "Switzerland",
          "Switzerland",
          "Switzerland",
          "Switzerland",
          "Switzerland",
          "Switzerland",
          "Switzerland",
          "Switzerland",
          "Switzerland",
          "Switzerland",
          "Switzerland",
          "Switzerland",
          "Switzerland",
          "Switzerland",
          "Switzerland",
          "Switzerland",
          "Switzerland",
          "Switzerland",
          "Switzerland",
          "Switzerland",
          "Switzerland",
          "Switzerland",
          "Switzerland",
          "Switzerland",
          "Switzerland",
          "Switzerland",
          "Switzerland",
          "Switzerland",
          "Switzerland",
          "Switzerland",
          "Switzerland",
          "Switzerland",
          "Switzerland",
          "Switzerland",
          "Switzerland",
          "Switzerland",
          "Switzerland",
          "Switzerland",
          "Switzerland",
          "Switzerland",
          "Switzerland",
          "Switzerland",
          "Switzerland",
          "Switzerland",
          "Switzerland",
          "Switzerland",
          "Switzerland",
          "Switzerland",
          "Switzerland",
          "Switzerland",
          "Switzerland",
          "Switzerland",
          "Switzerland",
          "Switzerland",
          "Switzerland",
          "Switzerland",
          "Switzerland",
          "Switzerland",
          "Switzerland",
          "Switzerland",
          "Switzerland",
          "Switzerland",
          "Switzerland",
          "Switzerland",
          "Switzerland",
          "Switzerland",
          "Switzerland",
          "Switzerland",
          "Switzerland",
          "Switzerland",
          "Switzerland",
          "Switzerland",
          "Switzerland",
          "Switzerland",
          "Switzerland",
          "Switzerland",
          "Switzerland",
          "Switzerland",
          "Switzerland",
          "Switzerland",
          "Switzerland",
          "Switzerland",
          "Switzerland",
          "Switzerland",
          "Switzerland",
          "Switzerland",
          "Switzerland",
          "Switzerland",
          "Switzerland",
          "Switzerland",
          "Switzerland",
          "Switzerland",
          "Switzerland",
          "Switzerland",
          "Switzerland",
          "Switzerland",
          "Switzerland",
          "Switzerland",
          "Switzerland",
          "Switzerland",
          "Switzerland",
          "Switzerland",
          "Switzerland",
          "Switzerland",
          "Switzerland",
          "Switzerland",
          "Switzerland",
          "Switzerland",
          "Switzerland",
          "Switzerland",
          "Switzerland",
          "Switzerland",
          "Switzerland",
          "Switzerland",
          "Switzerland",
          "Switzerland",
          "Switzerland",
          "Switzerland",
          "Switzerland",
          "Switzerland",
          "Switzerland",
          "Switzerland",
          "Switzerland",
          "Switzerland",
          "Switzerland",
          "Switzerland",
          "Switzerland",
          "Switzerland",
          "Switzerland",
          "Switzerland",
          "Switzerland",
          "Switzerland",
          "Switzerland",
          "Switzerland",
          "Switzerland",
          "Switzerland",
          "Switzerland",
          "Switzerland",
          "Switzerland",
          "Switzerland",
          "Switzerland",
          "Switzerland",
          "Switzerland",
          "Switzerland",
          "Switzerland",
          "Switzerland",
          "Switzerland",
          "Switzerland",
          "Switzerland",
          "Switzerland",
          "Switzerland",
          "Switzerland",
          "Switzerland",
          "Switzerland",
          "Switzerland",
          "Switzerland",
          "Switzerland",
          "Switzerland",
          "Switzerland",
          "Switzerland",
          "Switzerland",
          "Switzerland",
          "Switzerland",
          "Switzerland",
          "Switzerland",
          "Switzerland",
          "Switzerland",
          "Switzerland",
          "Switzerland",
          "Switzerland",
          "Switzerland",
          "Switzerland",
          "Switzerland",
          "Switzerland",
          "Switzerland",
          "Switzerland",
          "Switzerland",
          "Switzerland",
          "Switzerland",
          "Switzerland",
          "Switzerland",
          "Switzerland",
          "Switzerland",
          "Switzerland",
          "Switzerland",
          "Switzerland",
          "Switzerland",
          "Switzerland",
          "Switzerland",
          "Switzerland",
          "Switzerland",
          "Switzerland",
          "Switzerland",
          "Switzerland",
          "Switzerland",
          "Switzerland",
          "Switzerland",
          "Switzerland",
          "Switzerland",
          "Switzerland",
          "Switzerland",
          "Switzerland",
          "Switzerland",
          "Switzerland",
          "Switzerland",
          "Switzerland",
          "Switzerland",
          "Switzerland",
          "Switzerland",
          "Switzerland",
          "Switzerland",
          "Switzerland",
          "Switzerland",
          "Switzerland",
          "Switzerland",
          "Switzerland",
          "Switzerland",
          "Switzerland",
          "Switzerland",
          "Switzerland",
          "Switzerland",
          "Switzerland",
          "Switzerland",
          "Switzerland",
          "Switzerland",
          "Switzerland",
          "Switzerland",
          "Switzerland",
          "Switzerland",
          "Switzerland",
          "Switzerland",
          "Switzerland",
          "Switzerland",
          "Switzerland",
          "Switzerland",
          "Switzerland",
          "Switzerland",
          "Switzerland",
          "Switzerland",
          "Switzerland",
          "Switzerland",
          "Switzerland",
          "Switzerland",
          "Switzerland",
          "Switzerland",
          "Switzerland",
          "Switzerland",
          "Switzerland",
          "Switzerland",
          "Switzerland",
          "Switzerland",
          "Switzerland",
          "Switzerland",
          "Switzerland",
          "Switzerland",
          "Switzerland",
          "Switzerland",
          "Switzerland",
          "Switzerland",
          "Switzerland",
          "Switzerland",
          "Switzerland",
          "Switzerland",
          "Switzerland",
          "Switzerland",
          "Switzerland",
          "Switzerland",
          "Switzerland",
          "Switzerland",
          "Switzerland",
          "Switzerland",
          "Switzerland",
          "Switzerland",
          "Switzerland",
          "Switzerland",
          "Switzerland",
          "Switzerland",
          "Switzerland",
          "Switzerland",
          "Switzerland",
          "Switzerland",
          "Switzerland",
          "Switzerland",
          "Switzerland",
          "Switzerland",
          "Switzerland",
          "Switzerland",
          "Switzerland",
          "Switzerland",
          "Switzerland",
          "Switzerland",
          "Switzerland",
          "Switzerland",
          "Switzerland",
          "Switzerland",
          "Switzerland",
          "Switzerland",
          "Switzerland",
          "Switzerland",
          "Switzerland",
          "Switzerland",
          "Switzerland",
          "Switzerland",
          "Switzerland",
          "Switzerland",
          "Switzerland",
          "Switzerland",
          "Switzerland",
          "Switzerland",
          "Switzerland",
          "Switzerland",
          "Switzerland",
          "Switzerland",
          "Switzerland",
          "Switzerland",
          "Switzerland",
          "Switzerland",
          "Switzerland",
          "Switzerland",
          "Switzerland",
          "Switzerland",
          "Switzerland",
          "Switzerland",
          "Switzerland",
          "Switzerland",
          "Switzerland",
          "Switzerland",
          "Switzerland",
          "Switzerland",
          "Switzerland",
          "Switzerland",
          "Switzerland",
          "Switzerland",
          "Switzerland",
          "Switzerland",
          "Switzerland",
          "Switzerland",
          "Switzerland",
          "Switzerland",
          "Switzerland",
          "Switzerland",
          "Switzerland",
          "Switzerland",
          "Switzerland",
          "Switzerland",
          "Switzerland",
          "Switzerland",
          "Switzerland",
          "Switzerland",
          "Switzerland",
          "Switzerland",
          "Switzerland",
          "Switzerland",
          "Switzerland",
          "Switzerland",
          "Switzerland",
          "Switzerland",
          "Switzerland",
          "Switzerland",
          "Switzerland",
          "Switzerland",
          "Switzerland",
          "Switzerland",
          "Switzerland",
          "Switzerland",
          "Switzerland",
          "Switzerland",
          "Switzerland",
          "Switzerland",
          "Switzerland",
          "Switzerland",
          "Switzerland",
          "Switzerland",
          "Switzerland",
          "Switzerland",
          "Switzerland",
          "Switzerland",
          "Switzerland",
          "Switzerland",
          "Switzerland",
          "Switzerland",
          "Switzerland",
          "Switzerland",
          "Switzerland",
          "Switzerland",
          "Switzerland",
          "Switzerland",
          "Switzerland",
          "Switzerland",
          "Switzerland",
          "Switzerland",
          "Switzerland",
          "Switzerland",
          "Switzerland",
          "Switzerland",
          "Switzerland",
          "Switzerland",
          "Switzerland",
          "Switzerland",
          "Switzerland",
          "Switzerland",
          "Switzerland",
          "Switzerland",
          "Switzerland",
          "Switzerland",
          "Switzerland",
          "Switzerland",
          "Switzerland",
          "Switzerland",
          "Switzerland",
          "Switzerland",
          "Switzerland",
          "Switzerland",
          "Switzerland",
          "Switzerland",
          "Switzerland",
          "Switzerland",
          "Switzerland",
          "Switzerland",
          "Switzerland",
          "Switzerland",
          "Switzerland",
          "Switzerland",
          "Switzerland",
          "Switzerland",
          "Switzerland",
          "Switzerland",
          "Switzerland",
          "Switzerland",
          "Switzerland",
          "Switzerland",
          "Switzerland",
          "Switzerland",
          "Switzerland",
          "Switzerland",
          "Switzerland",
          "Switzerland",
          "Switzerland",
          "Switzerland",
          "Switzerland",
          "Switzerland",
          "Switzerland",
          "Switzerland",
          "Switzerland",
          "Switzerland",
          "Switzerland",
          "Switzerland",
          "Switzerland",
          "Switzerland",
          "Switzerland",
          "Switzerland",
          "Switzerland",
          "Switzerland",
          "Switzerland",
          "Switzerland",
          "Switzerland",
          "Switzerland",
          "Switzerland",
          "Switzerland",
          "Switzerland",
          "Switzerland",
          "Switzerland",
          "Switzerland",
          "Switzerland",
          "Switzerland",
          "Switzerland",
          "Switzerland",
          "Switzerland",
          "Switzerland",
          "Switzerland",
          "Switzerland",
          "Switzerland",
          "Switzerland",
          "Switzerland",
          "Switzerland",
          "Switzerland",
          "Switzerland",
          "Switzerland",
          "Switzerland",
          "Switzerland",
          "Switzerland",
          "Switzerland",
          "Switzerland",
          "Switzerland",
          "Switzerland",
          "Switzerland",
          "Switzerland",
          "Switzerland",
          "Switzerland",
          "Switzerland",
          "Switzerland",
          "Switzerland",
          "Switzerland",
          "Switzerland",
          "Switzerland",
          "Switzerland",
          "Switzerland",
          "Switzerland",
          "Switzerland",
          "Switzerland",
          "Switzerland",
          "Switzerland",
          "Switzerland",
          "Switzerland",
          "Switzerland",
          "Switzerland",
          "Switzerland",
          "Switzerland",
          "Switzerland",
          "Switzerland",
          "Switzerland",
          "Switzerland",
          "Switzerland",
          "Switzerland",
          "Switzerland",
          "Switzerland",
          "Switzerland",
          "Switzerland",
          "Switzerland",
          "Switzerland",
          "Switzerland",
          "Switzerland",
          "Switzerland",
          "Switzerland",
          "Switzerland",
          "Switzerland",
          "Switzerland",
          "Switzerland",
          "Switzerland",
          "Switzerland",
          "Switzerland",
          "Switzerland",
          "Switzerland",
          "Switzerland",
          "Switzerland",
          "Switzerland",
          "Switzerland",
          "Switzerland",
          "Switzerland",
          "Switzerland",
          "Switzerland",
          "Switzerland",
          "Switzerland",
          "Switzerland",
          "Switzerland",
          "Switzerland",
          "Switzerland",
          "Switzerland",
          "Switzerland",
          "Switzerland",
          "Switzerland",
          "Switzerland",
          "Switzerland",
          "Switzerland",
          "Switzerland",
          "Switzerland",
          "Switzerland",
          "Switzerland",
          "Switzerland",
          "Switzerland",
          "Switzerland",
          "Switzerland",
          "Switzerland",
          "Switzerland",
          "Switzerland",
          "Switzerland",
          "Switzerland",
          "Switzerland",
          "Switzerland",
          "Switzerland",
          "Switzerland",
          "Switzerland",
          "Switzerland",
          "Switzerland",
          "Switzerland",
          "Switzerland",
          "Switzerland",
          "Switzerland",
          "Switzerland",
          "Switzerland",
          "Switzerland",
          "Switzerland",
          "Switzerland",
          "Switzerland",
          "Switzerland",
          "Switzerland",
          "Switzerland",
          "Switzerland",
          "Switzerland",
          "Switzerland",
          "Switzerland",
          "Switzerland",
          "Switzerland",
          "Switzerland",
          "Switzerland",
          "Switzerland",
          "Switzerland",
          "Switzerland",
          "Switzerland",
          "Switzerland",
          "Switzerland",
          "Switzerland",
          "Switzerland",
          "Switzerland",
          "Switzerland",
          "Switzerland",
          "Switzerland",
          "Switzerland",
          "Switzerland",
          "Switzerland",
          "Switzerland",
          "Switzerland",
          "Switzerland",
          "Switzerland",
          "Switzerland",
          "Switzerland",
          "Switzerland",
          "Switzerland",
          "Switzerland",
          "Switzerland",
          "Switzerland",
          "Switzerland",
          "Switzerland",
          "Switzerland",
          "Switzerland",
          "Switzerland",
          "Switzerland",
          "Switzerland",
          "Switzerland",
          "Switzerland",
          "Switzerland",
          "Switzerland",
          "Switzerland",
          "Switzerland",
          "Switzerland",
          "Switzerland",
          "Switzerland",
          "Switzerland",
          "Switzerland",
          "Switzerland",
          "Switzerland",
          "Switzerland",
          "Switzerland",
          "Switzerland",
          "Switzerland",
          "Switzerland",
          "Switzerland",
          "Switzerland",
          "Switzerland",
          "Switzerland",
          "Switzerland",
          "Switzerland",
          "Switzerland",
          "Switzerland",
          "Switzerland",
          "Switzerland",
          "Switzerland",
          "Switzerland",
          "Switzerland",
          "Switzerland",
          "Switzerland",
          "Switzerland",
          "Switzerland",
          "Switzerland",
          "Switzerland",
          "Switzerland",
          "Switzerland",
          "Switzerland",
          "Switzerland",
          "Switzerland",
          "Switzerland",
          "Switzerland",
          "Switzerland",
          "Switzerland",
          "Switzerland",
          "Switzerland",
          "Switzerland",
          "Switzerland",
          "Switzerland",
          "Switzerland",
          "Switzerland",
          "Switzerland",
          "Switzerland",
          "Switzerland",
          "Switzerland",
          "Switzerland",
          "Switzerland",
          "Switzerland",
          "Switzerland",
          "Switzerland",
          "Switzerland",
          "Switzerland",
          "Switzerland",
          "Switzerland",
          "Switzerland",
          "Switzerland",
          "Switzerland",
          "Switzerland",
          "Switzerland",
          "Switzerland",
          "Switzerland",
          "Switzerland",
          "Switzerland",
          "Switzerland",
          "Switzerland",
          "Switzerland",
          "Switzerland",
          "Switzerland",
          "Switzerland",
          "Switzerland",
          "Switzerland",
          "Switzerland",
          "Switzerland",
          "Switzerland",
          "Switzerland",
          "Switzerland",
          "Switzerland",
          "Switzerland",
          "Switzerland",
          "Switzerland",
          "Switzerland",
          "Switzerland",
          "Switzerland",
          "Switzerland",
          "Switzerland",
          "Switzerland",
          "Switzerland",
          "Switzerland",
          "Switzerland",
          "Switzerland",
          "Switzerland",
          "Switzerland",
          "Switzerland",
          "Switzerland",
          "Switzerland",
          "Switzerland",
          "Switzerland",
          "Switzerland",
          "Switzerland",
          "Switzerland",
          "Switzerland",
          "Switzerland",
          "Switzerland",
          "Switzerland",
          "Switzerland",
          "Switzerland",
          "Switzerland",
          "Switzerland",
          "Switzerland",
          "Switzerland",
          "Switzerland",
          "Switzerland",
          "Switzerland",
          "Switzerland",
          "Switzerland",
          "Switzerland",
          "Switzerland",
          "Switzerland",
          "Switzerland",
          "Switzerland",
          "Switzerland",
          "Switzerland",
          "Switzerland",
          "Switzerland",
          "Switzerland",
          "Switzerland",
          "Switzerland",
          "Switzerland",
          "Switzerland",
          "Switzerland",
          "Switzerland",
          "Switzerland",
          "Switzerland",
          "Switzerland",
          "Switzerland",
          "Switzerland",
          "Switzerland",
          "Switzerland",
          "Switzerland",
          "Switzerland",
          "Switzerland",
          "Switzerland",
          "Switzerland",
          "Switzerland",
          "Switzerland",
          "Switzerland",
          "Switzerland",
          "Switzerland",
          "Switzerland",
          "Switzerland",
          "Switzerland",
          "Switzerland"
         ],
         "x0": " ",
         "xaxis": "x",
         "y": {
          "bdata": "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",
          "dtype": "f8"
         },
         "y0": " ",
         "yaxis": "y"
        },
        {
         "marker": {
          "color": "black",
          "size": 12,
          "symbol": "diamond"
         },
         "mode": "markers",
         "name": "Macro (median across months)",
         "type": "scatter",
         "x": [
          "Austria",
          "France",
          "Germany",
          "Italy",
          "Slovenia",
          "Switzerland"
         ],
         "y": {
          "bdata": "3ANdD3Q98L8AOdS0IiLJv5fBvrv0AOS/csMNN9xw17+BVX1SrYX9v2JjZLPQTNG/",
          "dtype": "f8"
         }
        }
       ],
       "layout": {
        "height": 500,
        "legend": {
         "title": {
          "text": "country"
         },
         "tracegroupgap": 0
        },
        "margin": {
         "t": 60
        },
        "shapes": [
         {
          "line": {
           "color": "blue",
           "dash": "dash"
          },
          "type": "line",
          "x0": 0,
          "x1": 1,
          "xref": "x domain",
          "y0": 0,
          "y1": 0,
          "yref": "y"
         }
        ],
        "template": {
         "data": {
          "bar": [
           {
            "error_x": {
             "color": "#2a3f5f"
            },
            "error_y": {
             "color": "#2a3f5f"
            },
            "marker": {
             "line": {
              "color": "#E5ECF6",
              "width": 0.5
             },
             "pattern": {
              "fillmode": "overlay",
              "size": 10,
              "solidity": 0.2
             }
            },
            "type": "bar"
           }
          ],
          "barpolar": [
           {
            "marker": {
             "line": {
              "color": "#E5ECF6",
              "width": 0.5
             },
             "pattern": {
              "fillmode": "overlay",
              "size": 10,
              "solidity": 0.2
             }
            },
            "type": "barpolar"
           }
          ],
          "carpet": [
           {
            "aaxis": {
             "endlinecolor": "#2a3f5f",
             "gridcolor": "white",
             "linecolor": "white",
             "minorgridcolor": "white",
             "startlinecolor": "#2a3f5f"
            },
            "baxis": {
             "endlinecolor": "#2a3f5f",
             "gridcolor": "white",
             "linecolor": "white",
             "minorgridcolor": "white",
             "startlinecolor": "#2a3f5f"
            },
            "type": "carpet"
           }
          ],
          "choropleth": [
           {
            "colorbar": {
             "outlinewidth": 0,
             "ticks": ""
            },
            "type": "choropleth"
           }
          ],
          "contour": [
           {
            "colorbar": {
             "outlinewidth": 0,
             "ticks": ""
            },
            "colorscale": [
             [
              0,
              "#0d0887"
             ],
             [
              0.1111111111111111,
              "#46039f"
             ],
             [
              0.2222222222222222,
              "#7201a8"
             ],
             [
              0.3333333333333333,
              "#9c179e"
             ],
             [
              0.4444444444444444,
              "#bd3786"
             ],
             [
              0.5555555555555556,
              "#d8576b"
             ],
             [
              0.6666666666666666,
              "#ed7953"
             ],
             [
              0.7777777777777778,
              "#fb9f3a"
             ],
             [
              0.8888888888888888,
              "#fdca26"
             ],
             [
              1,
              "#f0f921"
             ]
            ],
            "type": "contour"
           }
          ],
          "contourcarpet": [
           {
            "colorbar": {
             "outlinewidth": 0,
             "ticks": ""
            },
            "type": "contourcarpet"
           }
          ],
          "heatmap": [
           {
            "colorbar": {
             "outlinewidth": 0,
             "ticks": ""
            },
            "colorscale": [
             [
              0,
              "#0d0887"
             ],
             [
              0.1111111111111111,
              "#46039f"
             ],
             [
              0.2222222222222222,
              "#7201a8"
             ],
             [
              0.3333333333333333,
              "#9c179e"
             ],
             [
              0.4444444444444444,
              "#bd3786"
             ],
             [
              0.5555555555555556,
              "#d8576b"
             ],
             [
              0.6666666666666666,
              "#ed7953"
             ],
             [
              0.7777777777777778,
              "#fb9f3a"
             ],
             [
              0.8888888888888888,
              "#fdca26"
             ],
             [
              1,
              "#f0f921"
             ]
            ],
            "type": "heatmap"
           }
          ],
          "histogram": [
           {
            "marker": {
             "pattern": {
              "fillmode": "overlay",
              "size": 10,
              "solidity": 0.2
             }
            },
            "type": "histogram"
           }
          ],
          "histogram2d": [
           {
            "colorbar": {
             "outlinewidth": 0,
             "ticks": ""
            },
            "colorscale": [
             [
              0,
              "#0d0887"
             ],
             [
              0.1111111111111111,
              "#46039f"
             ],
             [
              0.2222222222222222,
              "#7201a8"
             ],
             [
              0.3333333333333333,
              "#9c179e"
             ],
             [
              0.4444444444444444,
              "#bd3786"
             ],
             [
              0.5555555555555556,
              "#d8576b"
             ],
             [
              0.6666666666666666,
              "#ed7953"
             ],
             [
              0.7777777777777778,
              "#fb9f3a"
             ],
             [
              0.8888888888888888,
              "#fdca26"
             ],
             [
              1,
              "#f0f921"
             ]
            ],
            "type": "histogram2d"
           }
          ],
          "histogram2dcontour": [
           {
            "colorbar": {
             "outlinewidth": 0,
             "ticks": ""
            },
            "colorscale": [
             [
              0,
              "#0d0887"
             ],
             [
              0.1111111111111111,
              "#46039f"
             ],
             [
              0.2222222222222222,
              "#7201a8"
             ],
             [
              0.3333333333333333,
              "#9c179e"
             ],
             [
              0.4444444444444444,
              "#bd3786"
             ],
             [
              0.5555555555555556,
              "#d8576b"
             ],
             [
              0.6666666666666666,
              "#ed7953"
             ],
             [
              0.7777777777777778,
              "#fb9f3a"
             ],
             [
              0.8888888888888888,
              "#fdca26"
             ],
             [
              1,
              "#f0f921"
             ]
            ],
            "type": "histogram2dcontour"
           }
          ],
          "mesh3d": [
           {
            "colorbar": {
             "outlinewidth": 0,
             "ticks": ""
            },
            "type": "mesh3d"
           }
          ],
          "parcoords": [
           {
            "line": {
             "colorbar": {
              "outlinewidth": 0,
              "ticks": ""
             }
            },
            "type": "parcoords"
           }
          ],
          "pie": [
           {
            "automargin": true,
            "type": "pie"
           }
          ],
          "scatter": [
           {
            "fillpattern": {
             "fillmode": "overlay",
             "size": 10,
             "solidity": 0.2
            },
            "type": "scatter"
           }
          ],
          "scatter3d": [
           {
            "line": {
             "colorbar": {
              "outlinewidth": 0,
              "ticks": ""
             }
            },
            "marker": {
             "colorbar": {
              "outlinewidth": 0,
              "ticks": ""
             }
            },
            "type": "scatter3d"
           }
          ],
          "scattercarpet": [
           {
            "marker": {
             "colorbar": {
              "outlinewidth": 0,
              "ticks": ""
             }
            },
            "type": "scattercarpet"
           }
          ],
          "scattergeo": [
           {
            "marker": {
             "colorbar": {
              "outlinewidth": 0,
              "ticks": ""
             }
            },
            "type": "scattergeo"
           }
          ],
          "scattergl": [
           {
            "marker": {
             "colorbar": {
              "outlinewidth": 0,
              "ticks": ""
             }
            },
            "type": "scattergl"
           }
          ],
          "scattermap": [
           {
            "marker": {
             "colorbar": {
              "outlinewidth": 0,
              "ticks": ""
             }
            },
            "type": "scattermap"
           }
          ],
          "scattermapbox": [
           {
            "marker": {
             "colorbar": {
              "outlinewidth": 0,
              "ticks": ""
             }
            },
            "type": "scattermapbox"
           }
          ],
          "scatterpolar": [
           {
            "marker": {
             "colorbar": {
              "outlinewidth": 0,
              "ticks": ""
             }
            },
            "type": "scatterpolar"
           }
          ],
          "scatterpolargl": [
           {
            "marker": {
             "colorbar": {
              "outlinewidth": 0,
              "ticks": ""
             }
            },
            "type": "scatterpolargl"
           }
          ],
          "scatterternary": [
           {
            "marker": {
             "colorbar": {
              "outlinewidth": 0,
              "ticks": ""
             }
            },
            "type": "scatterternary"
           }
          ],
          "surface": [
           {
            "colorbar": {
             "outlinewidth": 0,
             "ticks": ""
            },
            "colorscale": [
             [
              0,
              "#0d0887"
             ],
             [
              0.1111111111111111,
              "#46039f"
             ],
             [
              0.2222222222222222,
              "#7201a8"
             ],
             [
              0.3333333333333333,
              "#9c179e"
             ],
             [
              0.4444444444444444,
              "#bd3786"
             ],
             [
              0.5555555555555556,
              "#d8576b"
             ],
             [
              0.6666666666666666,
              "#ed7953"
             ],
             [
              0.7777777777777778,
              "#fb9f3a"
             ],
             [
              0.8888888888888888,
              "#fdca26"
             ],
             [
              1,
              "#f0f921"
             ]
            ],
            "type": "surface"
           }
          ],
          "table": [
           {
            "cells": {
             "fill": {
              "color": "#EBF0F8"
             },
             "line": {
              "color": "white"
             }
            },
            "header": {
             "fill": {
              "color": "#C8D4E3"
             },
             "line": {
              "color": "white"
             }
            },
            "type": "table"
           }
          ]
         },
         "layout": {
          "annotationdefaults": {
           "arrowcolor": "#2a3f5f",
           "arrowhead": 0,
           "arrowwidth": 1
          },
          "autotypenumbers": "strict",
          "coloraxis": {
           "colorbar": {
            "outlinewidth": 0,
            "ticks": ""
           }
          },
          "colorscale": {
           "diverging": [
            [
             0,
             "#8e0152"
            ],
            [
             0.1,
             "#c51b7d"
            ],
            [
             0.2,
             "#de77ae"
            ],
            [
             0.3,
             "#f1b6da"
            ],
            [
             0.4,
             "#fde0ef"
            ],
            [
             0.5,
             "#f7f7f7"
            ],
            [
             0.6,
             "#e6f5d0"
            ],
            [
             0.7,
             "#b8e186"
            ],
            [
             0.8,
             "#7fbc41"
            ],
            [
             0.9,
             "#4d9221"
            ],
            [
             1,
             "#276419"
            ]
           ],
           "sequential": [
            [
             0,
             "#0d0887"
            ],
            [
             0.1111111111111111,
             "#46039f"
            ],
            [
             0.2222222222222222,
             "#7201a8"
            ],
            [
             0.3333333333333333,
             "#9c179e"
            ],
            [
             0.4444444444444444,
             "#bd3786"
            ],
            [
             0.5555555555555556,
             "#d8576b"
            ],
            [
             0.6666666666666666,
             "#ed7953"
            ],
            [
             0.7777777777777778,
             "#fb9f3a"
            ],
            [
             0.8888888888888888,
             "#fdca26"
            ],
            [
             1,
             "#f0f921"
            ]
           ],
           "sequentialminus": [
            [
             0,
             "#0d0887"
            ],
            [
             0.1111111111111111,
             "#46039f"
            ],
            [
             0.2222222222222222,
             "#7201a8"
            ],
            [
             0.3333333333333333,
             "#9c179e"
            ],
            [
             0.4444444444444444,
             "#bd3786"
            ],
            [
             0.5555555555555556,
             "#d8576b"
            ],
            [
             0.6666666666666666,
             "#ed7953"
            ],
            [
             0.7777777777777778,
             "#fb9f3a"
            ],
            [
             0.8888888888888888,
             "#fdca26"
            ],
            [
             1,
             "#f0f921"
            ]
           ]
          },
          "colorway": [
           "#636efa",
           "#EF553B",
           "#00cc96",
           "#ab63fa",
           "#FFA15A",
           "#19d3f3",
           "#FF6692",
           "#B6E880",
           "#FF97FF",
           "#FECB52"
          ],
          "font": {
           "color": "#2a3f5f"
          },
          "geo": {
           "bgcolor": "white",
           "lakecolor": "white",
           "landcolor": "#E5ECF6",
           "showlakes": true,
           "showland": true,
           "subunitcolor": "white"
          },
          "hoverlabel": {
           "align": "left"
          },
          "hovermode": "closest",
          "mapbox": {
           "style": "light"
          },
          "paper_bgcolor": "white",
          "plot_bgcolor": "#E5ECF6",
          "polar": {
           "angularaxis": {
            "gridcolor": "white",
            "linecolor": "white",
            "ticks": ""
           },
           "bgcolor": "#E5ECF6",
           "radialaxis": {
            "gridcolor": "white",
            "linecolor": "white",
            "ticks": ""
           }
          },
          "scene": {
           "xaxis": {
            "backgroundcolor": "#E5ECF6",
            "gridcolor": "white",
            "gridwidth": 2,
            "linecolor": "white",
            "showbackground": true,
            "ticks": "",
            "zerolinecolor": "white"
           },
           "yaxis": {
            "backgroundcolor": "#E5ECF6",
            "gridcolor": "white",
            "gridwidth": 2,
            "linecolor": "white",
            "showbackground": true,
            "ticks": "",
            "zerolinecolor": "white"
           },
           "zaxis": {
            "backgroundcolor": "#E5ECF6",
            "gridcolor": "white",
            "gridwidth": 2,
            "linecolor": "white",
            "showbackground": true,
            "ticks": "",
            "zerolinecolor": "white"
           }
          },
          "shapedefaults": {
           "line": {
            "color": "#2a3f5f"
           }
          },
          "ternary": {
           "aaxis": {
            "gridcolor": "white",
            "linecolor": "white",
            "ticks": ""
           },
           "baxis": {
            "gridcolor": "white",
            "linecolor": "white",
            "ticks": ""
           },
           "bgcolor": "#E5ECF6",
           "caxis": {
            "gridcolor": "white",
            "linecolor": "white",
            "ticks": ""
           }
          },
          "title": {
           "x": 0.05
          },
          "xaxis": {
           "automargin": true,
           "gridcolor": "white",
           "linecolor": "white",
           "ticks": "",
           "title": {
            "standoff": 15
           },
           "zerolinecolor": "white",
           "zerolinewidth": 2
          },
          "yaxis": {
           "automargin": true,
           "gridcolor": "white",
           "linecolor": "white",
           "ticks": "",
           "title": {
            "standoff": 15
           },
           "zerolinecolor": "white",
           "zerolinewidth": 2
          }
         }
        },
        "title": {
         "text": "Distribution of station slopes by country"
        },
        "violinmode": "overlay",
        "xaxis": {
         "anchor": "y",
         "categoryarray": [
          "Austria",
          "France",
          "Germany",
          "Italy",
          "Slovenia",
          "Switzerland"
         ],
         "categoryorder": "array",
         "domain": [
          0,
          1
         ],
         "title": {
          "text": ""
         }
        },
        "yaxis": {
         "anchor": "x",
         "domain": [
          0,
          1
         ],
         "title": {
          "text": "Slope (cm/decade)"
         }
        }
       }
      }
     },
     "metadata": {},
     "output_type": "display_data"
    }
   ],
   "source": [
    "import plotly.express as px\n",
    "\n",
    "# One row per station-month with columns: country, slope_sen_per_decade, p\n",
    "station = typical_station_month  # if present\n",
    "\n",
    "fig = px.violin(station, x='country', y='slope_sen_per_decade', color='country',\n",
    "                box=True, points='all', hover_data=['p'], height=500)\n",
    "fig.add_hline(y=0, line_dash='dash', line_color='blue')\n",
    "\n",
    "# Overlay macro country slopes as diamonds\n",
    "over = avg_country_month.groupby('country', as_index=False).agg(\n",
    "    macro_slope=('slope_per_decade','median')  # or mean; up to you\n",
    ")\n",
    "fig.add_trace(go.Scatter(\n",
    "    x=over['country'], y=over['macro_slope'], mode='markers',\n",
    "    marker=dict(symbol='diamond', size=12, color='black'),\n",
    "    name='Macro (median across months)'\n",
    "))\n",
    "\n",
    "fig.update_layout(title='Distribution of station slopes by country',\n",
    "                  yaxis_title='Slope (cm/decade)', xaxis_title='')\n",
    "fig.show()\n"
   ]
  },
  {
   "cell_type": "code",
   "execution_count": null,
   "id": "d1537657",
   "metadata": {},
   "outputs": [
    {
     "data": {
      "application/vnd.plotly.v1+json": {
       "config": {
        "plotlyServerURL": "https://plot.ly"
       },
       "data": [
        {
         "coloraxis": "coloraxis",
         "hovertemplate": "month_name: %{x}<br>elevation_band: %{y}<br>Slope (cm/decade): %{z}<extra></extra>",
         "name": "0",
         "type": "heatmap",
         "x": [
          "Nov",
          "Dec",
          "Jan",
          "Feb",
          "Mar",
          "Apr",
          "May"
         ],
         "xaxis": "x",
         "y": [
          "High Elevation",
          "Low Elevation",
          "Mid Elevation"
         ],
         "yaxis": "y",
         "z": {
          "bdata": "yhi3mplU+r+5L7Bg90sCwJgnxb4oMvu/F4TZ0BhpCcDoAdKLbyDxv46hzo72CwTAWwTUwUByD8CVZ195/56kv6SAx/9Ciua/JCxu7u1p/L8SCjxaTtnwv19RrgQWUdu/EkTiZBdq4L8AAAAAAAAAAJMCtX6lQNO/cdO5SL3f+r8IoA1xOnkHwDjTxZ20fgDAZb4Tab4T5b97lBRIQcLjv2/hV2MiPdC/",
          "dtype": "f8",
          "shape": "3, 7"
         }
        },
        {
         "hoverinfo": "skip",
         "marker": {
          "color": "black",
          "size": 6
         },
         "mode": "markers",
         "showlegend": false,
         "type": "scatter",
         "x": [
          "Feb"
         ],
         "y": [
          "High Elevation"
         ]
        },
        {
         "hoverinfo": "skip",
         "marker": {
          "color": "black",
          "size": 6
         },
         "mode": "markers",
         "showlegend": false,
         "type": "scatter",
         "x": [
          "May"
         ],
         "y": [
          "High Elevation"
         ]
        },
        {
         "hoverinfo": "skip",
         "marker": {
          "color": "black",
          "size": 6
         },
         "mode": "markers",
         "showlegend": false,
         "type": "scatter",
         "x": [
          "May"
         ],
         "y": [
          "Low Elevation"
         ]
        },
        {
         "hoverinfo": "skip",
         "marker": {
          "color": "black",
          "size": 6
         },
         "mode": "markers",
         "showlegend": false,
         "type": "scatter",
         "x": [
          "May"
         ],
         "y": [
          "Mid Elevation"
         ]
        }
       ],
       "layout": {
        "coloraxis": {
         "colorbar": {
          "title": {
           "text": "cm/decade"
          }
         },
         "colorscale": [
          [
           0,
           "rgb(5,48,97)"
          ],
          [
           0.1,
           "rgb(33,102,172)"
          ],
          [
           0.2,
           "rgb(67,147,195)"
          ],
          [
           0.3,
           "rgb(146,197,222)"
          ],
          [
           0.4,
           "rgb(209,229,240)"
          ],
          [
           0.5,
           "rgb(247,247,247)"
          ],
          [
           0.6,
           "rgb(253,219,199)"
          ],
          [
           0.7,
           "rgb(244,165,130)"
          ],
          [
           0.8,
           "rgb(214,96,77)"
          ],
          [
           0.9,
           "rgb(178,24,43)"
          ],
          [
           1,
           "rgb(103,0,31)"
          ]
         ]
        },
        "template": {
         "data": {
          "bar": [
           {
            "error_x": {
             "color": "#2a3f5f"
            },
            "error_y": {
             "color": "#2a3f5f"
            },
            "marker": {
             "line": {
              "color": "#E5ECF6",
              "width": 0.5
             },
             "pattern": {
              "fillmode": "overlay",
              "size": 10,
              "solidity": 0.2
             }
            },
            "type": "bar"
           }
          ],
          "barpolar": [
           {
            "marker": {
             "line": {
              "color": "#E5ECF6",
              "width": 0.5
             },
             "pattern": {
              "fillmode": "overlay",
              "size": 10,
              "solidity": 0.2
             }
            },
            "type": "barpolar"
           }
          ],
          "carpet": [
           {
            "aaxis": {
             "endlinecolor": "#2a3f5f",
             "gridcolor": "white",
             "linecolor": "white",
             "minorgridcolor": "white",
             "startlinecolor": "#2a3f5f"
            },
            "baxis": {
             "endlinecolor": "#2a3f5f",
             "gridcolor": "white",
             "linecolor": "white",
             "minorgridcolor": "white",
             "startlinecolor": "#2a3f5f"
            },
            "type": "carpet"
           }
          ],
          "choropleth": [
           {
            "colorbar": {
             "outlinewidth": 0,
             "ticks": ""
            },
            "type": "choropleth"
           }
          ],
          "contour": [
           {
            "colorbar": {
             "outlinewidth": 0,
             "ticks": ""
            },
            "colorscale": [
             [
              0,
              "#0d0887"
             ],
             [
              0.1111111111111111,
              "#46039f"
             ],
             [
              0.2222222222222222,
              "#7201a8"
             ],
             [
              0.3333333333333333,
              "#9c179e"
             ],
             [
              0.4444444444444444,
              "#bd3786"
             ],
             [
              0.5555555555555556,
              "#d8576b"
             ],
             [
              0.6666666666666666,
              "#ed7953"
             ],
             [
              0.7777777777777778,
              "#fb9f3a"
             ],
             [
              0.8888888888888888,
              "#fdca26"
             ],
             [
              1,
              "#f0f921"
             ]
            ],
            "type": "contour"
           }
          ],
          "contourcarpet": [
           {
            "colorbar": {
             "outlinewidth": 0,
             "ticks": ""
            },
            "type": "contourcarpet"
           }
          ],
          "heatmap": [
           {
            "colorbar": {
             "outlinewidth": 0,
             "ticks": ""
            },
            "colorscale": [
             [
              0,
              "#0d0887"
             ],
             [
              0.1111111111111111,
              "#46039f"
             ],
             [
              0.2222222222222222,
              "#7201a8"
             ],
             [
              0.3333333333333333,
              "#9c179e"
             ],
             [
              0.4444444444444444,
              "#bd3786"
             ],
             [
              0.5555555555555556,
              "#d8576b"
             ],
             [
              0.6666666666666666,
              "#ed7953"
             ],
             [
              0.7777777777777778,
              "#fb9f3a"
             ],
             [
              0.8888888888888888,
              "#fdca26"
             ],
             [
              1,
              "#f0f921"
             ]
            ],
            "type": "heatmap"
           }
          ],
          "histogram": [
           {
            "marker": {
             "pattern": {
              "fillmode": "overlay",
              "size": 10,
              "solidity": 0.2
             }
            },
            "type": "histogram"
           }
          ],
          "histogram2d": [
           {
            "colorbar": {
             "outlinewidth": 0,
             "ticks": ""
            },
            "colorscale": [
             [
              0,
              "#0d0887"
             ],
             [
              0.1111111111111111,
              "#46039f"
             ],
             [
              0.2222222222222222,
              "#7201a8"
             ],
             [
              0.3333333333333333,
              "#9c179e"
             ],
             [
              0.4444444444444444,
              "#bd3786"
             ],
             [
              0.5555555555555556,
              "#d8576b"
             ],
             [
              0.6666666666666666,
              "#ed7953"
             ],
             [
              0.7777777777777778,
              "#fb9f3a"
             ],
             [
              0.8888888888888888,
              "#fdca26"
             ],
             [
              1,
              "#f0f921"
             ]
            ],
            "type": "histogram2d"
           }
          ],
          "histogram2dcontour": [
           {
            "colorbar": {
             "outlinewidth": 0,
             "ticks": ""
            },
            "colorscale": [
             [
              0,
              "#0d0887"
             ],
             [
              0.1111111111111111,
              "#46039f"
             ],
             [
              0.2222222222222222,
              "#7201a8"
             ],
             [
              0.3333333333333333,
              "#9c179e"
             ],
             [
              0.4444444444444444,
              "#bd3786"
             ],
             [
              0.5555555555555556,
              "#d8576b"
             ],
             [
              0.6666666666666666,
              "#ed7953"
             ],
             [
              0.7777777777777778,
              "#fb9f3a"
             ],
             [
              0.8888888888888888,
              "#fdca26"
             ],
             [
              1,
              "#f0f921"
             ]
            ],
            "type": "histogram2dcontour"
           }
          ],
          "mesh3d": [
           {
            "colorbar": {
             "outlinewidth": 0,
             "ticks": ""
            },
            "type": "mesh3d"
           }
          ],
          "parcoords": [
           {
            "line": {
             "colorbar": {
              "outlinewidth": 0,
              "ticks": ""
             }
            },
            "type": "parcoords"
           }
          ],
          "pie": [
           {
            "automargin": true,
            "type": "pie"
           }
          ],
          "scatter": [
           {
            "fillpattern": {
             "fillmode": "overlay",
             "size": 10,
             "solidity": 0.2
            },
            "type": "scatter"
           }
          ],
          "scatter3d": [
           {
            "line": {
             "colorbar": {
              "outlinewidth": 0,
              "ticks": ""
             }
            },
            "marker": {
             "colorbar": {
              "outlinewidth": 0,
              "ticks": ""
             }
            },
            "type": "scatter3d"
           }
          ],
          "scattercarpet": [
           {
            "marker": {
             "colorbar": {
              "outlinewidth": 0,
              "ticks": ""
             }
            },
            "type": "scattercarpet"
           }
          ],
          "scattergeo": [
           {
            "marker": {
             "colorbar": {
              "outlinewidth": 0,
              "ticks": ""
             }
            },
            "type": "scattergeo"
           }
          ],
          "scattergl": [
           {
            "marker": {
             "colorbar": {
              "outlinewidth": 0,
              "ticks": ""
             }
            },
            "type": "scattergl"
           }
          ],
          "scattermap": [
           {
            "marker": {
             "colorbar": {
              "outlinewidth": 0,
              "ticks": ""
             }
            },
            "type": "scattermap"
           }
          ],
          "scattermapbox": [
           {
            "marker": {
             "colorbar": {
              "outlinewidth": 0,
              "ticks": ""
             }
            },
            "type": "scattermapbox"
           }
          ],
          "scatterpolar": [
           {
            "marker": {
             "colorbar": {
              "outlinewidth": 0,
              "ticks": ""
             }
            },
            "type": "scatterpolar"
           }
          ],
          "scatterpolargl": [
           {
            "marker": {
             "colorbar": {
              "outlinewidth": 0,
              "ticks": ""
             }
            },
            "type": "scatterpolargl"
           }
          ],
          "scatterternary": [
           {
            "marker": {
             "colorbar": {
              "outlinewidth": 0,
              "ticks": ""
             }
            },
            "type": "scatterternary"
           }
          ],
          "surface": [
           {
            "colorbar": {
             "outlinewidth": 0,
             "ticks": ""
            },
            "colorscale": [
             [
              0,
              "#0d0887"
             ],
             [
              0.1111111111111111,
              "#46039f"
             ],
             [
              0.2222222222222222,
              "#7201a8"
             ],
             [
              0.3333333333333333,
              "#9c179e"
             ],
             [
              0.4444444444444444,
              "#bd3786"
             ],
             [
              0.5555555555555556,
              "#d8576b"
             ],
             [
              0.6666666666666666,
              "#ed7953"
             ],
             [
              0.7777777777777778,
              "#fb9f3a"
             ],
             [
              0.8888888888888888,
              "#fdca26"
             ],
             [
              1,
              "#f0f921"
             ]
            ],
            "type": "surface"
           }
          ],
          "table": [
           {
            "cells": {
             "fill": {
              "color": "#EBF0F8"
             },
             "line": {
              "color": "white"
             }
            },
            "header": {
             "fill": {
              "color": "#C8D4E3"
             },
             "line": {
              "color": "white"
             }
            },
            "type": "table"
           }
          ]
         },
         "layout": {
          "annotationdefaults": {
           "arrowcolor": "#2a3f5f",
           "arrowhead": 0,
           "arrowwidth": 1
          },
          "autotypenumbers": "strict",
          "coloraxis": {
           "colorbar": {
            "outlinewidth": 0,
            "ticks": ""
           }
          },
          "colorscale": {
           "diverging": [
            [
             0,
             "#8e0152"
            ],
            [
             0.1,
             "#c51b7d"
            ],
            [
             0.2,
             "#de77ae"
            ],
            [
             0.3,
             "#f1b6da"
            ],
            [
             0.4,
             "#fde0ef"
            ],
            [
             0.5,
             "#f7f7f7"
            ],
            [
             0.6,
             "#e6f5d0"
            ],
            [
             0.7,
             "#b8e186"
            ],
            [
             0.8,
             "#7fbc41"
            ],
            [
             0.9,
             "#4d9221"
            ],
            [
             1,
             "#276419"
            ]
           ],
           "sequential": [
            [
             0,
             "#0d0887"
            ],
            [
             0.1111111111111111,
             "#46039f"
            ],
            [
             0.2222222222222222,
             "#7201a8"
            ],
            [
             0.3333333333333333,
             "#9c179e"
            ],
            [
             0.4444444444444444,
             "#bd3786"
            ],
            [
             0.5555555555555556,
             "#d8576b"
            ],
            [
             0.6666666666666666,
             "#ed7953"
            ],
            [
             0.7777777777777778,
             "#fb9f3a"
            ],
            [
             0.8888888888888888,
             "#fdca26"
            ],
            [
             1,
             "#f0f921"
            ]
           ],
           "sequentialminus": [
            [
             0,
             "#0d0887"
            ],
            [
             0.1111111111111111,
             "#46039f"
            ],
            [
             0.2222222222222222,
             "#7201a8"
            ],
            [
             0.3333333333333333,
             "#9c179e"
            ],
            [
             0.4444444444444444,
             "#bd3786"
            ],
            [
             0.5555555555555556,
             "#d8576b"
            ],
            [
             0.6666666666666666,
             "#ed7953"
            ],
            [
             0.7777777777777778,
             "#fb9f3a"
            ],
            [
             0.8888888888888888,
             "#fdca26"
            ],
            [
             1,
             "#f0f921"
            ]
           ]
          },
          "colorway": [
           "#636efa",
           "#EF553B",
           "#00cc96",
           "#ab63fa",
           "#FFA15A",
           "#19d3f3",
           "#FF6692",
           "#B6E880",
           "#FF97FF",
           "#FECB52"
          ],
          "font": {
           "color": "#2a3f5f"
          },
          "geo": {
           "bgcolor": "white",
           "lakecolor": "white",
           "landcolor": "#E5ECF6",
           "showlakes": true,
           "showland": true,
           "subunitcolor": "white"
          },
          "hoverlabel": {
           "align": "left"
          },
          "hovermode": "closest",
          "mapbox": {
           "style": "light"
          },
          "paper_bgcolor": "white",
          "plot_bgcolor": "#E5ECF6",
          "polar": {
           "angularaxis": {
            "gridcolor": "white",
            "linecolor": "white",
            "ticks": ""
           },
           "bgcolor": "#E5ECF6",
           "radialaxis": {
            "gridcolor": "white",
            "linecolor": "white",
            "ticks": ""
           }
          },
          "scene": {
           "xaxis": {
            "backgroundcolor": "#E5ECF6",
            "gridcolor": "white",
            "gridwidth": 2,
            "linecolor": "white",
            "showbackground": true,
            "ticks": "",
            "zerolinecolor": "white"
           },
           "yaxis": {
            "backgroundcolor": "#E5ECF6",
            "gridcolor": "white",
            "gridwidth": 2,
            "linecolor": "white",
            "showbackground": true,
            "ticks": "",
            "zerolinecolor": "white"
           },
           "zaxis": {
            "backgroundcolor": "#E5ECF6",
            "gridcolor": "white",
            "gridwidth": 2,
            "linecolor": "white",
            "showbackground": true,
            "ticks": "",
            "zerolinecolor": "white"
           }
          },
          "shapedefaults": {
           "line": {
            "color": "#2a3f5f"
           }
          },
          "ternary": {
           "aaxis": {
            "gridcolor": "white",
            "linecolor": "white",
            "ticks": ""
           },
           "baxis": {
            "gridcolor": "white",
            "linecolor": "white",
            "ticks": ""
           },
           "bgcolor": "#E5ECF6",
           "caxis": {
            "gridcolor": "white",
            "linecolor": "white",
            "ticks": ""
           }
          },
          "title": {
           "x": 0.05
          },
          "xaxis": {
           "automargin": true,
           "gridcolor": "white",
           "linecolor": "white",
           "ticks": "",
           "title": {
            "standoff": 15
           },
           "zerolinecolor": "white",
           "zerolinewidth": 2
          },
          "yaxis": {
           "automargin": true,
           "gridcolor": "white",
           "linecolor": "white",
           "ticks": "",
           "title": {
            "standoff": 15
           },
           "zerolinecolor": "white",
           "zerolinewidth": 2
          }
         }
        },
        "title": {
         "text": "Macro Theil–Sen slope by elevation band × month"
        },
        "xaxis": {
         "anchor": "y",
         "constrain": "domain",
         "domain": [
          0,
          1
         ],
         "scaleanchor": "y",
         "title": {
          "text": "month_name"
         }
        },
        "yaxis": {
         "anchor": "x",
         "autorange": true,
         "constrain": "domain",
         "domain": [
          0,
          1
         ],
         "title": {
          "text": "elevation_band"
         }
        }
       }
      }
     },
     "metadata": {},
     "output_type": "display_data"
    }
   ],
   "source": [
    "import plotly.express as px\n",
    "import plotly.graph_objects as go\n",
    "\n",
    "if 'month_name' not in avg_elevation_month.columns:\n",
    "    month_map = {1:'Jan',2:'Feb',3:'Mar',4:'Apr',5:'May',11:'Nov',12:'Dec'}\n",
    "    avg_elevation_month = avg_elevation_month.assign(\n",
    "        month_name = avg_elevation_month['month'].map(month_map)\n",
    "    )\n",
    "\n",
    "pivot = avg_elevation_month.pivot_table(\n",
    "    index='elevation_band', columns='month_name', values='slope_per_decade'\n",
    ").reindex(columns=['Nov','Dec','Jan','Feb','Mar','Apr','May'], fill_value=None)\n",
    "\n",
    "fig = px.imshow(pivot, color_continuous_scale='RdBu_r', origin='lower',\n",
    "                labels=dict(color='Slope (cm/decade)'),\n",
    "                title='Macro Theil–Sen slope by elevation band × month')\n",
    "\n",
    "# Add ● where p ≤ 0.05\n",
    "for r in avg_elevation_month.itertuples():\n",
    "    if r.p <= 0.05:\n",
    "        fig.add_trace(go.Scatter(\n",
    "            x=[r.month_name], y=[r.elevation_band], mode='markers',\n",
    "            marker=dict(color='black', size=6), showlegend=False, hoverinfo='skip'\n",
    "        ))\n",
    "\n",
    "fig.update_coloraxes(colorbar_title='cm/decade')\n",
    "fig.show()\n"
   ]
  },
  {
   "cell_type": "code",
   "execution_count": null,
   "id": "36d57808",
   "metadata": {},
   "outputs": [
    {
     "data": {
      "application/vnd.plotly.v1+json": {
       "config": {
        "plotlyServerURL": "https://plot.ly"
       },
       "data": [
        {
         "hovertemplate": "country=Austria<br>month_name=%{x}<br>median_stations_per_year=%{y}<extra></extra>",
         "legendgroup": "Austria",
         "line": {
          "color": "#636efa",
          "dash": "solid"
         },
         "marker": {
          "symbol": "circle"
         },
         "mode": "lines+markers",
         "name": "Austria",
         "orientation": "v",
         "showlegend": true,
         "type": "scatter",
         "x": [
          "Jan",
          "Feb",
          "Mar",
          "Apr",
          "May",
          "Nov",
          "Dec"
         ],
         "xaxis": "x",
         "y": {
          "bdata": "agFqAWoBagFqAWYBZgE=",
          "dtype": "i2"
         },
         "yaxis": "y"
        },
        {
         "hovertemplate": "country=France<br>month_name=%{x}<br>median_stations_per_year=%{y}<extra></extra>",
         "legendgroup": "France",
         "line": {
          "color": "#EF553B",
          "dash": "solid"
         },
         "marker": {
          "symbol": "circle"
         },
         "mode": "lines+markers",
         "name": "France",
         "orientation": "v",
         "showlegend": true,
         "type": "scatter",
         "x": [
          "Jan",
          "Feb",
          "Mar",
          "Apr",
          "May",
          "Nov",
          "Dec"
         ],
         "xaxis": "x",
         "y": {
          "bdata": "NDQzMy0vMg==",
          "dtype": "i1"
         },
         "yaxis": "y"
        },
        {
         "hovertemplate": "country=Germany<br>month_name=%{x}<br>median_stations_per_year=%{y}<extra></extra>",
         "legendgroup": "Germany",
         "line": {
          "color": "#00cc96",
          "dash": "solid"
         },
         "marker": {
          "symbol": "circle"
         },
         "mode": "lines+markers",
         "name": "Germany",
         "orientation": "v",
         "showlegend": true,
         "type": "scatter",
         "x": [
          "Jan",
          "Feb",
          "Mar",
          "Apr",
          "May",
          "Nov",
          "Dec"
         ],
         "xaxis": "x",
         "y": {
          "bdata": "lgCWAJcAlwCXAJYAlwA=",
          "dtype": "i2"
         },
         "yaxis": "y"
        },
        {
         "hovertemplate": "country=Italy<br>month_name=%{x}<br>median_stations_per_year=%{y}<extra></extra>",
         "legendgroup": "Italy",
         "line": {
          "color": "#ab63fa",
          "dash": "solid"
         },
         "marker": {
          "symbol": "circle"
         },
         "mode": "lines+markers",
         "name": "Italy",
         "orientation": "v",
         "showlegend": true,
         "type": "scatter",
         "x": [
          "Jan",
          "Feb",
          "Mar",
          "Apr",
          "May",
          "Nov",
          "Dec"
         ],
         "xaxis": "x",
         "y": {
          "bdata": "UFFPQCoqQg==",
          "dtype": "i1"
         },
         "yaxis": "y"
        },
        {
         "hovertemplate": "country=Slovenia<br>month_name=%{x}<br>median_stations_per_year=%{y}<extra></extra>",
         "legendgroup": "Slovenia",
         "line": {
          "color": "#FFA15A",
          "dash": "solid"
         },
         "marker": {
          "symbol": "circle"
         },
         "mode": "lines+markers",
         "name": "Slovenia",
         "orientation": "v",
         "showlegend": true,
         "type": "scatter",
         "x": [
          "Jan",
          "Feb",
          "Mar",
          "Apr",
          "May",
          "Nov",
          "Dec"
         ],
         "xaxis": "x",
         "y": {
          "bdata": "MDAwMDAwMA==",
          "dtype": "i1"
         },
         "yaxis": "y"
        },
        {
         "hovertemplate": "country=Switzerland<br>month_name=%{x}<br>median_stations_per_year=%{y}<extra></extra>",
         "legendgroup": "Switzerland",
         "line": {
          "color": "#19d3f3",
          "dash": "solid"
         },
         "marker": {
          "symbol": "circle"
         },
         "mode": "lines+markers",
         "name": "Switzerland",
         "orientation": "v",
         "showlegend": true,
         "type": "scatter",
         "x": [
          "Jan",
          "Feb",
          "Mar",
          "Apr",
          "May",
          "Nov",
          "Dec"
         ],
         "xaxis": "x",
         "y": {
          "bdata": "lwCYAJcAlACBAJQAlgA=",
          "dtype": "i2"
         },
         "yaxis": "y"
        }
       ],
       "layout": {
        "legend": {
         "title": {
          "text": "country"
         },
         "tracegroupgap": 0
        },
        "template": {
         "data": {
          "bar": [
           {
            "error_x": {
             "color": "#2a3f5f"
            },
            "error_y": {
             "color": "#2a3f5f"
            },
            "marker": {
             "line": {
              "color": "#E5ECF6",
              "width": 0.5
             },
             "pattern": {
              "fillmode": "overlay",
              "size": 10,
              "solidity": 0.2
             }
            },
            "type": "bar"
           }
          ],
          "barpolar": [
           {
            "marker": {
             "line": {
              "color": "#E5ECF6",
              "width": 0.5
             },
             "pattern": {
              "fillmode": "overlay",
              "size": 10,
              "solidity": 0.2
             }
            },
            "type": "barpolar"
           }
          ],
          "carpet": [
           {
            "aaxis": {
             "endlinecolor": "#2a3f5f",
             "gridcolor": "white",
             "linecolor": "white",
             "minorgridcolor": "white",
             "startlinecolor": "#2a3f5f"
            },
            "baxis": {
             "endlinecolor": "#2a3f5f",
             "gridcolor": "white",
             "linecolor": "white",
             "minorgridcolor": "white",
             "startlinecolor": "#2a3f5f"
            },
            "type": "carpet"
           }
          ],
          "choropleth": [
           {
            "colorbar": {
             "outlinewidth": 0,
             "ticks": ""
            },
            "type": "choropleth"
           }
          ],
          "contour": [
           {
            "colorbar": {
             "outlinewidth": 0,
             "ticks": ""
            },
            "colorscale": [
             [
              0,
              "#0d0887"
             ],
             [
              0.1111111111111111,
              "#46039f"
             ],
             [
              0.2222222222222222,
              "#7201a8"
             ],
             [
              0.3333333333333333,
              "#9c179e"
             ],
             [
              0.4444444444444444,
              "#bd3786"
             ],
             [
              0.5555555555555556,
              "#d8576b"
             ],
             [
              0.6666666666666666,
              "#ed7953"
             ],
             [
              0.7777777777777778,
              "#fb9f3a"
             ],
             [
              0.8888888888888888,
              "#fdca26"
             ],
             [
              1,
              "#f0f921"
             ]
            ],
            "type": "contour"
           }
          ],
          "contourcarpet": [
           {
            "colorbar": {
             "outlinewidth": 0,
             "ticks": ""
            },
            "type": "contourcarpet"
           }
          ],
          "heatmap": [
           {
            "colorbar": {
             "outlinewidth": 0,
             "ticks": ""
            },
            "colorscale": [
             [
              0,
              "#0d0887"
             ],
             [
              0.1111111111111111,
              "#46039f"
             ],
             [
              0.2222222222222222,
              "#7201a8"
             ],
             [
              0.3333333333333333,
              "#9c179e"
             ],
             [
              0.4444444444444444,
              "#bd3786"
             ],
             [
              0.5555555555555556,
              "#d8576b"
             ],
             [
              0.6666666666666666,
              "#ed7953"
             ],
             [
              0.7777777777777778,
              "#fb9f3a"
             ],
             [
              0.8888888888888888,
              "#fdca26"
             ],
             [
              1,
              "#f0f921"
             ]
            ],
            "type": "heatmap"
           }
          ],
          "histogram": [
           {
            "marker": {
             "pattern": {
              "fillmode": "overlay",
              "size": 10,
              "solidity": 0.2
             }
            },
            "type": "histogram"
           }
          ],
          "histogram2d": [
           {
            "colorbar": {
             "outlinewidth": 0,
             "ticks": ""
            },
            "colorscale": [
             [
              0,
              "#0d0887"
             ],
             [
              0.1111111111111111,
              "#46039f"
             ],
             [
              0.2222222222222222,
              "#7201a8"
             ],
             [
              0.3333333333333333,
              "#9c179e"
             ],
             [
              0.4444444444444444,
              "#bd3786"
             ],
             [
              0.5555555555555556,
              "#d8576b"
             ],
             [
              0.6666666666666666,
              "#ed7953"
             ],
             [
              0.7777777777777778,
              "#fb9f3a"
             ],
             [
              0.8888888888888888,
              "#fdca26"
             ],
             [
              1,
              "#f0f921"
             ]
            ],
            "type": "histogram2d"
           }
          ],
          "histogram2dcontour": [
           {
            "colorbar": {
             "outlinewidth": 0,
             "ticks": ""
            },
            "colorscale": [
             [
              0,
              "#0d0887"
             ],
             [
              0.1111111111111111,
              "#46039f"
             ],
             [
              0.2222222222222222,
              "#7201a8"
             ],
             [
              0.3333333333333333,
              "#9c179e"
             ],
             [
              0.4444444444444444,
              "#bd3786"
             ],
             [
              0.5555555555555556,
              "#d8576b"
             ],
             [
              0.6666666666666666,
              "#ed7953"
             ],
             [
              0.7777777777777778,
              "#fb9f3a"
             ],
             [
              0.8888888888888888,
              "#fdca26"
             ],
             [
              1,
              "#f0f921"
             ]
            ],
            "type": "histogram2dcontour"
           }
          ],
          "mesh3d": [
           {
            "colorbar": {
             "outlinewidth": 0,
             "ticks": ""
            },
            "type": "mesh3d"
           }
          ],
          "parcoords": [
           {
            "line": {
             "colorbar": {
              "outlinewidth": 0,
              "ticks": ""
             }
            },
            "type": "parcoords"
           }
          ],
          "pie": [
           {
            "automargin": true,
            "type": "pie"
           }
          ],
          "scatter": [
           {
            "fillpattern": {
             "fillmode": "overlay",
             "size": 10,
             "solidity": 0.2
            },
            "type": "scatter"
           }
          ],
          "scatter3d": [
           {
            "line": {
             "colorbar": {
              "outlinewidth": 0,
              "ticks": ""
             }
            },
            "marker": {
             "colorbar": {
              "outlinewidth": 0,
              "ticks": ""
             }
            },
            "type": "scatter3d"
           }
          ],
          "scattercarpet": [
           {
            "marker": {
             "colorbar": {
              "outlinewidth": 0,
              "ticks": ""
             }
            },
            "type": "scattercarpet"
           }
          ],
          "scattergeo": [
           {
            "marker": {
             "colorbar": {
              "outlinewidth": 0,
              "ticks": ""
             }
            },
            "type": "scattergeo"
           }
          ],
          "scattergl": [
           {
            "marker": {
             "colorbar": {
              "outlinewidth": 0,
              "ticks": ""
             }
            },
            "type": "scattergl"
           }
          ],
          "scattermap": [
           {
            "marker": {
             "colorbar": {
              "outlinewidth": 0,
              "ticks": ""
             }
            },
            "type": "scattermap"
           }
          ],
          "scattermapbox": [
           {
            "marker": {
             "colorbar": {
              "outlinewidth": 0,
              "ticks": ""
             }
            },
            "type": "scattermapbox"
           }
          ],
          "scatterpolar": [
           {
            "marker": {
             "colorbar": {
              "outlinewidth": 0,
              "ticks": ""
             }
            },
            "type": "scatterpolar"
           }
          ],
          "scatterpolargl": [
           {
            "marker": {
             "colorbar": {
              "outlinewidth": 0,
              "ticks": ""
             }
            },
            "type": "scatterpolargl"
           }
          ],
          "scatterternary": [
           {
            "marker": {
             "colorbar": {
              "outlinewidth": 0,
              "ticks": ""
             }
            },
            "type": "scatterternary"
           }
          ],
          "surface": [
           {
            "colorbar": {
             "outlinewidth": 0,
             "ticks": ""
            },
            "colorscale": [
             [
              0,
              "#0d0887"
             ],
             [
              0.1111111111111111,
              "#46039f"
             ],
             [
              0.2222222222222222,
              "#7201a8"
             ],
             [
              0.3333333333333333,
              "#9c179e"
             ],
             [
              0.4444444444444444,
              "#bd3786"
             ],
             [
              0.5555555555555556,
              "#d8576b"
             ],
             [
              0.6666666666666666,
              "#ed7953"
             ],
             [
              0.7777777777777778,
              "#fb9f3a"
             ],
             [
              0.8888888888888888,
              "#fdca26"
             ],
             [
              1,
              "#f0f921"
             ]
            ],
            "type": "surface"
           }
          ],
          "table": [
           {
            "cells": {
             "fill": {
              "color": "#EBF0F8"
             },
             "line": {
              "color": "white"
             }
            },
            "header": {
             "fill": {
              "color": "#C8D4E3"
             },
             "line": {
              "color": "white"
             }
            },
            "type": "table"
           }
          ]
         },
         "layout": {
          "annotationdefaults": {
           "arrowcolor": "#2a3f5f",
           "arrowhead": 0,
           "arrowwidth": 1
          },
          "autotypenumbers": "strict",
          "coloraxis": {
           "colorbar": {
            "outlinewidth": 0,
            "ticks": ""
           }
          },
          "colorscale": {
           "diverging": [
            [
             0,
             "#8e0152"
            ],
            [
             0.1,
             "#c51b7d"
            ],
            [
             0.2,
             "#de77ae"
            ],
            [
             0.3,
             "#f1b6da"
            ],
            [
             0.4,
             "#fde0ef"
            ],
            [
             0.5,
             "#f7f7f7"
            ],
            [
             0.6,
             "#e6f5d0"
            ],
            [
             0.7,
             "#b8e186"
            ],
            [
             0.8,
             "#7fbc41"
            ],
            [
             0.9,
             "#4d9221"
            ],
            [
             1,
             "#276419"
            ]
           ],
           "sequential": [
            [
             0,
             "#0d0887"
            ],
            [
             0.1111111111111111,
             "#46039f"
            ],
            [
             0.2222222222222222,
             "#7201a8"
            ],
            [
             0.3333333333333333,
             "#9c179e"
            ],
            [
             0.4444444444444444,
             "#bd3786"
            ],
            [
             0.5555555555555556,
             "#d8576b"
            ],
            [
             0.6666666666666666,
             "#ed7953"
            ],
            [
             0.7777777777777778,
             "#fb9f3a"
            ],
            [
             0.8888888888888888,
             "#fdca26"
            ],
            [
             1,
             "#f0f921"
            ]
           ],
           "sequentialminus": [
            [
             0,
             "#0d0887"
            ],
            [
             0.1111111111111111,
             "#46039f"
            ],
            [
             0.2222222222222222,
             "#7201a8"
            ],
            [
             0.3333333333333333,
             "#9c179e"
            ],
            [
             0.4444444444444444,
             "#bd3786"
            ],
            [
             0.5555555555555556,
             "#d8576b"
            ],
            [
             0.6666666666666666,
             "#ed7953"
            ],
            [
             0.7777777777777778,
             "#fb9f3a"
            ],
            [
             0.8888888888888888,
             "#fdca26"
            ],
            [
             1,
             "#f0f921"
            ]
           ]
          },
          "colorway": [
           "#636efa",
           "#EF553B",
           "#00cc96",
           "#ab63fa",
           "#FFA15A",
           "#19d3f3",
           "#FF6692",
           "#B6E880",
           "#FF97FF",
           "#FECB52"
          ],
          "font": {
           "color": "#2a3f5f"
          },
          "geo": {
           "bgcolor": "white",
           "lakecolor": "white",
           "landcolor": "#E5ECF6",
           "showlakes": true,
           "showland": true,
           "subunitcolor": "white"
          },
          "hoverlabel": {
           "align": "left"
          },
          "hovermode": "closest",
          "mapbox": {
           "style": "light"
          },
          "paper_bgcolor": "white",
          "plot_bgcolor": "#E5ECF6",
          "polar": {
           "angularaxis": {
            "gridcolor": "white",
            "linecolor": "white",
            "ticks": ""
           },
           "bgcolor": "#E5ECF6",
           "radialaxis": {
            "gridcolor": "white",
            "linecolor": "white",
            "ticks": ""
           }
          },
          "scene": {
           "xaxis": {
            "backgroundcolor": "#E5ECF6",
            "gridcolor": "white",
            "gridwidth": 2,
            "linecolor": "white",
            "showbackground": true,
            "ticks": "",
            "zerolinecolor": "white"
           },
           "yaxis": {
            "backgroundcolor": "#E5ECF6",
            "gridcolor": "white",
            "gridwidth": 2,
            "linecolor": "white",
            "showbackground": true,
            "ticks": "",
            "zerolinecolor": "white"
           },
           "zaxis": {
            "backgroundcolor": "#E5ECF6",
            "gridcolor": "white",
            "gridwidth": 2,
            "linecolor": "white",
            "showbackground": true,
            "ticks": "",
            "zerolinecolor": "white"
           }
          },
          "shapedefaults": {
           "line": {
            "color": "#2a3f5f"
           }
          },
          "ternary": {
           "aaxis": {
            "gridcolor": "white",
            "linecolor": "white",
            "ticks": ""
           },
           "baxis": {
            "gridcolor": "white",
            "linecolor": "white",
            "ticks": ""
           },
           "bgcolor": "#E5ECF6",
           "caxis": {
            "gridcolor": "white",
            "linecolor": "white",
            "ticks": ""
           }
          },
          "title": {
           "x": 0.05
          },
          "xaxis": {
           "automargin": true,
           "gridcolor": "white",
           "linecolor": "white",
           "ticks": "",
           "title": {
            "standoff": 15
           },
           "zerolinecolor": "white",
           "zerolinewidth": 2
          },
          "yaxis": {
           "automargin": true,
           "gridcolor": "white",
           "linecolor": "white",
           "ticks": "",
           "title": {
            "standoff": 15
           },
           "zerolinecolor": "white",
           "zerolinewidth": 2
          }
         }
        },
        "title": {
         "text": "Coverage: median stations per year (by month)"
        },
        "xaxis": {
         "anchor": "y",
         "categoryarray": [
          "Jan",
          "Feb",
          "Mar",
          "Apr",
          "May",
          "Nov",
          "Dec"
         ],
         "categoryorder": "array",
         "domain": [
          0,
          1
         ],
         "title": {
          "text": "month_name"
         }
        },
        "yaxis": {
         "anchor": "x",
         "domain": [
          0,
          1
         ],
         "title": {
          "text": "stations / year"
         }
        }
       }
      }
     },
     "metadata": {},
     "output_type": "display_data"
    }
   ],
   "source": [
    "import plotly.express as px\n",
    "cov = avg_country_month.copy()\n",
    "cov['month_name'] = cov['month_name'].astype('category')\n",
    "fig = px.line(cov, x='month_name', y='median_stations_per_year', color='country',\n",
    "              markers=True, title='Coverage: median stations per year (by month)')\n",
    "fig.update_xaxes(categoryorder='array', categoryarray=order)\n",
    "fig.update_yaxes(title='stations / year')\n",
    "fig.show()\n"
   ]
  },
  {
   "cell_type": "code",
   "execution_count": null,
   "id": "af1585c8",
   "metadata": {},
   "outputs": [],
   "source": []
  }
 ],
 "metadata": {
  "kernelspec": {
   "display_name": "data_env312",
   "language": "python",
   "name": "python3"
  },
  "language_info": {
   "codemirror_mode": {
    "name": "ipython",
    "version": 3
   },
   "file_extension": ".py",
   "mimetype": "text/x-python",
   "name": "python",
   "nbconvert_exporter": "python",
   "pygments_lexer": "ipython3",
   "version": "3.12.2"
  }
 },
 "nbformat": 4,
 "nbformat_minor": 5
}
