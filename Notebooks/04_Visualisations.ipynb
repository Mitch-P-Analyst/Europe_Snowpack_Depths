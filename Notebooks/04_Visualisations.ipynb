{
 "cells": [
  {
   "cell_type": "markdown",
   "id": "0fd39b7c",
   "metadata": {},
   "source": [
    "# Visualisations\n",
    "\n",
    "\n",
    "- [Visualisations](##visualisations)\n",
    "    - Man-Kendall Test Results\n",
    "        - Month\n",
    "        - Month & Elevation\n",
    "        - Country"
   ]
  },
  {
   "cell_type": "code",
   "execution_count": 1,
   "id": "4e1248d2",
   "metadata": {},
   "outputs": [
    {
     "ename": "NameError",
     "evalue": "name 'plt' is not defined",
     "output_type": "error",
     "traceback": [
      "\u001b[0;31m---------------------------------------------------------------------------\u001b[0m",
      "\u001b[0;31mNameError\u001b[0m                                 Traceback (most recent call last)",
      "Cell \u001b[0;32mIn[1], line 1\u001b[0m\n\u001b[0;32m----> 1\u001b[0m fig1, ax \u001b[38;5;241m=\u001b[39m \u001b[43mplt\u001b[49m\u001b[38;5;241m.\u001b[39msubplots(figsize\u001b[38;5;241m=\u001b[39m(\u001b[38;5;241m8\u001b[39m,\u001b[38;5;241m6\u001b[39m))\n\u001b[1;32m      4\u001b[0m sns\u001b[38;5;241m.\u001b[39mscatterplot(data\u001b[38;5;241m=\u001b[39mmk_country_simple, x\u001b[38;5;241m=\u001b[39m\u001b[38;5;124m'\u001b[39m\u001b[38;5;124mslope_per_decade\u001b[39m\u001b[38;5;124m'\u001b[39m,y\u001b[38;5;241m=\u001b[39m\u001b[38;5;124m'\u001b[39m\u001b[38;5;124mp\u001b[39m\u001b[38;5;124m'\u001b[39m,hue\u001b[38;5;241m=\u001b[39m\u001b[38;5;124m'\u001b[39m\u001b[38;5;124mp\u001b[39m\u001b[38;5;124m'\u001b[39m,palette\u001b[38;5;241m=\u001b[39m\u001b[38;5;124m'\u001b[39m\u001b[38;5;124mflare\u001b[39m\u001b[38;5;124m'\u001b[39m,legend\u001b[38;5;241m=\u001b[39m\u001b[38;5;28;01mFalse\u001b[39;00m )\n\u001b[1;32m      6\u001b[0m plt\u001b[38;5;241m.\u001b[39maxhline(\u001b[38;5;241m0.05\u001b[39m,linestyle\u001b[38;5;241m=\u001b[39m\u001b[38;5;124m'\u001b[39m\u001b[38;5;124m--\u001b[39m\u001b[38;5;124m'\u001b[39m,color\u001b[38;5;241m=\u001b[39m\u001b[38;5;124m'\u001b[39m\u001b[38;5;124mred\u001b[39m\u001b[38;5;124m'\u001b[39m,label\u001b[38;5;241m=\u001b[39m\u001b[38;5;124m'\u001b[39m\u001b[38;5;124mp_value = 0.05 (Significance Threshold)\u001b[39m\u001b[38;5;124m'\u001b[39m)\n",
      "\u001b[0;31mNameError\u001b[0m: name 'plt' is not defined"
     ]
    }
   ],
   "source": [
    "fig1, ax = plt.subplots(figsize=(8,6))\n",
    "\n",
    "\n",
    "sns.scatterplot(data=mk_country_simple, x='slope_per_decade',y='p',hue='p',palette='flare',legend=False )\n",
    "\n",
    "plt.axhline(0.05,linestyle='--',color='red',label='p_value = 0.05 (Significance Threshold)')\n",
    "plt.axvline(0.00,linestyle='--',color='blue',label='Zero Slope')\n",
    "\n",
    "# Annotate each point with the country name\n",
    "for i, row in mk_country_simple.iterrows():\n",
    "    ax.text(\n",
    "        row['slope_per_decade'] + 0.02,  # x position slightly offset\n",
    "        row['p'] + 0.005,                # y position slightly offset\n",
    "        row['country'],\n",
    "        fontsize=9\n",
    "    )\n",
    "\n",
    "\n",
    "ax.legend()\n",
    "ax.set_ylabel('p_value')\n",
    "ax.set_xlabel('Slope_per_decade change')\n",
    "ax.set_title('Slope vs p_value (Mann_Kendall Test)')\n",
    "ax.grid(True)\n",
    "\n",
    "plt.show()"
   ]
  },
  {
   "cell_type": "code",
   "execution_count": null,
   "id": "188bc21c",
   "metadata": {},
   "outputs": [],
   "source": [
    "month_labels = {\n",
    "    1:'Jan',\n",
    "    2:'Feb',\n",
    "    3:'Mar',\n",
    "    4:'Apr',\n",
    "    5:'May',\n",
    "    11:'Nov',\n",
    "    12:'Dec'\n",
    "}\n",
    "\n",
    "def get_month_name(month_number):\n",
    "    \"\"\"\n",
    "    Converts a month number to an abbreviated month name using a custom dictionary\n",
    "\n",
    "    Args:\n",
    "        month_number (int): The number representing the month (1 for January, 12 for December).\n",
    "\n",
    "    Returns:\n",
    "        str: The abbreviated name of the month, or \"Invalid month number\" if out of range.\n",
    "    \"\"\"\n",
    "    if 1 <= month_number <= 12:\n",
    "        return month_labels[month_number]\n",
    "    else:\n",
    "        return \"Invalid month number\"\n",
    "\n",
    "\n",
    "mk_month_simple['month_name'] = mk_month_simple['month'].apply(get_month_name)\n",
    "\n",
    "mk_month_simple\n"
   ]
  },
  {
   "cell_type": "code",
   "execution_count": 1,
   "id": "631c0e75",
   "metadata": {},
   "outputs": [
    {
     "ename": "NameError",
     "evalue": "name 'plt' is not defined",
     "output_type": "error",
     "traceback": [
      "\u001b[0;31m---------------------------------------------------------------------------\u001b[0m",
      "\u001b[0;31mNameError\u001b[0m                                 Traceback (most recent call last)",
      "Cell \u001b[0;32mIn[1], line 1\u001b[0m\n\u001b[0;32m----> 1\u001b[0m fig, ax \u001b[38;5;241m=\u001b[39m \u001b[43mplt\u001b[49m\u001b[38;5;241m.\u001b[39msubplots(figsize\u001b[38;5;241m=\u001b[39m(\u001b[38;5;241m8\u001b[39m,\u001b[38;5;241m6\u001b[39m))\n\u001b[1;32m      4\u001b[0m sns\u001b[38;5;241m.\u001b[39mscatterplot(data\u001b[38;5;241m=\u001b[39mmk_month_simple, x\u001b[38;5;241m=\u001b[39m\u001b[38;5;124m'\u001b[39m\u001b[38;5;124mslope_per_decade\u001b[39m\u001b[38;5;124m'\u001b[39m,y\u001b[38;5;241m=\u001b[39m\u001b[38;5;124m'\u001b[39m\u001b[38;5;124mp\u001b[39m\u001b[38;5;124m'\u001b[39m,hue\u001b[38;5;241m=\u001b[39m\u001b[38;5;124m'\u001b[39m\u001b[38;5;124mp\u001b[39m\u001b[38;5;124m'\u001b[39m,palette\u001b[38;5;241m=\u001b[39m\u001b[38;5;124m'\u001b[39m\u001b[38;5;124mflare\u001b[39m\u001b[38;5;124m'\u001b[39m,legend\u001b[38;5;241m=\u001b[39m\u001b[38;5;28;01mFalse\u001b[39;00m )\n\u001b[1;32m      6\u001b[0m plt\u001b[38;5;241m.\u001b[39maxhline(\u001b[38;5;241m0.05\u001b[39m,linestyle\u001b[38;5;241m=\u001b[39m\u001b[38;5;124m'\u001b[39m\u001b[38;5;124m--\u001b[39m\u001b[38;5;124m'\u001b[39m,color\u001b[38;5;241m=\u001b[39m\u001b[38;5;124m'\u001b[39m\u001b[38;5;124mred\u001b[39m\u001b[38;5;124m'\u001b[39m,label\u001b[38;5;241m=\u001b[39m\u001b[38;5;124m'\u001b[39m\u001b[38;5;124mp_value = 0.05 (Significance Threshold)\u001b[39m\u001b[38;5;124m'\u001b[39m)\n",
      "\u001b[0;31mNameError\u001b[0m: name 'plt' is not defined"
     ]
    }
   ],
   "source": [
    "\n",
    "fig, ax = plt.subplots(figsize=(8,6))\n",
    "\n",
    "\n",
    "sns.scatterplot(data=mk_month_simple, x='slope_per_decade',y='p',hue='p',palette='flare',legend=False )\n",
    "\n",
    "plt.axhline(0.05,linestyle='--',color='red',label='p_value = 0.05 (Significance Threshold)')\n",
    "plt.axvline(0.00,linestyle='--',color='blue',label='Zero Slope')\n",
    "\n",
    "# Annotate each point with the month name\n",
    "for i, row in mk_month_simple.iterrows():\n",
    "    ax.text(\n",
    "        row['slope_per_decade'] + 0.02,  # x position slightly offset\n",
    "        row['p'] + 0.005,                # y position slightly offset\n",
    "        row['month_name'],\n",
    "        fontsize=9\n",
    "    )\n",
    "\n",
    "\n",
    "ax.legend()\n",
    "ax.set_ylabel('p_value')\n",
    "ax.set_xlabel('Slope_per_decade change')\n",
    "ax.set_title('Slope vs p_value (Mann_Kendall Test)')\n",
    "ax.grid(True)\n",
    "\n",
    "plt.show()"
   ]
  },
  {
   "cell_type": "code",
   "execution_count": null,
   "id": "886a2d6b",
   "metadata": {},
   "outputs": [],
   "source": [
    "mk_elev_month_simple['month_name'] = mk_elev_month_simple['month'].apply(get_month_name)\n",
    "\n",
    "\n",
    "fig2, ax2 = plt.subplots(figsize=(8,6))\n",
    "\n",
    "\n",
    "\n",
    "sns.scatterplot(data=mk_elev_month_simple, x='slope_per_decade',y='p',hue='elevation_band', ax=ax2 )\n",
    "\n",
    "plt.axhline(0.05,linestyle='--',color='red',label='p_value = 0.05 (Significance Threshold)')\n",
    "plt.axvline(0.00,linestyle='--',color='blue',label='Zero Slope')\n",
    "\n",
    "for i, row in mk_elev_month_simple.iterrows():\n",
    "    ax2.text(\n",
    "        row['slope_per_decade'] +0.1 ,\n",
    "        row['p'] + 0.01,\n",
    "        row['month_name'],        # Display month\n",
    "        fontsize=9,\n",
    "        ha='center',\n",
    "        va='center',\n",
    "        color='black',\n",
    "        fontweight='normal'\n",
    "    )\n",
    "\n",
    "\n",
    "ax2.legend()\n",
    "ax2.set_ylabel('p_value')\n",
    "ax2.set_xlabel('Slope_per_decade change')\n",
    "ax2.set_title('Slope vs p_value (Mann_Kendall Test)')\n",
    "ax2.grid(True)\n",
    "\n",
    "plt.show()"
   ]
  },
  {
   "cell_type": "markdown",
   "id": "7c133734",
   "metadata": {},
   "source": []
  }
 ],
 "metadata": {
  "kernelspec": {
   "display_name": "data_env312",
   "language": "python",
   "name": "python3"
  },
  "language_info": {
   "codemirror_mode": {
    "name": "ipython",
    "version": 3
   },
   "file_extension": ".py",
   "mimetype": "text/x-python",
   "name": "python",
   "nbconvert_exporter": "python",
   "pygments_lexer": "ipython3",
   "version": "3.12.2"
  }
 },
 "nbformat": 4,
 "nbformat_minor": 5
}
