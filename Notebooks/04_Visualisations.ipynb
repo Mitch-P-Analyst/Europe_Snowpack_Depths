{
 "cells": [
  {
   "cell_type": "markdown",
   "id": "0fd39b7c",
   "metadata": {},
   "source": [
    "# Visualisations\n",
    "\n",
    "- [Notebook Preparations](#notebook-preparations)\n",
    "\n",
    "- [Visualisations](#visualisations)\n",
    "    - Man-Kendall Test Results\n",
    "        - Month\n",
    "        - Month & Elevation\n",
    "        - Country"
   ]
  },
  {
   "cell_type": "markdown",
   "id": "2793b023",
   "metadata": {},
   "source": [
    "## Notebook Preparations"
   ]
  },
  {
   "cell_type": "code",
   "execution_count": 18,
   "id": "151c2879",
   "metadata": {},
   "outputs": [],
   "source": [
    "# Import Packages\n",
    "\n",
    "import pandas as pd\n",
    "import numpy as np\n",
    "import plotly\n",
    "import matplotlib.pyplot as plt\n",
    "import seaborn as sns\n",
    "from sklearn.linear_model import LinearRegression\n",
    "from scipy.stats import linregress\n",
    "import plotly.express as px\n",
    "import geopandas as gpd\n",
    "import geopandas as gpd\n",
    "import pandas as pd\n",
    "from shapely.geometry import Point\n",
    "import pymannkendall as mk\n",
    "from pathlib import Path\n",
    "from scipy.stats import norm\n"
   ]
  },
  {
   "cell_type": "code",
   "execution_count": 28,
   "id": "583e59ec",
   "metadata": {},
   "outputs": [],
   "source": [
    "# Directories\n",
    "\n",
    "NB_DIR = Path.cwd()         # Notebook Directory\n",
    "REPO_ROOT = NB_DIR.parent   # Main Directory\n",
    "\n",
    "# Files\n",
    "\n",
    "# Macro-perspective Trends\n",
    "avg_country = pd.read_csv(REPO_ROOT / 'Data/Cleaned/Tests/avg_country_trends.csv',index_col=False)                  # Average Snowpack Depth Trend Per Country\n",
    "avg_country_month = pd.read_csv(REPO_ROOT / 'Data/Cleaned/Tests/avg_country_month_trends.csv',index_col=False)      # Average Snowpack Depth Trend Per Country Month\n",
    "avg_month = pd.read_csv(REPO_ROOT / 'Data/Cleaned/Tests/avg_month_trends.csv',index_col=False)                      # Average Snowpack Depth Trend per Month\n",
    "avg_elevation_month = pd.read_csv(REPO_ROOT / 'Data/Cleaned/Tests/avg_elevation_month_trends.csv',index_col=False)  # Average Snowpack Depth Trend Per Elevation Bad Mong\n",
    "\n",
    "# Micro-persective Trends\n",
    "typical_country = pd.read_csv(REPO_ROOT / 'Data/Cleaned/Tests/station-month-time-series-by-country.csv',index_col=False)                # Typical Snowpack Depth Trend of Weather Station Per Country \n",
    "typical_country_month = pd.read_csv(REPO_ROOT / 'Data/Cleaned/Tests/station-month-time-series-by-country-month.csv',index_col=False )    # Typical Snowpack Depth Trend of Weather Station Per Country Month\n",
    "typical_station_month = pd.read_csv(REPO_ROOT / 'Data/Cleaned/Tests/station-month-time-series.csv',index_col=False)                     # Typical Snowpack Depth Trend of Weather Station Per Month\n",
    "per_station = pd.read_csv(REPO_ROOT / 'Data/Cleaned/Tests/per_station_series.csv',index_col=False)                                      # Annual Snowpack Depth Trend per Weather Station\n",
    "\n"
   ]
  },
  {
   "cell_type": "code",
   "execution_count": 119,
   "id": "f59cbab1",
   "metadata": {},
   "outputs": [],
   "source": [
    "# Custom functions\n",
    "\n",
    "# Assign text labels for country months\n",
    "\n",
    "month_labels = {\n",
    "    1:'Jan',\n",
    "    2:'Feb',\n",
    "    3:'Mar',\n",
    "    4:'Apr',\n",
    "    5:'May',\n",
    "    11:'Nov',\n",
    "    12:'Dec'\n",
    "}\n",
    "\n",
    "# Custom Function\n",
    "def get_month_name(month_number):\n",
    "    \"\"\"\n",
    "    Converts a month number to an abbreviated month name using a custom dictionary\n",
    "\n",
    "    Args:\n",
    "        month_number (int): The number representing the month (1 for January, 12 for December).\n",
    "\n",
    "    Returns:\n",
    "        str: The abbreviated name of the month, or \"Invalid month number\" if out of range.\n",
    "    \"\"\"\n",
    "    if 1 <= month_number <= 12:\n",
    "        return month_labels[month_number]\n",
    "    else:\n",
    "        return \"Invalid month number\"\n",
    "\n",
    "\n",
    "# avg_country_month DF\n",
    "avg_country_month['month_name'] = avg_country_month['month'].apply(get_month_name)\n",
    "\n",
    "# avg_month DF\n",
    "avg_month['month_name'] = avg_month['month'].apply(get_month_name)\n",
    "\n",
    "# avg_elevation_month DF\n",
    "avg_elevation_month['month_name'] = avg_elevation_month['month'].apply(get_month_name)\n",
    "\n",
    "\n",
    "\n",
    "country_abr = {\n",
    "    'Italy':'IT',\n",
    "    'Austria':'AT',\n",
    "    'France':'FR',\n",
    "    'Germany':'DE',\n",
    "    'Switzerland':'CH',\n",
    "    'Slovenia':'SI'\n",
    "}\n",
    "\n",
    "# Custom Function\n",
    "def get_country_abr(country_name):\n",
    "    \"\"\"\n",
    "    Converts a country's name to an abbreviated name using a custom dictionary\n",
    "\n",
    "    Args:\n",
    "        country_name: The country's full name\n",
    "\n",
    "    Returns:\n",
    "        str: The abbreviated name of the country, or \"No Abrev Present\" if no answer within custom dictionary\n",
    "    \"\"\"\n",
    "    if country_name in country_abr:\n",
    "        return country_abr[country_name]\n",
    "    else:\n",
    "        return \"No Abrev Present\"\n",
    "    \n",
    "\n",
    "avg_country['country_abr'] = avg_country['country'].apply(get_country_abr)\n",
    "avg_country_month['country_abr'] = avg_country_month['country'].apply(get_country_abr)\n",
    "\n",
    "typical_country['country_abr'] = typical_country['country'].apply(get_country_abr)\n",
    "typical_country_month['country_abr'] = typical_country_month['country'].apply(get_country_abr)\n",
    "\n"
   ]
  },
  {
   "cell_type": "markdown",
   "id": "2dbd9a74",
   "metadata": {},
   "source": [
    "## Visualisations\n",
    "\n",
    "Visualisations of Statistical Trends for Average Snowpack Depths\n",
    "\n",
    "### Macro-Perspectives\n",
    "\n",
    "Average Snowpack Trends for regional districts\n",
    "\n",
    "#### Country Trends"
   ]
  },
  {
   "cell_type": "code",
   "execution_count": 124,
   "id": "1e0769f8",
   "metadata": {},
   "outputs": [
    {
     "data": {
      "text/html": [
       "<div>\n",
       "<style scoped>\n",
       "    .dataframe tbody tr th:only-of-type {\n",
       "        vertical-align: middle;\n",
       "    }\n",
       "\n",
       "    .dataframe tbody tr th {\n",
       "        vertical-align: top;\n",
       "    }\n",
       "\n",
       "    .dataframe thead th {\n",
       "        text-align: right;\n",
       "    }\n",
       "</style>\n",
       "<table border=\"1\" class=\"dataframe\">\n",
       "  <thead>\n",
       "    <tr style=\"text-align: right;\">\n",
       "      <th></th>\n",
       "      <th>country</th>\n",
       "      <th>station_id</th>\n",
       "      <th>n_months</th>\n",
       "      <th>median_slope_theil_per_year</th>\n",
       "      <th>median_slope_theil_per_decade</th>\n",
       "      <th>mean_slope_theil_per_year</th>\n",
       "      <th>mean_slope_theil_per_decade</th>\n",
       "      <th>p_combined</th>\n",
       "    </tr>\n",
       "  </thead>\n",
       "  <tbody>\n",
       "    <tr>\n",
       "      <th>0</th>\n",
       "      <td>Austria</td>\n",
       "      <td>13</td>\n",
       "      <td>6</td>\n",
       "      <td>0.104423</td>\n",
       "      <td>1.044226</td>\n",
       "      <td>0.229252</td>\n",
       "      <td>2.292520</td>\n",
       "      <td>0.452272</td>\n",
       "    </tr>\n",
       "    <tr>\n",
       "      <th>1</th>\n",
       "      <td>Austria</td>\n",
       "      <td>20</td>\n",
       "      <td>6</td>\n",
       "      <td>0.000000</td>\n",
       "      <td>0.000000</td>\n",
       "      <td>0.015931</td>\n",
       "      <td>0.159314</td>\n",
       "      <td>0.807434</td>\n",
       "    </tr>\n",
       "    <tr>\n",
       "      <th>2</th>\n",
       "      <td>Austria</td>\n",
       "      <td>31</td>\n",
       "      <td>6</td>\n",
       "      <td>0.000000</td>\n",
       "      <td>0.000000</td>\n",
       "      <td>0.050926</td>\n",
       "      <td>0.509259</td>\n",
       "      <td>0.507123</td>\n",
       "    </tr>\n",
       "    <tr>\n",
       "      <th>3</th>\n",
       "      <td>Austria</td>\n",
       "      <td>43</td>\n",
       "      <td>7</td>\n",
       "      <td>-0.166667</td>\n",
       "      <td>-1.666667</td>\n",
       "      <td>-0.232876</td>\n",
       "      <td>-2.328764</td>\n",
       "      <td>0.064821</td>\n",
       "    </tr>\n",
       "    <tr>\n",
       "      <th>4</th>\n",
       "      <td>Austria</td>\n",
       "      <td>50</td>\n",
       "      <td>7</td>\n",
       "      <td>-0.052632</td>\n",
       "      <td>-0.526316</td>\n",
       "      <td>-0.117846</td>\n",
       "      <td>-1.178459</td>\n",
       "      <td>0.185393</td>\n",
       "    </tr>\n",
       "    <tr>\n",
       "      <th>...</th>\n",
       "      <td>...</td>\n",
       "      <td>...</td>\n",
       "      <td>...</td>\n",
       "      <td>...</td>\n",
       "      <td>...</td>\n",
       "      <td>...</td>\n",
       "      <td>...</td>\n",
       "      <td>...</td>\n",
       "    </tr>\n",
       "    <tr>\n",
       "      <th>790</th>\n",
       "      <td>Switzerland</td>\n",
       "      <td>2929</td>\n",
       "      <td>7</td>\n",
       "      <td>0.000000</td>\n",
       "      <td>0.000000</td>\n",
       "      <td>0.041666</td>\n",
       "      <td>0.416659</td>\n",
       "      <td>0.620208</td>\n",
       "    </tr>\n",
       "    <tr>\n",
       "      <th>791</th>\n",
       "      <td>Switzerland</td>\n",
       "      <td>2937</td>\n",
       "      <td>7</td>\n",
       "      <td>-0.102564</td>\n",
       "      <td>-1.025641</td>\n",
       "      <td>-0.127932</td>\n",
       "      <td>-1.279321</td>\n",
       "      <td>0.013715</td>\n",
       "    </tr>\n",
       "    <tr>\n",
       "      <th>792</th>\n",
       "      <td>Switzerland</td>\n",
       "      <td>2941</td>\n",
       "      <td>7</td>\n",
       "      <td>-0.274295</td>\n",
       "      <td>-2.742947</td>\n",
       "      <td>-0.262335</td>\n",
       "      <td>-2.623348</td>\n",
       "      <td>0.005337</td>\n",
       "    </tr>\n",
       "    <tr>\n",
       "      <th>793</th>\n",
       "      <td>Switzerland</td>\n",
       "      <td>2967</td>\n",
       "      <td>7</td>\n",
       "      <td>0.000000</td>\n",
       "      <td>0.000000</td>\n",
       "      <td>0.024508</td>\n",
       "      <td>0.245078</td>\n",
       "      <td>0.932954</td>\n",
       "    </tr>\n",
       "    <tr>\n",
       "      <th>794</th>\n",
       "      <td>Switzerland</td>\n",
       "      <td>2977</td>\n",
       "      <td>5</td>\n",
       "      <td>-0.171429</td>\n",
       "      <td>-1.714286</td>\n",
       "      <td>-0.147123</td>\n",
       "      <td>-1.471229</td>\n",
       "      <td>0.000900</td>\n",
       "    </tr>\n",
       "  </tbody>\n",
       "</table>\n",
       "<p>795 rows × 8 columns</p>\n",
       "</div>"
      ],
      "text/plain": [
       "         country  station_id  n_months  median_slope_theil_per_year  \\\n",
       "0        Austria          13         6                     0.104423   \n",
       "1        Austria          20         6                     0.000000   \n",
       "2        Austria          31         6                     0.000000   \n",
       "3        Austria          43         7                    -0.166667   \n",
       "4        Austria          50         7                    -0.052632   \n",
       "..           ...         ...       ...                          ...   \n",
       "790  Switzerland        2929         7                     0.000000   \n",
       "791  Switzerland        2937         7                    -0.102564   \n",
       "792  Switzerland        2941         7                    -0.274295   \n",
       "793  Switzerland        2967         7                     0.000000   \n",
       "794  Switzerland        2977         5                    -0.171429   \n",
       "\n",
       "     median_slope_theil_per_decade  mean_slope_theil_per_year  \\\n",
       "0                         1.044226                   0.229252   \n",
       "1                         0.000000                   0.015931   \n",
       "2                         0.000000                   0.050926   \n",
       "3                        -1.666667                  -0.232876   \n",
       "4                        -0.526316                  -0.117846   \n",
       "..                             ...                        ...   \n",
       "790                       0.000000                   0.041666   \n",
       "791                      -1.025641                  -0.127932   \n",
       "792                      -2.742947                  -0.262335   \n",
       "793                       0.000000                   0.024508   \n",
       "794                      -1.714286                  -0.147123   \n",
       "\n",
       "     mean_slope_theil_per_decade  p_combined  \n",
       "0                       2.292520    0.452272  \n",
       "1                       0.159314    0.807434  \n",
       "2                       0.509259    0.507123  \n",
       "3                      -2.328764    0.064821  \n",
       "4                      -1.178459    0.185393  \n",
       "..                           ...         ...  \n",
       "790                     0.416659    0.620208  \n",
       "791                    -1.279321    0.013715  \n",
       "792                    -2.623348    0.005337  \n",
       "793                     0.245078    0.932954  \n",
       "794                    -1.471229    0.000900  \n",
       "\n",
       "[795 rows x 8 columns]"
      ]
     },
     "execution_count": 124,
     "metadata": {},
     "output_type": "execute_result"
    }
   ],
   "source": [
    "per_station"
   ]
  },
  {
   "cell_type": "code",
   "execution_count": 125,
   "id": "5dc58af1",
   "metadata": {},
   "outputs": [
    {
     "data": {
      "text/html": [
       "<div>\n",
       "<style scoped>\n",
       "    .dataframe tbody tr th:only-of-type {\n",
       "        vertical-align: middle;\n",
       "    }\n",
       "\n",
       "    .dataframe tbody tr th {\n",
       "        vertical-align: top;\n",
       "    }\n",
       "\n",
       "    .dataframe thead th {\n",
       "        text-align: right;\n",
       "    }\n",
       "</style>\n",
       "<table border=\"1\" class=\"dataframe\">\n",
       "  <thead>\n",
       "    <tr style=\"text-align: right;\">\n",
       "      <th></th>\n",
       "      <th>country</th>\n",
       "      <th>n_years</th>\n",
       "      <th>median_stations_per_year</th>\n",
       "      <th>trend</th>\n",
       "      <th>p</th>\n",
       "      <th>tau</th>\n",
       "      <th>slope_per_year</th>\n",
       "      <th>slope_per_decade</th>\n",
       "      <th>variant</th>\n",
       "      <th>country_abr</th>\n",
       "    </tr>\n",
       "  </thead>\n",
       "  <tbody>\n",
       "    <tr>\n",
       "      <th>0</th>\n",
       "      <td>Austria</td>\n",
       "      <td>47</td>\n",
       "      <td>366</td>\n",
       "      <td>decreasing</td>\n",
       "      <td>0.014395</td>\n",
       "      <td>-0.180389</td>\n",
       "      <td>-0.213336</td>\n",
       "      <td>-2.133362</td>\n",
       "      <td>hamed_rao</td>\n",
       "      <td>AT</td>\n",
       "    </tr>\n",
       "    <tr>\n",
       "      <th>1</th>\n",
       "      <td>France</td>\n",
       "      <td>61</td>\n",
       "      <td>54</td>\n",
       "      <td>no trend</td>\n",
       "      <td>0.513495</td>\n",
       "      <td>0.057923</td>\n",
       "      <td>0.088097</td>\n",
       "      <td>0.880971</td>\n",
       "      <td>hamed_rao</td>\n",
       "      <td>FR</td>\n",
       "    </tr>\n",
       "    <tr>\n",
       "      <th>2</th>\n",
       "      <td>Germany</td>\n",
       "      <td>72</td>\n",
       "      <td>152</td>\n",
       "      <td>no trend</td>\n",
       "      <td>0.282672</td>\n",
       "      <td>-0.086854</td>\n",
       "      <td>-0.098483</td>\n",
       "      <td>-0.984831</td>\n",
       "      <td>hamed_rao</td>\n",
       "      <td>DE</td>\n",
       "    </tr>\n",
       "    <tr>\n",
       "      <th>3</th>\n",
       "      <td>Italy</td>\n",
       "      <td>47</td>\n",
       "      <td>93</td>\n",
       "      <td>decreasing</td>\n",
       "      <td>0.018893</td>\n",
       "      <td>-0.237743</td>\n",
       "      <td>-0.400024</td>\n",
       "      <td>-4.000241</td>\n",
       "      <td>hamed_rao</td>\n",
       "      <td>IT</td>\n",
       "    </tr>\n",
       "    <tr>\n",
       "      <th>4</th>\n",
       "      <td>Slovenia</td>\n",
       "      <td>59</td>\n",
       "      <td>48</td>\n",
       "      <td>decreasing</td>\n",
       "      <td>0.004355</td>\n",
       "      <td>-0.255406</td>\n",
       "      <td>-0.245027</td>\n",
       "      <td>-2.450269</td>\n",
       "      <td>hamed_rao</td>\n",
       "      <td>SI</td>\n",
       "    </tr>\n",
       "    <tr>\n",
       "      <th>5</th>\n",
       "      <td>Switzerland</td>\n",
       "      <td>84</td>\n",
       "      <td>159</td>\n",
       "      <td>no trend</td>\n",
       "      <td>0.087017</td>\n",
       "      <td>-0.127367</td>\n",
       "      <td>-0.108081</td>\n",
       "      <td>-1.080809</td>\n",
       "      <td>hamed_rao</td>\n",
       "      <td>CH</td>\n",
       "    </tr>\n",
       "  </tbody>\n",
       "</table>\n",
       "</div>"
      ],
      "text/plain": [
       "       country  n_years  median_stations_per_year       trend         p  \\\n",
       "0      Austria       47                       366  decreasing  0.014395   \n",
       "1       France       61                        54    no trend  0.513495   \n",
       "2      Germany       72                       152    no trend  0.282672   \n",
       "3        Italy       47                        93  decreasing  0.018893   \n",
       "4     Slovenia       59                        48  decreasing  0.004355   \n",
       "5  Switzerland       84                       159    no trend  0.087017   \n",
       "\n",
       "        tau  slope_per_year  slope_per_decade    variant country_abr  \n",
       "0 -0.180389       -0.213336         -2.133362  hamed_rao          AT  \n",
       "1  0.057923        0.088097          0.880971  hamed_rao          FR  \n",
       "2 -0.086854       -0.098483         -0.984831  hamed_rao          DE  \n",
       "3 -0.237743       -0.400024         -4.000241  hamed_rao          IT  \n",
       "4 -0.255406       -0.245027         -2.450269  hamed_rao          SI  \n",
       "5 -0.127367       -0.108081         -1.080809  hamed_rao          CH  "
      ]
     },
     "execution_count": 125,
     "metadata": {},
     "output_type": "execute_result"
    }
   ],
   "source": [
    "avg_country"
   ]
  },
  {
   "cell_type": "code",
   "execution_count": 148,
   "id": "4e1248d2",
   "metadata": {},
   "outputs": [
    {
     "data": {
      "image/png": "[encoded data removed]",
      "text/plain": [
       "<Figure size 800x600 with 1 Axes>"
      ]
     },
     "metadata": {},
     "output_type": "display_data"
    }
   ],
   "source": [
    "fig1, ax = plt.subplots(figsize=(8,6))\n",
    "fig1.suptitle('Hamed–Rao–adjusted MK; Sen slope on country snowpack depths',\n",
    "             y=1, fontsize=12, color='0')\n",
    "\n",
    "# Average Country Trends\n",
    "sns.scatterplot(data=avg_country, x='slope_per_decade',y='p',hue='country',palette='flare',legend=True , ax=ax)\n",
    "\n",
    "ax.legend()\n",
    "ax.set_ylabel('p_value')\n",
    "ax.set_xlabel('Slope (cm/decade)')\n",
    "ax.set_title('Average Country Slope vs p_value (Mann_Kendall Test)', y=1, color='0.4')\n",
    "ax.grid(True)\n",
    "\n",
    "# Annotate each point with the country name\n",
    "for i, row in avg_country.iterrows():\n",
    "    ax.text(\n",
    "        row['slope_per_decade'] - 0.13,  # x position slightly offset\n",
    "        row['p'] - 0.018,                # y position slightly offset\n",
    "        row['country_abr'],\n",
    "        fontsize=10,style='normal'\n",
    "    )\n",
    "\n",
    "plt.axhline(0.05,linestyle='--',color='red',label='p_value = 0.05 (Significance Threshold)')\n",
    "plt.axvline(0.00,linestyle='--',color='blue',label='Zero Slope')\n",
    "\n",
    "plt.tight_layout()\n",
    "plt.show()"
   ]
  },
  {
   "cell_type": "code",
   "execution_count": 151,
   "id": "f015b0e9",
   "metadata": {},
   "outputs": [
    {
     "data": {
      "application/vnd.plotly.v1+json": {
       "config": {
        "plotlyServerURL": "https://plot.ly"
       },
       "data": [
        {
         "hovertemplate": "<b>%{text}</b><br>Slope: %{x:.2f} cm/decade<br>p: %{y:.3f}<extra></extra>",
         "legendgroup": "Austria",
         "marker": {
          "opacity": 0.55,
          "size": 6
         },
         "mode": "markers",
         "name": "Austria",
         "showlegend": true,
         "text": [
          "Austria",
          "Austria",
          "Austria",
          "Austria",
          "Austria",
          "Austria",
          "Austria",
          "Austria",
          "Austria",
          "Austria",
          "Austria",
          "Austria",
          "Austria",
          "Austria",
          "Austria",
          "Austria",
          "Austria",
          "Austria",
          "Austria",
          "Austria",
          "Austria",
          "Austria",
          "Austria",
          "Austria",
          "Austria",
          "Austria",
          "Austria",
          "Austria",
          "Austria",
          "Austria",
          "Austria",
          "Austria",
          "Austria",
          "Austria",
          "Austria",
          "Austria",
          "Austria",
          "Austria",
          "Austria",
          "Austria",
          "Austria",
          "Austria",
          "Austria",
          "Austria",
          "Austria",
          "Austria",
          "Austria",
          "Austria",
          "Austria",
          "Austria",
          "Austria",
          "Austria",
          "Austria",
          "Austria",
          "Austria",
          "Austria",
          "Austria",
          "Austria",
          "Austria",
          "Austria",
          "Austria",
          "Austria",
          "Austria",
          "Austria",
          "Austria",
          "Austria",
          "Austria",
          "Austria",
          "Austria",
          "Austria",
          "Austria",
          "Austria",
          "Austria",
          "Austria",
          "Austria",
          "Austria",
          "Austria",
          "Austria",
          "Austria",
          "Austria",
          "Austria",
          "Austria",
          "Austria",
          "Austria",
          "Austria",
          "Austria",
          "Austria",
          "Austria",
          "Austria",
          "Austria",
          "Austria",
          "Austria",
          "Austria",
          "Austria",
          "Austria",
          "Austria",
          "Austria",
          "Austria",
          "Austria",
          "Austria",
          "Austria",
          "Austria",
          "Austria",
          "Austria",
          "Austria",
          "Austria",
          "Austria",
          "Austria",
          "Austria",
          "Austria",
          "Austria",
          "Austria",
          "Austria",
          "Austria",
          "Austria",
          "Austria",
          "Austria",
          "Austria",
          "Austria",
          "Austria",
          "Austria",
          "Austria",
          "Austria",
          "Austria",
          "Austria",
          "Austria",
          "Austria",
          "Austria",
          "Austria",
          "Austria",
          "Austria",
          "Austria",
          "Austria",
          "Austria",
          "Austria",
          "Austria",
          "Austria",
          "Austria",
          "Austria",
          "Austria",
          "Austria",
          "Austria",
          "Austria",
          "Austria",
          "Austria",
          "Austria",
          "Austria",
          "Austria",
          "Austria",
          "Austria",
          "Austria",
          "Austria",
          "Austria",
          "Austria",
          "Austria",
          "Austria",
          "Austria",
          "Austria",
          "Austria",
          "Austria",
          "Austria",
          "Austria",
          "Austria",
          "Austria",
          "Austria",
          "Austria",
          "Austria",
          "Austria",
          "Austria",
          "Austria",
          "Austria",
          "Austria",
          "Austria",
          "Austria",
          "Austria",
          "Austria",
          "Austria",
          "Austria",
          "Austria",
          "Austria",
          "Austria",
          "Austria",
          "Austria",
          "Austria",
          "Austria",
          "Austria",
          "Austria",
          "Austria",
          "Austria",
          "Austria",
          "Austria",
          "Austria",
          "Austria",
          "Austria",
          "Austria",
          "Austria",
          "Austria",
          "Austria",
          "Austria",
          "Austria",
          "Austria",
          "Austria",
          "Austria",
          "Austria",
          "Austria",
          "Austria",
          "Austria",
          "Austria",
          "Austria",
          "Austria",
          "Austria",
          "Austria",
          "Austria",
          "Austria",
          "Austria",
          "Austria",
          "Austria",
          "Austria",
          "Austria",
          "Austria",
          "Austria",
          "Austria",
          "Austria",
          "Austria",
          "Austria",
          "Austria",
          "Austria",
          "Austria",
          "Austria",
          "Austria",
          "Austria",
          "Austria",
          "Austria",
          "Austria",
          "Austria",
          "Austria",
          "Austria",
          "Austria",
          "Austria",
          "Austria",
          "Austria",
          "Austria",
          "Austria",
          "Austria",
          "Austria",
          "Austria",
          "Austria",
          "Austria",
          "Austria",
          "Austria",
          "Austria",
          "Austria",
          "Austria",
          "Austria",
          "Austria",
          "Austria",
          "Austria",
          "Austria",
          "Austria",
          "Austria",
          "Austria",
          "Austria",
          "Austria",
          "Austria",
          "Austria",
          "Austria",
          "Austria",
          "Austria",
          "Austria",
          "Austria",
          "Austria",
          "Austria",
          "Austria",
          "Austria",
          "Austria",
          "Austria",
          "Austria",
          "Austria",
          "Austria",
          "Austria",
          "Austria",
          "Austria",
          "Austria",
          "Austria",
          "Austria",
          "Austria",
          "Austria",
          "Austria",
          "Austria",
          "Austria",
          "Austria",
          "Austria",
          "Austria",
          "Austria",
          "Austria",
          "Austria",
          "Austria",
          "Austria",
          "Austria",
          "Austria",
          "Austria",
          "Austria",
          "Austria",
          "Austria",
          "Austria",
          "Austria",
          "Austria",
          "Austria",
          "Austria",
          "Austria",
          "Austria",
          "Austria",
          "Austria",
          "Austria",
          "Austria",
          "Austria",
          "Austria",
          "Austria",
          "Austria",
          "Austria",
          "Austria"
         ],
         "type": "scatter",
         "x": {
          "bdata": "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",
          "dtype": "f8"
         },
         "xaxis": "x",
         "y": {
          "bdata": "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",
          "dtype": "f8"
         },
         "yaxis": "y"
        },
        {
         "hovertemplate": "<b>%{text}</b><br>Avg slope: %{x:.2f} cm/decade<br>p: %{y:.3f}<extra></extra>",
         "legendgroup": "Austria",
         "marker": {
          "line": {
           "color": "black",
           "width": 1.5
          },
          "size": 12
         },
         "mode": "markers+text",
         "name": "Austria",
         "showlegend": false,
         "text": [
          "AT"
         ],
         "textposition": "top center",
         "type": "scatter",
         "x": {
          "bdata": "ge1tPyARAcA=",
          "dtype": "f8"
         },
         "xaxis": "x2",
         "y": {
          "bdata": "1Y3PUkB7jT8=",
          "dtype": "f8"
         },
         "yaxis": "y2"
        },
        {
         "hovertemplate": "<b>%{text}</b><br>Slope: %{x:.2f} cm/decade<br>p: %{y:.3f}<extra></extra>",
         "legendgroup": "France",
         "marker": {
          "opacity": 0.55,
          "size": 6
         },
         "mode": "markers",
         "name": "France",
         "showlegend": true,
         "text": [
          "France",
          "France",
          "France",
          "France",
          "France",
          "France",
          "France",
          "France",
          "France",
          "France",
          "France",
          "France",
          "France",
          "France",
          "France",
          "France",
          "France",
          "France",
          "France",
          "France",
          "France",
          "France",
          "France",
          "France",
          "France",
          "France",
          "France",
          "France",
          "France",
          "France",
          "France",
          "France",
          "France",
          "France",
          "France",
          "France",
          "France",
          "France",
          "France",
          "France",
          "France",
          "France",
          "France",
          "France",
          "France",
          "France"
         ],
         "type": "scatter",
         "x": {
          "bdata": "09LS0tLS8r8WspCFLGQBwM/zPM/zPN+/tm3btm3b9r9ZyEIWspATwNPS0tLS0vK/+OCDDz74AMAAAAAAAAAAABhddNFFF/2/VlVVVVVVB8AAAAAAAAAAAGMndmIndgLA9aY3velND8CIh4eHh4cHwLZt27Zt2/a/AAAAAAAAAAAAAAAAAAAAAFRVVVVV1QnAtHAGhJI79b8k/xgrHpUfwAAAAAAAAAAAcB/BfQT3+T+42d5me5sTwAAAAAAAAAnAeQ3lNZTX4L8AAAAAAAACwAAAAAAAABDAAAAAAAAAAACrqqqqqqoQwDaU11BeQxlAAAAAAABAJcCf53me53n+vwAAAAAAAPi/KvxD5i3t+b98GmG5pxHGv+LPhD8T/gDAAAAAAAAAAAAAAAAAAAAAADRIgzRIg/S/AAAAAABAKkDT0tLS0tLyvwAAAAAAAAAAJUmSJEmSEsAAAAAAAAAAwFsi97eWyP2/kk022WST9b8=",
          "dtype": "f8"
         },
         "xaxis": "x",
         "y": {
          "bdata": "ILnH5ELk1D8kBr2JELmrP4TT8MHGmOM/lManQs+ttT/acAOMNi6ZP7z79yQt+KE/6AiMBUKTgD9Bz+LQsgXlP2CL0JfB+40/aPwY+/K6Zz97CnuiBTrhP2IBKSqs+KI/U91wFCypeD8QqMWylTnpPrZcW5SkGNQ/Ndh509Vc7z96156C2X3hPz/ITm1Uy5I/pJ7chAMO1T8SnUT+YWjjPgAAAAAAAPA/DK9cAhs50z9EBOTJwPakP8qXFsaOf4g/xRX/bYTYxT9BjngB0wqSPyxjFLhD8lw/r7wSoVpM7j8c8gVyH/CFPppa3DwudqY/VXTuTUl0hT8OZ3elBPWnPyw+qN+Dj6M/DCiQaYojuz9qwvgbpF3SP4l9EhwhMaM/haTBdr9i2j/+3vZU5hrjP7YtUt0x0KY/+Obz423exz93Psr0BHCEPx7NmsqFfew/kT0SI5nodj//87UUZMqQPwvwwADrdHk/aimEjuW2wj8=",
          "dtype": "f8"
         },
         "yaxis": "y"
        },
        {
         "hovertemplate": "<b>%{text}</b><br>Avg slope: %{x:.2f} cm/decade<br>p: %{y:.3f}<extra></extra>",
         "legendgroup": "France",
         "marker": {
          "line": {
           "color": "black",
           "width": 1.5
          },
          "size": 12
         },
         "mode": "markers+text",
         "name": "France",
         "showlegend": false,
         "text": [
          "FR"
         ],
         "textposition": "top center",
         "type": "scatter",
         "x": {
          "bdata": "QunOF+kw7D8=",
          "dtype": "f8"
         },
         "xaxis": "x2",
         "y": {
          "bdata": "3ORAG4xu4D8=",
          "dtype": "f8"
         },
         "yaxis": "y2"
        },
        {
         "hovertemplate": "<b>%{text}</b><br>Slope: %{x:.2f} cm/decade<br>p: %{y:.3f}<extra></extra>",
         "legendgroup": "Germany",
         "marker": {
          "opacity": 0.55,
          "size": 6
         },
         "mode": "markers",
         "name": "Germany",
         "showlegend": true,
         "text": [
          "Germany",
          "Germany",
          "Germany",
          "Germany",
          "Germany",
          "Germany",
          "Germany",
          "Germany",
          "Germany",
          "Germany",
          "Germany",
          "Germany",
          "Germany",
          "Germany",
          "Germany",
          "Germany",
          "Germany",
          "Germany",
          "Germany",
          "Germany",
          "Germany",
          "Germany",
          "Germany",
          "Germany",
          "Germany",
          "Germany",
          "Germany",
          "Germany",
          "Germany",
          "Germany",
          "Germany",
          "Germany",
          "Germany",
          "Germany",
          "Germany",
          "Germany",
          "Germany",
          "Germany",
          "Germany",
          "Germany",
          "Germany",
          "Germany",
          "Germany",
          "Germany",
          "Germany",
          "Germany",
          "Germany",
          "Germany",
          "Germany",
          "Germany",
          "Germany",
          "Germany",
          "Germany",
          "Germany",
          "Germany",
          "Germany",
          "Germany",
          "Germany",
          "Germany",
          "Germany",
          "Germany",
          "Germany",
          "Germany",
          "Germany",
          "Germany",
          "Germany",
          "Germany",
          "Germany",
          "Germany",
          "Germany",
          "Germany",
          "Germany",
          "Germany",
          "Germany",
          "Germany",
          "Germany",
          "Germany",
          "Germany",
          "Germany",
          "Germany",
          "Germany",
          "Germany",
          "Germany",
          "Germany",
          "Germany",
          "Germany",
          "Germany",
          "Germany",
          "Germany",
          "Germany",
          "Germany",
          "Germany",
          "Germany",
          "Germany",
          "Germany",
          "Germany",
          "Germany",
          "Germany",
          "Germany",
          "Germany",
          "Germany",
          "Germany",
          "Germany",
          "Germany",
          "Germany",
          "Germany",
          "Germany",
          "Germany",
          "Germany",
          "Germany",
          "Germany",
          "Germany",
          "Germany",
          "Germany",
          "Germany",
          "Germany",
          "Germany",
          "Germany",
          "Germany",
          "Germany",
          "Germany",
          "Germany",
          "Germany",
          "Germany",
          "Germany",
          "Germany",
          "Germany",
          "Germany",
          "Germany",
          "Germany",
          "Germany",
          "Germany",
          "Germany",
          "Germany",
          "Germany",
          "Germany",
          "Germany",
          "Germany",
          "Germany",
          "Germany",
          "Germany",
          "Germany",
          "Germany",
          "Germany",
          "Germany",
          "Germany",
          "Germany",
          "Germany",
          "Germany",
          "Germany",
          "Germany",
          "Germany",
          "Germany",
          "Germany",
          "Germany",
          "Germany",
          "Germany",
          "Germany",
          "Germany"
         ],
         "type": "scatter",
         "x": {
          "bdata": "E7MWCujY8L/YiZ3YiZ34P1LiZ5T4GeW/hmEYhmEY5r8AAAAAAAAAAP6y3i/r/fo/qqqqqqqq4L822WSTTTb9v3Icx3Ecx/E/AAAAAAAAAADYiZ3YiZ34v9mJndiJnei/T+zETuzE/r+qqqqqqqrqPwAAAAAAAPC/zjnnnHPO+b+lZSAfVd7+vwAAAAAAAADAAAAAAAAAAAAWXuEVXuEVQHkN5TWU1+A/AAAAAAAAAADMzMzMzMwMwFVVVVVVVeU/2KfAEQh46b8AAAAAAAAAAAAAAAAAAAAAcEfcEXfEzb+qqqqqqqrqv53neZ7ned6/AAAAAAAAAAAAAAAAAAAAAAAAAAAAAAAA09LS0tLS8r8AAAAAAAAAANPS0tLS0vK/QnsJ7SW057+tJIeuJIfuv1phcyDRCts/AAAAAAAAAAB5DeU1lNfgP7Zt27Zt2/a/6qEe6qEeAsAAAAAAAAAAAAAAAAAAAAAAAAAAAAAAAABUyzrQdm/1vwAAAAAAAAAAAAAAAAAAAAAAAAAAAADUvwAAAAAAABDAAAAAAAAAAAAAAAAAAAAAAAAAAAAAAAAAAAAAAAAAAAAAAAAAAAAAAG6KUcPfpui/AAAAAAAAAACQBmmQBmnQv7yzkg7+u+M/wzAMwzAMA8ByHMdxHMfhvwAAAAAAAAAAAAAAAAAABMBFsPKU0x7SvwAAAAAAAAAAAAAAAAAAAADbtm3btm31vwAAAAAAABnAvXIMkRRqBMAAAAAAAAAAAG6aLczdpvE/AAAAAAAABMDc0wjLPY3wv9dQXkN5DQXAAAAAAAAA4D8AAAAAAAAAANFFF1100QXAG2G5pxGW+z+y7J2x7J3hPwAAAAAAACRA09LS0tLS4r/jOI7jOI7+v2gxncV0Fh7Ajz8c8PjDEcAAAAAAAAAAAAAAAAAAAAAAiy666KKLKMBk8EkJF2LoP/6y3i/r/fq/AAAAAAAA8L9yHMdxHMfhvwAAAAAAAADAAAAAAAAA9L92PR3rDmMAwDQzMzMzMxtAAAAAAAAA4L9IcB/BfQQLwAAAAAAAAAAAAAAAAAAAAAAAAAAAAAAAANJjlUSzuAjA6KKLLrqIFcAAAAAAAAAawHBH3BF3xM0/sW3btm3btr9yHMdxHMfhPxLkKUGeEtS/vnLYRlHZBMAAAAAAAAAAAAAAAAAAAOS/AAAAAAAA9D8AAAAAAAAAAAAAAAAAAOS/AAAAAAAABMAAAAAAAAAAANPS0tLS0hLAWfjMq87hG8AAAAAAAAAAAAAAAAAAAAAAAAAAAAAAAAAxDMMwDMMYQNy2bdu2bQ/ApZRSSiml5L8AAAAAAAAAAMdxHMdxHA/AMQzDMAzDCMAAAAAAAAAAALZt27Zt2wbAQXsJ7SW0178AAAAAAAAAAAAAAAAAACTAAAAAAAAAAACAxt06r4DyvwAAAAAAAPS/AAAAAAAAAAB5DeU1lNfgPzY2NjY2Nva/kAZpkAZp4L+qqqqqqqrqP8IU+awbTOG/AAAAAAAAAAAAAAAAAAAAwBhddNFFF/2/AAAAAAAAAAAYXXTRRRfdv3x08tHJR/e/mpmZmZmZ2b8AAAAAAAAEwFNVVVVVVcW/2Imd2Imd+L8AAAAAAAAAANmJndiJneg/AAAAAAAAAABFWw2eI1DkvxJgbIsK9gTAZJNNNtlkI8Bu2N/FoCLcPxhddNFFFx3A",
          "dtype": "f8"
         },
         "xaxis": "x",
         "y": {
          "bdata": "TiaDz2+gvT9b34eYpJGmP6YAjfylUJM/4ug6Wp5S1z8ksB5E7TPGPz7BOS95lrA/aZm0uPxiuT8cwOJaxwDBP0HYjZVD8uM/brEMY+R0tj/CiwCjd4tsP24vVgnR/6E/o9Pv8IKQlz9Z0gNCiUPtP6de1ukd2M8/2Xgz/JmNvD8Up+r7t96xP89SboMlg9c/O9DHIDuB3D92NgB8BMyxPyKqV2BdleE/wGXdrTL45D+j3q1JoO5EPx3HRIled58/+erds3R03T+1638wO8faP1VGRSe8D+Y/rsDdt21y4j8+WtA4gFyPP4rOPw9NP4U/Mh39EzPA7T+AxADJryDXP/PZPiRqoMY/ADBp81ey4D/XNfQlvr/gP8TcrMZ817w/0JLIsgzEnD/aSyvPnkGXP3Mt47f4Dtg/F5gFswmMxT9T/Ju0uCLlPx8Dxw4UDcY/uv7MTc0ioT8sqP+9FuzrPwYAUbuJi9I/RoVfpPqY7D/gDh+9+YSwP+adqQO5Xus/mpSiek5K5T+5sJz5WWG8PzMiu7MVD30/HP5ltm2X5T8RxVtWEJrZP+w8984Houg/I/cfIBZH7T9b9eBFqRnSP2I4L7QN42o/hHagDczg6z/YyeRV7WzgPx2A6UcOe9o/KR6qpTdFsj9T4pXwR92nP8A6x4bru+w/v+iVlc+wKj+7bFo5hsC9P2BJ6hB0zus/WYxYdXnE5z8cQChkkDDRPzp0LcQiyLM/4wy8vMPyVT+M5xFMkjPtPxdtDszFYuM/8Fy2P6XVyD+pdtaH+a4wP/LWs6Q3XmI/wZQSSLQL0D9N/IfDCDfYPx6apcWtrWw/pG788nr3pz/JcT9yWeXXP1UAWebFukU/DPCIba8ezj/HRv7LGXzZP40Reo+9E0Y/H3drghOVwT9zXMaCPtblP24nFPXCbu0/Fqt2CAJbKj/50gvuYybeP09bw2z7MIA/eD6zc30i1T8kGsZbEAbFP8ZHH3Vd0cs/GNJNFvpTpD9Tqj95H8hQP6ahmDIWTt4/M6ibKv8ksj+uEWZJcLGdP8rN1fNRDsg/YCmZ7gd82z/nic26Z3TrPwIMwDv2gOc+6RR8+2nCwT+GPYX1E7p6P6pzaqD7xeY/GOtCPwnh0j+HIetJidrhPyKzhWpnUNg/5iHjcrcztj8aotTUfUTpP6U9zSeRGsI/klIlJzcohD9iqvO1oCWzP9pUvIrk99Q/nHLCPIk0Rj+t1sh4EPnlP/YsjPFy1aQ/qN5ydiDKND8y9URwrTDYP+CAK2ppgOk/nwPXt5//qT//MYt82+1gPChewhGHYyY/2T5slzW2MT+M1XjTOBHlP2hxNOD8EbQ/+tuD5yk+pz/GT7d4/3elP7S9YPsd9SU/7v8jeACPuT/Axnc983bsP/TW1C6tQhQ+lfHhCBRL6T95L+9BfQjEP8cc+fZuEs8/BEtZzevRxT9zp069rUTtP2Myi5An8Lg/3LLkcqkXxz/P7HlPwtHtP8lGGZca9p0/FBvQsHeo7D+CRqYw6qfEPhLjTGchSoM/JNwmBbIE7D9RgS0H1TjMP/Jw0X54OrA/WAl6jpJrwj/DLUrXFz5XP5hfjb5KlOM/RTG94jmgUj+UwY1Ewo/ePypL5Df55Lo/MoYI0zr+4T/4tfjl6QfRP2H1NSlYBGE/ew+YoPcxez+GENSwJhbbP1Ze3zAXnGc/",
          "dtype": "f8"
         },
         "yaxis": "y"
        },
        {
         "hovertemplate": "<b>%{text}</b><br>Avg slope: %{x:.2f} cm/decade<br>p: %{y:.3f}<extra></extra>",
         "legendgroup": "Germany",
         "marker": {
          "line": {
           "color": "black",
           "width": 1.5
          },
          "size": 12
         },
         "mode": "markers+text",
         "name": "Germany",
         "showlegend": false,
         "text": [
          "DE"
         ],
         "textposition": "top center",
         "type": "scatter",
         "x": {
          "bdata": "0y4mobyD778=",
          "dtype": "f8"
         },
         "xaxis": "x2",
         "y": {
          "bdata": "lzmThk0X0j8=",
          "dtype": "f8"
         },
         "yaxis": "y2"
        },
        {
         "hovertemplate": "<b>%{text}</b><br>Slope: %{x:.2f} cm/decade<br>p: %{y:.3f}<extra></extra>",
         "legendgroup": "Italy",
         "marker": {
          "opacity": 0.55,
          "size": 6
         },
         "mode": "markers",
         "name": "Italy",
         "showlegend": true,
         "text": [
          "Italy",
          "Italy",
          "Italy",
          "Italy",
          "Italy",
          "Italy",
          "Italy",
          "Italy",
          "Italy",
          "Italy",
          "Italy",
          "Italy",
          "Italy",
          "Italy",
          "Italy",
          "Italy",
          "Italy",
          "Italy",
          "Italy",
          "Italy",
          "Italy",
          "Italy",
          "Italy",
          "Italy",
          "Italy",
          "Italy",
          "Italy",
          "Italy",
          "Italy",
          "Italy",
          "Italy",
          "Italy",
          "Italy",
          "Italy",
          "Italy",
          "Italy",
          "Italy",
          "Italy",
          "Italy",
          "Italy",
          "Italy",
          "Italy",
          "Italy",
          "Italy",
          "Italy",
          "Italy",
          "Italy",
          "Italy",
          "Italy",
          "Italy",
          "Italy",
          "Italy",
          "Italy"
         ],
         "type": "scatter",
         "x": {
          "bdata": "AAAAAAAAAACSJEmSJEnSv/It3/It3xZAt23btm3bEsAYXXTRRRftvwAAAAAAAAAAiPy2zCRL278kSZIkSZIAwLmnEZZ7GifAeQ3lNZTX8L8AAAAAAAAAANPS0tLS0uK/AAAAAAAA8D8AAAAAAAAAAKH3TKL3TPK/chzHcRzH8T+qqqqqqqoKQMh7vMd7vPe/whT5rBtM4T/btm3btm0fQHIcx3EcxwFA0tLS0tLS0r9WVVVVVVULQKuqqqqqqhDAAAAAAAAA/j8AAAAAAAAAAHIcx3EcxwHAAAAAAAAAAABgN5L9qmAHwHkN5TWU1/C/GF100UUXDUANXXTRRRfNvwAAAAAAADRAchzHcRzH8T+O4ziO4zgWwOM4juM4juO/AAAAAAAAAAAAAAAAAAAAAAAAAAAAAOS/SpIkSZIk4T+qqqqqqqoKwC666KKLLgJAAAAAAAAAAAAAAAAAAAAAAPjee++99+6/qqqqqqqqCkAAAAAAAAAAAHIcx3EcxxFAAAAAAAAAAAC2bdu2bdvWvwAAAAAAAAAAAAAAAAAAAACCIAiCIAgAwA==",
          "dtype": "f8"
         },
         "xaxis": "x",
         "y": {
          "bdata": "bNz1xIl36T+wwhSMMOePP/lFwaF8PsI/wIyPrNtPrD+CgVYpLs+nPybwTFxnluk/3CBYao4t2D+CVAqKv7PXP86LFMdjyQY/TWyTKLBu3j+nIEnGIYvcP1YMpBx1dNQ/ieiT2dPx6T8U/zI3NXfRPy6ipS8314I/0C8Fw7KR5D+lB+SgrIbnPwRnAysaRYQ/+pl8n9tG5D8XRx9GeIHWP6SirIBM4dU/yNGZyzth4z9naeTaBeDJP4xe4cI8rIg/vx5f5X4i6T/Xg6yDeOzZP9JGGNi3Puw/HMMCKaNP7D+wrqZ/MgrfP5D3Z0rDXsc/pRnn3D1l5j+eA2WaKJjoP3uCj2X0Kbw/ZnptXSdn5T/UpGZWLGHWPx1EoYVfiuc/JOGK+XwD6D9O6Ljkpi7jPxxFVhRCJOw/JctAYnhv2D/oOfKoyufoPwiXtP4QzOA/y/Ygt/CNqT/vpouzGuKmP6vKRCjcJLk/zVcoF77lzz8AAAAAAADwP7pmD8W2rN0/RU4hjcQe2z/W2s8t+2LdP+BqOyLVX+A/oT6N9r6Y3D8WYMnLqmrlPw==",
          "dtype": "f8"
         },
         "yaxis": "y"
        },
        {
         "hovertemplate": "<b>%{text}</b><br>Avg slope: %{x:.2f} cm/decade<br>p: %{y:.3f}<extra></extra>",
         "legendgroup": "Italy",
         "marker": {
          "line": {
           "color": "black",
           "width": 1.5
          },
          "size": 12
         },
         "mode": "markers+text",
         "name": "Italy",
         "showlegend": false,
         "text": [
          "IT"
         ],
         "textposition": "top center",
         "type": "scatter",
         "x": {
          "bdata": "CawmTD8AEMA=",
          "dtype": "f8"
         },
         "xaxis": "x2",
         "y": {
          "bdata": "e+Ywx61Ykz8=",
          "dtype": "f8"
         },
         "yaxis": "y2"
        },
        {
         "hovertemplate": "<b>%{text}</b><br>Slope: %{x:.2f} cm/decade<br>p: %{y:.3f}<extra></extra>",
         "legendgroup": "Slovenia",
         "marker": {
          "opacity": 0.55,
          "size": 6
         },
         "mode": "markers",
         "name": "Slovenia",
         "showlegend": true,
         "text": [
          "Slovenia",
          "Slovenia",
          "Slovenia",
          "Slovenia",
          "Slovenia",
          "Slovenia",
          "Slovenia",
          "Slovenia",
          "Slovenia",
          "Slovenia",
          "Slovenia",
          "Slovenia",
          "Slovenia",
          "Slovenia",
          "Slovenia",
          "Slovenia",
          "Slovenia",
          "Slovenia",
          "Slovenia",
          "Slovenia",
          "Slovenia",
          "Slovenia",
          "Slovenia",
          "Slovenia",
          "Slovenia",
          "Slovenia",
          "Slovenia",
          "Slovenia",
          "Slovenia",
          "Slovenia",
          "Slovenia",
          "Slovenia",
          "Slovenia",
          "Slovenia",
          "Slovenia",
          "Slovenia",
          "Slovenia",
          "Slovenia",
          "Slovenia",
          "Slovenia",
          "Slovenia",
          "Slovenia",
          "Slovenia",
          "Slovenia",
          "Slovenia",
          "Slovenia",
          "Slovenia",
          "Slovenia",
          "Slovenia",
          "Slovenia",
          "Slovenia",
          "Slovenia",
          "Slovenia"
         ],
         "type": "scatter",
         "x": {
          "bdata": "AAAAAAAAAAAAAAAAAAAAwKat8XfzCPm/eQ3lNZTXAMBjJ3ZiJ3YCwHIcx3Ecx/G/S3fMV5ATCsAAAAAAAAAAAKmqqqqqqvq/AAAAAAAA8L8AAAAAAAAAwAAAAAAAAAAAAAAAAAAAAAAAAAAAAAAEwAAAAAAAAAAAchzHcRzH4b9VVVVVVVX1v84555xzzvm/qaqqqqqq+r8AAAAAAAAAAAAAAAAAAAAA+N5777337r95DeU1lNfgvwAAAAAAAAAAGqRBGqRB9L/bS2gvob0EwD08PDw8PAzAOY7jOI7j4L8AAAAAAAAAAAAAAAAAAAAApZRSSimlFMCSJEmSJEnivwAAAAAAAAAAGBkZGRkZ+b9VmuKXREgNwBhddNFFF92/EtpLaC+h/b+qqqqqqqrqvwAAAAAAAAAAGF100UUX/b+wKtNa1X3fv6qqqqqqqgrAAAAAAAAAAABXVVVVVVX7v/nCLlcGqADAAAAAAAAABMDxWTeYIp8FwAAAAAAAAAAA0UUXXXTR5b8UFBQUFBTkv5U1ZU1ZU+a/QnsJ7SW057+0Ud/ZqO8MwA==",
          "dtype": "f8"
         },
         "xaxis": "x",
         "y": {
          "bdata": "LTv4jLQuqz/EOtRHPwhfPlHVq/aNguM+N0lgt9ezZz/DgCYPapyyP7hYZREImzE/1HrLkEso5D62XVGuw/icP6a0nt9JB3M/9LHHZa5HtD4bN0qAB5JTP/x4pkCsg1Y/Nrkt18kxpT/RiJfX9xgjPqf0XpFWSbM/KWf1CIB1Yj80ft0v2Wd8Pg8oMsGJwT0/vYl/bjM15D7UUary98mmP2fJz7deZrI/6K9WqiFbXT/7Exy2ec++PzPGO9b7i9c/xdKLKtrYUz4bminM5/gwP7rEKCwUvxA/FjCYDAI3ez8AAAAAAADwPyVZ5kKI2Og/NG1hxnJ7Oj7v3QM71kvePlGybB5Sue0/6Lu6wvLXrz/3mQ+p+LRwPkl3pUB+x5c/Xa1UEoQ+az9bjUDFsSmePx0JKWYZPWo/E34/t6m3dD+fv2Xokb2WP+Rbplb1mTc/P+xaSsZtyT80eXp2w79RP+ziTreZTFY/PLJ+xzbRUT/ayyOwtxbpPih8eb/bEYQ/ZIirltAnGT9Cf74YN/JKP7rpOH0+an0/UtwozPnjBj8SosIqDafTPg==",
          "dtype": "f8"
         },
         "yaxis": "y"
        },
        {
         "hovertemplate": "<b>%{text}</b><br>Avg slope: %{x:.2f} cm/decade<br>p: %{y:.3f}<extra></extra>",
         "legendgroup": "Slovenia",
         "marker": {
          "line": {
           "color": "black",
           "width": 1.5
          },
          "size": 12
         },
         "mode": "markers+text",
         "name": "Slovenia",
         "showlegend": false,
         "text": [
          "SI"
         ],
         "textposition": "top center",
         "type": "scatter",
         "x": {
          "bdata": "xuQ2sCaaA8A=",
          "dtype": "f8"
         },
         "xaxis": "x2",
         "y": {
          "bdata": "u1vljsrWcT8=",
          "dtype": "f8"
         },
         "yaxis": "y2"
        },
        {
         "hovertemplate": "<b>%{text}</b><br>Slope: %{x:.2f} cm/decade<br>p: %{y:.3f}<extra></extra>",
         "legendgroup": "Switzerland",
         "marker": {
          "opacity": 0.55,
          "size": 6
         },
         "mode": "markers",
         "name": "Switzerland",
         "showlegend": true,
         "text": [
          "Switzerland",
          "Switzerland",
          "Switzerland",
          "Switzerland",
          "Switzerland",
          "Switzerland",
          "Switzerland",
          "Switzerland",
          "Switzerland",
          "Switzerland",
          "Switzerland",
          "Switzerland",
          "Switzerland",
          "Switzerland",
          "Switzerland",
          "Switzerland",
          "Switzerland",
          "Switzerland",
          "Switzerland",
          "Switzerland",
          "Switzerland",
          "Switzerland",
          "Switzerland",
          "Switzerland",
          "Switzerland",
          "Switzerland",
          "Switzerland",
          "Switzerland",
          "Switzerland",
          "Switzerland",
          "Switzerland",
          "Switzerland",
          "Switzerland",
          "Switzerland",
          "Switzerland",
          "Switzerland",
          "Switzerland",
          "Switzerland",
          "Switzerland",
          "Switzerland",
          "Switzerland",
          "Switzerland",
          "Switzerland",
          "Switzerland",
          "Switzerland",
          "Switzerland",
          "Switzerland",
          "Switzerland",
          "Switzerland",
          "Switzerland",
          "Switzerland",
          "Switzerland",
          "Switzerland",
          "Switzerland",
          "Switzerland",
          "Switzerland",
          "Switzerland",
          "Switzerland",
          "Switzerland",
          "Switzerland",
          "Switzerland",
          "Switzerland",
          "Switzerland",
          "Switzerland",
          "Switzerland",
          "Switzerland",
          "Switzerland",
          "Switzerland",
          "Switzerland",
          "Switzerland",
          "Switzerland",
          "Switzerland",
          "Switzerland",
          "Switzerland",
          "Switzerland",
          "Switzerland",
          "Switzerland",
          "Switzerland",
          "Switzerland",
          "Switzerland",
          "Switzerland",
          "Switzerland",
          "Switzerland",
          "Switzerland",
          "Switzerland",
          "Switzerland",
          "Switzerland",
          "Switzerland",
          "Switzerland",
          "Switzerland",
          "Switzerland",
          "Switzerland",
          "Switzerland",
          "Switzerland",
          "Switzerland",
          "Switzerland",
          "Switzerland",
          "Switzerland",
          "Switzerland",
          "Switzerland",
          "Switzerland",
          "Switzerland",
          "Switzerland",
          "Switzerland",
          "Switzerland",
          "Switzerland",
          "Switzerland",
          "Switzerland",
          "Switzerland",
          "Switzerland",
          "Switzerland",
          "Switzerland",
          "Switzerland",
          "Switzerland",
          "Switzerland",
          "Switzerland",
          "Switzerland",
          "Switzerland",
          "Switzerland",
          "Switzerland",
          "Switzerland",
          "Switzerland",
          "Switzerland",
          "Switzerland",
          "Switzerland",
          "Switzerland",
          "Switzerland",
          "Switzerland",
          "Switzerland",
          "Switzerland",
          "Switzerland",
          "Switzerland",
          "Switzerland",
          "Switzerland",
          "Switzerland",
          "Switzerland",
          "Switzerland",
          "Switzerland",
          "Switzerland",
          "Switzerland",
          "Switzerland",
          "Switzerland",
          "Switzerland",
          "Switzerland",
          "Switzerland",
          "Switzerland",
          "Switzerland",
          "Switzerland",
          "Switzerland",
          "Switzerland",
          "Switzerland",
          "Switzerland",
          "Switzerland",
          "Switzerland",
          "Switzerland",
          "Switzerland",
          "Switzerland",
          "Switzerland",
          "Switzerland",
          "Switzerland",
          "Switzerland",
          "Switzerland",
          "Switzerland"
         ],
         "type": "scatter",
         "x": {
          "bdata": "AAAAAAAAGcAAAAAAAAAAAHhKUviC2CTAYyd2Yid2AsA5ZD9zheHfPwAAAAAAAAAACfWXI1IMxT8AAAAAAAAAAAAAAAAAABDA9DzP8zzPF8Cpqqqqqqrav+RxVY4cAOm/GF100UUX7b8eEW/x1xHRvwAAAAAAAABA/PTTTz/9BMDbtm3btm3zPwAAAAAAAAAAgwRTMbLf7L8bYbmnEZb7v3kN5TWU1/A/AAAAAAAAAAAPPvjggw8KwMoQrKPN+8S/jkWzjkWzLkC96U1vetPrv7zpTW9609s/chzHcRzHAUBWfkKclZ8VwFi6N6BMXP2/AAAAAAAAAADKJptsssklwNmJndiJnei/AAAAAAAAAABVVVVVVVXlP2WTTTbZZOM/qqqqqqqqGsAmvnviuyfOP7rooosuughA0UUXXXTRBcCO4ziO4zgWwAMDAwMDAwPAzMzMzMzMDMDIZLaisaDFPwAAAAAAAAAAAAAAAAAAAAB8GmG5pxHmvwAAAAAAAAAA8MMPP/zwA8AAAAAAAAAAAJqZmZmZmfm/AAAAAAAAAAAAAAAAAAAAALRt27Zt28a/2Ymd2Imd6D+pqqqqqqr6PwAAAAAAAAAAkAZpkAZp4L/FTuzETuwgQEmSJEmSJOm/AAAAAAAAAABDUClq9UTjv3x08tHJR/e/qaqqqqqq+r/sxE7sxM7oPwAAAAAAAAAAAAAAAAAAAAAAAAAAAAAAAJvneZ7nec4/nNR9eWxF4L8AAAAAAAAAACFw2JTzAe8/GF100UUX7b+O4ziO4zjOvx3HcRzHcfy/ZZNNNtlk8z89PDw8PDwswHIcx3Ecx/G/kAZpkAZp0D/Qef0UDjrNv3h4eHh4eADAAAAAAAAAFMBhinzWDabyv5AGaZAGaeC/AAAAAAAA779hGIZhGIYDwAAAAAAAAOS/AAAAAAAAAABwR9wRd8QNwPUU1lNYT+G/ZJNNNtlkw78AAAAAAAAAAAAAAAAAAAAAtm3btm3bBsDIe7zHe7zXP1JKKaWUUuQ/2Ymd2ImdCMAAAAAAAAAAAOYUvJyCl+O/n34WVjWa5L8AAAAAAAAAAJTXUF5DeQ3ASZIkSZIk8b/mJBAXak7qvwAAAAAAAAAAWO5phOWeEsAAAAAAAAAAAHIcx3Ecx/G/q4eJ/rO72L+O4ziO4zgWQAAAAAAAAAAAAAAAAAAAGEAAAAAAAAAEQIiHh4eHhydAAAAAAAAAAAAAAAAAAAAAABhddNFFF/0/QUFBQUFB9b8AAAAAAAAAADDSjhUIIw3Aq6qqqqqqIMAYGRkZGRnJv1VVVVVVVdW/AAAAAAAAAAAAAAAAAAD0v6mqqqqqqsq/AAAAAAAAAACd53me53nev6qqqqqqquQ/AAAAAAAAAABu27Zt27YJwOf8ojQtge+/AAAAAAAAAADVeviXC8sAwCVJkiRJkgxAAAAAAAAAAACiSf4FawkPwAAAAAAAAAjAAAAAAAAAAAC2bdu2bdv2v9iJndiJnfi/fe+999577j9o3WCKfNYRwCa0l9BeQhPAuulNb3rTy7/5lm/5lm8FwKqqqqqqquq/AAAAAAAAAADT0tLS0tLiv9dQXkN5DRBApACRAkQK8L8AAAAAAAAAAEotCAXIjvO/ned5nud53r8SlnsaYbk1wKqqqqqqqgpA5lu+5Vu+E8AAAAAAAAAAAAAAAAAAAAAAkAZpkAZp8L8mMDwLjvEFwAAAAAAAAAAA3LZt27Zt+78=",
          "dtype": "f8"
         },
         "xaxis": "x",
         "y": {
          "bdata": "r2UOmCkqPz/+fgUdu8bcP+9Xm2QChEU/E+E9AH7Pyj9gH5qgLIvqP67RwHofk+o/eUJBx60k6D9iE1z2WYbQPxFnPp7szOY/LdVpWg2xsD9ebl6Dc4rgP8ij+b4C1Wk/B6M07BHsfT9rd2W9F2XgP7NSJ1keVMo/jjtc80s0wD8oU6en8B/fP7vKbdyS29s/Kg/2mcwL0T7ieXxSVwqoP6i1/2E9CNc/F5XQnvUE6T8KhFOtOU2kP0sIu8paLN8/py6ICMdV3D/NT+thT03DP4tvsrHaH6U/yGLW/+V01j+j4mB0Y58uPyDVyOWjSX0/cBiYhExNvz8uzBlC4RN7P4ReQx3DCn0/+yzVY0Bt2D80NNcanenZP4AVKq/8VOk/4bbhOqGilD/uJLQj90TpP5jx83MITdY/QJ6bKVfaxj+wKKnZsMeNP55zr6mx988/pGed/Uqvtj9unlGQ4S3WPwv9VaEKB+8/nRFdVBXy4j+5R9j4kr/HP9BfiMLVgOw/9AK8mTSlaz9dOfE4jaLLP026La8DM6I/UHGoQr0dlj/t97dc5wLYP8KwW1y/H3A/UyomWLMS3j9XLaUvc3vvP1CGTqCehMA/2bGqnySfwD9qGvBRTgDhP1uRM5ftX8I/BunkPWzg6j8f+tJWNcrFP/pnl0hRjQY/fZ6vmmCCJT8uJSXLLvXjP3okJJhswNg/O1WqGNLe2z++ca6nYIXPP3ThtLbqXNg/PBlTskhl5z+kTWiSudHvP5OevcS0EcY/5+/3Cc5IrT4AIX49MhzRP/giTE5jaKM/I607lo943j97Q1OiIYYUP0X5YsIeFbA/p4ywtYdSwD+wSIdhHaDAP83/ORITOZs/9wExw28mYz/MxwmAZhjIP2ycMo3wM4E/PWQidL2RyD/WC9RE23jXP43+mxC0PsA/eHEq0WG96j8vvIzR/k+KPxPteSl5ZdY/5AkM4Icw3z+colsSo63aP1K33kv+INs/QXk6zbxtuD+Rlttxk1/sP9TyYWy3+uU/UxTZzbfYwD8fM4vml/zPP1ie/iejaNQ/5SIctQHJzz9shVeWJe3jPyI8XhUGYZw/CaCJ4kl+dj/HniOV2mPNP0bl6QrRkMY/X1MfylNPIz+V/ynMuyvPP6QYYocJwaE/ND8nqt4clT+glTEeNLLmPwAAAAAAAPA/eYB+BgDw0j/rcFi2EVTSPzH2R0DxUKY+gOPjEkb7yD8vOqEg/nTpP/otqXZPNMo/GEWszvoErT+1rCtVZvzZP8oIuLBnJlM/7BD4Wu638z2ixEA6yh3qP0iW9ZWXCcY/03bffOin1D+YCU3eC3bXP1D7XYQue+I/6ZVzgwWq0z8V5t3hTPvPP1tliacul+0/Y2sczaccmj939QcFtTWlP4ZBSaFsZdE/k4CgYtMU1T/AS2eIp199P2Sh4ViPPCM/ECovQRBf3z/878TEiIj8Puw0jKnFEIo/Z8sfqPAapD/k27TqVJqhP6S107JUC74/qbO+coJs7j9G4bCPS8wsP8cP0YcS73Q/3Li4dm92xD9dxf0kNUSfP9krHI4F37E/lF4lnd9Q0T8BcDNqPZ7WP+wvgeWjGMs/iiJWnyIrzT+GYZG0bunhPxquK6M85so/5eBpOmjpkD8d9v9UoxeFPaCSoizGXtQ/+aDdzK3zCT8ravz8BDjFP+ym0+a+2OM/R5z5aosWjD+142BgbNx1P95fxTPC2u0/QAAo1xN6TT8=",
          "dtype": "f8"
         },
         "yaxis": "y"
        },
        {
         "hovertemplate": "<b>%{text}</b><br>Avg slope: %{x:.2f} cm/decade<br>p: %{y:.3f}<extra></extra>",
         "legendgroup": "Switzerland",
         "marker": {
          "line": {
           "color": "black",
           "width": 1.5
          },
          "size": 12
         },
         "mode": "markers+text",
         "name": "Switzerland",
         "showlegend": false,
         "text": [
          "CH"
         ],
         "textposition": "top center",
         "type": "scatter",
         "x": {
          "bdata": "2dXbMP5K8b8=",
          "dtype": "f8"
         },
         "xaxis": "x2",
         "y": {
          "bdata": "C0nDTr5Gtj8=",
          "dtype": "f8"
         },
         "yaxis": "y2"
        }
       ],
       "layout": {
        "annotations": [
         {
          "font": {
           "size": 16
          },
          "showarrow": false,
          "text": "Stations (Theil–Sen slope per decade)",
          "x": 0.29250000000000004,
          "xanchor": "center",
          "xref": "paper",
          "y": 1,
          "yanchor": "bottom",
          "yref": "paper"
         },
         {
          "font": {
           "size": 16
          },
          "showarrow": false,
          "text": "Country averages",
          "x": 0.8425,
          "xanchor": "center",
          "xref": "paper",
          "y": 1,
          "yanchor": "bottom",
          "yref": "paper"
         }
        ],
        "legend": {
         "groupclick": "togglegroup",
         "title": {
          "text": "Toggle countries"
         }
        },
        "margin": {
         "b": 60,
         "l": 60,
         "r": 20,
         "t": 60
        },
        "shapes": [
         {
          "line": {
           "color": "red",
           "dash": "dash"
          },
          "type": "line",
          "x0": 0,
          "x1": 1,
          "xref": "x domain",
          "y0": 0.05,
          "y1": 0.05,
          "yref": "y"
         },
         {
          "line": {
           "color": "blue",
           "dash": "dash"
          },
          "type": "line",
          "x0": 0,
          "x1": 0,
          "xref": "x",
          "y0": 0,
          "y1": 1,
          "yref": "y domain"
         },
         {
          "line": {
           "color": "red",
           "dash": "dash"
          },
          "type": "line",
          "x0": 0,
          "x1": 1,
          "xref": "x2 domain",
          "y0": 0.05,
          "y1": 0.05,
          "yref": "y2"
         },
         {
          "line": {
           "color": "blue",
           "dash": "dash"
          },
          "type": "line",
          "x0": 0,
          "x1": 0,
          "xref": "x2",
          "y0": 0,
          "y1": 1,
          "yref": "y2 domain"
         }
        ],
        "template": {
         "data": {
          "bar": [
           {
            "error_x": {
             "color": "#2a3f5f"
            },
            "error_y": {
             "color": "#2a3f5f"
            },
            "marker": {
             "line": {
              "color": "#E5ECF6",
              "width": 0.5
             },
             "pattern": {
              "fillmode": "overlay",
              "size": 10,
              "solidity": 0.2
             }
            },
            "type": "bar"
           }
          ],
          "barpolar": [
           {
            "marker": {
             "line": {
              "color": "#E5ECF6",
              "width": 0.5
             },
             "pattern": {
              "fillmode": "overlay",
              "size": 10,
              "solidity": 0.2
             }
            },
            "type": "barpolar"
           }
          ],
          "carpet": [
           {
            "aaxis": {
             "endlinecolor": "#2a3f5f",
             "gridcolor": "white",
             "linecolor": "white",
             "minorgridcolor": "white",
             "startlinecolor": "#2a3f5f"
            },
            "baxis": {
             "endlinecolor": "#2a3f5f",
             "gridcolor": "white",
             "linecolor": "white",
             "minorgridcolor": "white",
             "startlinecolor": "#2a3f5f"
            },
            "type": "carpet"
           }
          ],
          "choropleth": [
           {
            "colorbar": {
             "outlinewidth": 0,
             "ticks": ""
            },
            "type": "choropleth"
           }
          ],
          "contour": [
           {
            "colorbar": {
             "outlinewidth": 0,
             "ticks": ""
            },
            "colorscale": [
             [
              0,
              "#0d0887"
             ],
             [
              0.1111111111111111,
              "#46039f"
             ],
             [
              0.2222222222222222,
              "#7201a8"
             ],
             [
              0.3333333333333333,
              "#9c179e"
             ],
             [
              0.4444444444444444,
              "#bd3786"
             ],
             [
              0.5555555555555556,
              "#d8576b"
             ],
             [
              0.6666666666666666,
              "#ed7953"
             ],
             [
              0.7777777777777778,
              "#fb9f3a"
             ],
             [
              0.8888888888888888,
              "#fdca26"
             ],
             [
              1,
              "#f0f921"
             ]
            ],
            "type": "contour"
           }
          ],
          "contourcarpet": [
           {
            "colorbar": {
             "outlinewidth": 0,
             "ticks": ""
            },
            "type": "contourcarpet"
           }
          ],
          "heatmap": [
           {
            "colorbar": {
             "outlinewidth": 0,
             "ticks": ""
            },
            "colorscale": [
             [
              0,
              "#0d0887"
             ],
             [
              0.1111111111111111,
              "#46039f"
             ],
             [
              0.2222222222222222,
              "#7201a8"
             ],
             [
              0.3333333333333333,
              "#9c179e"
             ],
             [
              0.4444444444444444,
              "#bd3786"
             ],
             [
              0.5555555555555556,
              "#d8576b"
             ],
             [
              0.6666666666666666,
              "#ed7953"
             ],
             [
              0.7777777777777778,
              "#fb9f3a"
             ],
             [
              0.8888888888888888,
              "#fdca26"
             ],
             [
              1,
              "#f0f921"
             ]
            ],
            "type": "heatmap"
           }
          ],
          "histogram": [
           {
            "marker": {
             "pattern": {
              "fillmode": "overlay",
              "size": 10,
              "solidity": 0.2
             }
            },
            "type": "histogram"
           }
          ],
          "histogram2d": [
           {
            "colorbar": {
             "outlinewidth": 0,
             "ticks": ""
            },
            "colorscale": [
             [
              0,
              "#0d0887"
             ],
             [
              0.1111111111111111,
              "#46039f"
             ],
             [
              0.2222222222222222,
              "#7201a8"
             ],
             [
              0.3333333333333333,
              "#9c179e"
             ],
             [
              0.4444444444444444,
              "#bd3786"
             ],
             [
              0.5555555555555556,
              "#d8576b"
             ],
             [
              0.6666666666666666,
              "#ed7953"
             ],
             [
              0.7777777777777778,
              "#fb9f3a"
             ],
             [
              0.8888888888888888,
              "#fdca26"
             ],
             [
              1,
              "#f0f921"
             ]
            ],
            "type": "histogram2d"
           }
          ],
          "histogram2dcontour": [
           {
            "colorbar": {
             "outlinewidth": 0,
             "ticks": ""
            },
            "colorscale": [
             [
              0,
              "#0d0887"
             ],
             [
              0.1111111111111111,
              "#46039f"
             ],
             [
              0.2222222222222222,
              "#7201a8"
             ],
             [
              0.3333333333333333,
              "#9c179e"
             ],
             [
              0.4444444444444444,
              "#bd3786"
             ],
             [
              0.5555555555555556,
              "#d8576b"
             ],
             [
              0.6666666666666666,
              "#ed7953"
             ],
             [
              0.7777777777777778,
              "#fb9f3a"
             ],
             [
              0.8888888888888888,
              "#fdca26"
             ],
             [
              1,
              "#f0f921"
             ]
            ],
            "type": "histogram2dcontour"
           }
          ],
          "mesh3d": [
           {
            "colorbar": {
             "outlinewidth": 0,
             "ticks": ""
            },
            "type": "mesh3d"
           }
          ],
          "parcoords": [
           {
            "line": {
             "colorbar": {
              "outlinewidth": 0,
              "ticks": ""
             }
            },
            "type": "parcoords"
           }
          ],
          "pie": [
           {
            "automargin": true,
            "type": "pie"
           }
          ],
          "scatter": [
           {
            "fillpattern": {
             "fillmode": "overlay",
             "size": 10,
             "solidity": 0.2
            },
            "type": "scatter"
           }
          ],
          "scatter3d": [
           {
            "line": {
             "colorbar": {
              "outlinewidth": 0,
              "ticks": ""
             }
            },
            "marker": {
             "colorbar": {
              "outlinewidth": 0,
              "ticks": ""
             }
            },
            "type": "scatter3d"
           }
          ],
          "scattercarpet": [
           {
            "marker": {
             "colorbar": {
              "outlinewidth": 0,
              "ticks": ""
             }
            },
            "type": "scattercarpet"
           }
          ],
          "scattergeo": [
           {
            "marker": {
             "colorbar": {
              "outlinewidth": 0,
              "ticks": ""
             }
            },
            "type": "scattergeo"
           }
          ],
          "scattergl": [
           {
            "marker": {
             "colorbar": {
              "outlinewidth": 0,
              "ticks": ""
             }
            },
            "type": "scattergl"
           }
          ],
          "scattermap": [
           {
            "marker": {
             "colorbar": {
              "outlinewidth": 0,
              "ticks": ""
             }
            },
            "type": "scattermap"
           }
          ],
          "scattermapbox": [
           {
            "marker": {
             "colorbar": {
              "outlinewidth": 0,
              "ticks": ""
             }
            },
            "type": "scattermapbox"
           }
          ],
          "scatterpolar": [
           {
            "marker": {
             "colorbar": {
              "outlinewidth": 0,
              "ticks": ""
             }
            },
            "type": "scatterpolar"
           }
          ],
          "scatterpolargl": [
           {
            "marker": {
             "colorbar": {
              "outlinewidth": 0,
              "ticks": ""
             }
            },
            "type": "scatterpolargl"
           }
          ],
          "scatterternary": [
           {
            "marker": {
             "colorbar": {
              "outlinewidth": 0,
              "ticks": ""
             }
            },
            "type": "scatterternary"
           }
          ],
          "surface": [
           {
            "colorbar": {
             "outlinewidth": 0,
             "ticks": ""
            },
            "colorscale": [
             [
              0,
              "#0d0887"
             ],
             [
              0.1111111111111111,
              "#46039f"
             ],
             [
              0.2222222222222222,
              "#7201a8"
             ],
             [
              0.3333333333333333,
              "#9c179e"
             ],
             [
              0.4444444444444444,
              "#bd3786"
             ],
             [
              0.5555555555555556,
              "#d8576b"
             ],
             [
              0.6666666666666666,
              "#ed7953"
             ],
             [
              0.7777777777777778,
              "#fb9f3a"
             ],
             [
              0.8888888888888888,
              "#fdca26"
             ],
             [
              1,
              "#f0f921"
             ]
            ],
            "type": "surface"
           }
          ],
          "table": [
           {
            "cells": {
             "fill": {
              "color": "#EBF0F8"
             },
             "line": {
              "color": "white"
             }
            },
            "header": {
             "fill": {
              "color": "#C8D4E3"
             },
             "line": {
              "color": "white"
             }
            },
            "type": "table"
           }
          ]
         },
         "layout": {
          "annotationdefaults": {
           "arrowcolor": "#2a3f5f",
           "arrowhead": 0,
           "arrowwidth": 1
          },
          "autotypenumbers": "strict",
          "coloraxis": {
           "colorbar": {
            "outlinewidth": 0,
            "ticks": ""
           }
          },
          "colorscale": {
           "diverging": [
            [
             0,
             "#8e0152"
            ],
            [
             0.1,
             "#c51b7d"
            ],
            [
             0.2,
             "#de77ae"
            ],
            [
             0.3,
             "#f1b6da"
            ],
            [
             0.4,
             "#fde0ef"
            ],
            [
             0.5,
             "#f7f7f7"
            ],
            [
             0.6,
             "#e6f5d0"
            ],
            [
             0.7,
             "#b8e186"
            ],
            [
             0.8,
             "#7fbc41"
            ],
            [
             0.9,
             "#4d9221"
            ],
            [
             1,
             "#276419"
            ]
           ],
           "sequential": [
            [
             0,
             "#0d0887"
            ],
            [
             0.1111111111111111,
             "#46039f"
            ],
            [
             0.2222222222222222,
             "#7201a8"
            ],
            [
             0.3333333333333333,
             "#9c179e"
            ],
            [
             0.4444444444444444,
             "#bd3786"
            ],
            [
             0.5555555555555556,
             "#d8576b"
            ],
            [
             0.6666666666666666,
             "#ed7953"
            ],
            [
             0.7777777777777778,
             "#fb9f3a"
            ],
            [
             0.8888888888888888,
             "#fdca26"
            ],
            [
             1,
             "#f0f921"
            ]
           ],
           "sequentialminus": [
            [
             0,
             "#0d0887"
            ],
            [
             0.1111111111111111,
             "#46039f"
            ],
            [
             0.2222222222222222,
             "#7201a8"
            ],
            [
             0.3333333333333333,
             "#9c179e"
            ],
            [
             0.4444444444444444,
             "#bd3786"
            ],
            [
             0.5555555555555556,
             "#d8576b"
            ],
            [
             0.6666666666666666,
             "#ed7953"
            ],
            [
             0.7777777777777778,
             "#fb9f3a"
            ],
            [
             0.8888888888888888,
             "#fdca26"
            ],
            [
             1,
             "#f0f921"
            ]
           ]
          },
          "colorway": [
           "#636efa",
           "#EF553B",
           "#00cc96",
           "#ab63fa",
           "#FFA15A",
           "#19d3f3",
           "#FF6692",
           "#B6E880",
           "#FF97FF",
           "#FECB52"
          ],
          "font": {
           "color": "#2a3f5f"
          },
          "geo": {
           "bgcolor": "white",
           "lakecolor": "white",
           "landcolor": "#E5ECF6",
           "showlakes": true,
           "showland": true,
           "subunitcolor": "white"
          },
          "hoverlabel": {
           "align": "left"
          },
          "hovermode": "closest",
          "mapbox": {
           "style": "light"
          },
          "paper_bgcolor": "white",
          "plot_bgcolor": "#E5ECF6",
          "polar": {
           "angularaxis": {
            "gridcolor": "white",
            "linecolor": "white",
            "ticks": ""
           },
           "bgcolor": "#E5ECF6",
           "radialaxis": {
            "gridcolor": "white",
            "linecolor": "white",
            "ticks": ""
           }
          },
          "scene": {
           "xaxis": {
            "backgroundcolor": "#E5ECF6",
            "gridcolor": "white",
            "gridwidth": 2,
            "linecolor": "white",
            "showbackground": true,
            "ticks": "",
            "zerolinecolor": "white"
           },
           "yaxis": {
            "backgroundcolor": "#E5ECF6",
            "gridcolor": "white",
            "gridwidth": 2,
            "linecolor": "white",
            "showbackground": true,
            "ticks": "",
            "zerolinecolor": "white"
           },
           "zaxis": {
            "backgroundcolor": "#E5ECF6",
            "gridcolor": "white",
            "gridwidth": 2,
            "linecolor": "white",
            "showbackground": true,
            "ticks": "",
            "zerolinecolor": "white"
           }
          },
          "shapedefaults": {
           "line": {
            "color": "#2a3f5f"
           }
          },
          "ternary": {
           "aaxis": {
            "gridcolor": "white",
            "linecolor": "white",
            "ticks": ""
           },
           "baxis": {
            "gridcolor": "white",
            "linecolor": "white",
            "ticks": ""
           },
           "bgcolor": "#E5ECF6",
           "caxis": {
            "gridcolor": "white",
            "linecolor": "white",
            "ticks": ""
           }
          },
          "title": {
           "x": 0.05
          },
          "xaxis": {
           "automargin": true,
           "gridcolor": "white",
           "linecolor": "white",
           "ticks": "",
           "title": {
            "standoff": 15
           },
           "zerolinecolor": "white",
           "zerolinewidth": 2
          },
          "yaxis": {
           "automargin": true,
           "gridcolor": "white",
           "linecolor": "white",
           "ticks": "",
           "title": {
            "standoff": 15
           },
           "zerolinecolor": "white",
           "zerolinewidth": 2
          }
         }
        },
        "title": {
         "text": "Hamed–Rao–adjusted MK; Theil–Sen slopes of mean snowpack depths"
        },
        "xaxis": {
         "anchor": "y",
         "domain": [
          0,
          0.5850000000000001
         ],
         "title": {
          "text": "Slope (cm/decade)"
         }
        },
        "xaxis2": {
         "anchor": "y2",
         "domain": [
          0.685,
          1
         ],
         "title": {
          "text": "Slope (cm/decade)"
         }
        },
        "yaxis": {
         "anchor": "x",
         "domain": [
          0,
          1
         ],
         "title": {
          "text": "p-value (two-sided)"
         }
        },
        "yaxis2": {
         "anchor": "x2",
         "domain": [
          0,
          1
         ],
         "matches": "y",
         "showticklabels": false,
         "title": {
          "text": "p-value (two-sided)"
         }
        }
       }
      }
     },
     "metadata": {},
     "output_type": "display_data"
    }
   ],
   "source": [
    "import plotly.graph_objects as go\n",
    "from plotly.subplots import make_subplots\n",
    "\n",
    "# --- inputs you already have ---\n",
    "# per_station_avg: one row per station (or station_id), with columns:\n",
    "#   ['country','median_slope_theil_per_decade','p_combined', ...]\n",
    "# country_macro: one row per country, with columns:\n",
    "#   ['country','slope_per_decade','p', 'country_abr']  # country_abr = \"AT\",\"CH\",...\n",
    "\n",
    "countries = sorted(per_station['country'].unique())\n",
    "\n",
    "fig = make_subplots(\n",
    "    rows=1, cols=2, column_widths=[0.65, 0.35], shared_yaxes=True,\n",
    "    subplot_titles=(\"Stations (Theil–Sen slope per decade)\", \"Country averages\")\n",
    ")\n",
    "\n",
    "# One legend item per country; traces that share legendgroup toggle together\n",
    "for c in countries:\n",
    "    psc = per_station[per_station['country'] == c]\n",
    "    avg = avg_country[avg_country['country'] == c]\n",
    "\n",
    "    # Left panel: station points\n",
    "    fig.add_trace(\n",
    "        go.Scatter(\n",
    "            x=psc['median_slope_theil_per_decade'],\n",
    "            y=psc['p_combined'],\n",
    "            mode=\"markers\",\n",
    "            name=c,\n",
    "            legendgroup=c,\n",
    "            marker=dict(size=6, opacity=0.55),\n",
    "            hovertemplate=(\n",
    "                \"<b>%{text}</b><br>\"\n",
    "                \"Slope: %{x:.2f} cm/decade<br>\"\n",
    "                \"p: %{y:.3f}<extra></extra>\"\n",
    "            ),\n",
    "            text=psc['country'],\n",
    "            showlegend=True,     # legend item shown here\n",
    "        ),\n",
    "        row=1, col=1\n",
    "    )\n",
    "\n",
    "    # Right panel: country average point (bigger marker + label)\n",
    "    fig.add_trace(\n",
    "        go.Scatter(\n",
    "            x=avg['slope_per_decade'],\n",
    "            y=avg['p'],\n",
    "            mode=\"markers+text\",\n",
    "            text=avg['country_abr'],\n",
    "            textposition=\"top center\",\n",
    "            marker=dict(size=12, line=dict(width=1.5, color=\"black\")),\n",
    "            name=c,\n",
    "            legendgroup=c,\n",
    "            showlegend=False,    # use the same legend item as the left trace\n",
    "            hovertemplate=(\n",
    "                \"<b>%{text}</b><br>\"\n",
    "                \"Avg slope: %{x:.2f} cm/decade<br>\"\n",
    "                \"p: %{y:.3f}<extra></extra>\"\n",
    "            ),\n",
    "        ),\n",
    "        row=1, col=2\n",
    "    )\n",
    "\n",
    "# Guides: p=0.05 and zero slope on both subplots\n",
    "for col in (1, 2):\n",
    "    fig.add_hline(y=0.05, line_dash=\"dash\", line_color=\"red\", row=1, col=col)\n",
    "    fig.add_vline(x=0.0, line_dash=\"dash\", line_color=\"blue\", row=1, col=col)\n",
    "\n",
    "# Nice defaults\n",
    "fig.update_layout(\n",
    "    title=\"Hamed–Rao–adjusted MK; Theil–Sen slopes of mean snowpack depths\",\n",
    "    legend_title=\"Toggle countries\",\n",
    "    legend=dict(groupclick=\"togglegroup\"),   # one click toggles both traces for a country\n",
    "    margin=dict(l=60, r=20, t=60, b=60),\n",
    ")\n",
    "\n",
    "fig.update_xaxes(title_text=\"Slope (cm/decade)\", row=1, col=1)\n",
    "fig.update_xaxes(title_text=\"Slope (cm/decade)\", row=1, col=2)\n",
    "fig.update_yaxes(title_text=\"p-value (two-sided)\")\n",
    "\n",
    "fig.show()\n"
   ]
  },
  {
   "cell_type": "code",
   "execution_count": null,
   "id": "b593ffc5",
   "metadata": {},
   "outputs": [
    {
     "data": {
      "image/png": "[encoded data removed]",
      "text/plain": [
       "<Figure size 800x600 with 1 Axes>"
      ]
     },
     "metadata": {},
     "output_type": "display_data"
    }
   ],
   "source": [
    "fig2, ax = plt.subplots(figsize=(8,6))\n",
    "fig2.suptitle('Hamed–Rao–adjusted MK; Sen slope of individual snowpack depths',\n",
    "             y=1, fontsize=12, color='0')\n",
    "\n",
    "# Typical Country Trends\n",
    "sns.scatterplot(data=per_station, x='median_slope_theil_per_decade',y='p_combined',hue='country',palette='flare',legend=True, ax=ax )\n",
    "\n",
    "ax.legend()\n",
    "ax.set_ylabel('p_combined')\n",
    "ax.set_xlabel('Median Slope (cm/decade)')\n",
    "ax.set_title('Per Station Slope vs p_value (Mann_Kendall Test)', y=1)\n",
    "ax.grid(True)\n",
    "\n",
    "\n",
    " \n",
    "plt.axhline(0.05,linestyle='--',color='red',label='p_value = 0.05 (Significance Threshold)')\n",
    "plt.axvline(0.00,linestyle='--',color='blue',label='Zero Slope')\n",
    "\n",
    "plt.tight_layout()\n",
    "plt.show()"
   ]
  },
  {
   "cell_type": "markdown",
   "id": "6c05ab3d",
   "metadata": {},
   "source": [
    "##### Interpretation\n",
    "\n",
    "Countries Italy, Slovenia, and Austria exhibit statistically significant decreases in country-level mean snowpack depth, with Sen slopes of roughly −2 to −4 cm per decade. Germany and Switzerland show negative but non-significant trends (about −1 cm/decade), meaning the decreases are not distinguishable from zero at 𝛼 = 0.05. France shows a non-significant slight increase. Results are from Mann–Kendall (Hamed–Rao) tests applied to country-year average snowpack series; slopes are reported in cm per decade."
   ]
  },
  {
   "cell_type": "markdown",
   "id": "2ba76006",
   "metadata": {},
   "source": [
    "#### Average Country Month Trend"
   ]
  },
  {
   "cell_type": "code",
   "execution_count": 101,
   "id": "4aabf9ce",
   "metadata": {},
   "outputs": [
    {
     "data": {
      "text/plain": [
       "{'n_total': 42,\n",
       " 'n_sig': 9,\n",
       " 'pct_sig': np.float64(21.428571428571427),\n",
       " 'n_sig_neg': 9,\n",
       " 'n_sig_pos': 0}"
      ]
     },
     "execution_count": 101,
     "metadata": {},
     "output_type": "execute_result"
    }
   ],
   "source": [
    "df = avg_country_month.copy()   # your dataframe used to plot\n",
    "df['is_sig'] = df['p'] < 0.05\n",
    "df['is_neg'] = df['slope_per_decade'] < 0\n",
    "\n",
    "overall = {\n",
    "    \"n_total\": len(df),\n",
    "    \"n_sig\": int(df['is_sig'].sum()),\n",
    "    \"pct_sig\": 100*df['is_sig'].mean(),\n",
    "    \"n_sig_neg\": int((df['is_sig'] & df['is_neg']).sum()),\n",
    "    \"n_sig_pos\": int((df['is_sig'] & ~df['is_neg']).sum()),\n",
    "}\n",
    "overall"
   ]
  },
  {
   "cell_type": "code",
   "execution_count": 115,
   "id": "631c0e75",
   "metadata": {},
   "outputs": [
    {
     "data": {
      "image/png": "[encoded data removed]",
      "text/plain": [
       "<Figure size 800x600 with 1 Axes>"
      ]
     },
     "metadata": {},
     "output_type": "display_data"
    }
   ],
   "source": [
    "\n",
    "fig, ax = plt.subplots(figsize=(8,6))\n",
    "\n",
    "\n",
    "sns.scatterplot(data=avg_country_month, x='slope_per_decade',y='p',hue='month_name',palette='flare',legend=True )\n",
    "\n",
    "plt.axhline(0.05,linestyle='--',color='red',label='p_value = 0.05 (Significance Threshold)')\n",
    "plt.axvline(0.00,linestyle='--',color='blue',label='Zero Slope')\n",
    "\n",
    "# # Annotate each point with the month name\n",
    "# for i, row in avg_country_month.iterrows():\n",
    "\n",
    "#       ax.text(\n",
    "#         row['slope_per_decade'] + 0.02,  # x position slightly offset\n",
    "#         row['p'] + 0.005,                # y position slightly offset\n",
    "#         row['month_name'],\n",
    "#         fontsize=9\n",
    "#     )\n",
    "\n",
    "\n",
    "ax.legend()\n",
    "ax.set_ylabel('p_value')\n",
    "ax.set_xlabel('Slope (cm/decade)')\n",
    "ax.set_title('Slope vs p_value (Mann_Kendall Test)',y=1.1)\n",
    "ax.grid(True)\n",
    "\n",
    "\n",
    "fig.suptitle('Hamed–Rao–adjusted MK; Sen slope on country-year-month averages',\n",
    "             y=0.95, fontsize=10, color='0.4')\n",
    "\n",
    "\n",
    "df = avg_country_month.copy()   # your dataframe used to plot\n",
    "for _, r in df[df['p'] < 0.05].iterrows():\n",
    "    ax.text(r['slope_per_decade'], r['p'],\n",
    "            f\"{r['country_abr']} \",\n",
    "            fontsize=8, ha='left', va='bottom')\n",
    "\n",
    "plt.show()"
   ]
  },
  {
   "cell_type": "code",
   "execution_count": 96,
   "id": "ee335d7c",
   "metadata": {},
   "outputs": [
    {
     "data": {
      "text/html": [
       "<div>\n",
       "<style scoped>\n",
       "    .dataframe tbody tr th:only-of-type {\n",
       "        vertical-align: middle;\n",
       "    }\n",
       "\n",
       "    .dataframe tbody tr th {\n",
       "        vertical-align: top;\n",
       "    }\n",
       "\n",
       "    .dataframe thead th {\n",
       "        text-align: right;\n",
       "    }\n",
       "</style>\n",
       "<table border=\"1\" class=\"dataframe\">\n",
       "  <thead>\n",
       "    <tr style=\"text-align: right;\">\n",
       "      <th></th>\n",
       "      <th>month</th>\n",
       "      <th>n</th>\n",
       "      <th>n_sig</th>\n",
       "      <th>pct_sig</th>\n",
       "      <th>median_slope_decade</th>\n",
       "    </tr>\n",
       "  </thead>\n",
       "  <tbody>\n",
       "    <tr>\n",
       "      <th>3</th>\n",
       "      <td>4</td>\n",
       "      <td>6</td>\n",
       "      <td>3</td>\n",
       "      <td>50.000000</td>\n",
       "      <td>-1.547193</td>\n",
       "    </tr>\n",
       "    <tr>\n",
       "      <th>2</th>\n",
       "      <td>3</td>\n",
       "      <td>6</td>\n",
       "      <td>2</td>\n",
       "      <td>33.333333</td>\n",
       "      <td>-0.820060</td>\n",
       "    </tr>\n",
       "    <tr>\n",
       "      <th>5</th>\n",
       "      <td>11</td>\n",
       "      <td>6</td>\n",
       "      <td>2</td>\n",
       "      <td>33.333333</td>\n",
       "      <td>-1.047841</td>\n",
       "    </tr>\n",
       "    <tr>\n",
       "      <th>4</th>\n",
       "      <td>5</td>\n",
       "      <td>6</td>\n",
       "      <td>1</td>\n",
       "      <td>16.666667</td>\n",
       "      <td>-0.111720</td>\n",
       "    </tr>\n",
       "    <tr>\n",
       "      <th>6</th>\n",
       "      <td>12</td>\n",
       "      <td>6</td>\n",
       "      <td>1</td>\n",
       "      <td>16.666667</td>\n",
       "      <td>-1.302947</td>\n",
       "    </tr>\n",
       "    <tr>\n",
       "      <th>0</th>\n",
       "      <td>1</td>\n",
       "      <td>6</td>\n",
       "      <td>0</td>\n",
       "      <td>0.000000</td>\n",
       "      <td>-0.697642</td>\n",
       "    </tr>\n",
       "    <tr>\n",
       "      <th>1</th>\n",
       "      <td>2</td>\n",
       "      <td>6</td>\n",
       "      <td>0</td>\n",
       "      <td>0.000000</td>\n",
       "      <td>0.158585</td>\n",
       "    </tr>\n",
       "  </tbody>\n",
       "</table>\n",
       "</div>"
      ],
      "text/plain": [
       "   month  n  n_sig    pct_sig  median_slope_decade\n",
       "3      4  6      3  50.000000            -1.547193\n",
       "2      3  6      2  33.333333            -0.820060\n",
       "5     11  6      2  33.333333            -1.047841\n",
       "4      5  6      1  16.666667            -0.111720\n",
       "6     12  6      1  16.666667            -1.302947\n",
       "0      1  6      0   0.000000            -0.697642\n",
       "1      2  6      0   0.000000             0.158585"
      ]
     },
     "execution_count": 96,
     "metadata": {},
     "output_type": "execute_result"
    }
   ],
   "source": [
    "by_month = (df.groupby('month')\n",
    "            .agg(n=('is_sig','size'),\n",
    "                 n_sig=('is_sig','sum'),\n",
    "                 pct_sig=('is_sig', lambda s: 100*s.mean()),\n",
    "                 median_slope_decade=('slope_per_decade','median'))\n",
    "            .reset_index()\n",
    "            .sort_values('pct_sig', ascending=False))\n",
    "by_month"
   ]
  },
  {
   "cell_type": "markdown",
   "id": "ce932874",
   "metadata": {},
   "source": [
    "##### Interpretation\n",
    "\n",
    "Country-months that exhibit statistically significant decreases in mean snowpack depth are all amongst fringe winter months; November, December, March, April, May. "
   ]
  },
  {
   "cell_type": "markdown",
   "id": "08af743f",
   "metadata": {},
   "source": [
    "#### Average Month Trend"
   ]
  },
  {
   "cell_type": "code",
   "execution_count": null,
   "id": "8bc65b3e",
   "metadata": {},
   "outputs": [
    {
     "data": {
      "image/png": "[encoded data removed]",
      "text/plain": [
       "<Figure size 800x600 with 1 Axes>"
      ]
     },
     "metadata": {},
     "output_type": "display_data"
    }
   ],
   "source": [
    "\n",
    "fig, ax = plt.subplots(figsize=(8,6))\n",
    "\n",
    "\n",
    "sns.scatterplot(data=avg_month, x='slope_per_decade',y='p',hue='month_name',palette='flare',legend=False )\n",
    "\n",
    "plt.axhline(0.05,linestyle='--',color='red',label='p_value = 0.05 (Significance Threshold)')\n",
    "plt.axvline(0.00,linestyle='--',color='blue',label='Zero Slope')\n",
    "\n",
    "# Annotate each point with the month name\n",
    "for i, row in avg_month.iterrows():\n",
    "\n",
    "      ax.text(\n",
    "        row['slope_per_decade'] + 0.018,  # x position slightly offset\n",
    "        row['p'] + 0.00,                # y position slightly offset\n",
    "        row['month_name'],\n",
    "        fontsize=9\n",
    "    )\n",
    "\n",
    "\n",
    "ax.legend()\n",
    "ax.set_ylabel('p_value')\n",
    "ax.set_xlabel('Slope (cm/decade)')\n",
    "ax.set_title('Slope vs p_value (Mann_Kendall Test)', y=1.1)\n",
    "ax.grid(True)\n",
    "\n",
    "\n",
    "fig.suptitle('Hamed–Rao–adjusted MK; Sen slope on European Alps month averages',\n",
    "             y=0.95, fontsize=10, color='0.4')\n",
    "\n",
    "plt.show()"
   ]
  },
  {
   "cell_type": "markdown",
   "id": "8db5bce0",
   "metadata": {},
   "source": [
    "##### Interpretation\n",
    "\n",
    "Months April and May exhibit statistically significant decreases in European-Alps mean snowpack depth, with Sen slopes of roughly  -1.60 and -1.10 cm per decade respectively. All other winter months, February, December, January, November and March show negative but non-significant trends, with Sen Slopes of roughly -0.55 to -1.90 cm per decade.  These decreases ccannot be distinguished from zero trend due to insufficient evidence (α=0.05).\n",
    "\n",
    "Further analysis can investiage changes in weather patterns of Springs months (April, May) to link correlation of decreasing Sen slopes of mean snowpack depths.\n"
   ]
  },
  {
   "cell_type": "code",
   "execution_count": 92,
   "id": "886a2d6b",
   "metadata": {},
   "outputs": [
    {
     "data": {
      "image/png": "[encoded data removed]",
      "text/plain": [
       "<Figure size 800x600 with 1 Axes>"
      ]
     },
     "metadata": {},
     "output_type": "display_data"
    }
   ],
   "source": [
    "avg_elevation_month['month_name'] = avg_elevation_month['month'].apply(get_month_name)\n",
    "\n",
    "\n",
    "fig2, ax2 = plt.subplots(figsize=(8,6))\n",
    "\n",
    "\n",
    "\n",
    "sns.scatterplot(data=avg_elevation_month, x='slope_per_decade',y='p',hue='elevation_band', ax=ax2 )\n",
    "\n",
    "plt.axhline(0.05,linestyle='--',color='red',label='p_value = 0.05 (Significance Threshold)')\n",
    "plt.axvline(0.00,linestyle='--',color='blue',label='Zero Slope')\n",
    "\n",
    "for i, row in avg_elevation_month.iterrows():\n",
    "    ax2.text(\n",
    "        row['slope_per_decade'] +0.1 ,\n",
    "        row['p'] + 0.01,\n",
    "        row['month_name'],        # Display month\n",
    "        fontsize=9,\n",
    "        ha='center',\n",
    "        va='center',\n",
    "        color='black',\n",
    "        fontweight='normal'\n",
    "    )\n",
    "\n",
    "\n",
    "ax2.legend()\n",
    "ax2.set_ylabel('p_value')\n",
    "ax2.set_xlabel('Slope_per_decade change')\n",
    "ax2.set_title('Slope vs p_value (Mann_Kendall Test)')\n",
    "ax2.grid(True)\n",
    "\n",
    "plt.show()"
   ]
  },
  {
   "cell_type": "markdown",
   "id": "7c133734",
   "metadata": {},
   "source": []
  },
  {
   "cell_type": "code",
   "execution_count": 93,
   "id": "20ac2cc2",
   "metadata": {},
   "outputs": [
    {
     "data": {
      "text/html": [
       "<div>\n",
       "<style scoped>\n",
       "    .dataframe tbody tr th:only-of-type {\n",
       "        vertical-align: middle;\n",
       "    }\n",
       "\n",
       "    .dataframe tbody tr th {\n",
       "        vertical-align: top;\n",
       "    }\n",
       "\n",
       "    .dataframe thead th {\n",
       "        text-align: right;\n",
       "    }\n",
       "</style>\n",
       "<table border=\"1\" class=\"dataframe\">\n",
       "  <thead>\n",
       "    <tr style=\"text-align: right;\">\n",
       "      <th></th>\n",
       "      <th>country</th>\n",
       "      <th>n_station_month_series</th>\n",
       "      <th>n_stations</th>\n",
       "      <th>median_years</th>\n",
       "      <th>percent_sig_station_month_series</th>\n",
       "      <th>median_station_slope_cm_per_year</th>\n",
       "      <th>median_station_slope_cm_per_decade</th>\n",
       "      <th>mean_station_slope_cm_per_year</th>\n",
       "      <th>mean_station_slope_cm_per_decade</th>\n",
       "    </tr>\n",
       "  </thead>\n",
       "  <tbody>\n",
       "    <tr>\n",
       "      <th>0</th>\n",
       "      <td>Austria</td>\n",
       "      <td>2195</td>\n",
       "      <td>321</td>\n",
       "      <td>46.0</td>\n",
       "      <td>17.494305</td>\n",
       "      <td>-0.035714</td>\n",
       "      <td>-0.357143</td>\n",
       "      <td>-0.117927</td>\n",
       "      <td>-1.179269</td>\n",
       "    </tr>\n",
       "    <tr>\n",
       "      <th>1</th>\n",
       "      <td>France</td>\n",
       "      <td>300</td>\n",
       "      <td>46</td>\n",
       "      <td>50.0</td>\n",
       "      <td>10.000000</td>\n",
       "      <td>-0.133019</td>\n",
       "      <td>-1.330189</td>\n",
       "      <td>-0.174912</td>\n",
       "      <td>-1.749122</td>\n",
       "    </tr>\n",
       "    <tr>\n",
       "      <th>2</th>\n",
       "      <td>Germany</td>\n",
       "      <td>1103</td>\n",
       "      <td>159</td>\n",
       "      <td>53.0</td>\n",
       "      <td>14.868540</td>\n",
       "      <td>-0.026316</td>\n",
       "      <td>-0.263158</td>\n",
       "      <td>-0.107828</td>\n",
       "      <td>-1.078278</td>\n",
       "    </tr>\n",
       "    <tr>\n",
       "      <th>3</th>\n",
       "      <td>Italy</td>\n",
       "      <td>249</td>\n",
       "      <td>53</td>\n",
       "      <td>35.0</td>\n",
       "      <td>11.646586</td>\n",
       "      <td>0.000000</td>\n",
       "      <td>0.000000</td>\n",
       "      <td>-0.022740</td>\n",
       "      <td>-0.227403</td>\n",
       "    </tr>\n",
       "    <tr>\n",
       "      <th>4</th>\n",
       "      <td>Slovenia</td>\n",
       "      <td>366</td>\n",
       "      <td>53</td>\n",
       "      <td>56.0</td>\n",
       "      <td>33.333333</td>\n",
       "      <td>-0.087605</td>\n",
       "      <td>-0.876050</td>\n",
       "      <td>-0.144193</td>\n",
       "      <td>-1.441927</td>\n",
       "    </tr>\n",
       "    <tr>\n",
       "      <th>5</th>\n",
       "      <td>Switzerland</td>\n",
       "      <td>1096</td>\n",
       "      <td>163</td>\n",
       "      <td>59.0</td>\n",
       "      <td>12.956204</td>\n",
       "      <td>-0.040221</td>\n",
       "      <td>-0.402206</td>\n",
       "      <td>-0.126877</td>\n",
       "      <td>-1.268768</td>\n",
       "    </tr>\n",
       "  </tbody>\n",
       "</table>\n",
       "</div>"
      ],
      "text/plain": [
       "       country  n_station_month_series  n_stations  median_years  \\\n",
       "0      Austria                    2195         321          46.0   \n",
       "1       France                     300          46          50.0   \n",
       "2      Germany                    1103         159          53.0   \n",
       "3        Italy                     249          53          35.0   \n",
       "4     Slovenia                     366          53          56.0   \n",
       "5  Switzerland                    1096         163          59.0   \n",
       "\n",
       "   percent_sig_station_month_series  median_station_slope_cm_per_year  \\\n",
       "0                         17.494305                         -0.035714   \n",
       "1                         10.000000                         -0.133019   \n",
       "2                         14.868540                         -0.026316   \n",
       "3                         11.646586                          0.000000   \n",
       "4                         33.333333                         -0.087605   \n",
       "5                         12.956204                         -0.040221   \n",
       "\n",
       "   median_station_slope_cm_per_decade  mean_station_slope_cm_per_year  \\\n",
       "0                           -0.357143                       -0.117927   \n",
       "1                           -1.330189                       -0.174912   \n",
       "2                           -0.263158                       -0.107828   \n",
       "3                            0.000000                       -0.022740   \n",
       "4                           -0.876050                       -0.144193   \n",
       "5                           -0.402206                       -0.126877   \n",
       "\n",
       "   mean_station_slope_cm_per_decade  \n",
       "0                         -1.179269  \n",
       "1                         -1.749122  \n",
       "2                         -1.078278  \n",
       "3                         -0.227403  \n",
       "4                         -1.441927  \n",
       "5                         -1.268768  "
      ]
     },
     "execution_count": 93,
     "metadata": {},
     "output_type": "execute_result"
    }
   ],
   "source": [
    "typical_country"
   ]
  },
  {
   "cell_type": "code",
   "execution_count": null,
   "id": "ef078085",
   "metadata": {},
   "outputs": [],
   "source": []
  }
 ],
 "metadata": {
  "kernelspec": {
   "display_name": "data_env312",
   "language": "python",
   "name": "python3"
  },
  "language_info": {
   "codemirror_mode": {
    "name": "ipython",
    "version": 3
   },
   "file_extension": ".py",
   "mimetype": "text/x-python",
   "name": "python",
   "nbconvert_exporter": "python",
   "pygments_lexer": "ipython3",
   "version": "3.12.2"
  }
 },
 "nbformat": 4,
 "nbformat_minor": 5
}
